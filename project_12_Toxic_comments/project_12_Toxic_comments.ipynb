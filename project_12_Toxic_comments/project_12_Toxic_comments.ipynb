{
 "cells": [
  {
   "cell_type": "markdown",
   "metadata": {},
   "source": [
    "# Проект для «Викишоп»"
   ]
  },
  {
   "cell_type": "markdown",
   "metadata": {},
   "source": [
    "Интернет-магазин «Викишоп» запускает новый сервис. Теперь пользователи могут редактировать и дополнять описания товаров, как в вики-сообществах. То есть клиенты предлагают свои правки и комментируют изменения других. Магазину нужен инструмент, который будет искать токсичные комментарии и отправлять их на модерацию. \n",
    "\n",
    "Обучите модель классифицировать комментарии на позитивные и негативные. В вашем распоряжении набор данных с разметкой о токсичности правок.\n",
    "\n",
    "Постройте модель со значением метрики качества *F1* не меньше 0.75. \n",
    "\n",
    "**Инструкция по выполнению проекта**\n",
    "\n",
    "1. Загрузите и подготовьте данные.\n",
    "2. Обучите разные модели. \n",
    "3. Сделайте выводы.\n",
    "\n",
    "Для выполнения проекта применять *BERT* необязательно, но вы можете попробовать.\n",
    "\n",
    "**Описание данных**\n",
    "\n",
    "Данные находятся в файле `toxic_comments.csv`. Столбец *text* в нём содержит текст комментария, а *toxic* — целевой признак."
   ]
  },
  {
   "cell_type": "markdown",
   "metadata": {},
   "source": [
    "## Подготовка"
   ]
  },
  {
   "cell_type": "markdown",
   "metadata": {
    "scrolled": true
   },
   "source": [
    "Загрузим необходимые библиотеки"
   ]
  },
  {
   "cell_type": "code",
   "execution_count": 14,
   "metadata": {
    "scrolled": true
   },
   "outputs": [
    {
     "name": "stderr",
     "output_type": "stream",
     "text": [
      "[nltk_data] Downloading package punkt to /Users/a1/nltk_data...\n",
      "[nltk_data]   Package punkt is already up-to-date!\n",
      "[nltk_data] Downloading package stopwords to /Users/a1/nltk_data...\n",
      "[nltk_data]   Package stopwords is already up-to-date!\n",
      "[nltk_data] Downloading package wordnet to /Users/a1/nltk_data...\n",
      "[nltk_data]   Package wordnet is already up-to-date!\n",
      "[nltk_data] Downloading package averaged_perceptron_tagger to\n",
      "[nltk_data]     /Users/a1/nltk_data...\n",
      "[nltk_data]   Package averaged_perceptron_tagger is already up-to-\n",
      "[nltk_data]       date!\n"
     ]
    },
    {
     "data": {
      "text/plain": [
       "True"
      ]
     },
     "execution_count": 14,
     "metadata": {},
     "output_type": "execute_result"
    }
   ],
   "source": [
    "import pandas as pd\n",
    "import numpy as np\n",
    "import transformers as tf\n",
    "import re \n",
    "import nltk\n",
    "from tqdm import notebook\n",
    "from nltk.corpus import stopwords, wordnet\n",
    "from nltk.tokenize import word_tokenize \n",
    "from nltk.stem import WordNetLemmatizer \n",
    "from sklearn.model_selection import GridSearchCV\n",
    "from sklearn.model_selection import train_test_split\n",
    "from sklearn.pipeline import Pipeline\n",
    "from sklearn.linear_model import LogisticRegression\n",
    "from sklearn.feature_extraction.text import TfidfVectorizer\n",
    "from sklearn.svm import LinearSVC\n",
    "from sklearn.tree import DecisionTreeClassifier\n",
    "from catboost import CatBoostClassifier\n",
    "from sklearn.metrics import f1_score\n",
    "import warnings\n",
    "warnings.filterwarnings(\"ignore\")\n",
    "# Загрузка необходимых ресурсов\n",
    "nltk.download('punkt')\n",
    "nltk.download('stopwords')\n",
    "nltk.download('wordnet')\n",
    "nltk.download('averaged_perceptron_tagger')"
   ]
  },
  {
   "cell_type": "markdown",
   "metadata": {
    "scrolled": true
   },
   "source": [
    "Загрузим данные"
   ]
  },
  {
   "cell_type": "code",
   "execution_count": 3,
   "metadata": {
    "scrolled": true
   },
   "outputs": [],
   "source": [
    "try:\n",
    "    df = pd.read_csv('/datasets/toxic_comments.csv')\n",
    "except:\n",
    "    df = pd.read_csv('toxic_comments.csv')"
   ]
  },
  {
   "cell_type": "markdown",
   "metadata": {},
   "source": [
    "Просмотрим общую информацию по данным:"
   ]
  },
  {
   "cell_type": "code",
   "execution_count": 4,
   "metadata": {},
   "outputs": [
    {
     "name": "stdout",
     "output_type": "stream",
     "text": [
      "<class 'pandas.core.frame.DataFrame'>\n",
      "RangeIndex: 159292 entries, 0 to 159291\n",
      "Data columns (total 3 columns):\n",
      " #   Column      Non-Null Count   Dtype \n",
      "---  ------      --------------   ----- \n",
      " 0   Unnamed: 0  159292 non-null  int64 \n",
      " 1   text        159292 non-null  object\n",
      " 2   toxic       159292 non-null  int64 \n",
      "dtypes: int64(2), object(1)\n",
      "memory usage: 3.6+ MB\n"
     ]
    },
    {
     "data": {
      "text/plain": [
       "None"
      ]
     },
     "metadata": {},
     "output_type": "display_data"
    },
    {
     "data": {
      "text/html": [
       "<div>\n",
       "<style scoped>\n",
       "    .dataframe tbody tr th:only-of-type {\n",
       "        vertical-align: middle;\n",
       "    }\n",
       "\n",
       "    .dataframe tbody tr th {\n",
       "        vertical-align: top;\n",
       "    }\n",
       "\n",
       "    .dataframe thead th {\n",
       "        text-align: right;\n",
       "    }\n",
       "</style>\n",
       "<table border=\"1\" class=\"dataframe\">\n",
       "  <thead>\n",
       "    <tr style=\"text-align: right;\">\n",
       "      <th></th>\n",
       "      <th>Unnamed: 0</th>\n",
       "      <th>text</th>\n",
       "      <th>toxic</th>\n",
       "    </tr>\n",
       "  </thead>\n",
       "  <tbody>\n",
       "    <tr>\n",
       "      <th>0</th>\n",
       "      <td>0</td>\n",
       "      <td>Explanation\\nWhy the edits made under my usern...</td>\n",
       "      <td>0</td>\n",
       "    </tr>\n",
       "    <tr>\n",
       "      <th>1</th>\n",
       "      <td>1</td>\n",
       "      <td>D'aww! He matches this background colour I'm s...</td>\n",
       "      <td>0</td>\n",
       "    </tr>\n",
       "    <tr>\n",
       "      <th>2</th>\n",
       "      <td>2</td>\n",
       "      <td>Hey man, I'm really not trying to edit war. It...</td>\n",
       "      <td>0</td>\n",
       "    </tr>\n",
       "    <tr>\n",
       "      <th>3</th>\n",
       "      <td>3</td>\n",
       "      <td>\"\\nMore\\nI can't make any real suggestions on ...</td>\n",
       "      <td>0</td>\n",
       "    </tr>\n",
       "    <tr>\n",
       "      <th>4</th>\n",
       "      <td>4</td>\n",
       "      <td>You, sir, are my hero. Any chance you remember...</td>\n",
       "      <td>0</td>\n",
       "    </tr>\n",
       "  </tbody>\n",
       "</table>\n",
       "</div>"
      ],
      "text/plain": [
       "   Unnamed: 0                                               text  toxic\n",
       "0           0  Explanation\\nWhy the edits made under my usern...      0\n",
       "1           1  D'aww! He matches this background colour I'm s...      0\n",
       "2           2  Hey man, I'm really not trying to edit war. It...      0\n",
       "3           3  \"\\nMore\\nI can't make any real suggestions on ...      0\n",
       "4           4  You, sir, are my hero. Any chance you remember...      0"
      ]
     },
     "metadata": {},
     "output_type": "display_data"
    },
    {
     "data": {
      "text/plain": [
       "(159292, 3)"
      ]
     },
     "metadata": {},
     "output_type": "display_data"
    },
    {
     "data": {
      "text/html": [
       "<div>\n",
       "<style scoped>\n",
       "    .dataframe tbody tr th:only-of-type {\n",
       "        vertical-align: middle;\n",
       "    }\n",
       "\n",
       "    .dataframe tbody tr th {\n",
       "        vertical-align: top;\n",
       "    }\n",
       "\n",
       "    .dataframe thead th {\n",
       "        text-align: right;\n",
       "    }\n",
       "</style>\n",
       "<table border=\"1\" class=\"dataframe\">\n",
       "  <thead>\n",
       "    <tr style=\"text-align: right;\">\n",
       "      <th></th>\n",
       "      <th>Unnamed: 0</th>\n",
       "      <th>toxic</th>\n",
       "    </tr>\n",
       "  </thead>\n",
       "  <tbody>\n",
       "    <tr>\n",
       "      <th>count</th>\n",
       "      <td>159292.000000</td>\n",
       "      <td>159292.000000</td>\n",
       "    </tr>\n",
       "    <tr>\n",
       "      <th>mean</th>\n",
       "      <td>79725.697242</td>\n",
       "      <td>0.101612</td>\n",
       "    </tr>\n",
       "    <tr>\n",
       "      <th>std</th>\n",
       "      <td>46028.837471</td>\n",
       "      <td>0.302139</td>\n",
       "    </tr>\n",
       "    <tr>\n",
       "      <th>min</th>\n",
       "      <td>0.000000</td>\n",
       "      <td>0.000000</td>\n",
       "    </tr>\n",
       "    <tr>\n",
       "      <th>25%</th>\n",
       "      <td>39872.750000</td>\n",
       "      <td>0.000000</td>\n",
       "    </tr>\n",
       "    <tr>\n",
       "      <th>50%</th>\n",
       "      <td>79721.500000</td>\n",
       "      <td>0.000000</td>\n",
       "    </tr>\n",
       "    <tr>\n",
       "      <th>75%</th>\n",
       "      <td>119573.250000</td>\n",
       "      <td>0.000000</td>\n",
       "    </tr>\n",
       "    <tr>\n",
       "      <th>max</th>\n",
       "      <td>159450.000000</td>\n",
       "      <td>1.000000</td>\n",
       "    </tr>\n",
       "  </tbody>\n",
       "</table>\n",
       "</div>"
      ],
      "text/plain": [
       "          Unnamed: 0          toxic\n",
       "count  159292.000000  159292.000000\n",
       "mean    79725.697242       0.101612\n",
       "std     46028.837471       0.302139\n",
       "min         0.000000       0.000000\n",
       "25%     39872.750000       0.000000\n",
       "50%     79721.500000       0.000000\n",
       "75%    119573.250000       0.000000\n",
       "max    159450.000000       1.000000"
      ]
     },
     "metadata": {},
     "output_type": "display_data"
    },
    {
     "data": {
      "text/plain": [
       "Unnamed: 0    0\n",
       "text          0\n",
       "toxic         0\n",
       "dtype: int64"
      ]
     },
     "metadata": {},
     "output_type": "display_data"
    },
    {
     "name": "stdout",
     "output_type": "stream",
     "text": [
      "Количество дубликатов: 0\n"
     ]
    }
   ],
   "source": [
    "display(df.info())\n",
    "display(df.head())\n",
    "display(df.shape)\n",
    "display(df.describe())\n",
    "display(df.isnull().sum())\n",
    "print(f\"Количество дубликатов: {df.duplicated().sum()}\")"
   ]
  },
  {
   "cell_type": "markdown",
   "metadata": {},
   "source": [
    "**Вывод:**\n",
    "- Фрейм состоит из 159292 строк и 3 столбцов\n",
    "- Пропуски отсутствуют\n",
    "- Типы данных для столбцов соответствуют\n",
    "- Явные дубликаты отсутствуют\n",
    "\n",
    "Необходимо удалить столбец unnamed:0, так как нам не нужен индексный столбец"
   ]
  },
  {
   "cell_type": "code",
   "execution_count": 5,
   "metadata": {},
   "outputs": [
    {
     "data": {
      "text/html": [
       "<div>\n",
       "<style scoped>\n",
       "    .dataframe tbody tr th:only-of-type {\n",
       "        vertical-align: middle;\n",
       "    }\n",
       "\n",
       "    .dataframe tbody tr th {\n",
       "        vertical-align: top;\n",
       "    }\n",
       "\n",
       "    .dataframe thead th {\n",
       "        text-align: right;\n",
       "    }\n",
       "</style>\n",
       "<table border=\"1\" class=\"dataframe\">\n",
       "  <thead>\n",
       "    <tr style=\"text-align: right;\">\n",
       "      <th></th>\n",
       "      <th>text</th>\n",
       "      <th>toxic</th>\n",
       "    </tr>\n",
       "  </thead>\n",
       "  <tbody>\n",
       "    <tr>\n",
       "      <th>0</th>\n",
       "      <td>Explanation\\nWhy the edits made under my usern...</td>\n",
       "      <td>0</td>\n",
       "    </tr>\n",
       "    <tr>\n",
       "      <th>1</th>\n",
       "      <td>D'aww! He matches this background colour I'm s...</td>\n",
       "      <td>0</td>\n",
       "    </tr>\n",
       "    <tr>\n",
       "      <th>2</th>\n",
       "      <td>Hey man, I'm really not trying to edit war. It...</td>\n",
       "      <td>0</td>\n",
       "    </tr>\n",
       "    <tr>\n",
       "      <th>3</th>\n",
       "      <td>\"\\nMore\\nI can't make any real suggestions on ...</td>\n",
       "      <td>0</td>\n",
       "    </tr>\n",
       "    <tr>\n",
       "      <th>4</th>\n",
       "      <td>You, sir, are my hero. Any chance you remember...</td>\n",
       "      <td>0</td>\n",
       "    </tr>\n",
       "  </tbody>\n",
       "</table>\n",
       "</div>"
      ],
      "text/plain": [
       "                                                text  toxic\n",
       "0  Explanation\\nWhy the edits made under my usern...      0\n",
       "1  D'aww! He matches this background colour I'm s...      0\n",
       "2  Hey man, I'm really not trying to edit war. It...      0\n",
       "3  \"\\nMore\\nI can't make any real suggestions on ...      0\n",
       "4  You, sir, are my hero. Any chance you remember...      0"
      ]
     },
     "execution_count": 5,
     "metadata": {},
     "output_type": "execute_result"
    }
   ],
   "source": [
    "df = df.drop('Unnamed: 0', axis=1)\n",
    "df.head()"
   ]
  },
  {
   "cell_type": "markdown",
   "metadata": {},
   "source": [
    "Объявим стоп слова и лемматизацию для дальнейшей функции"
   ]
  },
  {
   "cell_type": "code",
   "execution_count": 6,
   "metadata": {},
   "outputs": [],
   "source": [
    "stop_words = set(stopwords.words('english'))\n",
    "lemmatizer = WordNetLemmatizer()"
   ]
  },
  {
   "cell_type": "markdown",
   "metadata": {},
   "source": [
    "Напишем функцию и применим ее"
   ]
  },
  {
   "cell_type": "code",
   "execution_count": 7,
   "metadata": {},
   "outputs": [],
   "source": [
    "def get_wordnet_pos(word):\n",
    "    \"Преобразует POS-тег в формат, принимаемый WordNetLemmatizer.\"\n",
    "    tag = nltk.pos_tag([word])[0][1][0].upper()\n",
    "    tag_dict = {\n",
    "        \"J\": wordnet.ADJ,\n",
    "        \"N\": wordnet.NOUN,\n",
    "        \"V\": wordnet.VERB,\n",
    "        \"R\": wordnet.ADV\n",
    "    }\n",
    "    return tag_dict.get(tag, wordnet.NOUN)\n",
    "\n",
    "def pred(text):\n",
    "    # Уберем из текста все лишнее\n",
    "    text = re.sub(r'[^a-zA-Z ]', ' ', text)\n",
    "    text = text.lower()\n",
    "    # Токенизируем\n",
    "    token = nltk.word_tokenize(text)\n",
    "    # Убираем стоп-слова и лемматизируем с учетом POS-тегов\n",
    "    text = [lemmatizer.lemmatize(word, get_wordnet_pos(word)) for word in token if word not in stop_words]\n",
    "    text = ' '.join(text)\n",
    "    return text\n",
    "\n",
    "# Применение функции\n",
    "df['pred'] = df['text'].apply(pred)"
   ]
  },
  {
   "cell_type": "markdown",
   "metadata": {},
   "source": [
    "Просмотрим таблицу с новым признаком"
   ]
  },
  {
   "cell_type": "code",
   "execution_count": 8,
   "metadata": {
    "scrolled": true
   },
   "outputs": [
    {
     "data": {
      "text/html": [
       "<div>\n",
       "<style scoped>\n",
       "    .dataframe tbody tr th:only-of-type {\n",
       "        vertical-align: middle;\n",
       "    }\n",
       "\n",
       "    .dataframe tbody tr th {\n",
       "        vertical-align: top;\n",
       "    }\n",
       "\n",
       "    .dataframe thead th {\n",
       "        text-align: right;\n",
       "    }\n",
       "</style>\n",
       "<table border=\"1\" class=\"dataframe\">\n",
       "  <thead>\n",
       "    <tr style=\"text-align: right;\">\n",
       "      <th></th>\n",
       "      <th>text</th>\n",
       "      <th>toxic</th>\n",
       "      <th>pred</th>\n",
       "    </tr>\n",
       "  </thead>\n",
       "  <tbody>\n",
       "    <tr>\n",
       "      <th>0</th>\n",
       "      <td>Explanation\\nWhy the edits made under my usern...</td>\n",
       "      <td>0</td>\n",
       "      <td>explanation edits make username hardcore metal...</td>\n",
       "    </tr>\n",
       "    <tr>\n",
       "      <th>1</th>\n",
       "      <td>D'aww! He matches this background colour I'm s...</td>\n",
       "      <td>0</td>\n",
       "      <td>aww match background colour seemingly stuck th...</td>\n",
       "    </tr>\n",
       "    <tr>\n",
       "      <th>2</th>\n",
       "      <td>Hey man, I'm really not trying to edit war. It...</td>\n",
       "      <td>0</td>\n",
       "      <td>hey man really try edit war guy constantly rem...</td>\n",
       "    </tr>\n",
       "    <tr>\n",
       "      <th>3</th>\n",
       "      <td>\"\\nMore\\nI can't make any real suggestions on ...</td>\n",
       "      <td>0</td>\n",
       "      <td>make real suggestion improvement wonder sectio...</td>\n",
       "    </tr>\n",
       "    <tr>\n",
       "      <th>4</th>\n",
       "      <td>You, sir, are my hero. Any chance you remember...</td>\n",
       "      <td>0</td>\n",
       "      <td>sir hero chance remember page</td>\n",
       "    </tr>\n",
       "  </tbody>\n",
       "</table>\n",
       "</div>"
      ],
      "text/plain": [
       "                                                text  toxic  \\\n",
       "0  Explanation\\nWhy the edits made under my usern...      0   \n",
       "1  D'aww! He matches this background colour I'm s...      0   \n",
       "2  Hey man, I'm really not trying to edit war. It...      0   \n",
       "3  \"\\nMore\\nI can't make any real suggestions on ...      0   \n",
       "4  You, sir, are my hero. Any chance you remember...      0   \n",
       "\n",
       "                                                pred  \n",
       "0  explanation edits make username hardcore metal...  \n",
       "1  aww match background colour seemingly stuck th...  \n",
       "2  hey man really try edit war guy constantly rem...  \n",
       "3  make real suggestion improvement wonder sectio...  \n",
       "4                      sir hero chance remember page  "
      ]
     },
     "execution_count": 8,
     "metadata": {},
     "output_type": "execute_result"
    }
   ],
   "source": [
    "df.head()"
   ]
  },
  {
   "cell_type": "markdown",
   "metadata": {},
   "source": [
    "**Подготовим выборки**"
   ]
  },
  {
   "cell_type": "code",
   "execution_count": 9,
   "metadata": {},
   "outputs": [],
   "source": [
    "df_1 = df.copy()\n",
    "y = df_1['toxic']\n",
    "df_1 = df_1.drop(['toxic'], axis = 1)\n",
    "X_train, X_test, y_train, y_test = train_test_split(df, y, test_size = 0.3, stratify = y)"
   ]
  },
  {
   "cell_type": "markdown",
   "metadata": {},
   "source": [
    "Просмотрим размерности выборок"
   ]
  },
  {
   "cell_type": "code",
   "execution_count": 10,
   "metadata": {
    "scrolled": true
   },
   "outputs": [
    {
     "data": {
      "text/plain": [
       "(111504, 3)"
      ]
     },
     "metadata": {},
     "output_type": "display_data"
    },
    {
     "data": {
      "text/plain": [
       "(47788, 3)"
      ]
     },
     "metadata": {},
     "output_type": "display_data"
    },
    {
     "data": {
      "text/plain": [
       "(111504,)"
      ]
     },
     "metadata": {},
     "output_type": "display_data"
    },
    {
     "data": {
      "text/plain": [
       "(47788,)"
      ]
     },
     "metadata": {},
     "output_type": "display_data"
    }
   ],
   "source": [
    "display(X_train.shape)\n",
    "display(X_test.shape)\n",
    "display(y_train.shape)\n",
    "display(y_test.shape)"
   ]
  },
  {
   "cell_type": "markdown",
   "metadata": {},
   "source": [
    "**Вывод:**\n",
    "- Данные очищены от лишних символов\n",
    "- Данные лемматизированы и токенизированы\n",
    "- Данные разбиты на выборки для обучения моделей"
   ]
  },
  {
   "cell_type": "markdown",
   "metadata": {},
   "source": [
    "## Обучение"
   ]
  },
  {
   "cell_type": "markdown",
   "metadata": {},
   "source": [
    "Подготовим функцию, которая позволит обучить модели а также вывести лучшие результаты. По условию будем использовать метрику f1"
   ]
  },
  {
   "cell_type": "code",
   "execution_count": 11,
   "metadata": {},
   "outputs": [],
   "source": [
    "def train(model, params):\n",
    "    pipeline = Pipeline([\n",
    "        ('tfidf', TfidfVectorizer(min_df = 1)),\n",
    "        ('model', model)])\n",
    "    grid = GridSearchCV(pipeline, cv = 5, n_jobs = 1, param_grid = params ,scoring = 'f1', verbose = False)\n",
    "    grid.fit(X_train['pred'], y_train)\n",
    "    print('Лучший результат:', grid.best_score_)\n",
    "    print('Лучшие параметры:', grid.best_params_)\n",
    "    return grid"
   ]
  },
  {
   "cell_type": "markdown",
   "metadata": {},
   "source": [
    "Начнем с логистической регрессии"
   ]
  },
  {
   "cell_type": "code",
   "execution_count": 12,
   "metadata": {},
   "outputs": [
    {
     "name": "stdout",
     "output_type": "stream",
     "text": [
      "Лучший результат: 0.7747885946004529\n",
      "Лучшие параметры: {'model__C': 10.0, 'model__penalty': 'l2'}\n"
     ]
    }
   ],
   "source": [
    "lr_model = train(LogisticRegression(max_iter = 200), {\"model__C\":[0.1, 1.0, 10.0], \"model__penalty\":[\"l2\"]})"
   ]
  },
  {
   "cell_type": "markdown",
   "metadata": {},
   "source": [
    "Отлично, значение метрики уже показывает, что модель подходит нам по условию, но просмотрим и другие модели"
   ]
  },
  {
   "cell_type": "markdown",
   "metadata": {},
   "source": [
    "Модель svc"
   ]
  },
  {
   "cell_type": "code",
   "execution_count": 15,
   "metadata": {},
   "outputs": [
    {
     "name": "stdout",
     "output_type": "stream",
     "text": [
      "Лучший результат: 0.7820610072388219\n",
      "Лучшие параметры: {'model__C': 1.0, 'model__penalty': 'l1'}\n"
     ]
    }
   ],
   "source": [
    "svc_model = train(LinearSVC(max_iter=500),{\"model__C\": [0.1,1.0,10.0],\"model__penalty\": ['l1', 'l2']}) "
   ]
  },
  {
   "cell_type": "markdown",
   "metadata": {},
   "source": [
    "Модель DesicionTreeClassifier"
   ]
  },
  {
   "cell_type": "code",
   "execution_count": 16,
   "metadata": {},
   "outputs": [
    {
     "name": "stdout",
     "output_type": "stream",
     "text": [
      "Лучший результат: 0.561447971235285\n",
      "Лучшие параметры: {'model__max_depth': 6, 'model__min_samples_leaf': 1, 'model__min_samples_split': 2}\n"
     ]
    }
   ],
   "source": [
    "tree_model = train(DecisionTreeClassifier(), {'model__max_depth':[2,4,6],\"model__min_samples_split\": [2, 5, 10],\"model__min_samples_leaf\": [1, 2, 4]})"
   ]
  },
  {
   "cell_type": "markdown",
   "metadata": {},
   "source": [
    "И наконец модель CatBoost"
   ]
  },
  {
   "cell_type": "code",
   "execution_count": 17,
   "metadata": {
    "scrolled": true
   },
   "outputs": [
    {
     "name": "stdout",
     "output_type": "stream",
     "text": [
      "Learning rate set to 0.5\n",
      "0:\tlearn: 0.3483768\ttotal: 240ms\tremaining: 11.7s\n",
      "1:\tlearn: 0.2661854\ttotal: 404ms\tremaining: 9.7s\n",
      "2:\tlearn: 0.2414539\ttotal: 577ms\tremaining: 9.04s\n",
      "3:\tlearn: 0.2302306\ttotal: 731ms\tremaining: 8.4s\n",
      "4:\tlearn: 0.2223362\ttotal: 898ms\tremaining: 8.08s\n",
      "5:\tlearn: 0.2137399\ttotal: 1.06s\tremaining: 7.79s\n",
      "6:\tlearn: 0.2079154\ttotal: 1.23s\tremaining: 7.56s\n",
      "7:\tlearn: 0.2030888\ttotal: 1.39s\tremaining: 7.27s\n",
      "8:\tlearn: 0.1993709\ttotal: 1.55s\tremaining: 7.04s\n",
      "9:\tlearn: 0.1964499\ttotal: 1.7s\tremaining: 6.79s\n",
      "10:\tlearn: 0.1932685\ttotal: 1.85s\tremaining: 6.57s\n",
      "11:\tlearn: 0.1907685\ttotal: 2s\tremaining: 6.35s\n",
      "12:\tlearn: 0.1861181\ttotal: 2.18s\tremaining: 6.2s\n",
      "13:\tlearn: 0.1841521\ttotal: 2.33s\tremaining: 5.99s\n",
      "14:\tlearn: 0.1809358\ttotal: 2.5s\tremaining: 5.82s\n",
      "15:\tlearn: 0.1788827\ttotal: 2.65s\tremaining: 5.63s\n",
      "16:\tlearn: 0.1765829\ttotal: 2.81s\tremaining: 5.45s\n",
      "17:\tlearn: 0.1749371\ttotal: 2.96s\tremaining: 5.26s\n",
      "18:\tlearn: 0.1728858\ttotal: 3.12s\tremaining: 5.08s\n",
      "19:\tlearn: 0.1710052\ttotal: 3.26s\tremaining: 4.89s\n",
      "20:\tlearn: 0.1695394\ttotal: 3.42s\tremaining: 4.72s\n",
      "21:\tlearn: 0.1683589\ttotal: 3.57s\tremaining: 4.54s\n",
      "22:\tlearn: 0.1670592\ttotal: 3.72s\tremaining: 4.37s\n",
      "23:\tlearn: 0.1657389\ttotal: 3.87s\tremaining: 4.19s\n",
      "24:\tlearn: 0.1639590\ttotal: 4.02s\tremaining: 4.02s\n",
      "25:\tlearn: 0.1629161\ttotal: 4.17s\tremaining: 3.85s\n",
      "26:\tlearn: 0.1614626\ttotal: 4.32s\tremaining: 3.68s\n",
      "27:\tlearn: 0.1602855\ttotal: 4.47s\tremaining: 3.52s\n",
      "28:\tlearn: 0.1590197\ttotal: 4.63s\tremaining: 3.35s\n",
      "29:\tlearn: 0.1573428\ttotal: 4.77s\tremaining: 3.18s\n",
      "30:\tlearn: 0.1562830\ttotal: 4.92s\tremaining: 3.02s\n",
      "31:\tlearn: 0.1552731\ttotal: 5.08s\tremaining: 2.85s\n",
      "32:\tlearn: 0.1544985\ttotal: 5.23s\tremaining: 2.69s\n",
      "33:\tlearn: 0.1537261\ttotal: 5.38s\tremaining: 2.53s\n",
      "34:\tlearn: 0.1527174\ttotal: 5.54s\tremaining: 2.37s\n",
      "35:\tlearn: 0.1518516\ttotal: 5.69s\tremaining: 2.21s\n",
      "36:\tlearn: 0.1509910\ttotal: 5.84s\tremaining: 2.05s\n",
      "37:\tlearn: 0.1503547\ttotal: 5.98s\tremaining: 1.89s\n",
      "38:\tlearn: 0.1496656\ttotal: 6.13s\tremaining: 1.73s\n",
      "39:\tlearn: 0.1487100\ttotal: 6.28s\tremaining: 1.57s\n",
      "40:\tlearn: 0.1478811\ttotal: 6.43s\tremaining: 1.41s\n",
      "41:\tlearn: 0.1472537\ttotal: 6.58s\tremaining: 1.25s\n",
      "42:\tlearn: 0.1464529\ttotal: 6.73s\tremaining: 1.1s\n",
      "43:\tlearn: 0.1459005\ttotal: 6.88s\tremaining: 939ms\n",
      "44:\tlearn: 0.1451465\ttotal: 7.04s\tremaining: 782ms\n",
      "45:\tlearn: 0.1445331\ttotal: 7.19s\tremaining: 625ms\n",
      "46:\tlearn: 0.1439309\ttotal: 7.34s\tremaining: 469ms\n",
      "47:\tlearn: 0.1433952\ttotal: 7.49s\tremaining: 312ms\n",
      "48:\tlearn: 0.1427670\ttotal: 7.64s\tremaining: 156ms\n",
      "49:\tlearn: 0.1421781\ttotal: 7.79s\tremaining: 0us\n",
      "Learning rate set to 0.5\n",
      "0:\tlearn: 0.3439406\ttotal: 177ms\tremaining: 8.68s\n",
      "1:\tlearn: 0.2614901\ttotal: 344ms\tremaining: 8.26s\n",
      "2:\tlearn: 0.2352927\ttotal: 512ms\tremaining: 8.02s\n",
      "3:\tlearn: 0.2254847\ttotal: 700ms\tremaining: 8.05s\n",
      "4:\tlearn: 0.2156021\ttotal: 890ms\tremaining: 8.01s\n",
      "5:\tlearn: 0.2101865\ttotal: 1.06s\tremaining: 7.76s\n",
      "6:\tlearn: 0.2052125\ttotal: 1.23s\tremaining: 7.54s\n",
      "7:\tlearn: 0.2013919\ttotal: 1.39s\tremaining: 7.27s\n",
      "8:\tlearn: 0.1979977\ttotal: 1.57s\tremaining: 7.17s\n",
      "9:\tlearn: 0.1947263\ttotal: 1.74s\tremaining: 6.97s\n",
      "10:\tlearn: 0.1922106\ttotal: 1.91s\tremaining: 6.79s\n",
      "11:\tlearn: 0.1884687\ttotal: 2.09s\tremaining: 6.63s\n",
      "12:\tlearn: 0.1859695\ttotal: 2.26s\tremaining: 6.44s\n",
      "13:\tlearn: 0.1825444\ttotal: 2.42s\tremaining: 6.22s\n",
      "14:\tlearn: 0.1807282\ttotal: 2.6s\tremaining: 6.06s\n",
      "15:\tlearn: 0.1789182\ttotal: 2.76s\tremaining: 5.87s\n",
      "16:\tlearn: 0.1769377\ttotal: 2.94s\tremaining: 5.72s\n",
      "17:\tlearn: 0.1750847\ttotal: 3.11s\tremaining: 5.53s\n",
      "18:\tlearn: 0.1739543\ttotal: 3.3s\tremaining: 5.38s\n",
      "19:\tlearn: 0.1719966\ttotal: 3.46s\tremaining: 5.2s\n",
      "20:\tlearn: 0.1707538\ttotal: 3.63s\tremaining: 5.01s\n",
      "21:\tlearn: 0.1693590\ttotal: 3.79s\tremaining: 4.82s\n",
      "22:\tlearn: 0.1677533\ttotal: 3.96s\tremaining: 4.65s\n",
      "23:\tlearn: 0.1665335\ttotal: 4.15s\tremaining: 4.5s\n",
      "24:\tlearn: 0.1643413\ttotal: 4.35s\tremaining: 4.35s\n",
      "25:\tlearn: 0.1622806\ttotal: 4.5s\tremaining: 4.16s\n",
      "26:\tlearn: 0.1612949\ttotal: 4.65s\tremaining: 3.96s\n",
      "27:\tlearn: 0.1599211\ttotal: 4.8s\tremaining: 3.77s\n",
      "28:\tlearn: 0.1591469\ttotal: 4.97s\tremaining: 3.6s\n",
      "29:\tlearn: 0.1577984\ttotal: 5.12s\tremaining: 3.42s\n",
      "30:\tlearn: 0.1564418\ttotal: 5.29s\tremaining: 3.24s\n",
      "31:\tlearn: 0.1554611\ttotal: 5.46s\tremaining: 3.07s\n",
      "32:\tlearn: 0.1547283\ttotal: 5.62s\tremaining: 2.9s\n",
      "33:\tlearn: 0.1539192\ttotal: 5.79s\tremaining: 2.73s\n",
      "34:\tlearn: 0.1528197\ttotal: 5.97s\tremaining: 2.56s\n",
      "35:\tlearn: 0.1520792\ttotal: 6.17s\tremaining: 2.4s\n",
      "36:\tlearn: 0.1513529\ttotal: 6.36s\tremaining: 2.23s\n",
      "37:\tlearn: 0.1505068\ttotal: 6.56s\tremaining: 2.07s\n",
      "38:\tlearn: 0.1497181\ttotal: 6.76s\tremaining: 1.91s\n",
      "39:\tlearn: 0.1490960\ttotal: 6.94s\tremaining: 1.74s\n",
      "40:\tlearn: 0.1483685\ttotal: 7.11s\tremaining: 1.56s\n",
      "41:\tlearn: 0.1476878\ttotal: 7.26s\tremaining: 1.38s\n",
      "42:\tlearn: 0.1469573\ttotal: 7.43s\tremaining: 1.21s\n",
      "43:\tlearn: 0.1462717\ttotal: 7.58s\tremaining: 1.03s\n",
      "44:\tlearn: 0.1457694\ttotal: 7.73s\tremaining: 859ms\n",
      "45:\tlearn: 0.1450170\ttotal: 7.9s\tremaining: 687ms\n",
      "46:\tlearn: 0.1445092\ttotal: 8.06s\tremaining: 514ms\n",
      "47:\tlearn: 0.1437756\ttotal: 8.21s\tremaining: 342ms\n",
      "48:\tlearn: 0.1431283\ttotal: 8.37s\tremaining: 171ms\n",
      "49:\tlearn: 0.1426526\ttotal: 8.52s\tremaining: 0us\n",
      "Learning rate set to 0.5\n",
      "0:\tlearn: 0.3449247\ttotal: 168ms\tremaining: 8.23s\n",
      "1:\tlearn: 0.2637556\ttotal: 327ms\tremaining: 7.85s\n",
      "2:\tlearn: 0.2392587\ttotal: 485ms\tremaining: 7.59s\n",
      "3:\tlearn: 0.2286511\ttotal: 646ms\tremaining: 7.43s\n",
      "4:\tlearn: 0.2199778\ttotal: 801ms\tremaining: 7.21s\n",
      "5:\tlearn: 0.2111882\ttotal: 963ms\tremaining: 7.06s\n",
      "6:\tlearn: 0.2058568\ttotal: 1.12s\tremaining: 6.89s\n",
      "7:\tlearn: 0.2015474\ttotal: 1.28s\tremaining: 6.71s\n",
      "8:\tlearn: 0.1987049\ttotal: 1.43s\tremaining: 6.5s\n",
      "9:\tlearn: 0.1954008\ttotal: 1.58s\tremaining: 6.32s\n",
      "10:\tlearn: 0.1924748\ttotal: 1.73s\tremaining: 6.14s\n",
      "11:\tlearn: 0.1897478\ttotal: 1.88s\tremaining: 5.96s\n",
      "12:\tlearn: 0.1861969\ttotal: 2.05s\tremaining: 5.83s\n",
      "13:\tlearn: 0.1840809\ttotal: 2.23s\tremaining: 5.72s\n",
      "14:\tlearn: 0.1822429\ttotal: 2.41s\tremaining: 5.62s\n",
      "15:\tlearn: 0.1806841\ttotal: 2.56s\tremaining: 5.43s\n",
      "16:\tlearn: 0.1787705\ttotal: 2.71s\tremaining: 5.27s\n",
      "17:\tlearn: 0.1762392\ttotal: 2.88s\tremaining: 5.13s\n",
      "18:\tlearn: 0.1739157\ttotal: 3.08s\tremaining: 5.03s\n",
      "19:\tlearn: 0.1727269\ttotal: 3.27s\tremaining: 4.9s\n",
      "20:\tlearn: 0.1709468\ttotal: 3.44s\tremaining: 4.75s\n",
      "21:\tlearn: 0.1695331\ttotal: 3.61s\tremaining: 4.6s\n",
      "22:\tlearn: 0.1684963\ttotal: 3.77s\tremaining: 4.43s\n",
      "23:\tlearn: 0.1673604\ttotal: 3.92s\tremaining: 4.25s\n",
      "24:\tlearn: 0.1660428\ttotal: 4.08s\tremaining: 4.08s\n",
      "25:\tlearn: 0.1646719\ttotal: 4.23s\tremaining: 3.9s\n",
      "26:\tlearn: 0.1627521\ttotal: 4.38s\tremaining: 3.73s\n",
      "27:\tlearn: 0.1617766\ttotal: 4.53s\tremaining: 3.56s\n",
      "28:\tlearn: 0.1606725\ttotal: 4.68s\tremaining: 3.39s\n",
      "29:\tlearn: 0.1598467\ttotal: 4.83s\tremaining: 3.22s\n",
      "30:\tlearn: 0.1584755\ttotal: 4.97s\tremaining: 3.05s\n",
      "31:\tlearn: 0.1569335\ttotal: 5.13s\tremaining: 2.88s\n",
      "32:\tlearn: 0.1559710\ttotal: 5.29s\tremaining: 2.72s\n",
      "33:\tlearn: 0.1550691\ttotal: 5.45s\tremaining: 2.56s\n",
      "34:\tlearn: 0.1539173\ttotal: 5.59s\tremaining: 2.4s\n",
      "35:\tlearn: 0.1530675\ttotal: 5.76s\tremaining: 2.24s\n",
      "36:\tlearn: 0.1522548\ttotal: 5.93s\tremaining: 2.08s\n",
      "37:\tlearn: 0.1515684\ttotal: 6.09s\tremaining: 1.92s\n",
      "38:\tlearn: 0.1503689\ttotal: 6.27s\tremaining: 1.77s\n",
      "39:\tlearn: 0.1495542\ttotal: 6.43s\tremaining: 1.61s\n",
      "40:\tlearn: 0.1487902\ttotal: 6.59s\tremaining: 1.45s\n",
      "41:\tlearn: 0.1480226\ttotal: 6.73s\tremaining: 1.28s\n",
      "42:\tlearn: 0.1474391\ttotal: 6.88s\tremaining: 1.12s\n",
      "43:\tlearn: 0.1468012\ttotal: 7.03s\tremaining: 958ms\n",
      "44:\tlearn: 0.1459725\ttotal: 7.17s\tremaining: 797ms\n",
      "45:\tlearn: 0.1453943\ttotal: 7.32s\tremaining: 637ms\n",
      "46:\tlearn: 0.1448619\ttotal: 7.47s\tremaining: 477ms\n",
      "47:\tlearn: 0.1441088\ttotal: 7.63s\tremaining: 318ms\n",
      "48:\tlearn: 0.1431389\ttotal: 7.78s\tremaining: 159ms\n",
      "49:\tlearn: 0.1426677\ttotal: 7.95s\tremaining: 0us\n",
      "Learning rate set to 0.5\n",
      "0:\tlearn: 0.3458345\ttotal: 166ms\tremaining: 8.12s\n",
      "1:\tlearn: 0.2640988\ttotal: 319ms\tremaining: 7.66s\n",
      "2:\tlearn: 0.2424064\ttotal: 473ms\tremaining: 7.41s\n",
      "3:\tlearn: 0.2290058\ttotal: 625ms\tremaining: 7.19s\n",
      "4:\tlearn: 0.2210391\ttotal: 779ms\tremaining: 7.01s\n",
      "5:\tlearn: 0.2123086\ttotal: 939ms\tremaining: 6.88s\n",
      "6:\tlearn: 0.2073103\ttotal: 1.09s\tremaining: 6.7s\n",
      "7:\tlearn: 0.2031910\ttotal: 1.24s\tremaining: 6.52s\n",
      "8:\tlearn: 0.1989834\ttotal: 1.39s\tremaining: 6.34s\n",
      "9:\tlearn: 0.1956853\ttotal: 1.55s\tremaining: 6.18s\n",
      "10:\tlearn: 0.1921934\ttotal: 1.7s\tremaining: 6.01s\n",
      "11:\tlearn: 0.1898563\ttotal: 1.84s\tremaining: 5.84s\n",
      "12:\tlearn: 0.1863693\ttotal: 1.99s\tremaining: 5.67s\n",
      "13:\tlearn: 0.1840938\ttotal: 2.14s\tremaining: 5.51s\n",
      "14:\tlearn: 0.1822274\ttotal: 2.29s\tremaining: 5.35s\n",
      "15:\tlearn: 0.1800577\ttotal: 2.44s\tremaining: 5.18s\n",
      "16:\tlearn: 0.1780145\ttotal: 2.59s\tremaining: 5.03s\n",
      "17:\tlearn: 0.1753443\ttotal: 2.75s\tremaining: 4.9s\n",
      "18:\tlearn: 0.1740310\ttotal: 2.91s\tremaining: 4.74s\n",
      "19:\tlearn: 0.1723695\ttotal: 3.06s\tremaining: 4.59s\n",
      "20:\tlearn: 0.1711065\ttotal: 3.21s\tremaining: 4.43s\n",
      "21:\tlearn: 0.1699706\ttotal: 3.37s\tremaining: 4.28s\n",
      "22:\tlearn: 0.1684344\ttotal: 3.51s\tremaining: 4.12s\n",
      "23:\tlearn: 0.1659979\ttotal: 3.67s\tremaining: 3.97s\n",
      "24:\tlearn: 0.1646802\ttotal: 3.82s\tremaining: 3.82s\n",
      "25:\tlearn: 0.1631278\ttotal: 3.97s\tremaining: 3.66s\n",
      "26:\tlearn: 0.1621132\ttotal: 4.12s\tremaining: 3.51s\n",
      "27:\tlearn: 0.1611338\ttotal: 4.27s\tremaining: 3.35s\n",
      "28:\tlearn: 0.1593205\ttotal: 4.43s\tremaining: 3.21s\n",
      "29:\tlearn: 0.1584923\ttotal: 4.58s\tremaining: 3.05s\n",
      "30:\tlearn: 0.1577686\ttotal: 4.72s\tremaining: 2.9s\n",
      "31:\tlearn: 0.1566015\ttotal: 4.87s\tremaining: 2.74s\n",
      "32:\tlearn: 0.1553713\ttotal: 5.02s\tremaining: 2.58s\n",
      "33:\tlearn: 0.1546419\ttotal: 5.17s\tremaining: 2.43s\n",
      "34:\tlearn: 0.1536415\ttotal: 5.31s\tremaining: 2.28s\n",
      "35:\tlearn: 0.1530689\ttotal: 5.46s\tremaining: 2.12s\n",
      "36:\tlearn: 0.1520614\ttotal: 5.61s\tremaining: 1.97s\n",
      "37:\tlearn: 0.1508779\ttotal: 5.76s\tremaining: 1.82s\n",
      "38:\tlearn: 0.1501921\ttotal: 5.91s\tremaining: 1.67s\n",
      "39:\tlearn: 0.1492412\ttotal: 6.06s\tremaining: 1.51s\n",
      "40:\tlearn: 0.1485293\ttotal: 6.21s\tremaining: 1.36s\n",
      "41:\tlearn: 0.1478430\ttotal: 6.35s\tremaining: 1.21s\n",
      "42:\tlearn: 0.1471047\ttotal: 6.5s\tremaining: 1.06s\n",
      "43:\tlearn: 0.1466619\ttotal: 6.65s\tremaining: 907ms\n",
      "44:\tlearn: 0.1460611\ttotal: 6.8s\tremaining: 756ms\n",
      "45:\tlearn: 0.1454755\ttotal: 6.94s\tremaining: 603ms\n",
      "46:\tlearn: 0.1448818\ttotal: 7.08s\tremaining: 452ms\n",
      "47:\tlearn: 0.1444779\ttotal: 7.23s\tremaining: 301ms\n",
      "48:\tlearn: 0.1439193\ttotal: 7.38s\tremaining: 151ms\n",
      "49:\tlearn: 0.1433248\ttotal: 7.53s\tremaining: 0us\n",
      "Learning rate set to 0.5\n",
      "0:\tlearn: 0.3426223\ttotal: 211ms\tremaining: 10.3s\n",
      "1:\tlearn: 0.2644374\ttotal: 391ms\tremaining: 9.38s\n",
      "2:\tlearn: 0.2372452\ttotal: 566ms\tremaining: 8.86s\n",
      "3:\tlearn: 0.2255412\ttotal: 727ms\tremaining: 8.36s\n",
      "4:\tlearn: 0.2191494\ttotal: 889ms\tremaining: 8s\n",
      "5:\tlearn: 0.2100489\ttotal: 1.07s\tremaining: 7.83s\n",
      "6:\tlearn: 0.2050575\ttotal: 1.25s\tremaining: 7.7s\n",
      "7:\tlearn: 0.2010649\ttotal: 1.43s\tremaining: 7.53s\n",
      "8:\tlearn: 0.1979083\ttotal: 1.62s\tremaining: 7.37s\n",
      "9:\tlearn: 0.1946876\ttotal: 1.78s\tremaining: 7.11s\n",
      "10:\tlearn: 0.1909767\ttotal: 1.95s\tremaining: 6.91s\n",
      "11:\tlearn: 0.1884046\ttotal: 2.1s\tremaining: 6.67s\n",
      "12:\tlearn: 0.1863140\ttotal: 2.27s\tremaining: 6.46s\n",
      "13:\tlearn: 0.1844638\ttotal: 2.43s\tremaining: 6.24s\n",
      "14:\tlearn: 0.1822448\ttotal: 2.59s\tremaining: 6.04s\n",
      "15:\tlearn: 0.1807589\ttotal: 2.74s\tremaining: 5.83s\n",
      "16:\tlearn: 0.1785722\ttotal: 2.9s\tremaining: 5.62s\n",
      "17:\tlearn: 0.1767409\ttotal: 3.04s\tremaining: 5.41s\n",
      "18:\tlearn: 0.1751372\ttotal: 3.2s\tremaining: 5.22s\n",
      "19:\tlearn: 0.1732051\ttotal: 3.35s\tremaining: 5.02s\n",
      "20:\tlearn: 0.1709672\ttotal: 3.5s\tremaining: 4.83s\n",
      "21:\tlearn: 0.1695679\ttotal: 3.65s\tremaining: 4.64s\n",
      "22:\tlearn: 0.1682194\ttotal: 3.8s\tremaining: 4.46s\n",
      "23:\tlearn: 0.1661704\ttotal: 3.96s\tremaining: 4.29s\n",
      "24:\tlearn: 0.1649537\ttotal: 4.11s\tremaining: 4.11s\n",
      "25:\tlearn: 0.1634059\ttotal: 4.26s\tremaining: 3.93s\n",
      "26:\tlearn: 0.1621639\ttotal: 4.42s\tremaining: 3.76s\n",
      "27:\tlearn: 0.1610703\ttotal: 4.57s\tremaining: 3.59s\n",
      "28:\tlearn: 0.1597149\ttotal: 4.73s\tremaining: 3.42s\n",
      "29:\tlearn: 0.1588016\ttotal: 4.87s\tremaining: 3.25s\n",
      "30:\tlearn: 0.1579725\ttotal: 5.02s\tremaining: 3.08s\n",
      "31:\tlearn: 0.1563639\ttotal: 5.17s\tremaining: 2.91s\n",
      "32:\tlearn: 0.1552683\ttotal: 5.33s\tremaining: 2.75s\n",
      "33:\tlearn: 0.1544273\ttotal: 5.48s\tremaining: 2.58s\n",
      "34:\tlearn: 0.1536904\ttotal: 5.63s\tremaining: 2.41s\n",
      "35:\tlearn: 0.1529361\ttotal: 5.78s\tremaining: 2.25s\n",
      "36:\tlearn: 0.1521850\ttotal: 5.93s\tremaining: 2.08s\n",
      "37:\tlearn: 0.1514043\ttotal: 6.28s\tremaining: 1.98s\n",
      "38:\tlearn: 0.1507524\ttotal: 6.43s\tremaining: 1.81s\n",
      "39:\tlearn: 0.1494574\ttotal: 6.59s\tremaining: 1.65s\n",
      "40:\tlearn: 0.1486680\ttotal: 6.76s\tremaining: 1.48s\n",
      "41:\tlearn: 0.1478821\ttotal: 6.93s\tremaining: 1.32s\n",
      "42:\tlearn: 0.1472220\ttotal: 7.12s\tremaining: 1.16s\n",
      "43:\tlearn: 0.1463762\ttotal: 7.29s\tremaining: 994ms\n",
      "44:\tlearn: 0.1457758\ttotal: 7.45s\tremaining: 827ms\n",
      "45:\tlearn: 0.1452978\ttotal: 7.61s\tremaining: 661ms\n",
      "46:\tlearn: 0.1446411\ttotal: 7.76s\tremaining: 495ms\n",
      "47:\tlearn: 0.1440436\ttotal: 7.92s\tremaining: 330ms\n",
      "48:\tlearn: 0.1435735\ttotal: 8.09s\tremaining: 165ms\n",
      "49:\tlearn: 0.1429843\ttotal: 8.24s\tremaining: 0us\n",
      "Learning rate set to 0.5\n",
      "0:\tlearn: 0.3393260\ttotal: 435ms\tremaining: 21.3s\n",
      "1:\tlearn: 0.2547424\ttotal: 808ms\tremaining: 19.4s\n",
      "2:\tlearn: 0.2303690\ttotal: 1.21s\tremaining: 18.9s\n",
      "3:\tlearn: 0.2186058\ttotal: 1.59s\tremaining: 18.2s\n",
      "4:\tlearn: 0.2095499\ttotal: 1.96s\tremaining: 17.7s\n",
      "5:\tlearn: 0.2007222\ttotal: 2.34s\tremaining: 17.2s\n",
      "6:\tlearn: 0.1961458\ttotal: 2.71s\tremaining: 16.7s\n",
      "7:\tlearn: 0.1907653\ttotal: 3.14s\tremaining: 16.5s\n",
      "8:\tlearn: 0.1872698\ttotal: 3.5s\tremaining: 15.9s\n",
      "9:\tlearn: 0.1834457\ttotal: 3.87s\tremaining: 15.5s\n",
      "10:\tlearn: 0.1799522\ttotal: 4.24s\tremaining: 15s\n",
      "11:\tlearn: 0.1774102\ttotal: 4.61s\tremaining: 14.6s\n",
      "12:\tlearn: 0.1735044\ttotal: 5s\tremaining: 14.2s\n",
      "13:\tlearn: 0.1708323\ttotal: 5.38s\tremaining: 13.8s\n",
      "14:\tlearn: 0.1689106\ttotal: 5.75s\tremaining: 13.4s\n",
      "15:\tlearn: 0.1664414\ttotal: 6.12s\tremaining: 13s\n",
      "16:\tlearn: 0.1647671\ttotal: 6.49s\tremaining: 12.6s\n",
      "17:\tlearn: 0.1630743\ttotal: 6.86s\tremaining: 12.2s\n",
      "18:\tlearn: 0.1608230\ttotal: 7.23s\tremaining: 11.8s\n",
      "19:\tlearn: 0.1594636\ttotal: 7.6s\tremaining: 11.4s\n",
      "20:\tlearn: 0.1581244\ttotal: 7.97s\tremaining: 11s\n",
      "21:\tlearn: 0.1567489\ttotal: 8.33s\tremaining: 10.6s\n",
      "22:\tlearn: 0.1552866\ttotal: 8.69s\tremaining: 10.2s\n",
      "23:\tlearn: 0.1532698\ttotal: 9.08s\tremaining: 9.84s\n",
      "24:\tlearn: 0.1521740\ttotal: 9.44s\tremaining: 9.44s\n",
      "25:\tlearn: 0.1510579\ttotal: 9.82s\tremaining: 9.06s\n",
      "26:\tlearn: 0.1500281\ttotal: 10.2s\tremaining: 8.67s\n",
      "27:\tlearn: 0.1489578\ttotal: 10.5s\tremaining: 8.29s\n",
      "28:\tlearn: 0.1474909\ttotal: 10.9s\tremaining: 7.91s\n",
      "29:\tlearn: 0.1465346\ttotal: 11.3s\tremaining: 7.53s\n",
      "30:\tlearn: 0.1456082\ttotal: 11.7s\tremaining: 7.15s\n",
      "31:\tlearn: 0.1445606\ttotal: 12s\tremaining: 6.76s\n",
      "32:\tlearn: 0.1437106\ttotal: 12.4s\tremaining: 6.38s\n",
      "33:\tlearn: 0.1428748\ttotal: 12.7s\tremaining: 5.99s\n",
      "34:\tlearn: 0.1422200\ttotal: 13.1s\tremaining: 5.61s\n",
      "35:\tlearn: 0.1412820\ttotal: 13.5s\tremaining: 5.24s\n",
      "36:\tlearn: 0.1402617\ttotal: 13.8s\tremaining: 4.86s\n",
      "37:\tlearn: 0.1394934\ttotal: 14.2s\tremaining: 4.49s\n",
      "38:\tlearn: 0.1387279\ttotal: 14.6s\tremaining: 4.11s\n",
      "39:\tlearn: 0.1381951\ttotal: 14.9s\tremaining: 3.73s\n",
      "40:\tlearn: 0.1372270\ttotal: 15.3s\tremaining: 3.36s\n",
      "41:\tlearn: 0.1366657\ttotal: 15.7s\tremaining: 2.98s\n",
      "42:\tlearn: 0.1361923\ttotal: 16s\tremaining: 2.61s\n",
      "43:\tlearn: 0.1354602\ttotal: 16.4s\tremaining: 2.23s\n",
      "44:\tlearn: 0.1343798\ttotal: 16.8s\tremaining: 1.86s\n",
      "45:\tlearn: 0.1338926\ttotal: 17.1s\tremaining: 1.49s\n",
      "46:\tlearn: 0.1334635\ttotal: 17.5s\tremaining: 1.11s\n",
      "47:\tlearn: 0.1330950\ttotal: 17.8s\tremaining: 743ms\n",
      "48:\tlearn: 0.1325070\ttotal: 18.2s\tremaining: 371ms\n",
      "49:\tlearn: 0.1320765\ttotal: 18.6s\tremaining: 0us\n",
      "Learning rate set to 0.5\n",
      "0:\tlearn: 0.3439444\ttotal: 369ms\tremaining: 18.1s\n",
      "1:\tlearn: 0.2521036\ttotal: 751ms\tremaining: 18s\n",
      "2:\tlearn: 0.2296696\ttotal: 1.12s\tremaining: 17.6s\n",
      "3:\tlearn: 0.2143606\ttotal: 1.5s\tremaining: 17.3s\n",
      "4:\tlearn: 0.2067329\ttotal: 1.88s\tremaining: 16.9s\n",
      "5:\tlearn: 0.2008390\ttotal: 2.24s\tremaining: 16.4s\n",
      "6:\tlearn: 0.1961690\ttotal: 2.62s\tremaining: 16.1s\n",
      "7:\tlearn: 0.1908224\ttotal: 2.99s\tremaining: 15.7s\n",
      "8:\tlearn: 0.1867763\ttotal: 3.36s\tremaining: 15.3s\n",
      "9:\tlearn: 0.1829439\ttotal: 3.73s\tremaining: 14.9s\n",
      "10:\tlearn: 0.1799984\ttotal: 4.1s\tremaining: 14.5s\n",
      "11:\tlearn: 0.1763068\ttotal: 4.49s\tremaining: 14.2s\n",
      "12:\tlearn: 0.1739166\ttotal: 4.85s\tremaining: 13.8s\n",
      "13:\tlearn: 0.1722937\ttotal: 5.22s\tremaining: 13.4s\n",
      "14:\tlearn: 0.1699686\ttotal: 5.59s\tremaining: 13s\n",
      "15:\tlearn: 0.1676710\ttotal: 5.97s\tremaining: 12.7s\n",
      "16:\tlearn: 0.1658102\ttotal: 6.33s\tremaining: 12.3s\n",
      "17:\tlearn: 0.1634211\ttotal: 6.69s\tremaining: 11.9s\n",
      "18:\tlearn: 0.1618671\ttotal: 7.05s\tremaining: 11.5s\n",
      "19:\tlearn: 0.1603818\ttotal: 7.41s\tremaining: 11.1s\n",
      "20:\tlearn: 0.1586376\ttotal: 7.77s\tremaining: 10.7s\n",
      "21:\tlearn: 0.1570701\ttotal: 8.13s\tremaining: 10.4s\n",
      "22:\tlearn: 0.1556293\ttotal: 8.5s\tremaining: 9.98s\n",
      "23:\tlearn: 0.1539962\ttotal: 8.86s\tremaining: 9.6s\n",
      "24:\tlearn: 0.1527939\ttotal: 9.21s\tremaining: 9.21s\n",
      "25:\tlearn: 0.1515504\ttotal: 9.57s\tremaining: 8.83s\n",
      "26:\tlearn: 0.1505716\ttotal: 9.93s\tremaining: 8.45s\n",
      "27:\tlearn: 0.1495347\ttotal: 10.3s\tremaining: 8.08s\n",
      "28:\tlearn: 0.1482825\ttotal: 10.7s\tremaining: 7.71s\n",
      "29:\tlearn: 0.1470003\ttotal: 11s\tremaining: 7.35s\n",
      "30:\tlearn: 0.1460808\ttotal: 11.4s\tremaining: 6.98s\n",
      "31:\tlearn: 0.1452338\ttotal: 11.8s\tremaining: 6.62s\n",
      "32:\tlearn: 0.1442455\ttotal: 12.2s\tremaining: 6.28s\n",
      "33:\tlearn: 0.1432367\ttotal: 12.6s\tremaining: 5.92s\n",
      "34:\tlearn: 0.1421053\ttotal: 13s\tremaining: 5.55s\n",
      "35:\tlearn: 0.1414947\ttotal: 13.3s\tremaining: 5.18s\n",
      "36:\tlearn: 0.1403950\ttotal: 13.7s\tremaining: 4.81s\n",
      "37:\tlearn: 0.1394576\ttotal: 14.1s\tremaining: 4.44s\n",
      "38:\tlearn: 0.1385675\ttotal: 14.4s\tremaining: 4.07s\n",
      "39:\tlearn: 0.1379882\ttotal: 14.8s\tremaining: 3.7s\n",
      "40:\tlearn: 0.1371748\ttotal: 15.2s\tremaining: 3.33s\n",
      "41:\tlearn: 0.1362844\ttotal: 15.5s\tremaining: 2.96s\n",
      "42:\tlearn: 0.1356864\ttotal: 15.9s\tremaining: 2.59s\n",
      "43:\tlearn: 0.1350991\ttotal: 16.3s\tremaining: 2.22s\n",
      "44:\tlearn: 0.1346927\ttotal: 16.6s\tremaining: 1.84s\n",
      "45:\tlearn: 0.1339196\ttotal: 17s\tremaining: 1.48s\n",
      "46:\tlearn: 0.1335363\ttotal: 17.3s\tremaining: 1.11s\n",
      "47:\tlearn: 0.1328071\ttotal: 17.7s\tremaining: 738ms\n",
      "48:\tlearn: 0.1322832\ttotal: 18.1s\tremaining: 369ms\n",
      "49:\tlearn: 0.1315815\ttotal: 18.4s\tremaining: 0us\n",
      "Learning rate set to 0.5\n",
      "0:\tlearn: 0.3449216\ttotal: 456ms\tremaining: 22.3s\n",
      "1:\tlearn: 0.2553922\ttotal: 849ms\tremaining: 20.4s\n",
      "2:\tlearn: 0.2305810\ttotal: 1.24s\tremaining: 19.4s\n",
      "3:\tlearn: 0.2191550\ttotal: 1.61s\tremaining: 18.6s\n",
      "4:\tlearn: 0.2085769\ttotal: 1.99s\tremaining: 17.9s\n",
      "5:\tlearn: 0.2012685\ttotal: 2.38s\tremaining: 17.4s\n",
      "6:\tlearn: 0.1962572\ttotal: 2.75s\tremaining: 16.9s\n",
      "7:\tlearn: 0.1918996\ttotal: 3.11s\tremaining: 16.4s\n",
      "8:\tlearn: 0.1862525\ttotal: 3.49s\tremaining: 15.9s\n",
      "9:\tlearn: 0.1827500\ttotal: 3.86s\tremaining: 15.4s\n",
      "10:\tlearn: 0.1802778\ttotal: 4.23s\tremaining: 15s\n",
      "11:\tlearn: 0.1772982\ttotal: 4.6s\tremaining: 14.6s\n",
      "12:\tlearn: 0.1743136\ttotal: 4.96s\tremaining: 14.1s\n",
      "13:\tlearn: 0.1720046\ttotal: 5.33s\tremaining: 13.7s\n",
      "14:\tlearn: 0.1697634\ttotal: 5.7s\tremaining: 13.3s\n",
      "15:\tlearn: 0.1681050\ttotal: 6.06s\tremaining: 12.9s\n",
      "16:\tlearn: 0.1657753\ttotal: 6.44s\tremaining: 12.5s\n",
      "17:\tlearn: 0.1641232\ttotal: 6.81s\tremaining: 12.1s\n",
      "18:\tlearn: 0.1623643\ttotal: 7.18s\tremaining: 11.7s\n",
      "19:\tlearn: 0.1599605\ttotal: 7.55s\tremaining: 11.3s\n",
      "20:\tlearn: 0.1581416\ttotal: 7.91s\tremaining: 10.9s\n",
      "21:\tlearn: 0.1569264\ttotal: 8.28s\tremaining: 10.5s\n",
      "22:\tlearn: 0.1550953\ttotal: 8.66s\tremaining: 10.2s\n",
      "23:\tlearn: 0.1539833\ttotal: 9.02s\tremaining: 9.77s\n",
      "24:\tlearn: 0.1527738\ttotal: 9.38s\tremaining: 9.38s\n",
      "25:\tlearn: 0.1514786\ttotal: 9.74s\tremaining: 8.99s\n",
      "26:\tlearn: 0.1500413\ttotal: 10.1s\tremaining: 8.62s\n",
      "27:\tlearn: 0.1489196\ttotal: 10.5s\tremaining: 8.24s\n",
      "28:\tlearn: 0.1478818\ttotal: 10.9s\tremaining: 7.87s\n",
      "29:\tlearn: 0.1467695\ttotal: 11.2s\tremaining: 7.5s\n",
      "30:\tlearn: 0.1457028\ttotal: 11.6s\tremaining: 7.12s\n",
      "31:\tlearn: 0.1447322\ttotal: 12s\tremaining: 6.74s\n",
      "32:\tlearn: 0.1438627\ttotal: 12.3s\tremaining: 6.36s\n",
      "33:\tlearn: 0.1428836\ttotal: 12.7s\tremaining: 5.98s\n",
      "34:\tlearn: 0.1422255\ttotal: 13.1s\tremaining: 5.6s\n",
      "35:\tlearn: 0.1414216\ttotal: 13.4s\tremaining: 5.22s\n",
      "36:\tlearn: 0.1403831\ttotal: 13.8s\tremaining: 4.85s\n",
      "37:\tlearn: 0.1398411\ttotal: 14.2s\tremaining: 4.47s\n",
      "38:\tlearn: 0.1391459\ttotal: 14.5s\tremaining: 4.09s\n",
      "39:\tlearn: 0.1380834\ttotal: 14.9s\tremaining: 3.72s\n",
      "40:\tlearn: 0.1371707\ttotal: 15.3s\tremaining: 3.35s\n",
      "41:\tlearn: 0.1361496\ttotal: 15.6s\tremaining: 2.98s\n",
      "42:\tlearn: 0.1356965\ttotal: 16s\tremaining: 2.6s\n",
      "43:\tlearn: 0.1349885\ttotal: 16.4s\tremaining: 2.23s\n",
      "44:\tlearn: 0.1341997\ttotal: 16.7s\tremaining: 1.86s\n",
      "45:\tlearn: 0.1336757\ttotal: 17.1s\tremaining: 1.49s\n",
      "46:\tlearn: 0.1329709\ttotal: 17.5s\tremaining: 1.11s\n",
      "47:\tlearn: 0.1324089\ttotal: 17.8s\tremaining: 743ms\n",
      "48:\tlearn: 0.1315934\ttotal: 18.2s\tremaining: 371ms\n",
      "49:\tlearn: 0.1309121\ttotal: 18.6s\tremaining: 0us\n",
      "Learning rate set to 0.5\n",
      "0:\tlearn: 0.3427896\ttotal: 380ms\tremaining: 18.6s\n",
      "1:\tlearn: 0.2551939\ttotal: 759ms\tremaining: 18.2s\n",
      "2:\tlearn: 0.2284414\ttotal: 1.14s\tremaining: 17.9s\n",
      "3:\tlearn: 0.2139706\ttotal: 1.52s\tremaining: 17.5s\n",
      "4:\tlearn: 0.2053862\ttotal: 1.89s\tremaining: 17.1s\n",
      "5:\tlearn: 0.2001047\ttotal: 2.27s\tremaining: 16.6s\n",
      "6:\tlearn: 0.1934534\ttotal: 2.65s\tremaining: 16.3s\n",
      "7:\tlearn: 0.1889165\ttotal: 3.02s\tremaining: 15.9s\n",
      "8:\tlearn: 0.1849308\ttotal: 3.4s\tremaining: 15.5s\n",
      "9:\tlearn: 0.1820856\ttotal: 3.77s\tremaining: 15.1s\n",
      "10:\tlearn: 0.1791003\ttotal: 4.14s\tremaining: 14.7s\n",
      "11:\tlearn: 0.1765112\ttotal: 4.53s\tremaining: 14.3s\n",
      "12:\tlearn: 0.1742896\ttotal: 4.9s\tremaining: 13.9s\n",
      "13:\tlearn: 0.1716892\ttotal: 5.27s\tremaining: 13.6s\n",
      "14:\tlearn: 0.1685013\ttotal: 5.66s\tremaining: 13.2s\n",
      "15:\tlearn: 0.1661382\ttotal: 6.03s\tremaining: 12.8s\n",
      "16:\tlearn: 0.1641524\ttotal: 6.4s\tremaining: 12.4s\n",
      "17:\tlearn: 0.1621989\ttotal: 6.76s\tremaining: 12s\n",
      "18:\tlearn: 0.1604751\ttotal: 7.13s\tremaining: 11.6s\n",
      "19:\tlearn: 0.1580462\ttotal: 7.5s\tremaining: 11.3s\n",
      "20:\tlearn: 0.1569709\ttotal: 7.87s\tremaining: 10.9s\n",
      "21:\tlearn: 0.1557567\ttotal: 8.24s\tremaining: 10.5s\n",
      "22:\tlearn: 0.1544664\ttotal: 8.62s\tremaining: 10.1s\n",
      "23:\tlearn: 0.1533325\ttotal: 8.99s\tremaining: 9.74s\n",
      "24:\tlearn: 0.1520888\ttotal: 9.35s\tremaining: 9.35s\n",
      "25:\tlearn: 0.1509978\ttotal: 9.71s\tremaining: 8.97s\n",
      "26:\tlearn: 0.1498605\ttotal: 10.1s\tremaining: 8.58s\n",
      "27:\tlearn: 0.1487702\ttotal: 10.4s\tremaining: 8.2s\n",
      "28:\tlearn: 0.1479029\ttotal: 10.8s\tremaining: 7.82s\n",
      "29:\tlearn: 0.1469358\ttotal: 11.2s\tremaining: 7.44s\n",
      "30:\tlearn: 0.1456699\ttotal: 11.5s\tremaining: 7.07s\n",
      "31:\tlearn: 0.1447216\ttotal: 11.9s\tremaining: 6.7s\n",
      "32:\tlearn: 0.1441064\ttotal: 12.3s\tremaining: 6.32s\n",
      "33:\tlearn: 0.1432511\ttotal: 12.6s\tremaining: 5.94s\n",
      "34:\tlearn: 0.1425173\ttotal: 13s\tremaining: 5.57s\n",
      "35:\tlearn: 0.1414140\ttotal: 13.4s\tremaining: 5.2s\n",
      "36:\tlearn: 0.1402142\ttotal: 13.7s\tremaining: 4.83s\n",
      "37:\tlearn: 0.1396432\ttotal: 14.1s\tremaining: 4.45s\n",
      "38:\tlearn: 0.1389500\ttotal: 14.5s\tremaining: 4.08s\n",
      "39:\tlearn: 0.1384496\ttotal: 14.8s\tremaining: 3.7s\n",
      "40:\tlearn: 0.1375912\ttotal: 15.2s\tremaining: 3.33s\n",
      "41:\tlearn: 0.1369689\ttotal: 15.5s\tremaining: 2.96s\n",
      "42:\tlearn: 0.1361684\ttotal: 15.9s\tremaining: 2.59s\n",
      "43:\tlearn: 0.1357494\ttotal: 16.3s\tremaining: 2.22s\n",
      "44:\tlearn: 0.1353887\ttotal: 16.6s\tremaining: 1.85s\n",
      "45:\tlearn: 0.1344790\ttotal: 17s\tremaining: 1.48s\n",
      "46:\tlearn: 0.1337747\ttotal: 17.4s\tremaining: 1.11s\n",
      "47:\tlearn: 0.1333026\ttotal: 17.7s\tremaining: 738ms\n",
      "48:\tlearn: 0.1325273\ttotal: 18.1s\tremaining: 369ms\n",
      "49:\tlearn: 0.1321268\ttotal: 18.5s\tremaining: 0us\n",
      "Learning rate set to 0.5\n",
      "0:\tlearn: 0.3422897\ttotal: 372ms\tremaining: 18.2s\n",
      "1:\tlearn: 0.2562449\ttotal: 750ms\tremaining: 18s\n",
      "2:\tlearn: 0.2303804\ttotal: 1.14s\tremaining: 17.8s\n",
      "3:\tlearn: 0.2191363\ttotal: 1.51s\tremaining: 17.4s\n",
      "4:\tlearn: 0.2077519\ttotal: 1.9s\tremaining: 17.1s\n",
      "5:\tlearn: 0.2015878\ttotal: 2.26s\tremaining: 16.6s\n",
      "6:\tlearn: 0.1966779\ttotal: 2.63s\tremaining: 16.1s\n",
      "7:\tlearn: 0.1928701\ttotal: 3.02s\tremaining: 15.8s\n",
      "8:\tlearn: 0.1890459\ttotal: 3.39s\tremaining: 15.5s\n",
      "9:\tlearn: 0.1842688\ttotal: 3.77s\tremaining: 15.1s\n",
      "10:\tlearn: 0.1816643\ttotal: 4.15s\tremaining: 14.7s\n",
      "11:\tlearn: 0.1789572\ttotal: 4.51s\tremaining: 14.3s\n",
      "12:\tlearn: 0.1762163\ttotal: 4.88s\tremaining: 13.9s\n",
      "13:\tlearn: 0.1737888\ttotal: 5.24s\tremaining: 13.5s\n",
      "14:\tlearn: 0.1709231\ttotal: 5.62s\tremaining: 13.1s\n",
      "15:\tlearn: 0.1684006\ttotal: 6s\tremaining: 12.7s\n",
      "16:\tlearn: 0.1662379\ttotal: 6.36s\tremaining: 12.3s\n",
      "17:\tlearn: 0.1641236\ttotal: 6.73s\tremaining: 12s\n",
      "18:\tlearn: 0.1626466\ttotal: 7.1s\tremaining: 11.6s\n",
      "19:\tlearn: 0.1608662\ttotal: 7.47s\tremaining: 11.2s\n",
      "20:\tlearn: 0.1595211\ttotal: 7.83s\tremaining: 10.8s\n",
      "21:\tlearn: 0.1582423\ttotal: 8.2s\tremaining: 10.4s\n",
      "22:\tlearn: 0.1566139\ttotal: 8.61s\tremaining: 10.1s\n",
      "23:\tlearn: 0.1552243\ttotal: 8.97s\tremaining: 9.72s\n",
      "24:\tlearn: 0.1539008\ttotal: 9.34s\tremaining: 9.34s\n",
      "25:\tlearn: 0.1526282\ttotal: 9.71s\tremaining: 8.96s\n",
      "26:\tlearn: 0.1515457\ttotal: 10.1s\tremaining: 8.58s\n",
      "27:\tlearn: 0.1499669\ttotal: 10.5s\tremaining: 8.21s\n",
      "28:\tlearn: 0.1490740\ttotal: 10.8s\tremaining: 7.83s\n",
      "29:\tlearn: 0.1479314\ttotal: 11.2s\tremaining: 7.46s\n",
      "30:\tlearn: 0.1468193\ttotal: 11.6s\tremaining: 7.08s\n",
      "31:\tlearn: 0.1457622\ttotal: 11.9s\tremaining: 6.71s\n",
      "32:\tlearn: 0.1450695\ttotal: 12.3s\tremaining: 6.33s\n",
      "33:\tlearn: 0.1442939\ttotal: 12.6s\tremaining: 5.95s\n",
      "34:\tlearn: 0.1434094\ttotal: 13s\tremaining: 5.57s\n",
      "35:\tlearn: 0.1421152\ttotal: 13.4s\tremaining: 5.21s\n",
      "36:\tlearn: 0.1412404\ttotal: 13.7s\tremaining: 4.83s\n",
      "37:\tlearn: 0.1403833\ttotal: 14.1s\tremaining: 4.46s\n",
      "38:\tlearn: 0.1392618\ttotal: 14.5s\tremaining: 4.09s\n",
      "39:\tlearn: 0.1385765\ttotal: 14.9s\tremaining: 3.71s\n",
      "40:\tlearn: 0.1378564\ttotal: 15.2s\tremaining: 3.34s\n",
      "41:\tlearn: 0.1373552\ttotal: 15.6s\tremaining: 2.97s\n",
      "42:\tlearn: 0.1368619\ttotal: 15.9s\tremaining: 2.59s\n",
      "43:\tlearn: 0.1360651\ttotal: 16.3s\tremaining: 2.22s\n",
      "44:\tlearn: 0.1352388\ttotal: 16.7s\tremaining: 1.85s\n",
      "45:\tlearn: 0.1346689\ttotal: 17s\tremaining: 1.48s\n",
      "46:\tlearn: 0.1338952\ttotal: 17.4s\tremaining: 1.11s\n",
      "47:\tlearn: 0.1335031\ttotal: 17.8s\tremaining: 740ms\n",
      "48:\tlearn: 0.1328889\ttotal: 18.1s\tremaining: 370ms\n",
      "49:\tlearn: 0.1320790\ttotal: 18.5s\tremaining: 0us\n",
      "Learning rate set to 0.5\n",
      "0:\tlearn: 0.3456040\ttotal: 426ms\tremaining: 20.9s\n",
      "1:\tlearn: 0.2568628\ttotal: 873ms\tremaining: 21s\n",
      "2:\tlearn: 0.2308577\ttotal: 1.32s\tremaining: 20.7s\n",
      "3:\tlearn: 0.2196563\ttotal: 1.75s\tremaining: 20.1s\n",
      "4:\tlearn: 0.2117175\ttotal: 2.19s\tremaining: 19.8s\n",
      "5:\tlearn: 0.2022271\ttotal: 2.63s\tremaining: 19.3s\n",
      "6:\tlearn: 0.1974721\ttotal: 3.05s\tremaining: 18.8s\n",
      "7:\tlearn: 0.1935380\ttotal: 3.48s\tremaining: 18.3s\n",
      "8:\tlearn: 0.1897662\ttotal: 3.9s\tremaining: 17.7s\n",
      "9:\tlearn: 0.1847664\ttotal: 4.33s\tremaining: 17.3s\n",
      "10:\tlearn: 0.1816231\ttotal: 4.76s\tremaining: 16.9s\n",
      "11:\tlearn: 0.1787419\ttotal: 5.2s\tremaining: 16.5s\n",
      "12:\tlearn: 0.1758033\ttotal: 5.62s\tremaining: 16s\n",
      "13:\tlearn: 0.1736021\ttotal: 6.04s\tremaining: 15.5s\n",
      "14:\tlearn: 0.1710855\ttotal: 6.46s\tremaining: 15.1s\n",
      "15:\tlearn: 0.1692451\ttotal: 6.88s\tremaining: 14.6s\n",
      "16:\tlearn: 0.1672479\ttotal: 7.3s\tremaining: 14.2s\n",
      "17:\tlearn: 0.1656430\ttotal: 7.72s\tremaining: 13.7s\n",
      "18:\tlearn: 0.1634219\ttotal: 8.15s\tremaining: 13.3s\n",
      "19:\tlearn: 0.1607337\ttotal: 8.57s\tremaining: 12.9s\n",
      "20:\tlearn: 0.1594653\ttotal: 8.99s\tremaining: 12.4s\n",
      "21:\tlearn: 0.1583194\ttotal: 9.42s\tremaining: 12s\n",
      "22:\tlearn: 0.1571282\ttotal: 9.85s\tremaining: 11.6s\n",
      "23:\tlearn: 0.1554021\ttotal: 10.3s\tremaining: 11.1s\n",
      "24:\tlearn: 0.1539891\ttotal: 10.7s\tremaining: 10.7s\n",
      "25:\tlearn: 0.1526436\ttotal: 11.1s\tremaining: 10.3s\n",
      "26:\tlearn: 0.1514828\ttotal: 11.6s\tremaining: 9.85s\n",
      "27:\tlearn: 0.1503891\ttotal: 12s\tremaining: 9.41s\n",
      "28:\tlearn: 0.1493219\ttotal: 12.4s\tremaining: 8.98s\n",
      "29:\tlearn: 0.1481238\ttotal: 12.8s\tremaining: 8.55s\n",
      "30:\tlearn: 0.1473794\ttotal: 13.2s\tremaining: 8.12s\n",
      "31:\tlearn: 0.1465600\ttotal: 13.7s\tremaining: 7.68s\n",
      "32:\tlearn: 0.1455790\ttotal: 14.1s\tremaining: 7.25s\n",
      "33:\tlearn: 0.1445804\ttotal: 14.5s\tremaining: 6.82s\n",
      "34:\tlearn: 0.1435060\ttotal: 14.9s\tremaining: 6.4s\n",
      "35:\tlearn: 0.1426235\ttotal: 15.3s\tremaining: 5.97s\n",
      "36:\tlearn: 0.1415726\ttotal: 15.8s\tremaining: 5.54s\n",
      "37:\tlearn: 0.1406013\ttotal: 16.2s\tremaining: 5.12s\n",
      "38:\tlearn: 0.1393035\ttotal: 16.7s\tremaining: 4.7s\n",
      "39:\tlearn: 0.1385148\ttotal: 17.1s\tremaining: 4.27s\n",
      "40:\tlearn: 0.1378672\ttotal: 17.5s\tremaining: 3.84s\n",
      "41:\tlearn: 0.1372181\ttotal: 17.9s\tremaining: 3.41s\n",
      "42:\tlearn: 0.1364933\ttotal: 18.3s\tremaining: 2.98s\n",
      "43:\tlearn: 0.1358865\ttotal: 18.8s\tremaining: 2.56s\n",
      "44:\tlearn: 0.1354406\ttotal: 19.2s\tremaining: 2.13s\n",
      "45:\tlearn: 0.1345963\ttotal: 19.6s\tremaining: 1.7s\n",
      "46:\tlearn: 0.1337290\ttotal: 20s\tremaining: 1.28s\n",
      "47:\tlearn: 0.1331303\ttotal: 20.4s\tremaining: 851ms\n",
      "48:\tlearn: 0.1327539\ttotal: 20.8s\tremaining: 425ms\n",
      "49:\tlearn: 0.1321162\ttotal: 21.3s\tremaining: 0us\n",
      "Лучший результат: 0.7255484543456935\n",
      "Лучшие параметры: {'model__depth': 6, 'model__iterations': 50}\n"
     ]
    }
   ],
   "source": [
    "cat_model = train(CatBoostClassifier(), {'model__depth': [4,6],'model__iterations': [50]})"
   ]
  },
  {
   "cell_type": "markdown",
   "metadata": {},
   "source": [
    "**Вывод:**\n",
    "* Модель LogisticRegression:\n",
    "    * Лучший результат: 0.7747885946004529\n",
    "    * Лучшие параметры: {'model__C': 10.0, 'model__penalty': 'l2'}\n",
    "* Модель SVC:\n",
    "    * Лучший результат: 0.7820610072388219\n",
    "    * Лучшие параметры: {'model__C': 1.0, 'model__penalty': 'l1'}\n",
    "* Модель DecisionTreeClassifier:\n",
    "    * Лучший результат: 0.561447971235285\n",
    "    * Лучшие параметры: {'model__max_depth': 6, 'model__min_samples_leaf': 1, 'model__min_samples_split': 2}\n",
    "* Модель CatBoost\n",
    "    * Лучший результат: 0.7255484543456935\n",
    "    * Лучшие параметры: {'model__depth': 6, 'model__iterations': 50}\n",
    "* Значение метрик у всех моделей кроме DT подходит по условию задачи, но выберем наилучшую модель для тестирования - SVC"
   ]
  },
  {
   "cell_type": "markdown",
   "metadata": {},
   "source": [
    "**Тестирование**"
   ]
  },
  {
   "cell_type": "code",
   "execution_count": 18,
   "metadata": {},
   "outputs": [
    {
     "name": "stdout",
     "output_type": "stream",
     "text": [
      "0.7908238219007797\n"
     ]
    }
   ],
   "source": [
    "res = f1_score(y_test, svc_model.predict(X_test['pred']))\n",
    "print(res)"
   ]
  },
  {
   "cell_type": "markdown",
   "metadata": {},
   "source": [
    "Итого модель SVC, показала лучшую метрику на обучении -  0.782, а на тестировании также набрала  0.79, что довольно хорошо"
   ]
  },
  {
   "cell_type": "markdown",
   "metadata": {},
   "source": [
    "## Выводы"
   ]
  },
  {
   "cell_type": "markdown",
   "metadata": {},
   "source": [
    "В ходе выполнения проекта были сделаны следующие шаги:\n",
    "* Загрузили и предобработали данные:\n",
    "    - Фрейм состоит из 159292 строк и 3 столбцов\n",
    "    - Пропуски отсутствуют\n",
    "    - Типы данных для столбцов соответствуют\n",
    "    - Явные дубликаты отсутствуют\n",
    "    - Удалили столбец unnamed:0, так как нам не нужен индексный столбец\n",
    "    - Данные очищены от лишних символов\n",
    "    - Данные лемматизированы и токенизированы\n",
    "    - Данные разбиты на выборки для обучения моделей\n",
    "* Обучили модели:\n",
    "    -  Написали функцию, которая позволит обучать модели с поиском оптимальных параметров\n",
    "    -  Получили такие результаты:\n",
    "        * Модель LogisticRegression:\n",
    "            * Лучший результат: 0.774574686341823\n",
    "            * Лучшие параметры: {'model__C': 10.0, 'model__penalty': 'l2'}\n",
    "        * Модель SVC:\n",
    "            * Лучший результат: 0.7889807618637914\n",
    "            * Лучшие параметры: {'model__C': 1.0, 'model__penalty': 'l1'}\n",
    "        * Модель DecisionTreeClassifier:\n",
    "            * Лучший результат: 0.5359419182089493\n",
    "            * Лучшие параметры: {'model__max_depth': 6, 'model__min_samples_leaf': 1, 'model__min_samples_split': 5}\n",
    "        * Модель CatBoost\n",
    "            * Лучший результат: 0.7295468508422724\n",
    "            * Лучшие параметры: {'model__depth': 6, 'model__iterations': 50}\n",
    "        * Значение метрик у всех моделей кроме DT подходит по условию задачи, но выберем наилучшую модель для тестирования - SVC\n",
    "    - Протестировали модель SVC и получили значение метрики 0.785 "
   ]
  }
 ],
 "metadata": {
  "kernelspec": {
   "display_name": "Python 3 (ipykernel)",
   "language": "python",
   "name": "python3"
  },
  "language_info": {
   "codemirror_mode": {
    "name": "ipython",
    "version": 3
   },
   "file_extension": ".py",
   "mimetype": "text/x-python",
   "name": "python",
   "nbconvert_exporter": "python",
   "pygments_lexer": "ipython3",
   "version": "3.9.5"
  },
  "toc": {
   "base_numbering": 1,
   "nav_menu": {},
   "number_sections": true,
   "sideBar": true,
   "skip_h1_title": true,
   "title_cell": "Содержание",
   "title_sidebar": "Contents",
   "toc_cell": true,
   "toc_position": {
    "height": "calc(100% - 180px)",
    "left": "10px",
    "top": "150px",
    "width": "302.391px"
   },
   "toc_section_display": true,
   "toc_window_display": false
  }
 },
 "nbformat": 4,
 "nbformat_minor": 4
}
