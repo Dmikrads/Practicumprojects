{
 "cells": [
  {
   "cell_type": "markdown",
   "metadata": {},
   "source": [
    "# Исследование объявлений о продаже квартир"
   ]
  },
  {
   "cell_type": "markdown",
   "metadata": {},
   "source": [
    "**Исходные данные** - данные сервиса «Яндекс.Недвижимость» (архив объявлений о продаже квартир в Санкт-Петербурге и соседних населённых пунктах за несколько лет)\n",
    "\n",
    "**Описание данных:**\n",
    "\n",
    "По каждой квартире на продажу доступны два вида данных. Первые вписаны пользователем, вторые — получены автоматически на основе картографических данных. Например, расстояние до центра, аэропорта, ближайшего парка и водоёма.\n",
    "* airports_nearest — расстояние до ближайшего аэропорта в метрах (м)\n",
    "* balcony — число балконов\n",
    "* ceiling_height — высота потолков (м)\n",
    "* cityCenters_nearest — расстояние до центра города (м)\n",
    "* days_exposition — сколько дней было размещено объявление (от публикации до снятия)\n",
    "* first_day_exposition — дата публикации\n",
    "* floor — этаж\n",
    "* floors_total — всего этажей в доме\n",
    "* is_apartment — апартаменты (булев тип)\n",
    "* kitchen_area — площадь кухни в квадратных метрах (м²)\n",
    "* last_price — цена на момент снятия с публикации\n",
    "* living_area — жилая площадь в квадратных метрах (м²)\n",
    "* locality_name — название населённого пункта\n",
    "* open_plan — свободная планировка (булев тип)\n",
    "* parks_around3000 — число парков в радиусе 3 км\n",
    "* parks_nearest — расстояние до ближайшего парка (м)\n",
    "* ponds_around3000 — число водоёмов в радиусе 3 км\n",
    "* ponds_nearest — расстояние до ближайшего водоёма (м)\n",
    "* rooms — число комнат\n",
    "* studio — квартира-студия (булев тип)\n",
    "* total_area — общая площадь квартиры в квадратных метрах (м²)\n",
    "* total_images — число фотографий квартиры в объявлении"
   ]
  },
  {
   "cell_type": "markdown",
   "metadata": {},
   "source": [
    "**Цель исследования** - установить параметры, влияющие на рыночную стоимость объектов недвижимости."
   ]
  },
  {
   "cell_type": "markdown",
   "metadata": {},
   "source": [
    "**План исследования:**\n",
    "* Изучить данные.\n",
    "* Выполнить предобработку данных.\n",
    "* Добавить в таблицу:\n",
    "    * Цена одного квадратного метра\n",
    "    * День недели публикации (0 - понедельник,1 - вторник и т.д.)\n",
    "    * Месяц публикации объявления\n",
    "    * Год публикации объявления\n",
    "    * Тип этажа квартиры (значения — «‎первый», «последний», «другой»)\n",
    "    * Расстояние до центра города в километрах \n",
    "* Провести исследовательский анализ данных\n",
    "    * Изучить параметры:\n",
    "      * общая площадь\n",
    "      *  жилая площадь\n",
    "      *  площадь кухни\n",
    "      *  цена объекта\n",
    "      *  количество комнат\n",
    "      *  высота потолков\n",
    "      *  тип этажа квартиры («первый», «последний», «другой»)\n",
    "      *  общее количество этажей в доме\n",
    "      *  расстояние до центра города в метрах\n",
    "      *  расстояние до ближайшего парка\n",
    "    * Изучить как быстро продавались квартиры\n",
    "    * Определить факторы, которые больше всего влияют на общую (полную) стоимость объекта\n",
    "    * Посчитать среднюю цену одного квадратного метра в 10 населённых пунктах с наибольшим числом объявлений\n",
    "    * Вычислить среднюю стоимость квартир в Санкт-Петербурге на разном удалении от центра\n",
    "* Сделать общий вывод  "
   ]
  },
  {
   "cell_type": "code",
   "execution_count": 7,
   "metadata": {
    "id": "7MZxY65pAwb9"
   },
   "outputs": [],
   "source": [
    "import pandas as pd\n",
    "import matplotlib.pyplot as plt\n",
    "import numpy as np\n",
    "data = pd.read_csv('/datasets/real_estate_data.csv',sep='\\t' )"
   ]
  },
  {
   "cell_type": "markdown",
   "metadata": {},
   "source": [
    "## Изучим общую информацию"
   ]
  },
  {
   "cell_type": "code",
   "execution_count": 8,
   "metadata": {},
   "outputs": [
    {
     "data": {
      "text/html": [
       "<div>\n",
       "<style scoped>\n",
       "    .dataframe tbody tr th:only-of-type {\n",
       "        vertical-align: middle;\n",
       "    }\n",
       "\n",
       "    .dataframe tbody tr th {\n",
       "        vertical-align: top;\n",
       "    }\n",
       "\n",
       "    .dataframe thead th {\n",
       "        text-align: right;\n",
       "    }\n",
       "</style>\n",
       "<table border=\"1\" class=\"dataframe\">\n",
       "  <thead>\n",
       "    <tr style=\"text-align: right;\">\n",
       "      <th></th>\n",
       "      <th>total_images</th>\n",
       "      <th>last_price</th>\n",
       "      <th>total_area</th>\n",
       "      <th>first_day_exposition</th>\n",
       "      <th>rooms</th>\n",
       "      <th>ceiling_height</th>\n",
       "      <th>floors_total</th>\n",
       "      <th>living_area</th>\n",
       "      <th>floor</th>\n",
       "      <th>is_apartment</th>\n",
       "      <th>...</th>\n",
       "      <th>kitchen_area</th>\n",
       "      <th>balcony</th>\n",
       "      <th>locality_name</th>\n",
       "      <th>airports_nearest</th>\n",
       "      <th>cityCenters_nearest</th>\n",
       "      <th>parks_around3000</th>\n",
       "      <th>parks_nearest</th>\n",
       "      <th>ponds_around3000</th>\n",
       "      <th>ponds_nearest</th>\n",
       "      <th>days_exposition</th>\n",
       "    </tr>\n",
       "  </thead>\n",
       "  <tbody>\n",
       "    <tr>\n",
       "      <th>0</th>\n",
       "      <td>20</td>\n",
       "      <td>13000000.0</td>\n",
       "      <td>108.0</td>\n",
       "      <td>2019-03-07T00:00:00</td>\n",
       "      <td>3</td>\n",
       "      <td>2.70</td>\n",
       "      <td>16.0</td>\n",
       "      <td>51.0</td>\n",
       "      <td>8</td>\n",
       "      <td>NaN</td>\n",
       "      <td>...</td>\n",
       "      <td>25.0</td>\n",
       "      <td>NaN</td>\n",
       "      <td>Санкт-Петербург</td>\n",
       "      <td>18863.0</td>\n",
       "      <td>16028.0</td>\n",
       "      <td>1.0</td>\n",
       "      <td>482.0</td>\n",
       "      <td>2.0</td>\n",
       "      <td>755.0</td>\n",
       "      <td>NaN</td>\n",
       "    </tr>\n",
       "    <tr>\n",
       "      <th>1</th>\n",
       "      <td>7</td>\n",
       "      <td>3350000.0</td>\n",
       "      <td>40.4</td>\n",
       "      <td>2018-12-04T00:00:00</td>\n",
       "      <td>1</td>\n",
       "      <td>NaN</td>\n",
       "      <td>11.0</td>\n",
       "      <td>18.6</td>\n",
       "      <td>1</td>\n",
       "      <td>NaN</td>\n",
       "      <td>...</td>\n",
       "      <td>11.0</td>\n",
       "      <td>2.0</td>\n",
       "      <td>посёлок Шушары</td>\n",
       "      <td>12817.0</td>\n",
       "      <td>18603.0</td>\n",
       "      <td>0.0</td>\n",
       "      <td>NaN</td>\n",
       "      <td>0.0</td>\n",
       "      <td>NaN</td>\n",
       "      <td>81.0</td>\n",
       "    </tr>\n",
       "    <tr>\n",
       "      <th>2</th>\n",
       "      <td>10</td>\n",
       "      <td>5196000.0</td>\n",
       "      <td>56.0</td>\n",
       "      <td>2015-08-20T00:00:00</td>\n",
       "      <td>2</td>\n",
       "      <td>NaN</td>\n",
       "      <td>5.0</td>\n",
       "      <td>34.3</td>\n",
       "      <td>4</td>\n",
       "      <td>NaN</td>\n",
       "      <td>...</td>\n",
       "      <td>8.3</td>\n",
       "      <td>0.0</td>\n",
       "      <td>Санкт-Петербург</td>\n",
       "      <td>21741.0</td>\n",
       "      <td>13933.0</td>\n",
       "      <td>1.0</td>\n",
       "      <td>90.0</td>\n",
       "      <td>2.0</td>\n",
       "      <td>574.0</td>\n",
       "      <td>558.0</td>\n",
       "    </tr>\n",
       "    <tr>\n",
       "      <th>3</th>\n",
       "      <td>0</td>\n",
       "      <td>64900000.0</td>\n",
       "      <td>159.0</td>\n",
       "      <td>2015-07-24T00:00:00</td>\n",
       "      <td>3</td>\n",
       "      <td>NaN</td>\n",
       "      <td>14.0</td>\n",
       "      <td>NaN</td>\n",
       "      <td>9</td>\n",
       "      <td>NaN</td>\n",
       "      <td>...</td>\n",
       "      <td>NaN</td>\n",
       "      <td>0.0</td>\n",
       "      <td>Санкт-Петербург</td>\n",
       "      <td>28098.0</td>\n",
       "      <td>6800.0</td>\n",
       "      <td>2.0</td>\n",
       "      <td>84.0</td>\n",
       "      <td>3.0</td>\n",
       "      <td>234.0</td>\n",
       "      <td>424.0</td>\n",
       "    </tr>\n",
       "    <tr>\n",
       "      <th>4</th>\n",
       "      <td>2</td>\n",
       "      <td>10000000.0</td>\n",
       "      <td>100.0</td>\n",
       "      <td>2018-06-19T00:00:00</td>\n",
       "      <td>2</td>\n",
       "      <td>3.03</td>\n",
       "      <td>14.0</td>\n",
       "      <td>32.0</td>\n",
       "      <td>13</td>\n",
       "      <td>NaN</td>\n",
       "      <td>...</td>\n",
       "      <td>41.0</td>\n",
       "      <td>NaN</td>\n",
       "      <td>Санкт-Петербург</td>\n",
       "      <td>31856.0</td>\n",
       "      <td>8098.0</td>\n",
       "      <td>2.0</td>\n",
       "      <td>112.0</td>\n",
       "      <td>1.0</td>\n",
       "      <td>48.0</td>\n",
       "      <td>121.0</td>\n",
       "    </tr>\n",
       "  </tbody>\n",
       "</table>\n",
       "<p>5 rows × 22 columns</p>\n",
       "</div>"
      ],
      "text/plain": [
       "   total_images  last_price  total_area first_day_exposition  rooms  \\\n",
       "0            20  13000000.0       108.0  2019-03-07T00:00:00      3   \n",
       "1             7   3350000.0        40.4  2018-12-04T00:00:00      1   \n",
       "2            10   5196000.0        56.0  2015-08-20T00:00:00      2   \n",
       "3             0  64900000.0       159.0  2015-07-24T00:00:00      3   \n",
       "4             2  10000000.0       100.0  2018-06-19T00:00:00      2   \n",
       "\n",
       "   ceiling_height  floors_total  living_area  floor is_apartment  ...  \\\n",
       "0            2.70          16.0         51.0      8          NaN  ...   \n",
       "1             NaN          11.0         18.6      1          NaN  ...   \n",
       "2             NaN           5.0         34.3      4          NaN  ...   \n",
       "3             NaN          14.0          NaN      9          NaN  ...   \n",
       "4            3.03          14.0         32.0     13          NaN  ...   \n",
       "\n",
       "   kitchen_area  balcony    locality_name  airports_nearest  \\\n",
       "0          25.0      NaN  Санкт-Петербург           18863.0   \n",
       "1          11.0      2.0   посёлок Шушары           12817.0   \n",
       "2           8.3      0.0  Санкт-Петербург           21741.0   \n",
       "3           NaN      0.0  Санкт-Петербург           28098.0   \n",
       "4          41.0      NaN  Санкт-Петербург           31856.0   \n",
       "\n",
       "  cityCenters_nearest  parks_around3000  parks_nearest  ponds_around3000  \\\n",
       "0             16028.0               1.0          482.0               2.0   \n",
       "1             18603.0               0.0            NaN               0.0   \n",
       "2             13933.0               1.0           90.0               2.0   \n",
       "3              6800.0               2.0           84.0               3.0   \n",
       "4              8098.0               2.0          112.0               1.0   \n",
       "\n",
       "   ponds_nearest  days_exposition  \n",
       "0          755.0              NaN  \n",
       "1            NaN             81.0  \n",
       "2          574.0            558.0  \n",
       "3          234.0            424.0  \n",
       "4           48.0            121.0  \n",
       "\n",
       "[5 rows x 22 columns]"
      ]
     },
     "execution_count": 8,
     "metadata": {},
     "output_type": "execute_result"
    }
   ],
   "source": [
    "data.head() "
   ]
  },
  {
   "cell_type": "markdown",
   "metadata": {},
   "source": [
    "Посмотрим на данные поближе"
   ]
  },
  {
   "cell_type": "code",
   "execution_count": 9,
   "metadata": {
    "scrolled": false
   },
   "outputs": [
    {
     "name": "stdout",
     "output_type": "stream",
     "text": [
      "<class 'pandas.core.frame.DataFrame'>\n",
      "RangeIndex: 23699 entries, 0 to 23698\n",
      "Data columns (total 22 columns):\n",
      " #   Column                Non-Null Count  Dtype  \n",
      "---  ------                --------------  -----  \n",
      " 0   total_images          23699 non-null  int64  \n",
      " 1   last_price            23699 non-null  float64\n",
      " 2   total_area            23699 non-null  float64\n",
      " 3   first_day_exposition  23699 non-null  object \n",
      " 4   rooms                 23699 non-null  int64  \n",
      " 5   ceiling_height        14504 non-null  float64\n",
      " 6   floors_total          23613 non-null  float64\n",
      " 7   living_area           21796 non-null  float64\n",
      " 8   floor                 23699 non-null  int64  \n",
      " 9   is_apartment          2775 non-null   object \n",
      " 10  studio                23699 non-null  bool   \n",
      " 11  open_plan             23699 non-null  bool   \n",
      " 12  kitchen_area          21421 non-null  float64\n",
      " 13  balcony               12180 non-null  float64\n",
      " 14  locality_name         23650 non-null  object \n",
      " 15  airports_nearest      18157 non-null  float64\n",
      " 16  cityCenters_nearest   18180 non-null  float64\n",
      " 17  parks_around3000      18181 non-null  float64\n",
      " 18  parks_nearest         8079 non-null   float64\n",
      " 19  ponds_around3000      18181 non-null  float64\n",
      " 20  ponds_nearest         9110 non-null   float64\n",
      " 21  days_exposition       20518 non-null  float64\n",
      "dtypes: bool(2), float64(14), int64(3), object(3)\n",
      "memory usage: 3.7+ MB\n"
     ]
    },
    {
     "data": {
      "text/plain": [
       "(23699, 22)"
      ]
     },
     "execution_count": 9,
     "metadata": {},
     "output_type": "execute_result"
    }
   ],
   "source": [
    "data.info()\n",
    "data.shape "
   ]
  },
  {
   "cell_type": "markdown",
   "metadata": {},
   "source": [
    "Проверим данные на пропуски"
   ]
  },
  {
   "cell_type": "code",
   "execution_count": 10,
   "metadata": {},
   "outputs": [
    {
     "name": "stdout",
     "output_type": "stream",
     "text": [
      "is_apartment            88.290645\n",
      "parks_nearest           65.909954\n",
      "ponds_nearest           61.559559\n",
      "balcony                 48.605426\n",
      "ceiling_height          38.799105\n",
      "airports_nearest        23.384953\n",
      "cityCenters_nearest     23.287902\n",
      "ponds_around3000        23.283683\n",
      "parks_around3000        23.283683\n",
      "days_exposition         13.422507\n",
      "kitchen_area             9.612220\n",
      "living_area              8.029875\n",
      "floors_total             0.362885\n",
      "locality_name            0.206760\n",
      "total_images             0.000000\n",
      "last_price               0.000000\n",
      "studio                   0.000000\n",
      "floor                    0.000000\n",
      "rooms                    0.000000\n",
      "first_day_exposition     0.000000\n",
      "total_area               0.000000\n",
      "open_plan                0.000000\n",
      "dtype: float64\n",
      "\n",
      "2278\n"
     ]
    }
   ],
   "source": [
    "#Изучим доли пропусков\n",
    "print((data.isna().mean()*100).sort_values(ascending=False))\n",
    "print()\n",
    "print(data['kitchen_area'].isna().sum())"
   ]
  },
  {
   "cell_type": "markdown",
   "metadata": {},
   "source": [
    "Проверим данные на явные дубликаты"
   ]
  },
  {
   "cell_type": "code",
   "execution_count": 11,
   "metadata": {},
   "outputs": [
    {
     "name": "stdout",
     "output_type": "stream",
     "text": [
      "Количество явных дубликатов: 0\n"
     ]
    }
   ],
   "source": [
    "print('Количество явных дубликатов:',data.duplicated().sum())"
   ]
  },
  {
   "cell_type": "markdown",
   "metadata": {},
   "source": [
    "Построим гистограммы для всех числовых столбцов таблицы"
   ]
  },
  {
   "cell_type": "code",
   "execution_count": 12,
   "metadata": {},
   "outputs": [
    {
     "data": {
      "text/plain": [
       "array([[<AxesSubplot:title={'center':'total_images'}>,\n",
       "        <AxesSubplot:title={'center':'last_price'}>,\n",
       "        <AxesSubplot:title={'center':'total_area'}>,\n",
       "        <AxesSubplot:title={'center':'rooms'}>],\n",
       "       [<AxesSubplot:title={'center':'ceiling_height'}>,\n",
       "        <AxesSubplot:title={'center':'floors_total'}>,\n",
       "        <AxesSubplot:title={'center':'living_area'}>,\n",
       "        <AxesSubplot:title={'center':'floor'}>],\n",
       "       [<AxesSubplot:title={'center':'kitchen_area'}>,\n",
       "        <AxesSubplot:title={'center':'balcony'}>,\n",
       "        <AxesSubplot:title={'center':'airports_nearest'}>,\n",
       "        <AxesSubplot:title={'center':'cityCenters_nearest'}>],\n",
       "       [<AxesSubplot:title={'center':'parks_around3000'}>,\n",
       "        <AxesSubplot:title={'center':'parks_nearest'}>,\n",
       "        <AxesSubplot:title={'center':'ponds_around3000'}>,\n",
       "        <AxesSubplot:title={'center':'ponds_nearest'}>],\n",
       "       [<AxesSubplot:title={'center':'days_exposition'}>, <AxesSubplot:>,\n",
       "        <AxesSubplot:>, <AxesSubplot:>]], dtype=object)"
      ]
     },
     "execution_count": 12,
     "metadata": {},
     "output_type": "execute_result"
    },
    {
     "data": {
      "image/png": "[encoded data removed]",
      "text/plain": [
       "<Figure size 936x1008 with 20 Axes>"
      ]
     },
     "metadata": {
      "needs_background": "light"
     },
     "output_type": "display_data"
    }
   ],
   "source": [
    "data.hist(figsize=(13,14))"
   ]
  },
  {
   "cell_type": "markdown",
   "metadata": {},
   "source": [
    "Таблица с данными состоит из 23698 строк и 22 столбцов,при этом целочисленный формат int64 имеет 3 столбца,float64 - 14 столбцов, bool - 2 столбца, object - 3 столбца\n",
    "\n",
    "По итогу первого анализа выявлено:\n",
    "* Столбцы cityCenters_nearest, parks_around3000, ponds_around3000 необходимо переписать в змеином регистре.\n",
    "* Явные дубликаты отсутствуют.\n",
    "* Тип данных столбца *first_day_exposition* необходимо обратить в объект date,столбцы: *floors_total*,*balcony* и *living_area* должны быть целочисленного формата(int64),а столбец *is_apartment* должен быть типа bool.\n",
    "* В датафрейме есть пропуски, которые могут быть вызваны и 'человеческим фактором' и технической ошибкой,так например, в столбце *airports_nearest* есть пропуски,хотя эти значения брались на основе картографических данных геосервисов. Также в данных присутствуют пропуски в столбцах,которые заполнял сам пользователь.\n",
    "* Благодаря гистограмам, можно сказать что данные не особо качественные, так в гистограмме столбца *rooms* есть квартиры в которых 0 комнат,нужно будет перепроверить данные\n",
    "\n",
    "Разберем что за столбцы и какую информацию они в себя включают:\n",
    "* *total_images* - число фотографий квартиры;\n",
    "* *total_area* - общая площадь квартиры в кв.м.;\n",
    "* *first_day_exposition* - дата публикации;\n",
    "* *rooms* - число комнат в квартире;\n",
    "* *ceiling_height* - высота потолков в метрах;\n",
    "* *floors_total* - количество этажей в доме;\n",
    "* *living_area* - жилая площадь в кв.м.;\n",
    "* *floor* - этаж;\n",
    "* *is_apartment* - аппартаменты;\n",
    "* *studio* - студия;\n",
    "* *open_plan* - свободная планировка;\n",
    "* *kitchen_area* - площадь кухни в кв.м.;\n",
    "* *balcony* - количество балконов;\n",
    "* *locality_name* - название населенного пункта;\n",
    "* *airports_nearest* - расстояние до ближайшего аэропорта в метрах;\n",
    "* *cityCenters_nearest* - расстояние до центра города в метрах;\n",
    "* *parks_around3000* - число парков в радиусе 3 км;\n",
    "* *parks_nearest* — расстояние до ближайшего парка в метрах;\n",
    "* *ponds_around3000* — число водоёмов в радиусе 3 км;\n",
    "* *ponds_nearest* — расстояние до ближайшего водоёма (м);\n",
    "* *days_exposition* — сколько дней было размещено объявление.\n",
    "\n",
    "\n",
    "\n",
    "  "
   ]
  },
  {
   "cell_type": "markdown",
   "metadata": {
    "id": "-O5NtivEAwb9"
   },
   "source": [
    "## Выполните предобработку данных"
   ]
  },
  {
   "cell_type": "markdown",
   "metadata": {},
   "source": [
    "### Сделаем змеиный регистр в столбцах "
   ]
  },
  {
   "cell_type": "code",
   "execution_count": 13,
   "metadata": {
    "id": "7v3vAeTuAwb-"
   },
   "outputs": [],
   "source": [
    "#Поменяем в змеиный регистр\n",
    "data = data.rename(columns={'cityCenters_nearest':'city_centers_nearest'})\n",
    "data = data.rename(columns={'parks_around3000':'parks_around_3000'})\n",
    "data = data.rename(columns={'ponds_around3000':'ponds_around_3000'})"
   ]
  },
  {
   "cell_type": "markdown",
   "metadata": {},
   "source": [
    "**Заполним пропуски для ceiling_height медианным значением,что поможет избежать влияния выбросов**"
   ]
  },
  {
   "cell_type": "code",
   "execution_count": 14,
   "metadata": {},
   "outputs": [
    {
     "data": {
      "text/plain": [
       "22590      1.00\n",
       "5712       1.20\n",
       "16934      1.75\n",
       "20520      2.00\n",
       "552        2.00\n",
       "          ...  \n",
       "20478     27.00\n",
       "21377     27.50\n",
       "3148      32.00\n",
       "22336     32.00\n",
       "22869    100.00\n",
       "Name: ceiling_height, Length: 23699, dtype: float64"
      ]
     },
     "execution_count": 14,
     "metadata": {},
     "output_type": "execute_result"
    }
   ],
   "source": [
    "#Заполним пропуски для ceiling_height\n",
    "data['ceiling_height']=data['ceiling_height'].fillna(data['ceiling_height'].median())\n",
    "data['ceiling_height'].sort_values()"
   ]
  },
  {
   "cell_type": "markdown",
   "metadata": {},
   "source": [
    "*Присутствуют явные ошибки при замене,запятая сместилась,скорректируем данные*"
   ]
  },
  {
   "cell_type": "code",
   "execution_count": 15,
   "metadata": {},
   "outputs": [
    {
     "name": "stdout",
     "output_type": "stream",
     "text": [
      "22309    10.30\n",
      "22869    10.00\n",
      "5863      8.30\n",
      "17442     8.00\n",
      "3474      8.00\n",
      "         ...  \n",
      "20520     2.00\n",
      "16934     1.75\n",
      "15061     1.40\n",
      "5712      1.20\n",
      "22590     1.00\n",
      "Name: ceiling_height, Length: 23699, dtype: float64\n",
      "Количество пропусков: 0\n"
     ]
    }
   ],
   "source": [
    "data.loc[data['ceiling_height']>=13 ,'ceiling_height'] = data['ceiling_height']/10\n",
    "print(data['ceiling_height'].sort_values(ascending=False))\n",
    "print('Количество пропусков:',data['ceiling_height'].isna().sum())"
   ]
  },
  {
   "cell_type": "markdown",
   "metadata": {},
   "source": [
    "**Заполним пропуски для столбца floors_total**"
   ]
  },
  {
   "cell_type": "markdown",
   "metadata": {},
   "source": [
    "Сделаем функцию и применем ее к столбцу floors_total для точного заполнения пропущенных значений,медианное значение не подходит,так как может получится так,что квартира находится на этаже,которого нет в доме. Будем использователь столбец floor"
   ]
  },
  {
   "cell_type": "code",
   "execution_count": 16,
   "metadata": {},
   "outputs": [
    {
     "name": "stdout",
     "output_type": "stream",
     "text": [
      "Количество пропусков в столбце floors_total: 0\n"
     ]
    }
   ],
   "source": [
    "# Если значение floors_total больше или равно 0, функция будет возвращать 0\n",
    "def floors_total(i):\n",
    "    if i['floors_total'] >= 0:\n",
    "        return 0\n",
    "    else:\n",
    "        return data[data['floor'] == i['floor']]['floors_total'].median() # Если значение меньше 0, функция ищет медиану floors_total для всех строк, где значение в столбце floor совпадает с текущим значением floor в строке. Это позволяет заполнить пропуски медианой по этажам.\n",
    "data['func'] = data.apply(floors_total, axis=1) # Применим функцию и сохраним в новом столбце\n",
    "data['floors_total'] = data['floors_total'].fillna(0) #На этом этапе заполним пропуски нулями,после изменим\n",
    "data['floors_total'] = (data['func'] + data['floors_total']).astype('int') # Добавим значения из ранее добавленного столбца, а после преобразуем в int64\n",
    "data.drop('func', axis=1, inplace=True) #Удалим столбец\n",
    "print('Количество пропусков в столбце floors_total:',data['floors_total'].isna().sum())"
   ]
  },
  {
   "cell_type": "markdown",
   "metadata": {},
   "source": [
    "**Заполним пропуски для столбца living_area**"
   ]
  },
  {
   "cell_type": "markdown",
   "metadata": {},
   "source": [
    "Сгруппируем данные по количеству комнат,а после рассчитаем среднюю площадь для каждой группы,в итоге заполним этим значением жилую площадь"
   ]
  },
  {
   "cell_type": "code",
   "execution_count": 17,
   "metadata": {},
   "outputs": [
    {
     "name": "stdout",
     "output_type": "stream",
     "text": [
      "Количество пропусков: 0\n"
     ]
    }
   ],
   "source": [
    "#группировка по кол-ву комнат\n",
    "mean_living_area_by_rooms = data.groupby('rooms')['living_area'].mean()\n",
    "\n",
    "# Функция для заполнения пустых значений\n",
    "def fill_living_area(row):\n",
    "    if pd.isna(row['living_area']):\n",
    "        return mean_living_area_by_rooms[row['rooms']]\n",
    "    return row['living_area']\n",
    "#Применим функцию\n",
    "data['living_area'] = data.apply(fill_living_area, axis=1)\n",
    "print('Количество пропусков:',data['living_area'].isna().sum())"
   ]
  },
  {
   "cell_type": "markdown",
   "metadata": {},
   "source": [
    "Проверим,не превышает ли сумма кухонной и жилой площади, всю площадь квартиры."
   ]
  },
  {
   "cell_type": "code",
   "execution_count": 18,
   "metadata": {},
   "outputs": [
    {
     "name": "stdout",
     "output_type": "stream",
     "text": [
      "Не превышает ли сумма кухонной и жилой площади, всю площадь: True\n"
     ]
    }
   ],
   "source": [
    "data['check'] = (data['kitchen_area'] + data['living_area']) > data['total_area']\n",
    "all_false = data['check'].all() == False\n",
    "print('Не превышает ли сумма кухонной и жилой площади, всю площадь:',all_false)\n",
    "data.drop('check', axis=1, inplace=True)"
   ]
  },
  {
   "cell_type": "markdown",
   "metadata": {},
   "source": [
    "Заполнить пропуски для столбца kitchen_area невозможно. Данных недостаточно для заполнения никаким из способов. Взаимосвязь жилой площади и общей площади,конечно,имеется,но стоит учитывать что нет информации по объектам,которые не входят в жилую площадь,например сан.узел,гардеробные и коридоры.\n",
    "\n",
    "**Хорошим решением будет заполнить пропуски значением 0,например,может быть пользователь не заполнил значение из-за того что,его квартира - студия**"
   ]
  },
  {
   "cell_type": "code",
   "execution_count": 19,
   "metadata": {},
   "outputs": [
    {
     "name": "stdout",
     "output_type": "stream",
     "text": [
      "Коэффицент корреляции: 0.42448339897424375\n",
      "Коэффицент корреляции: 0.6091211711198318\n"
     ]
    }
   ],
   "source": [
    "print('Коэффицент корреляции:',data['kitchen_area'].corr(data['living_area']))\n",
    "print('Коэффицент корреляции:',data['kitchen_area'].corr(data['total_area']))"
   ]
  },
  {
   "cell_type": "markdown",
   "metadata": {},
   "source": [
    "Посмотрим сколько строк, где значение kitchen_area будет равно 0,а квартира - True"
   ]
  },
  {
   "cell_type": "code",
   "execution_count": 20,
   "metadata": {},
   "outputs": [
    {
     "name": "stdout",
     "output_type": "stream",
     "text": [
      "149\n"
     ]
    }
   ],
   "source": [
    "filtered_rows = data[(data['kitchen_area'].isnull()) & (data['studio'] == True)]\n",
    "# Подсчет количества таких строк\n",
    "count = filtered_rows.shape[0]\n",
    "print(count)"
   ]
  },
  {
   "cell_type": "markdown",
   "metadata": {},
   "source": [
    "Гипотеза подтвердилась,зависимость между этими значениями имеется. Конечно,таких значений мало по сравнению с общим количеством пропуском,но нам ничего не остается как заполнить пропуски нулями."
   ]
  },
  {
   "cell_type": "code",
   "execution_count": 21,
   "metadata": {},
   "outputs": [
    {
     "name": "stdout",
     "output_type": "stream",
     "text": [
      "Количество пропусков: 0\n"
     ]
    }
   ],
   "source": [
    "data['kitchen_area']=data['kitchen_area'].fillna(0)\n",
    "print('Количество пропусков:',data['kitchen_area'].isna().sum())"
   ]
  },
  {
   "cell_type": "markdown",
   "metadata": {},
   "source": [
    "**Заполним пропуски для столбца is_apartment**"
   ]
  },
  {
   "cell_type": "code",
   "execution_count": 22,
   "metadata": {},
   "outputs": [
    {
     "name": "stdout",
     "output_type": "stream",
     "text": [
      "Количество False: 2725\n",
      "Количество True: 50\n"
     ]
    }
   ],
   "source": [
    "#Найдем количествол значений False для дальнешего анализа\n",
    "print('Количество False:',(data['is_apartment']==False).sum())\n",
    "print('Количество True:',(data['is_apartment']==True).sum())"
   ]
  },
  {
   "cell_type": "markdown",
   "metadata": {},
   "source": [
    "Замена пропусков будет осуществляться на значение False,так как, большинство значений - False и скорее всего пользователь просто не заполнял столбец."
   ]
  },
  {
   "cell_type": "code",
   "execution_count": 23,
   "metadata": {},
   "outputs": [
    {
     "name": "stdout",
     "output_type": "stream",
     "text": [
      "Количество пропусков: 0\n"
     ]
    }
   ],
   "source": [
    "data['is_apartment']= data['is_apartment'].fillna(False)\n",
    "print('Количество пропусков:',data['is_apartment'].isna().sum())"
   ]
  },
  {
   "cell_type": "markdown",
   "metadata": {},
   "source": [
    "**Заполним пропуски для столбца balcony**"
   ]
  },
  {
   "cell_type": "markdown",
   "metadata": {},
   "source": [
    "Замена пропусков будет осуществляться на значение 0,так как,скорее всего пользователь, у которого нет балкона, просто не заполнял столбец."
   ]
  },
  {
   "cell_type": "code",
   "execution_count": 24,
   "metadata": {},
   "outputs": [
    {
     "name": "stdout",
     "output_type": "stream",
     "text": [
      "Количество пропусков: 0\n"
     ]
    }
   ],
   "source": [
    "data['balcony']=data['balcony'].fillna(0)\n",
    "print('Количество пропусков:',data['balcony'].isna().sum())"
   ]
  },
  {
   "cell_type": "markdown",
   "metadata": {},
   "source": [
    "**Заполним пропуски в locality_name**"
   ]
  },
  {
   "cell_type": "markdown",
   "metadata": {},
   "source": [
    "Пропущенные значения следует убрать, в связи с тем,что нет никакой информации и связи с другими столбцами,при этом медианное или среднее значение может неправильно повлиять на данные."
   ]
  },
  {
   "cell_type": "code",
   "execution_count": 25,
   "metadata": {},
   "outputs": [
    {
     "name": "stdout",
     "output_type": "stream",
     "text": [
      "Количество пропусков: 0\n"
     ]
    }
   ],
   "source": [
    "data = data.dropna(subset=['locality_name'])\n",
    "print('Количество пропусков:',data['locality_name'].isna().sum())"
   ]
  },
  {
   "cell_type": "markdown",
   "metadata": {},
   "source": [
    "**Заполним пропуски в столбцах city_center_nearest,airports_nearest,parks_around3000,ponds_around3000,parks_nearest,ponds_nearest,days_exposition**"
   ]
  },
  {
   "cell_type": "markdown",
   "metadata": {},
   "source": [
    "В данных столбцах пропуски в значениях скорее всего связаны с самими картографическими данными и означают что объекта либо нет рядом либо он находится слишком далеко.\n",
    "\n",
    "**Учитывая эти выводы,оставим данные неизменными**\n",
    "\n",
    "Незаполненные пропуски в days_exposition скорее всего указывают, что объект не продан."
   ]
  },
  {
   "cell_type": "markdown",
   "metadata": {},
   "source": [
    "### Изменим тип данных для каждого столбца"
   ]
  },
  {
   "cell_type": "code",
   "execution_count": 26,
   "metadata": {},
   "outputs": [],
   "source": [
    "data[['floors_total', 'balcony', 'living_area']] = data[['floors_total', 'balcony', 'living_area']].astype('int64')"
   ]
  },
  {
   "cell_type": "code",
   "execution_count": 27,
   "metadata": {},
   "outputs": [],
   "source": [
    "data['first_day_exposition'] = pd.to_datetime(data['first_day_exposition'])"
   ]
  },
  {
   "cell_type": "code",
   "execution_count": 28,
   "metadata": {},
   "outputs": [],
   "source": [
    "data['is_apartment'] = data['is_apartment'].astype('bool')"
   ]
  },
  {
   "cell_type": "markdown",
   "metadata": {},
   "source": [
    "### Найдем неявные дубликаты и устраним их"
   ]
  },
  {
   "cell_type": "markdown",
   "metadata": {},
   "source": [
    "**Рассмотрим уникальные значения**"
   ]
  },
  {
   "cell_type": "code",
   "execution_count": 29,
   "metadata": {},
   "outputs": [
    {
     "data": {
      "text/plain": [
       "array(['Санкт-Петербург', 'посёлок Шушары', 'городской посёлок Янино-1',\n",
       "       'посёлок Парголово', 'посёлок Мурино', 'Ломоносов', 'Сертолово',\n",
       "       'Петергоф', 'Пушкин', 'деревня Кудрово', 'Коммунар', 'Колпино',\n",
       "       'поселок городского типа Красный Бор', 'Гатчина', 'поселок Мурино',\n",
       "       'деревня Фёдоровское', 'Выборг', 'Кронштадт', 'Кировск',\n",
       "       'деревня Новое Девяткино', 'посёлок Металлострой',\n",
       "       'посёлок городского типа Лебяжье',\n",
       "       'посёлок городского типа Сиверский', 'поселок Молодцово',\n",
       "       'поселок городского типа Кузьмоловский',\n",
       "       'садовое товарищество Новая Ропша', 'Павловск',\n",
       "       'деревня Пикколово', 'Всеволожск', 'Волхов', 'Кингисепп',\n",
       "       'Приозерск', 'Сестрорецк', 'деревня Куттузи', 'посёлок Аннино',\n",
       "       'поселок городского типа Ефимовский', 'посёлок Плодовое',\n",
       "       'деревня Заклинье', 'поселок Торковичи', 'поселок Первомайское',\n",
       "       'Красное Село', 'посёлок Понтонный', 'Сясьстрой', 'деревня Старая',\n",
       "       'деревня Лесколово', 'посёлок Новый Свет', 'Сланцы',\n",
       "       'село Путилово', 'Ивангород', 'Мурино', 'Шлиссельбург',\n",
       "       'Никольское', 'Зеленогорск', 'Сосновый Бор', 'поселок Новый Свет',\n",
       "       'деревня Оржицы', 'деревня Кальтино', 'Кудрово',\n",
       "       'поселок Романовка', 'посёлок Бугры', 'поселок Бугры',\n",
       "       'поселок городского типа Рощино', 'Кириши', 'Луга', 'Волосово',\n",
       "       'Отрадное', 'село Павлово', 'поселок Оредеж', 'село Копорье',\n",
       "       'посёлок городского типа Красный Бор', 'посёлок Молодёжное',\n",
       "       'Тихвин', 'посёлок Победа', 'деревня Нурма',\n",
       "       'поселок городского типа Синявино', 'Тосно',\n",
       "       'посёлок городского типа Кузьмоловский', 'посёлок Стрельна',\n",
       "       'Бокситогорск', 'посёлок Александровская', 'деревня Лопухинка',\n",
       "       'Пикалёво', 'поселок Терволово',\n",
       "       'поселок городского типа Советский', 'Подпорожье',\n",
       "       'посёлок Петровское', 'посёлок городского типа Токсово',\n",
       "       'поселок Сельцо', 'посёлок городского типа Вырица',\n",
       "       'деревня Кипень', 'деревня Келози', 'деревня Вартемяги',\n",
       "       'посёлок Тельмана', 'поселок Севастьяново',\n",
       "       'городской поселок Большая Ижора', 'городской посёлок Павлово',\n",
       "       'деревня Агалатово', 'посёлок Новогорелово',\n",
       "       'городской посёлок Лесогорский', 'деревня Лаголово',\n",
       "       'поселок Цвелодубово', 'поселок городского типа Рахья',\n",
       "       'поселок городского типа Вырица', 'деревня Белогорка',\n",
       "       'поселок Заводской', 'городской посёлок Новоселье',\n",
       "       'деревня Большие Колпаны', 'деревня Горбунки', 'деревня Батово',\n",
       "       'деревня Заневка', 'деревня Иссад', 'Приморск',\n",
       "       'городской посёлок Фёдоровское', 'деревня Мистолово',\n",
       "       'Новая Ладога', 'поселок Зимитицы', 'поселок Барышево',\n",
       "       'деревня Разметелево', 'поселок городского типа имени Свердлова',\n",
       "       'деревня Пеники', 'поселок Рябово', 'деревня Пудомяги',\n",
       "       'поселок станции Корнево', 'деревня Низино', 'деревня Бегуницы',\n",
       "       'посёлок Поляны', 'городской посёлок Мга', 'поселок Елизаветино',\n",
       "       'посёлок городского типа Кузнечное', 'деревня Колтуши',\n",
       "       'поселок Запорожское', 'посёлок городского типа Рощино',\n",
       "       'деревня Гостилицы', 'деревня Малое Карлино',\n",
       "       'посёлок Мичуринское', 'посёлок городского типа имени Морозова',\n",
       "       'посёлок Песочный', 'посёлок Сосново', 'деревня Аро',\n",
       "       'поселок Ильичёво', 'посёлок городского типа Тайцы',\n",
       "       'деревня Малое Верево', 'деревня Извара', 'поселок станции Вещево',\n",
       "       'село Паша', 'деревня Калитино',\n",
       "       'посёлок городского типа Ульяновка', 'деревня Чудской Бор',\n",
       "       'поселок городского типа Дубровка', 'деревня Мины',\n",
       "       'поселок Войсковицы', 'посёлок городского типа имени Свердлова',\n",
       "       'деревня Коркино', 'посёлок Ропша',\n",
       "       'поселок городского типа Приладожский', 'посёлок Щеглово',\n",
       "       'посёлок Гаврилово', 'Лодейное Поле', 'деревня Рабитицы',\n",
       "       'поселок городского типа Никольский', 'деревня Кузьмолово',\n",
       "       'деревня Малые Колпаны', 'поселок Тельмана',\n",
       "       'посёлок Петро-Славянка', 'городской посёлок Назия',\n",
       "       'посёлок Репино', 'посёлок Ильичёво', 'поселок Углово',\n",
       "       'поселок Старая Малукса', 'садовое товарищество Рахья',\n",
       "       'поселок Аннино', 'поселок Победа', 'деревня Меньково',\n",
       "       'деревня Старые Бегуницы', 'посёлок Сапёрный', 'поселок Семрино',\n",
       "       'поселок Гаврилово', 'поселок Глажево', 'поселок Кобринское',\n",
       "       'деревня Гарболово', 'деревня Юкки',\n",
       "       'поселок станции Приветнинское', 'деревня Мануйлово',\n",
       "       'деревня Пчева', 'поселок Поляны', 'поселок Цвылёво',\n",
       "       'поселок Мельниково', 'посёлок Пудость', 'посёлок Усть-Луга',\n",
       "       'Светогорск', 'Любань', 'поселок Селезнёво',\n",
       "       'поселок городского типа Рябово', 'Каменногорск', 'деревня Кривко',\n",
       "       'поселок Глебычево', 'деревня Парицы', 'поселок Жилпосёлок',\n",
       "       'посёлок городского типа Мга', 'городской поселок Янино-1',\n",
       "       'посёлок Войскорово', 'село Никольское', 'посёлок Терволово',\n",
       "       'поселок Стеклянный', 'посёлок городского типа Важины',\n",
       "       'посёлок Мыза-Ивановка', 'село Русско-Высоцкое',\n",
       "       'поселок городского типа Лебяжье',\n",
       "       'поселок городского типа Форносово', 'село Старая Ладога',\n",
       "       'поселок Житково', 'городской посёлок Виллози', 'деревня Лампово',\n",
       "       'деревня Шпаньково', 'деревня Лаврики', 'посёлок Сумино',\n",
       "       'посёлок Возрождение', 'деревня Старосиверская',\n",
       "       'посёлок Кикерино', 'поселок Возрождение',\n",
       "       'деревня Старое Хинколово', 'посёлок Пригородный',\n",
       "       'посёлок Торфяное', 'городской посёлок Будогощь',\n",
       "       'поселок Суходолье', 'поселок Красная Долина', 'деревня Хапо-Ое',\n",
       "       'поселок городского типа Дружная Горка', 'поселок Лисий Нос',\n",
       "       'деревня Яльгелево', 'посёлок Стеклянный', 'село Рождествено',\n",
       "       'деревня Старополье', 'посёлок Левашово', 'деревня Сяськелево',\n",
       "       'деревня Камышовка',\n",
       "       'садоводческое некоммерческое товарищество Лесная Поляна',\n",
       "       'деревня Хязельки', 'поселок Жилгородок',\n",
       "       'посёлок городского типа Павлово', 'деревня Ялгино',\n",
       "       'поселок Новый Учхоз', 'городской посёлок Рощино',\n",
       "       'поселок Гончарово', 'поселок Почап', 'посёлок Сапёрное',\n",
       "       'посёлок Платформа 69-й километр', 'поселок Каложицы',\n",
       "       'деревня Фалилеево', 'деревня Пельгора',\n",
       "       'поселок городского типа Лесогорский', 'деревня Торошковичи',\n",
       "       'посёлок Белоостров', 'посёлок Алексеевка', 'поселок Серебрянский',\n",
       "       'поселок Лукаши', 'поселок Петровское', 'деревня Щеглово',\n",
       "       'поселок Мичуринское', 'деревня Тарасово', 'поселок Кингисеппский',\n",
       "       'посёлок при железнодорожной станции Вещево', 'поселок Ушаки',\n",
       "       'деревня Котлы', 'деревня Сижно', 'деревня Торосово',\n",
       "       'посёлок Форт Красная Горка', 'поселок городского типа Токсово',\n",
       "       'деревня Новолисино', 'посёлок станции Громово', 'деревня Глинка',\n",
       "       'посёлок Мельниково', 'поселок городского типа Назия',\n",
       "       'деревня Старая Пустошь', 'поселок Коммунары', 'поселок Починок',\n",
       "       'посёлок городского типа Вознесенье', 'деревня Разбегаево',\n",
       "       'посёлок городского типа Рябово', 'поселок Гладкое',\n",
       "       'посёлок при железнодорожной станции Приветнинское',\n",
       "       'поселок Тёсово-4', 'посёлок Жилгородок', 'деревня Бор',\n",
       "       'посёлок Коробицыно', 'деревня Большая Вруда', 'деревня Курковицы',\n",
       "       'посёлок Лисий Нос', 'городской посёлок Советский',\n",
       "       'посёлок Кобралово', 'деревня Суоранда', 'поселок Кобралово',\n",
       "       'поселок городского типа Кондратьево',\n",
       "       'коттеджный поселок Счастье', 'поселок Любань', 'деревня Реброво',\n",
       "       'деревня Зимитицы', 'деревня Тойворово', 'поселок Семиозерье',\n",
       "       'поселок Лесное', 'поселок Совхозный', 'поселок Усть-Луга',\n",
       "       'посёлок Ленинское', 'посёлок Суйда',\n",
       "       'посёлок городского типа Форносово', 'деревня Нижние Осельки',\n",
       "       'посёлок станции Свирь', 'поселок Перово', 'Высоцк',\n",
       "       'поселок Гарболово', 'село Шум', 'поселок Котельский',\n",
       "       'поселок станции Лужайка', 'деревня Большая Пустомержа',\n",
       "       'поселок Красносельское', 'деревня Вахнова Кара', 'деревня Пижма',\n",
       "       'коттеджный поселок Кивеннапа Север', 'поселок Коробицыно',\n",
       "       'поселок Ромашки', 'посёлок Перово', 'деревня Каськово',\n",
       "       'деревня Куровицы', 'посёлок Плоское', 'поселок Сумино',\n",
       "       'поселок городского типа Большая Ижора', 'поселок Кирпичное',\n",
       "       'деревня Ям-Тесово', 'деревня Раздолье', 'деревня Терпилицы',\n",
       "       'посёлок Шугозеро', 'деревня Ваганово', 'поселок Пушное',\n",
       "       'садовое товарищество Садко', 'посёлок Усть-Ижора',\n",
       "       'деревня Выскатка', 'городской посёлок Свирьстрой',\n",
       "       'поселок Громово', 'деревня Кисельня', 'посёлок Старая Малукса',\n",
       "       'деревня Трубников Бор', 'поселок Калитино',\n",
       "       'посёлок Высокоключевой', 'садовое товарищество Приладожский',\n",
       "       'посёлок Пансионат Зелёный Бор', 'деревня Ненимяки',\n",
       "       'поселок Пансионат Зелёный Бор', 'деревня Снегирёвка',\n",
       "       'деревня Рапполово', 'деревня Пустынка', 'поселок Рабитицы',\n",
       "       'деревня Большой Сабск', 'деревня Русско', 'деревня Лупполово',\n",
       "       'деревня Большое Рейзино', 'деревня Малая Романовка',\n",
       "       'поселок Дружноселье', 'поселок Пчевжа', 'поселок Володарское',\n",
       "       'деревня Нижняя', 'коттеджный посёлок Лесное', 'деревня Тихковицы',\n",
       "       'деревня Борисова Грива', 'посёлок Дзержинского'], dtype=object)"
      ]
     },
     "execution_count": 29,
     "metadata": {},
     "output_type": "execute_result"
    }
   ],
   "source": [
    "data['locality_name'].unique()"
   ]
  },
  {
   "cell_type": "code",
   "execution_count": 30,
   "metadata": {},
   "outputs": [
    {
     "data": {
      "text/plain": [
       "array(['санкт-петербург', 'шушары', 'городской янино-1', 'парголово',\n",
       "       'мурино', 'ломоносов', 'сертолово', 'петергоф', 'пушкин',\n",
       "       ' кудрово', 'коммунар', 'колпино', ' красный бор', 'гатчина',\n",
       "       ' федоровское', 'выборг', 'кронштадт', 'кировск',\n",
       "       ' новое девяткино', 'металлострой', ' лебяжье', ' сиверский',\n",
       "       'молодцово', ' кузьмоловский', 'новая ропша', 'павловск',\n",
       "       ' пикколово', 'всеволожск', 'волхов', 'кингисепп', 'приозерск',\n",
       "       'сестрорецк', ' куттузи', 'аннино', ' ефимовский', 'плодовое',\n",
       "       ' заклинье', 'торковичи', 'первомайское', 'красное село',\n",
       "       'понтонный', 'сясьстрой', ' старая', ' лесколово', 'новый свет',\n",
       "       'сланцы', 'путилово', 'ивангород', 'шлиссельбург', 'никольское',\n",
       "       'зеленогорск', 'сосновый бор', ' оржицы', ' кальтино', 'кудрово',\n",
       "       'романовка', 'бугры', ' рощино', 'кириши', 'луга', 'волосово',\n",
       "       'отрадное', 'павлово', 'оредеж', 'копорье', 'молодежное', 'тихвин',\n",
       "       'победа', ' нурма', ' синявино', 'тосно', 'стрельна',\n",
       "       'бокситогорск', 'александровская', ' лопухинка', 'пикалево',\n",
       "       'терволово', ' советский', 'подпорожье', 'петровское', ' токсово',\n",
       "       'сельцо', ' вырица', ' кипень', ' келози', ' вартемяги',\n",
       "       'тельмана', 'севастьяново', 'городской большая ижора',\n",
       "       'городской павлово', ' агалатово', 'новогорелово',\n",
       "       'городской лесогорский', ' лаголово', 'цвелодубово', ' рахья',\n",
       "       ' белогорка', 'заводской', 'городской новоселье',\n",
       "       ' большие колпаны', ' горбунки', ' батово', ' заневка', ' иссад',\n",
       "       'приморск', 'городской федоровское', ' мистолово', 'новая ладога',\n",
       "       'зимитицы', 'барышево', ' разметелево', ' имени свердлова',\n",
       "       ' пеники', 'рябово', ' пудомяги', ' корнево', ' низино',\n",
       "       ' бегуницы', 'поляны', 'городской мга', 'елизаветино',\n",
       "       ' кузнечное', ' колтуши', 'запорожское', ' гостилицы',\n",
       "       ' малое карлино', 'мичуринское', ' имени морозова', 'песочный',\n",
       "       'сосново', ' аро', 'ильичево', ' тайцы', ' малое верево',\n",
       "       ' извара', ' вещево', 'паша', ' калитино', ' ульяновка',\n",
       "       ' чудской бор', ' дубровка', ' мины', 'войсковицы', ' коркино',\n",
       "       'ропша', ' приладожский', 'щеглово', 'гаврилово', 'лодейное поле',\n",
       "       ' рабитицы', ' никольский', ' кузьмолово', ' малые колпаны',\n",
       "       'петро-славянка', 'городской назия', 'репино', 'углово',\n",
       "       'старая малукса', 'рахья', ' меньково', ' старые бегуницы',\n",
       "       'саперный', 'семрино', 'глажево', 'кобринское', ' гарболово',\n",
       "       ' юкки', ' приветнинское', ' мануйлово', ' пчева', 'цвылево',\n",
       "       'мельниково', 'пудость', 'усть-луга', 'светогорск', 'любань',\n",
       "       'селезнево', ' рябово', 'каменногорск', ' кривко', 'глебычево',\n",
       "       ' парицы', 'жилпоселок', ' мга', 'войскорово', 'стеклянный',\n",
       "       ' важины', 'мыза-ивановка', 'русско-высоцкое', ' форносово',\n",
       "       'старая ладога', 'житково', 'городской виллози', ' лампово',\n",
       "       ' шпаньково', ' лаврики', 'сумино', 'возрождение',\n",
       "       ' старосиверская', 'кикерино', ' старое хинколово', 'пригородный',\n",
       "       'торфяное', 'городской будогощь', 'суходолье', 'красная долина',\n",
       "       ' хапо-ое', ' дружная горка', 'лисий нос', ' яльгелево',\n",
       "       'рождествено', ' старополье', 'левашово', ' сяськелево',\n",
       "       ' камышовка', 'лесная поляна', ' хязельки', 'жилгородок',\n",
       "       ' павлово', ' ялгино', 'новый учхоз', 'городской рощино',\n",
       "       'гончарово', 'почап', 'саперное', '69-й километр', 'каложицы',\n",
       "       ' фалилеево', ' пельгора', ' лесогорский', ' торошковичи',\n",
       "       'белоостров', 'алексеевка', 'серебрянский', 'лукаши', ' щеглово',\n",
       "       ' тарасово', 'кингисеппский', 'вещево', 'ушаки', ' котлы',\n",
       "       ' сижно', ' торосово', 'форт красная горка', ' новолисино',\n",
       "       ' громово', ' глинка', ' назия', ' старая пустошь', 'коммунары',\n",
       "       'починок', ' вознесенье', ' разбегаево', 'гладкое',\n",
       "       'приветнинское', 'тесово-4', ' бор', 'коробицыно',\n",
       "       ' большая вруда', ' курковицы', 'городской советский', 'кобралово',\n",
       "       ' суоранда', ' кондратьево', 'коттеджный счастье', ' реброво',\n",
       "       ' зимитицы', ' тойворово', 'семиозерье', 'лесное', 'совхозный',\n",
       "       'ленинское', 'суйда', ' нижние осельки', ' свирь', 'перово',\n",
       "       'высоцк', 'гарболово', 'шум', 'котельский', ' лужайка',\n",
       "       ' большая пустомержа', 'красносельское', ' вахнова кара', ' пижма',\n",
       "       'коттеджный кивеннапа север', 'ромашки', ' каськово', ' куровицы',\n",
       "       'плоское', ' большая ижора', 'кирпичное', ' ям-тесово',\n",
       "       ' раздолье', ' терпилицы', 'шугозеро', ' ваганово', 'пушное',\n",
       "       'садко', 'усть-ижора', ' выскатка', 'городской свирьстрой',\n",
       "       'громово', ' кисельня', ' трубников бор', 'калитино',\n",
       "       'высокоключевой', 'приладожский', ' зеленый бор', ' ненимяки',\n",
       "       ' снегиревка', ' рапполово', ' пустынка', 'рабитицы',\n",
       "       ' большой сабск', ' русско', ' лупполово', ' большое рейзино',\n",
       "       ' малая романовка', 'дружноселье', 'пчевжа', 'володарское',\n",
       "       ' нижняя', 'коттеджный лесное', ' тихковицы', ' борисова грива',\n",
       "       'дзержинского'], dtype=object)"
      ]
     },
     "execution_count": 30,
     "metadata": {},
     "output_type": "execute_result"
    }
   ],
   "source": [
    "# Присутствуют неявные дубликаты,для их удаления сначала переведем строки в нижний регистр\n",
    "data['locality_name'] = data['locality_name'].str.lower()\n",
    "# Заменим дубликаты\n",
    "data['locality_name'] = (\n",
    "    data['locality_name']\n",
    "    .str.replace('ё','е')\n",
    "    .replace(['поселок ','при железнодорожной станции ', 'платформа ', 'садоводческое некоммерческое товарищество ',\n",
    "             'садовое товарищество ', 'село ', 'станции', 'городского типа', 'пансионат',\n",
    "             'городской поселок', 'деревня'], '', regex=True)\n",
    "    )\n",
    "# Снова проверим уникальные значения \n",
    "data['locality_name'].unique()"
   ]
  },
  {
   "cell_type": "code",
   "execution_count": 34,
   "metadata": {},
   "outputs": [
    {
     "ename": "IndentationError",
     "evalue": "unindent does not match any outer indentation level (<tokenize>, line 4)",
     "output_type": "error",
     "traceback": [
      "\u001b[0;36m  File \u001b[0;32m\"<tokenize>\"\u001b[0;36m, line \u001b[0;32m4\u001b[0m\n\u001b[0;31m    return filtered_data\u001b[0m\n\u001b[0m    ^\u001b[0m\n\u001b[0;31mIndentationError\u001b[0m\u001b[0;31m:\u001b[0m unindent does not match any outer indentation level\n"
     ]
    }
   ],
   "source": [
    "def filter_localities_starting_with_capital(data, column_name='locality_name'):\n",
    "    filtered_data = data[data[column_name].str[0].str.isupper()]\n",
    "    filtered_data[column_name] = filtered_data[column_name].str.replace('е', 'ё', regex=False)\n",
    "    return filtered_data\n",
    "data = filter_localities_starting_with_capital(data)"
   ]
  },
  {
   "cell_type": "markdown",
   "metadata": {},
   "source": [
    "**Неявных дубликатов более не присутствует.**"
   ]
  },
  {
   "cell_type": "markdown",
   "metadata": {},
   "source": [
    "### Вывод предобработки данных"
   ]
  },
  {
   "cell_type": "markdown",
   "metadata": {},
   "source": [
    "В результате проведенной обработки данных были достигнуты поставленные цели: пропуски заполнены там, где это было возможно,изменены типы данных,удалены неявные дубликаты и изменены названия столбцов в змеиный регистр. Однако следует отметить, что значительная часть данных, способных повлиять на итоговую статистику и принять решение о приобретении квартир, была утеряна при выгрузке таблицы или отсутствует. Об этом необходимо обязательно уведомить ответственных сотрудников, занимающихся выгрузкой и сбором данных."
   ]
  },
  {
   "cell_type": "markdown",
   "metadata": {
    "id": "QCcvyY6YAwb-"
   },
   "source": [
    "## Добавьте в таблицу новые столбцы"
   ]
  },
  {
   "cell_type": "markdown",
   "metadata": {
    "id": "Z8eJek3IAwb-"
   },
   "source": [
    "**Цена одного квадратного метра**"
   ]
  },
  {
   "cell_type": "code",
   "execution_count": null,
   "metadata": {},
   "outputs": [],
   "source": [
    "data['price_for_sqr_meter']=(data['last_price']/data['total_area']).round(2)"
   ]
  },
  {
   "cell_type": "markdown",
   "metadata": {},
   "source": [
    "**День недели, месяц, год публикации объявления**"
   ]
  },
  {
   "cell_type": "code",
   "execution_count": null,
   "metadata": {},
   "outputs": [],
   "source": [
    "#День недели\n",
    "data['day_publish'] = data['first_day_exposition'].dt.weekday\n",
    "#Месяц\n",
    "data['month_publish'] = data['first_day_exposition'].dt.month\n",
    "#Год\n",
    "data['year_publish'] = data['first_day_exposition'].dt.year"
   ]
  },
  {
   "cell_type": "markdown",
   "metadata": {},
   "source": [
    "**Разделим на группы этажи: другой,первый и последний**"
   ]
  },
  {
   "cell_type": "code",
   "execution_count": null,
   "metadata": {},
   "outputs": [],
   "source": [
    "def floor(i):\n",
    "    if i['floor'] == i['floors_total']:\n",
    "        return 'последний'\n",
    "    if i['floor'] == 1:\n",
    "        return 'первый'\n",
    "    else:\n",
    "        return 'другой'\n",
    "data['floor_type'] = data.apply(floor,axis=1)"
   ]
  },
  {
   "cell_type": "markdown",
   "metadata": {},
   "source": [
    "**Расстояние до центра города в километрах**"
   ]
  },
  {
   "cell_type": "code",
   "execution_count": null,
   "metadata": {},
   "outputs": [],
   "source": [
    "data['distance_city_center'] = (data['city_centers_nearest'] / 1000).round(0)"
   ]
  },
  {
   "cell_type": "markdown",
   "metadata": {},
   "source": [
    "**Итоговая таблица с новыми столбцами**"
   ]
  },
  {
   "cell_type": "code",
   "execution_count": null,
   "metadata": {},
   "outputs": [],
   "source": [
    "data.head()"
   ]
  },
  {
   "cell_type": "markdown",
   "metadata": {
    "id": "pPyxrKWTAwb-"
   },
   "source": [
    "## Проведите исследовательский анализ данных"
   ]
  },
  {
   "cell_type": "markdown",
   "metadata": {},
   "source": [
    "### Изучим параметры"
   ]
  },
  {
   "cell_type": "markdown",
   "metadata": {},
   "source": [
    "**Будем изучать данные параметры:**\n",
    "* общая площадь;\n",
    "* жилая площадь;\n",
    "* площадь кухни;\n",
    "* цена объекта;\n",
    "* количество комнат;\n",
    "* высота потолков;\n",
    "* тип этажа квартиры («первый», «последний», «другой»);\n",
    "* общее количество этажей в доме;\n",
    "* расстояние до центра города в метрах;\n",
    "* расстояние до ближайшего парка"
   ]
  },
  {
   "cell_type": "markdown",
   "metadata": {
    "id": "V2f0D3kLAwb-"
   },
   "source": [
    "\n",
    "**Исследовать стоит зависимость количества квартир,находящихся в продаже от их параметров:**\n",
    "\n",
    "**Анализ общей площади**"
   ]
  },
  {
   "cell_type": "code",
   "execution_count": null,
   "metadata": {},
   "outputs": [],
   "source": [
    "data['total_area'].describe()"
   ]
  },
  {
   "cell_type": "markdown",
   "metadata": {},
   "source": [
    "Оставим значения от минимального 12 и до 120 квадратных метров"
   ]
  },
  {
   "cell_type": "code",
   "execution_count": null,
   "metadata": {},
   "outputs": [],
   "source": [
    "plt.hist(data['total_area'], bins=100,range=(0,120))\n",
    "plt.title('Зависимость квартир в продаже от площади квартир')\n",
    "plt.xlabel('м^2')\n",
    "plt.ylabel('Кол-во квартир')\n",
    "plt.xticks(np.arange(0, 120, 10))\n",
    "plt.yticks(np.arange(0, 1100, 100))\n",
    "plt.show()"
   ]
  },
  {
   "cell_type": "markdown",
   "metadata": {},
   "source": [
    "**Вывод:**"
   ]
  },
  {
   "cell_type": "markdown",
   "metadata": {},
   "source": [
    "Большинство квартир на рынке имеют площадь от *32* квадратных метров и до *61*, при этом больше всего квартир (около 980) имеют площадь *44* квадратных метра"
   ]
  },
  {
   "cell_type": "markdown",
   "metadata": {},
   "source": [
    "**Анализ жилой площади**"
   ]
  },
  {
   "cell_type": "code",
   "execution_count": null,
   "metadata": {},
   "outputs": [],
   "source": [
    "data['living_area'].describe()"
   ]
  },
  {
   "cell_type": "markdown",
   "metadata": {},
   "source": [
    "Оставим значения от минимального 2 и до 60p квадратных метров"
   ]
  },
  {
   "cell_type": "code",
   "execution_count": null,
   "metadata": {},
   "outputs": [],
   "source": [
    "plt.hist(data['living_area'],bins=100,range=(2,60))\n",
    "plt.title('Зависимость квартир в продаже от жилой площади')\n",
    "plt.xlabel('м^2')\n",
    "plt.ylabel('Количество квартир')\n",
    "plt.xticks(np.arange(2, 70, 5))\n",
    "plt.yticks(np.arange(0, 2400, 100))\n",
    "plt.show()"
   ]
  },
  {
   "cell_type": "markdown",
   "metadata": {},
   "source": [
    "**Вывод:**\n",
    "\n",
    "Большинство квартир имеют жилую площадь в диапозоне от 15 до 32 квадратных метров,больше всего предложений с жилой площадью в 16 квадратных метров,а также наблюдается спад количества квартир с площадью 23 квадратных метра.\n",
    "\n"
   ]
  },
  {
   "cell_type": "markdown",
   "metadata": {},
   "source": [
    "**Анализ площади кухни**"
   ]
  },
  {
   "cell_type": "code",
   "execution_count": null,
   "metadata": {},
   "outputs": [],
   "source": [
    "data['kitchen_area'].describe()"
   ]
  },
  {
   "cell_type": "markdown",
   "metadata": {},
   "source": [
    "Оставим значения от 0 до 30 квадратных метров"
   ]
  },
  {
   "cell_type": "code",
   "execution_count": null,
   "metadata": {},
   "outputs": [],
   "source": [
    "plt.hist(data['kitchen_area'], bins=30, range=(0,30))\n",
    "plt.title('Зависимость квартир в продаже от площади кухни')\n",
    "plt.xlabel('Квадратные метры')\n",
    "plt.ylabel('Количество квартир')\n",
    "plt.show()"
   ]
  },
  {
   "cell_type": "markdown",
   "metadata": {},
   "source": [
    "**Вывод:**\n",
    "\n",
    "Больше всего квартир с площадью кухни от 5 до 15 квадратных метров. Больше 20 метров кухни практически не встречаются,при этом всплеск показывает,что множество квартир имеют площадь 1 квадратный метр"
   ]
  },
  {
   "cell_type": "markdown",
   "metadata": {},
   "source": [
    "**Анализ последней цены**"
   ]
  },
  {
   "cell_type": "code",
   "execution_count": null,
   "metadata": {},
   "outputs": [],
   "source": [
    "data['last_price'].describe()"
   ]
  },
  {
   "cell_type": "code",
   "execution_count": null,
   "metadata": {},
   "outputs": [],
   "source": [
    "plt.hist(data['last_price'], bins=120, range=(1.219000e+04,9.00000e+06))\n",
    "plt.title('Зависимость квартир в продаже от последней цены')\n",
    "plt.xlabel('Цена в млн. руб.')\n",
    "plt.ylabel('Количество квартир')\n",
    "plt.show()"
   ]
  },
  {
   "cell_type": "markdown",
   "metadata": {},
   "source": [
    "**Вывод:**\n",
    "\n",
    "Наибольшее количество квартир на продаже имели или имеют цену от 3 до 4,5 млн. рублей."
   ]
  },
  {
   "cell_type": "markdown",
   "metadata": {},
   "source": [
    "**Анализ высоты потолков**"
   ]
  },
  {
   "cell_type": "code",
   "execution_count": null,
   "metadata": {},
   "outputs": [],
   "source": [
    "data['ceiling_height'].describe()"
   ]
  },
  {
   "cell_type": "markdown",
   "metadata": {},
   "source": [
    "Воспользуемся срезом данных,чтобы не учитывать слишком высокие или низкие потолки"
   ]
  },
  {
   "cell_type": "code",
   "execution_count": null,
   "metadata": {},
   "outputs": [],
   "source": [
    "plt.hist(data.query('(ceiling_height < 4) & (ceiling_height > 2)')['ceiling_height'], bins=30, range=(2.5,3))\n",
    "plt.title('Зависимость квартир в продаже от высоты потолка')\n",
    "plt.xlabel('Высота потолка в м')\n",
    "plt.ylabel('Количество квартир')\n",
    "plt.show()"
   ]
  },
  {
   "cell_type": "markdown",
   "metadata": {},
   "source": [
    "**Вывод:**\n",
    "\n",
    "Большинство квартир имеют потолки высотой 2.65 метра,незначительное количество квартир имеют высоту потолков 2.5,2,6,2.7,2.8 метров."
   ]
  },
  {
   "cell_type": "markdown",
   "metadata": {},
   "source": [
    "**Анализ типов этажей**"
   ]
  },
  {
   "cell_type": "code",
   "execution_count": null,
   "metadata": {},
   "outputs": [],
   "source": [
    "data['floor_type'].describe()"
   ]
  },
  {
   "cell_type": "code",
   "execution_count": null,
   "metadata": {},
   "outputs": [],
   "source": [
    "plt.hist(data['floor_type'],bins = 5)\n",
    "plt.xlabel('Расположение квартиры по этажам ')\n",
    "plt.ylabel('количество квартир')\n",
    "plt.show()"
   ]
  },
  {
   "cell_type": "markdown",
   "metadata": {},
   "source": [
    "**Вывод:**\n",
    "\n",
    "Большинство квартир выставленных на продажу не находятся ни на первом этаже ни на последнем,что довольно логично, людям просто неудобно жить на этих этажах."
   ]
  },
  {
   "cell_type": "markdown",
   "metadata": {},
   "source": [
    "**Анализ количества комнат**"
   ]
  },
  {
   "cell_type": "code",
   "execution_count": null,
   "metadata": {},
   "outputs": [],
   "source": [
    "data['rooms'].describe()"
   ]
  },
  {
   "cell_type": "markdown",
   "metadata": {},
   "source": [
    "Оставим значения от 0 до 6 квартир (может кто-то указал 0 комнат вместо того,чтобы указать студию)."
   ]
  },
  {
   "cell_type": "code",
   "execution_count": null,
   "metadata": {},
   "outputs": [],
   "source": [
    "plt.hist(data['rooms'],bins=10,range=(0,8))\n",
    "plt.title('Зависимость квартир в продаже от количества комнат')\n",
    "plt.xlabel('Количество комнат')\n",
    "plt.ylabel('Количество квартир')\n",
    "plt.show()"
   ]
  },
  {
   "cell_type": "markdown",
   "metadata": {},
   "source": [
    "**Вывод:**\n",
    "\n",
    "Больше всего квартир,находящихся на продаже, имеют от 1 до 3 комнат,чем больше комнат в квартире,тем меньше квартир на продаже."
   ]
  },
  {
   "cell_type": "markdown",
   "metadata": {},
   "source": [
    "**Анализ общего количества этажей в доме**"
   ]
  },
  {
   "cell_type": "code",
   "execution_count": null,
   "metadata": {},
   "outputs": [],
   "source": [
    "data['floors_total'].describe()"
   ]
  },
  {
   "cell_type": "code",
   "execution_count": null,
   "metadata": {},
   "outputs": [],
   "source": [
    "plt.hist(data['floors_total'],bins=30)\n",
    "plt.title('Зависимость квартир на продаже от количества этажей')\n",
    "plt.xlabel('Количество этажей')\n",
    "plt.ylabel('Количество квартир')\n",
    "plt.show()"
   ]
  },
  {
   "cell_type": "markdown",
   "metadata": {},
   "source": [
    "**Вывод:**\n",
    "\n",
    "Большинство квартир на продаже находятся в домах,состоящих из 5 и 10 этажей. Меньше всего домов, в которых продаются квартиры имеют свыше 20 этажей."
   ]
  },
  {
   "cell_type": "markdown",
   "metadata": {},
   "source": [
    "**Анализ расстояния до центра города**"
   ]
  },
  {
   "cell_type": "code",
   "execution_count": null,
   "metadata": {},
   "outputs": [],
   "source": [
    "data['city_centers_nearest'].describe()"
   ]
  },
  {
   "cell_type": "code",
   "execution_count": null,
   "metadata": {
    "scrolled": true
   },
   "outputs": [],
   "source": [
    "plt.hist(data['city_centers_nearest'], bins=50, range=(0,25000))\n",
    "plt.title('Зависимость квартир в продаже от удаленности от центра города')\n",
    "plt.xlabel('Расстояние до центра города в метрах')\n",
    "plt.ylabel('Количество квартир')\n",
    "plt.show()"
   ]
  },
  {
   "cell_type": "markdown",
   "metadata": {},
   "source": [
    "**Вывод:**\n",
    "\n",
    "Наибольшее количество предложений о продаже квартир наблюдается в спальных районах на окраинах города (на расстоянии 12000 - 15000 метров), а также отмечается значительный всплеск на расстоянии 5000 метров от центра города."
   ]
  },
  {
   "cell_type": "markdown",
   "metadata": {},
   "source": [
    "**Анализ расстояния до ближайшего парка**"
   ]
  },
  {
   "cell_type": "code",
   "execution_count": null,
   "metadata": {},
   "outputs": [],
   "source": [
    "data['parks_nearest'].describe()"
   ]
  },
  {
   "cell_type": "code",
   "execution_count": null,
   "metadata": {},
   "outputs": [],
   "source": [
    "plt.hist(data['parks_nearest'], bins=80, range=(100,800))\n",
    "plt.title('Зависимость квартир в продаже от удаленности от парка')\n",
    "plt.xlabel('Расстояние до парка в метрах')\n",
    "plt.ylabel('Количество квартир')\n",
    "plt.show()"
   ]
  },
  {
   "cell_type": "markdown",
   "metadata": {},
   "source": [
    "**Вывод:**\n",
    "\n",
    "Количество предложений не имеет значительной зависимости от расстояния до ближайшего парка, которое в среднем составляет примерно 200 - 700 метров."
   ]
  },
  {
   "cell_type": "markdown",
   "metadata": {},
   "source": [
    "**Общий вывод по анализу параметров,влияющих на количество квартир на рынке**\n",
    "\n",
    "Среднестатистическая квартира,находящияся на продаже имеет следующие параметры:\n",
    "* Площадь квартиры от 32 до 61 квадратных метра\n",
    "* Жилая площадь квартиры от 15 до 32 квадратных метра\n",
    "* Площадь кухни в квартире от 5 до 15 квадратных метров\n",
    "* Цена квартиры варьируется от 3 до 4,5 млн. рублей\n",
    "* Высота потолков 2,65 метра\n",
    "* Квартира не находится ни на первом ни на последнем этаже\n",
    "* Комнат в квартире от 1 до 3\n",
    "* Дома,в которых находятся квартиры,состоят либо из 5 либо из 10 этажей\n",
    "* Квартиры находятся на расстоянии 12000-15000 метров от центра\n",
    "* Квартиры находятся на расстоянии 200-700 метров от парка"
   ]
  },
  {
   "cell_type": "markdown",
   "metadata": {},
   "source": [
    "### Изучим как быстро продавались квартиры"
   ]
  },
  {
   "cell_type": "markdown",
   "metadata": {},
   "source": [
    "Рассчитаем среднее и медиану и остальные данные:"
   ]
  },
  {
   "cell_type": "code",
   "execution_count": null,
   "metadata": {},
   "outputs": [],
   "source": [
    "data['days_exposition'].describe()"
   ]
  },
  {
   "cell_type": "markdown",
   "metadata": {},
   "source": [
    "Построим гистограмму"
   ]
  },
  {
   "cell_type": "code",
   "execution_count": null,
   "metadata": {},
   "outputs": [],
   "source": [
    "plt.hist(data['days_exposition'],bins=100,range=(1,400))\n",
    "plt.title('Количество проданных квартир за промежутки времени')\n",
    "plt.xlabel('Количество дней')\n",
    "plt.ylabel('Количество проданных квартир')\n",
    "plt.show()"
   ]
  },
  {
   "cell_type": "markdown",
   "metadata": {},
   "source": [
    "**Вывод**\n",
    "\n",
    "Рассчеты по среднему,говорят нам о том,что квартира продается в течение 180 дней,а рассчитанная медина,говорит о том,что квартира продается за 95 дней,при этом,можно сделать вывод,что в среднем больше всего квартир продается за 100-180 дней (2-3 месяца), а сама продажа зависит от параметров изученных ранее. Также в данных наблюдается тенденция на уменьшение проданных квартир с увеличением дней продажи,можно сделать вывод, что чем хуже квартира,тем дольше она будет продаваться. Быстрыми продажами можно считать продажи состоявшиеся за 45 днней (в первом квартиле), а необычно долгие продажи после 231 дня и более (после 3 квартиля), которые вообще могут быть не проданны.\n"
   ]
  },
  {
   "cell_type": "markdown",
   "metadata": {},
   "source": [
    "### Определим какие факторы больше всего влияют на полную стоимость объекта"
   ]
  },
  {
   "cell_type": "markdown",
   "metadata": {},
   "source": [
    "**Изучим данные параметры:**\n",
    "* общая площадь\n",
    "* жилая площадь\n",
    "* площадь кухни\n",
    "* количество комнат\n",
    "* этаж, на котором расположена квартира (первый, последний, другой)\n",
    "* дата размещения (день недели, месяц, год)"
   ]
  },
  {
   "cell_type": "markdown",
   "metadata": {},
   "source": [
    "**Построим таблицу корреляций,так будет легче ориентироваться и примерно понимать где зависимость есть,а где она отсутствует**"
   ]
  },
  {
   "cell_type": "code",
   "execution_count": null,
   "metadata": {},
   "outputs": [],
   "source": [
    "print(data.pivot_table(index='floor', values=['last_price','total_area','living_area','kitchen_area','rooms','day_publish','month_publish','year_publish']).corr())"
   ]
  },
  {
   "cell_type": "markdown",
   "metadata": {},
   "source": [
    "С типом этажей проведем операции позже"
   ]
  },
  {
   "cell_type": "markdown",
   "metadata": {},
   "source": [
    "**Зависимость цены от общей площади**\n",
    "\n",
    "Построим сводную таблицу"
   ]
  },
  {
   "cell_type": "code",
   "execution_count": null,
   "metadata": {},
   "outputs": [],
   "source": [
    "price_total_area=data.pivot_table(index='total_area',values='last_price')\n",
    "print(price_total_area)"
   ]
  },
  {
   "cell_type": "code",
   "execution_count": null,
   "metadata": {},
   "outputs": [],
   "source": [
    "price_total_area.plot(style='o',grid=True, figsize=(10, 5), title='График зависимости цены от площади')\n",
    "plt.xlabel('Площадь квартиры')\n",
    "plt.ylabel('Цена')\n",
    "plt.xlim(0,100)\n",
    "plt.ylim(0,13000000)\n",
    "plt.show()"
   ]
  },
  {
   "cell_type": "markdown",
   "metadata": {},
   "source": [
    "Видно,что есть почти прямая зависимость между ценой и площадью квартиры,параметры коррелируют."
   ]
  },
  {
   "cell_type": "markdown",
   "metadata": {},
   "source": [
    "**Зависимость цены от жилой площади**\n",
    "\n",
    "Построим сводную таблицу"
   ]
  },
  {
   "cell_type": "code",
   "execution_count": null,
   "metadata": {},
   "outputs": [],
   "source": [
    "price_living_area = data.pivot_table(index='living_area',values='last_price')\n",
    "print(price_living_area)"
   ]
  },
  {
   "cell_type": "code",
   "execution_count": null,
   "metadata": {},
   "outputs": [],
   "source": [
    "price_living_area.plot(style = 'o',grid=True,figsize=(5, 5), title='График зависимости цены от жилой площади')\n",
    "plt.xlabel('Жилая площадь квартиры')\n",
    "plt.ylabel('Цена')\n",
    "plt.xlim(0,100)\n",
    "plt.ylim(0,13000000)\n",
    "plt.show()"
   ]
  },
  {
   "cell_type": "markdown",
   "metadata": {},
   "source": [
    "По графику сложно определить есть ли зависимость между данными,таблица корреляции,приведенная ранняя,помогает подтвердить, что цена имеет зависимость от жилой площади."
   ]
  },
  {
   "cell_type": "markdown",
   "metadata": {},
   "source": [
    "**Зависимость цены от площади кухни**\n",
    "\n",
    "Построим сводную таблицу"
   ]
  },
  {
   "cell_type": "code",
   "execution_count": null,
   "metadata": {},
   "outputs": [],
   "source": [
    "price_kitchen_area = data.pivot_table(index='kitchen_area',values='last_price')\n",
    "print(price_kitchen_area)"
   ]
  },
  {
   "cell_type": "code",
   "execution_count": null,
   "metadata": {},
   "outputs": [],
   "source": [
    "price_kitchen_area.plot(style = 'o',grid=True,figsize=(10, 5), title='График зависимости цены от площади кухни')\n",
    "plt.xlabel('Площадь кухни')\n",
    "plt.ylabel('Цена')\n",
    "plt.xlim(0,30)\n",
    "plt.ylim(0,13000000)\n",
    "plt.show()"
   ]
  },
  {
   "cell_type": "markdown",
   "metadata": {},
   "source": [
    "Учитывая коэффицент корреляции и график можно сказать что у цены с площадью кухни имеется слабая зависимость"
   ]
  },
  {
   "cell_type": "markdown",
   "metadata": {},
   "source": [
    "**Зависимость цены от количества комнат в квартире**\n",
    "\n",
    "Построим сводную таблицу"
   ]
  },
  {
   "cell_type": "code",
   "execution_count": null,
   "metadata": {},
   "outputs": [],
   "source": [
    "price_rooms = data.pivot_table(index='rooms',values='last_price')\n",
    "print(price_rooms)"
   ]
  },
  {
   "cell_type": "code",
   "execution_count": null,
   "metadata": {},
   "outputs": [],
   "source": [
    "price_kitchen_area.plot(style = 'o',grid=True,figsize=(10, 5), title='График зависимости цены от количества комнат')\n",
    "plt.xlabel('Количество комнат')\n",
    "plt.ylabel('Цена')\n",
    "plt.xlim(0,50)\n",
    "plt.ylim(0,25000000)\n",
    "plt.show()"
   ]
  },
  {
   "cell_type": "markdown",
   "metadata": {},
   "source": [
    "Наблюдается сильная зависимость между ценой и количеством комнат в квартире"
   ]
  },
  {
   "cell_type": "markdown",
   "metadata": {},
   "source": [
    "**Зависимость цены от типа этажа**\n",
    "\n",
    "Построим сводную таблицу"
   ]
  },
  {
   "cell_type": "code",
   "execution_count": null,
   "metadata": {},
   "outputs": [],
   "source": [
    "price_type_floor = data.pivot_table(index='floor_type',values='last_price',aggfunc='sum')\n",
    "print(price_type_floor)"
   ]
  },
  {
   "cell_type": "code",
   "execution_count": null,
   "metadata": {},
   "outputs": [],
   "source": [
    "price_type_floor.plot(style='o-',figsize=(10,7))\n",
    "plt.title('Зависимость цены от типа этажа')\n",
    "plt.xlabel('Тип этажа')\n",
    "plt.ylabel('Цена')\n",
    "plt.show()"
   ]
  },
  {
   "cell_type": "markdown",
   "metadata": {},
   "source": [
    "Зависимость отсуствует."
   ]
  },
  {
   "cell_type": "markdown",
   "metadata": {},
   "source": [
    "**Зависимость цены от года,месяца,дня публикации**\n",
    "\n",
    "Построим сводные таблицу"
   ]
  },
  {
   "cell_type": "code",
   "execution_count": null,
   "metadata": {},
   "outputs": [],
   "source": [
    "price_year = data.pivot_table(index = 'year_publish',values = 'last_price')\n",
    "price_month = data.pivot_table(index = 'month_publish',values = 'last_price')\n",
    "price_day = data.pivot_table(index = 'day_publish', values = 'last_price')\n",
    "print(price_year)\n",
    "print()\n",
    "print(price_month)\n",
    "print()\n",
    "print(price_day)"
   ]
  },
  {
   "cell_type": "code",
   "execution_count": null,
   "metadata": {},
   "outputs": [],
   "source": [
    "price_year.plot(style='o-',figsize=(10,7))\n",
    "plt.title('Зависимость цены от года')\n",
    "plt.xlabel('Год')\n",
    "plt.ylabel('Цена')\n",
    "plt.show()"
   ]
  },
  {
   "cell_type": "code",
   "execution_count": null,
   "metadata": {},
   "outputs": [],
   "source": [
    "price_month.plot(style='o-',figsize=(10,7))\n",
    "plt.title('Зависимость цены от месяца')\n",
    "plt.xlabel('Месяц')\n",
    "plt.ylabel('Цена')\n",
    "plt.show()"
   ]
  },
  {
   "cell_type": "code",
   "execution_count": null,
   "metadata": {},
   "outputs": [],
   "source": [
    "price_day.plot(style='o-',figsize=(10,7))\n",
    "plt.title('Зависимость цены от дня')\n",
    "plt.xlabel('День')\n",
    "plt.ylabel('Цена')\n",
    "plt.show()"
   ]
  },
  {
   "cell_type": "markdown",
   "metadata": {},
   "source": [
    "Слабая зависимость присуща только дням."
   ]
  },
  {
   "cell_type": "markdown",
   "metadata": {},
   "source": [
    "**Вывод**\n",
    "\n",
    "* **Почти** прямая зависимость имеется у таких параметров, как общая площадь, жилая площадь и количество комнат в квартире,при этом слабая зависимость наблюдается и с днем публикации и с площадью кухни. Другие параметры не имеют зависимости с ценой.\n",
    "* Количество комнат, жилая площадь и общая площадь связаны между собой,здесь работает логика: больше комнат,следовательно больше жилая площадь,следовательно больше общая площадь,при этом стоит учитывать,что могут быть и варианты,что квартира находится близко к центру города,поэтому квартиры даже с меньшим количеством комнат,могут стоить дороже по сравнению с окраиной.\n",
    "* Наибольшая корреляция присутствует у параметров цены и общей площади,так как цена изначально строится из стоимости за один квадратный метр.\n",
    "* Никакой зависимости между годом и месяцем и ценой нет,при этом присутствует взаимосвязь дня публикации и цены,пик цены доходит в субботу,данную зависимость сложно объяснить.\n",
    "* Квартиры, находящиеся на первом этаже имеют минимальную стоимость,наибольшую стоимость имеют квартиры которые находятся ни на последнем ни на первом,при этом квартиры на последнем этаже имеют цену чуть больше,чем цена для квартир на первом этаже.\n",
    "  "
   ]
  },
  {
   "cell_type": "markdown",
   "metadata": {},
   "source": [
    "### Посчитаем среднюю цену одного квадратного метра в 10 населённых пунктах с наибольшим числом объявлений "
   ]
  },
  {
   "cell_type": "code",
   "execution_count": null,
   "metadata": {},
   "outputs": [],
   "source": [
    "price_top = data.pivot_table(index='locality_name',values='last_price',aggfunc=('count')) #сводная таблица с количеством объявлений\n",
    "price_top.columns=['count'] \n",
    "price_top = price_top.sort_values(by='count',ascending=False) # Отсортируем данные,чтобы вывести топ 10 городов по кол-ву объявлений\n",
    "price_top = price_top.head(10)\n",
    "price_top['price_square_meter'] = data.pivot_table(index='locality_name', values='price_for_sqr_meter').round(2)\n",
    "price_top\n",
    "price_top.sort_values(by='price_square_meter', ascending=False) # Отсортируем данные,чтобы вывести среднюю цену квадратного метра для городов\n"
   ]
  },
  {
   "cell_type": "markdown",
   "metadata": {},
   "source": [
    "**Вывод:**\n",
    "* Наибольшая стоимость за квадратный метр в Санкт-Петебурге и составляет 114849.01 рублей.\n",
    "* Наименьшая стоимость за квадратный метр в Выборге и составляет 58141.91 рублей.\n",
    "* Наименьшую стоимость за квадратный метр имеют города: Всеволожск,Гатчина,которые располагаются вдалеке от Санкт-Петербурга.\n",
    "* Города,находящиеся в Ленинградской области, но при этом,находящиеся близь Санкт-Петербурга имеют среднюю стоимость за квадратный метр - от 75 тысяч до 92 тысяч. "
   ]
  },
  {
   "cell_type": "markdown",
   "metadata": {},
   "source": [
    "### Теперь выделим квартиры в Санкт-Петербурге с помощью столбца locality_name и вычислим их среднюю стоимость на разном удалении от центра. "
   ]
  },
  {
   "cell_type": "markdown",
   "metadata": {},
   "source": [
    "Построим сводную таблицу с данными о зависимости изменения цены от удаленности от центра "
   ]
  },
  {
   "cell_type": "code",
   "execution_count": null,
   "metadata": {},
   "outputs": [],
   "source": [
    "city_center_nearest_spb = data.query('locality_name==\"санкт-петербург\"')\n",
    "city_center_nearest_spb = city_center_nearest_spb.pivot_table(index='distance_city_center',values='last_price')\n",
    "city_center_nearest_spb"
   ]
  },
  {
   "cell_type": "markdown",
   "metadata": {},
   "source": [
    "Для более наглядного анализа,построим график."
   ]
  },
  {
   "cell_type": "code",
   "execution_count": null,
   "metadata": {},
   "outputs": [],
   "source": [
    "city_center_nearest_spb.plot(figsize=(10,5),style='--o',grid=True)\n",
    "plt.xlim(0,15)\n",
    "plt.title('Средняя стоимость квартир на разном расстоянии от центра')\n",
    "plt.xlabel('Расстояние в километрах')\n",
    "plt.ylabel('Цена')\n",
    "plt.show()"
   ]
  },
  {
   "cell_type": "markdown",
   "metadata": {},
   "source": [
    "**Вывод:**\n",
    "* Логично,самые дорогие квартиры оказались в центре Санкт-Петербурга,снижение цены по средству увеличения расстояния происходит до отметки в 8 км,после цена не зависит от расстояния до центра города."
   ]
  },
  {
   "cell_type": "markdown",
   "metadata": {},
   "source": [
    "## Общий вывод"
   ]
  },
  {
   "cell_type": "markdown",
   "metadata": {},
   "source": [
    "В ходе исследования объявлений о продаже квартир в ленинградской области были выполнены следующие шаги:\n",
    "* 1 Был изучен датасет\n",
    "  * В данных 23699 записей и 22 столбца,при этом при первичном анализе были выявлены проблемы с регистром,типом данных и пропусками.\n",
    "* 2 Была выполнена предобработка данных\n",
    "  * Пропуски были заполнены,где это было возможно\n",
    "  * Изменены типы данных\n",
    "  * Удалены неявные дубликаты\n",
    "  * Изменены названия столбцов в змеиный регистр\n",
    "  * Был сделан вывод, что значительная часть данных, способных повлиять на итоговую статистику и принять решение о приобретении квартир, была утеряна при выгрузке таблицы или отсутствует.\n",
    "* 3 Добавлены новые столбцы в таблицу для проведения следующих шагов\n",
    "  * price_for_sqr_meter\n",
    "  * day_publish\n",
    "  * month_publish\n",
    "  * year_publish\n",
    "  * floor_type\n",
    "  * distance_city_center\n",
    "* 4 Проведен исследовательский анализ данных\n",
    "  * Изучены параметры,влияющие на количество квартир в объявлении.\n",
    "      * Сделан вывод,что обычно квартира,выставленная на продажу,имеет площадь около 44 квадратных метров, жилую площадь - 16 метров, кухню площадью 8 метров,стоит около 4,5 млн.рублей,высота потолков в квартире 2.65 метров, при этом комнат в квартире должно быть от 1 до 3,а также квартира находится в среднем на расстоянии 12000-15000 метров от центра города и 200-700 метров от парка.\n",
    "  * Изучено как быстро продавались квартиры\n",
    "      * Квартира продается в течение 180 дней,а рассчитанная медина,говорит о том,что квартира продается за 95 дней,при этом,можно сделать вывод,что в среднем больше всего квартир продается за 100-180 дней (2-3 месяца).\n",
    "      * Чем хуже квартира,тем дольше она будет продаваться.\n",
    "      * Быстрой продажей можно назвать сделку,совершенную за 45 дней и менее,необычайно долгими являются продажи совершенные от 231 дней,все же большинство квартир продаются до 180 дней.\n",
    "  * Определены факторы, которые больше всего влияют на общую (полную) стоимость объекта\n",
    "      * Чем больше общая площадь, тем выше стоимость. Корреляция этих параметров крайне высокая.\n",
    "      * Количество комнат, жилая площадь и общая площадь связаны между собой,здесь работает логика: больше комнат,следовательно больше жилая площадь,следовательно больше общая площадь,при этом стоит учитывать,что могут быть и варианты,что квартира находится близко к центру города,поэтому квартиры даже с меньшим количеством комнат,могут стоить дороже по сравнению с окраиной.\n",
    "      * Квартиры, находящиеся на первом этаже имеют минимальную стоимость,наибольшую стоимость имеют квартиры которые находятся ни на последнем ни на первом,при этом квартиры на последнем этаже имеют цену чуть больше,чем цена для квартир на первом этаже.\n",
    "      * Никакой зависимости между годом и месяцем и ценой нет,при этом присутствует взаимосвязь дня публикации и цены,пик цены доходит в субботу,данную зависимость сложно объяснить.\n",
    "  * Посчитана средняя цена одного квадратного метра в 10 населённых пунктах с наибольшим числом объявлений\n",
    "      * Наибольшая стоимость за квадратный метр в Санкт-Петебурге и составляет 114849.01 рублей.\n",
    "      * Наименьшая стоимость за квадратный метр в Выборге и составляет 58141.91 рублей.\n",
    "      * Малую стоимость за квадратный метр имеют города: Всеволожск,Гатчина,которые располагаются вдалеке от Санкт-Петербурга.\n",
    "      * Города,находящиеся в Ленинградской области, но при этом,находящиеся близь Санкт-Петербурга имеют среднюю стоимость за квадратный метр - от 75 тысяч до 92 тысяч.\n",
    "  * Вычислена средняя стоимость квартиры на разном удалении от центра Санкт-Петербурга\n",
    "      *  Cамые дорогие квартиры оказались в центре Санкт-Петербурга,снижение цены по средству увеличения расстояния происходит до отметки в 8 км,после цена не зависит от расстояния до центра города."
   ]
  }
 ],
 "metadata": {
  "ExecuteTimeLog": [
   {
    "duration": 716,
    "start_time": "2024-11-18T20:13:44.033Z"
   },
   {
    "duration": 92,
    "start_time": "2024-11-18T20:13:51.243Z"
   },
   {
    "duration": 13,
    "start_time": "2024-11-18T20:14:01.107Z"
   },
   {
    "duration": 60,
    "start_time": "2024-11-18T20:14:33.876Z"
   },
   {
    "duration": 6,
    "start_time": "2024-11-18T20:14:36.226Z"
   },
   {
    "duration": 56,
    "start_time": "2024-11-18T20:14:48.066Z"
   },
   {
    "duration": 54,
    "start_time": "2024-11-18T20:14:57.193Z"
   },
   {
    "duration": 58,
    "start_time": "2024-11-18T20:15:06.492Z"
   },
   {
    "duration": 96,
    "start_time": "2024-11-18T20:16:21.980Z"
   },
   {
    "duration": 95,
    "start_time": "2024-11-18T20:16:35.562Z"
   },
   {
    "duration": 6,
    "start_time": "2024-11-18T20:16:37.269Z"
   },
   {
    "duration": 93,
    "start_time": "2024-11-18T20:16:44.135Z"
   },
   {
    "duration": 6,
    "start_time": "2024-11-18T20:16:45.148Z"
   },
   {
    "duration": 98,
    "start_time": "2024-11-18T20:17:02.406Z"
   },
   {
    "duration": 6,
    "start_time": "2024-11-18T20:17:03.886Z"
   },
   {
    "duration": 106,
    "start_time": "2024-11-18T20:17:33.378Z"
   },
   {
    "duration": 7,
    "start_time": "2024-11-18T20:17:34.628Z"
   },
   {
    "duration": 99,
    "start_time": "2024-11-18T20:19:36.445Z"
   },
   {
    "duration": 6,
    "start_time": "2024-11-18T20:19:37.491Z"
   },
   {
    "duration": 117,
    "start_time": "2024-11-18T20:21:16.288Z"
   },
   {
    "duration": 17,
    "start_time": "2024-11-18T20:21:17.864Z"
   },
   {
    "duration": 103,
    "start_time": "2024-11-18T20:21:34.566Z"
   },
   {
    "duration": 6,
    "start_time": "2024-11-18T20:21:36.089Z"
   },
   {
    "duration": 58,
    "start_time": "2024-11-18T20:26:32.681Z"
   },
   {
    "duration": 5,
    "start_time": "2024-11-18T20:26:33.174Z"
   },
   {
    "duration": 103,
    "start_time": "2024-11-18T20:27:15.954Z"
   },
   {
    "duration": 4,
    "start_time": "2024-11-18T20:27:16.814Z"
   },
   {
    "duration": 119,
    "start_time": "2024-11-18T20:28:48.164Z"
   },
   {
    "duration": 7,
    "start_time": "2024-11-18T20:28:48.577Z"
   },
   {
    "duration": 137,
    "start_time": "2024-11-18T20:29:03.336Z"
   },
   {
    "duration": 113,
    "start_time": "2024-11-18T20:29:05.289Z"
   },
   {
    "duration": 16,
    "start_time": "2024-11-18T20:29:05.616Z"
   },
   {
    "duration": 21,
    "start_time": "2024-11-18T20:42:45.889Z"
   },
   {
    "duration": 638,
    "start_time": "2024-11-18T20:43:54.677Z"
   },
   {
    "duration": 120,
    "start_time": "2024-11-18T20:44:33.566Z"
   },
   {
    "duration": 16,
    "start_time": "2024-11-18T20:44:34.471Z"
   },
   {
    "duration": 21,
    "start_time": "2024-11-18T20:44:34.902Z"
   },
   {
    "duration": 27,
    "start_time": "2024-11-18T20:44:35.591Z"
   },
   {
    "duration": 2188,
    "start_time": "2024-11-18T20:44:47.694Z"
   },
   {
    "duration": 32,
    "start_time": "2024-11-18T20:56:26.545Z"
   },
   {
    "duration": 12,
    "start_time": "2024-11-18T20:57:10.455Z"
   },
   {
    "duration": 27,
    "start_time": "2024-11-18T20:57:23.658Z"
   },
   {
    "duration": 43,
    "start_time": "2024-11-18T20:57:34.945Z"
   },
   {
    "duration": 11,
    "start_time": "2024-11-18T20:57:59.969Z"
   },
   {
    "duration": 65,
    "start_time": "2024-11-18T20:58:03.592Z"
   },
   {
    "duration": 12,
    "start_time": "2024-11-18T20:58:04.088Z"
   },
   {
    "duration": 11,
    "start_time": "2024-11-18T20:59:17.821Z"
   },
   {
    "duration": 13,
    "start_time": "2024-11-18T20:59:50.090Z"
   },
   {
    "duration": 37,
    "start_time": "2024-11-18T21:00:02.813Z"
   },
   {
    "duration": 11,
    "start_time": "2024-11-18T21:00:07.210Z"
   },
   {
    "duration": 14,
    "start_time": "2024-11-18T21:00:15.151Z"
   },
   {
    "duration": 43,
    "start_time": "2024-11-18T21:00:20.047Z"
   },
   {
    "duration": 114,
    "start_time": "2024-11-18T21:01:04.905Z"
   },
   {
    "duration": 17,
    "start_time": "2024-11-18T21:01:05.021Z"
   },
   {
    "duration": 17,
    "start_time": "2024-11-18T21:01:05.496Z"
   },
   {
    "duration": 1998,
    "start_time": "2024-11-18T21:01:06.454Z"
   },
   {
    "duration": 47,
    "start_time": "2024-11-18T21:01:11.798Z"
   },
   {
    "duration": 106,
    "start_time": "2024-11-18T21:01:16.278Z"
   },
   {
    "duration": 15,
    "start_time": "2024-11-18T21:01:16.764Z"
   },
   {
    "duration": 15,
    "start_time": "2024-11-18T21:01:17.703Z"
   },
   {
    "duration": 1968,
    "start_time": "2024-11-18T21:01:18.871Z"
   },
   {
    "duration": 15,
    "start_time": "2024-11-18T21:01:29.212Z"
   },
   {
    "duration": 53,
    "start_time": "2024-11-18T21:13:36.189Z"
   },
   {
    "duration": 104,
    "start_time": "2024-11-18T21:14:02.546Z"
   },
   {
    "duration": 383,
    "start_time": "2024-11-18T21:14:36.686Z"
   },
   {
    "duration": 120,
    "start_time": "2024-11-18T21:14:39.130Z"
   },
   {
    "duration": 46,
    "start_time": "2024-11-25T06:52:39.696Z"
   },
   {
    "duration": 821,
    "start_time": "2024-11-25T06:52:46.427Z"
   },
   {
    "duration": 7,
    "start_time": "2024-11-25T06:52:47.407Z"
   },
   {
    "duration": 323,
    "start_time": "2024-11-25T06:54:06.769Z"
   },
   {
    "duration": 30,
    "start_time": "2024-11-25T06:54:07.094Z"
   },
   {
    "duration": 54,
    "start_time": "2024-11-25T06:54:07.126Z"
   },
   {
    "duration": 12,
    "start_time": "2024-11-25T06:54:07.181Z"
   },
   {
    "duration": 24,
    "start_time": "2024-11-25T06:54:07.195Z"
   },
   {
    "duration": 1756,
    "start_time": "2024-11-25T06:54:07.221Z"
   },
   {
    "duration": 12,
    "start_time": "2024-11-25T06:54:08.979Z"
   },
   {
    "duration": 11,
    "start_time": "2024-11-25T06:54:08.992Z"
   },
   {
    "duration": 10,
    "start_time": "2024-11-25T06:54:09.004Z"
   },
   {
    "duration": 312,
    "start_time": "2024-11-25T06:54:09.016Z"
   },
   {
    "duration": 245,
    "start_time": "2024-11-25T06:54:09.329Z"
   },
   {
    "duration": 8,
    "start_time": "2024-11-25T06:54:09.575Z"
   },
   {
    "duration": 5,
    "start_time": "2024-11-25T06:54:09.585Z"
   },
   {
    "duration": 5,
    "start_time": "2024-11-25T06:54:09.593Z"
   },
   {
    "duration": 4,
    "start_time": "2024-11-25T06:54:09.600Z"
   },
   {
    "duration": 5,
    "start_time": "2024-11-25T06:54:09.606Z"
   },
   {
    "duration": 6,
    "start_time": "2024-11-25T06:54:09.612Z"
   },
   {
    "duration": 4,
    "start_time": "2024-11-25T06:54:09.620Z"
   },
   {
    "duration": 51,
    "start_time": "2024-11-25T06:54:09.625Z"
   },
   {
    "duration": 6,
    "start_time": "2024-11-25T06:54:09.678Z"
   },
   {
    "duration": 8,
    "start_time": "2024-11-25T06:54:09.685Z"
   },
   {
    "duration": 3,
    "start_time": "2024-11-25T06:54:09.694Z"
   },
   {
    "duration": 8,
    "start_time": "2024-11-25T06:54:09.699Z"
   },
   {
    "duration": 288,
    "start_time": "2024-11-25T06:54:09.708Z"
   },
   {
    "duration": 4,
    "start_time": "2024-11-25T06:54:09.997Z"
   },
   {
    "duration": 30,
    "start_time": "2024-11-25T06:54:10.003Z"
   },
   {
    "duration": 360,
    "start_time": "2024-11-25T06:54:10.034Z"
   },
   {
    "duration": 4,
    "start_time": "2024-11-25T06:54:10.396Z"
   },
   {
    "duration": 35,
    "start_time": "2024-11-25T06:54:10.401Z"
   },
   {
    "duration": 9,
    "start_time": "2024-11-25T06:54:10.438Z"
   },
   {
    "duration": 321,
    "start_time": "2024-11-25T06:54:10.449Z"
   },
   {
    "duration": 10,
    "start_time": "2024-11-25T06:54:10.771Z"
   },
   {
    "duration": 418,
    "start_time": "2024-11-25T06:54:10.783Z"
   },
   {
    "duration": 9,
    "start_time": "2024-11-25T06:54:11.203Z"
   },
   {
    "duration": 207,
    "start_time": "2024-11-25T06:54:11.214Z"
   },
   {
    "duration": 10,
    "start_time": "2024-11-25T06:54:11.423Z"
   },
   {
    "duration": 278,
    "start_time": "2024-11-25T06:54:11.434Z"
   },
   {
    "duration": 9,
    "start_time": "2024-11-25T06:54:11.713Z"
   },
   {
    "duration": 181,
    "start_time": "2024-11-25T06:54:11.723Z"
   },
   {
    "duration": 10,
    "start_time": "2024-11-25T06:54:11.905Z"
   },
   {
    "duration": 130,
    "start_time": "2024-11-25T06:54:11.919Z"
   },
   {
    "duration": 20,
    "start_time": "2024-11-25T06:54:12.051Z"
   },
   {
    "duration": 173,
    "start_time": "2024-11-25T06:54:12.073Z"
   },
   {
    "duration": 8,
    "start_time": "2024-11-25T06:54:12.248Z"
   },
   {
    "duration": 180,
    "start_time": "2024-11-25T06:54:12.257Z"
   },
   {
    "duration": 9,
    "start_time": "2024-11-25T06:54:12.438Z"
   },
   {
    "duration": 200,
    "start_time": "2024-11-25T06:54:12.449Z"
   },
   {
    "duration": 8,
    "start_time": "2024-11-25T06:54:12.651Z"
   },
   {
    "duration": 252,
    "start_time": "2024-11-25T06:54:12.660Z"
   },
   {
    "duration": 9,
    "start_time": "2024-11-25T06:54:12.913Z"
   },
   {
    "duration": 365,
    "start_time": "2024-11-25T06:54:12.924Z"
   },
   {
    "duration": 21,
    "start_time": "2024-11-25T06:54:13.291Z"
   },
   {
    "duration": 69,
    "start_time": "2024-11-25T06:54:13.314Z"
   },
   {
    "duration": 176,
    "start_time": "2024-11-25T06:54:13.384Z"
   },
   {
    "duration": 20,
    "start_time": "2024-11-25T06:54:13.561Z"
   },
   {
    "duration": 165,
    "start_time": "2024-11-25T06:54:13.583Z"
   },
   {
    "duration": 22,
    "start_time": "2024-11-25T06:54:13.750Z"
   },
   {
    "duration": 165,
    "start_time": "2024-11-25T06:54:13.773Z"
   },
   {
    "duration": 10,
    "start_time": "2024-11-25T06:54:13.939Z"
   },
   {
    "duration": 173,
    "start_time": "2024-11-25T06:54:13.951Z"
   },
   {
    "duration": 11,
    "start_time": "2024-11-25T06:54:14.126Z"
   },
   {
    "duration": 169,
    "start_time": "2024-11-25T06:54:14.138Z"
   },
   {
    "duration": 22,
    "start_time": "2024-11-25T06:54:14.308Z"
   },
   {
    "duration": 165,
    "start_time": "2024-11-25T06:54:14.331Z"
   },
   {
    "duration": 164,
    "start_time": "2024-11-25T06:54:14.498Z"
   },
   {
    "duration": 173,
    "start_time": "2024-11-25T06:54:14.663Z"
   },
   {
    "duration": 34,
    "start_time": "2024-11-25T06:54:14.837Z"
   },
   {
    "duration": 21,
    "start_time": "2024-11-25T06:54:14.873Z"
   },
   {
    "duration": 172,
    "start_time": "2024-11-25T06:54:14.895Z"
   },
   {
    "duration": 928,
    "start_time": "2024-11-27T07:27:40.473Z"
   },
   {
    "duration": 31,
    "start_time": "2024-11-27T07:27:42.514Z"
   },
   {
    "duration": 21,
    "start_time": "2024-11-27T07:27:42.979Z"
   },
   {
    "duration": 17,
    "start_time": "2024-11-27T07:27:43.351Z"
   },
   {
    "duration": 25,
    "start_time": "2024-11-27T07:27:43.886Z"
   },
   {
    "duration": 1787,
    "start_time": "2024-11-27T07:27:44.252Z"
   },
   {
    "duration": 10,
    "start_time": "2024-11-27T07:27:46.040Z"
   },
   {
    "duration": 14,
    "start_time": "2024-11-27T07:27:46.194Z"
   },
   {
    "duration": 10,
    "start_time": "2024-11-27T07:27:46.563Z"
   },
   {
    "duration": 289,
    "start_time": "2024-11-27T07:27:47.225Z"
   },
   {
    "duration": 249,
    "start_time": "2024-11-27T07:27:48.638Z"
   },
   {
    "duration": 8,
    "start_time": "2024-11-27T07:27:49.081Z"
   },
   {
    "duration": 8,
    "start_time": "2024-11-27T07:27:49.958Z"
   },
   {
    "duration": 7,
    "start_time": "2024-11-27T07:27:50.698Z"
   },
   {
    "duration": 5,
    "start_time": "2024-11-27T07:28:19.797Z"
   },
   {
    "duration": 6,
    "start_time": "2024-11-27T07:28:27.071Z"
   },
   {
    "duration": 5,
    "start_time": "2024-11-27T07:28:27.171Z"
   },
   {
    "duration": 6,
    "start_time": "2024-11-27T07:28:29.293Z"
   },
   {
    "duration": 5,
    "start_time": "2024-11-27T07:28:29.637Z"
   },
   {
    "duration": 6,
    "start_time": "2024-11-27T07:28:43.771Z"
   },
   {
    "duration": 6,
    "start_time": "2024-11-27T07:28:44.255Z"
   },
   {
    "duration": 8,
    "start_time": "2024-11-27T11:46:10.342Z"
   },
   {
    "duration": 4,
    "start_time": "2024-11-27T11:46:23.071Z"
   },
   {
    "duration": 3,
    "start_time": "2024-11-27T11:46:29.201Z"
   },
   {
    "duration": 1074,
    "start_time": "2024-11-27T11:46:37.432Z"
   },
   {
    "duration": 33,
    "start_time": "2024-11-27T11:46:38.509Z"
   },
   {
    "duration": 25,
    "start_time": "2024-11-27T11:46:38.544Z"
   },
   {
    "duration": 17,
    "start_time": "2024-11-27T11:46:38.571Z"
   },
   {
    "duration": 24,
    "start_time": "2024-11-27T11:46:38.590Z"
   },
   {
    "duration": 2008,
    "start_time": "2024-11-27T11:46:38.616Z"
   },
   {
    "duration": 11,
    "start_time": "2024-11-27T11:46:40.625Z"
   },
   {
    "duration": 14,
    "start_time": "2024-11-27T11:46:40.638Z"
   },
   {
    "duration": 27,
    "start_time": "2024-11-27T11:46:40.654Z"
   },
   {
    "duration": 393,
    "start_time": "2024-11-27T11:46:40.683Z"
   },
   {
    "duration": 331,
    "start_time": "2024-11-27T11:46:41.078Z"
   },
   {
    "duration": 10,
    "start_time": "2024-11-27T11:46:41.411Z"
   },
   {
    "duration": 16,
    "start_time": "2024-11-27T11:46:41.423Z"
   },
   {
    "duration": 14,
    "start_time": "2024-11-27T11:46:41.443Z"
   },
   {
    "duration": 22,
    "start_time": "2024-11-27T11:46:41.459Z"
   },
   {
    "duration": 6,
    "start_time": "2024-11-27T11:46:41.484Z"
   },
   {
    "duration": 20,
    "start_time": "2024-11-27T11:46:41.492Z"
   },
   {
    "duration": 16,
    "start_time": "2024-11-27T11:46:41.514Z"
   },
   {
    "duration": 11,
    "start_time": "2024-11-27T11:46:41.532Z"
   },
   {
    "duration": 7,
    "start_time": "2024-11-27T11:46:41.544Z"
   },
   {
    "duration": 22,
    "start_time": "2024-11-27T11:46:41.553Z"
   },
   {
    "duration": 5,
    "start_time": "2024-11-27T11:46:41.578Z"
   },
   {
    "duration": 8,
    "start_time": "2024-11-27T11:46:41.585Z"
   },
   {
    "duration": 316,
    "start_time": "2024-11-27T11:46:41.595Z"
   },
   {
    "duration": 4,
    "start_time": "2024-11-27T11:46:41.913Z"
   },
   {
    "duration": 0,
    "start_time": "2024-11-27T11:46:41.920Z"
   },
   {
    "duration": 0,
    "start_time": "2024-11-27T11:46:41.922Z"
   },
   {
    "duration": 0,
    "start_time": "2024-11-27T11:46:41.923Z"
   },
   {
    "duration": 0,
    "start_time": "2024-11-27T11:46:41.925Z"
   },
   {
    "duration": 0,
    "start_time": "2024-11-27T11:46:41.926Z"
   },
   {
    "duration": 0,
    "start_time": "2024-11-27T11:46:41.927Z"
   },
   {
    "duration": 0,
    "start_time": "2024-11-27T11:46:41.929Z"
   },
   {
    "duration": 0,
    "start_time": "2024-11-27T11:46:41.930Z"
   },
   {
    "duration": 0,
    "start_time": "2024-11-27T11:46:41.931Z"
   },
   {
    "duration": 0,
    "start_time": "2024-11-27T11:46:41.933Z"
   },
   {
    "duration": 0,
    "start_time": "2024-11-27T11:46:41.934Z"
   },
   {
    "duration": 0,
    "start_time": "2024-11-27T11:46:41.966Z"
   },
   {
    "duration": 0,
    "start_time": "2024-11-27T11:46:41.968Z"
   },
   {
    "duration": 0,
    "start_time": "2024-11-27T11:46:41.970Z"
   },
   {
    "duration": 0,
    "start_time": "2024-11-27T11:46:41.971Z"
   },
   {
    "duration": 0,
    "start_time": "2024-11-27T11:46:41.972Z"
   },
   {
    "duration": 0,
    "start_time": "2024-11-27T11:46:41.974Z"
   },
   {
    "duration": 0,
    "start_time": "2024-11-27T11:46:41.976Z"
   },
   {
    "duration": 0,
    "start_time": "2024-11-27T11:46:41.977Z"
   },
   {
    "duration": 0,
    "start_time": "2024-11-27T11:46:41.979Z"
   },
   {
    "duration": 0,
    "start_time": "2024-11-27T11:46:41.980Z"
   },
   {
    "duration": 0,
    "start_time": "2024-11-27T11:46:41.982Z"
   },
   {
    "duration": 0,
    "start_time": "2024-11-27T11:46:41.984Z"
   },
   {
    "duration": 0,
    "start_time": "2024-11-27T11:46:41.985Z"
   },
   {
    "duration": 0,
    "start_time": "2024-11-27T11:46:41.986Z"
   },
   {
    "duration": 0,
    "start_time": "2024-11-27T11:46:41.988Z"
   },
   {
    "duration": 1,
    "start_time": "2024-11-27T11:46:41.989Z"
   },
   {
    "duration": 0,
    "start_time": "2024-11-27T11:46:41.991Z"
   },
   {
    "duration": 0,
    "start_time": "2024-11-27T11:46:41.993Z"
   },
   {
    "duration": 0,
    "start_time": "2024-11-27T11:46:41.994Z"
   },
   {
    "duration": 0,
    "start_time": "2024-11-27T11:46:41.996Z"
   },
   {
    "duration": 0,
    "start_time": "2024-11-27T11:46:41.998Z"
   },
   {
    "duration": 0,
    "start_time": "2024-11-27T11:46:41.999Z"
   },
   {
    "duration": 0,
    "start_time": "2024-11-27T11:46:42.001Z"
   },
   {
    "duration": 0,
    "start_time": "2024-11-27T11:46:42.002Z"
   },
   {
    "duration": 0,
    "start_time": "2024-11-27T11:46:42.004Z"
   },
   {
    "duration": 0,
    "start_time": "2024-11-27T11:46:42.006Z"
   },
   {
    "duration": 0,
    "start_time": "2024-11-27T11:46:42.007Z"
   },
   {
    "duration": 0,
    "start_time": "2024-11-27T11:46:42.066Z"
   },
   {
    "duration": 0,
    "start_time": "2024-11-27T11:46:42.069Z"
   },
   {
    "duration": 0,
    "start_time": "2024-11-27T11:46:42.070Z"
   },
   {
    "duration": 0,
    "start_time": "2024-11-27T11:46:42.071Z"
   },
   {
    "duration": 0,
    "start_time": "2024-11-27T11:46:42.072Z"
   },
   {
    "duration": 0,
    "start_time": "2024-11-27T11:46:42.073Z"
   },
   {
    "duration": 0,
    "start_time": "2024-11-27T11:46:42.074Z"
   },
   {
    "duration": 4,
    "start_time": "2024-11-27T11:47:41.503Z"
   }
  ],
  "colab": {
   "provenance": []
  },
  "kernelspec": {
   "display_name": "Python 3 (ipykernel)",
   "language": "python",
   "name": "python3"
  },
  "language_info": {
   "codemirror_mode": {
    "name": "ipython",
    "version": 3
   },
   "file_extension": ".py",
   "mimetype": "text/x-python",
   "name": "python",
   "nbconvert_exporter": "python",
   "pygments_lexer": "ipython3",
   "version": "3.9.5"
  },
  "toc": {
   "base_numbering": 1,
   "nav_menu": {},
   "number_sections": true,
   "sideBar": true,
   "skip_h1_title": true,
   "title_cell": "Table of Contents",
   "title_sidebar": "Contents",
   "toc_cell": false,
   "toc_position": {},
   "toc_section_display": true,
   "toc_window_display": false
  }
 },
 "nbformat": 4,
 "nbformat_minor": 4
}
