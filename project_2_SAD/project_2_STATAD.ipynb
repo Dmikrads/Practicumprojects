{
 "cells": [
  {
   "cell_type": "markdown",
   "id": "ef851c47",
   "metadata": {},
   "source": [
    "# Статистический анализ данных"
   ]
  },
  {
   "cell_type": "markdown",
   "id": "1c600ae9",
   "metadata": {},
   "source": [
    "Вы аналитик популярного сервиса аренды самокатов GoFast. Вам передали данные о некоторых пользователях из нескольких городов, а также об их поездках. Проанализируйте данные и проверьте некоторые гипотезы, которые могут помочь бизнесу вырасти.\n",
    "Чтобы совершать поездки по городу, пользователи сервиса GoFast пользуются мобильным приложением. Сервисом можно пользоваться:\n",
    "* Без подписки\n",
    "\n",
    "    * абонентская плата отсутствует\n",
    "    * стоимость одной минуты поездки — 8 рублей\n",
    "    * стоимость старта (начала поездки) — 50 рублей\n",
    "    \n",
    "* С подпиской ultra\n",
    "\n",
    "    * абонентская плата — 199 рублей в месяц\n",
    "    * стоимость одной минуты поездки — 6 рублей\n",
    "    * стоимость старта — бесплатно\n",
    "    \n"
   ]
  },
  {
   "cell_type": "markdown",
   "id": "8dcc05c8",
   "metadata": {},
   "source": [
    "**Описание данных:**\n",
    "* В основных данных есть информация о пользователях, их поездках и подписках.\n",
    "    * Пользователи — users_go.csv\n",
    "        * user_id - уникальный идентификатор пользователя\n",
    "        * name - имя пользователя\n",
    "        * age - возраст\n",
    "        * city - город\n",
    "        * subscription_type - тип подписки (free, ultra)\n",
    "    * Поездки — rides_go.csv\n",
    "        * user_id - уникальный идентификатор пользователя\n",
    "        * distance - расстояние, которое пользователь проехал в текущей сессии (в метрах)\n",
    "        * duration - продолжительность сессии (в минутах) — время с того момента, как пользователь нажал кнопку «Начать поездку» до момента, как он нажал кнопку «Завершить поездку»\n",
    "        * date - дата совершения поездки\n",
    "    * Подписки — subscriptions_go.csv\n",
    "        * subscription_type - тип подписки\n",
    "        * minute_price - стоимость одной минуты поездки по данной подписке\n",
    "        * start_ride_price - стоимость начала поездки\n",
    "        * subscription_fee - стоимость ежемесячного платежа"
   ]
  },
  {
   "cell_type": "markdown",
   "id": "53df67fc",
   "metadata": {},
   "source": [
    "**Цель исследования** - проанализировать данны и проверить гипотезы, которые помогут бизнесу вырасти."
   ]
  },
  {
   "cell_type": "markdown",
   "id": "1a92e6bc",
   "metadata": {},
   "source": [
    "**План исследования**\n",
    "* Изучить данные\n",
    "* Выполнить предобработку данных\n",
    "* Провести исследовательский анализ данных\n",
    "    * Описать и визуализировать общую информацию о пользователях и поездках:\n",
    "        * частота встречаемости городов\n",
    "        * соотношение пользователей с подпиской и без подписки\n",
    "        * возраст пользователей\n",
    "        * расстояние, которое пользователь преодолел за одну поездку\n",
    "        * продолжительность поездок\n",
    "* Объединить данные\n",
    "    * Объединить данные о пользователях, поездках и подписках в один датафрейм\n",
    "    * Создать ещё два датафрейма:\n",
    "        * c данными о пользователях без подписки\n",
    "        * с данными о пользователях с подпиской\n",
    "    * Визуализировать информацию о расстоянии и времени поездок для пользователей обеих категорий\n",
    "* Подсчёт выручки\n",
    "* Проверка гипотез\n",
    "* Сделать общий вывод"
   ]
  },
  {
   "cell_type": "markdown",
   "id": "68e4211b",
   "metadata": {},
   "source": [
    "Импортируем нужные библиотеки"
   ]
  },
  {
   "cell_type": "code",
   "execution_count": 1,
   "id": "72576667",
   "metadata": {},
   "outputs": [],
   "source": [
    "import pandas as pd\n",
    "import numpy as np\n",
    "import matplotlib.pyplot as plt\n",
    "from math import sqrt,factorial\n",
    "from scipy import stats as st"
   ]
  },
  {
   "cell_type": "markdown",
   "id": "c42cbe00",
   "metadata": {},
   "source": [
    "## Загрузка данных"
   ]
  },
  {
   "cell_type": "code",
   "execution_count": 2,
   "id": "eff9f206",
   "metadata": {},
   "outputs": [],
   "source": [
    "users = pd.read_csv('/datasets/users_go.csv')\n",
    "rides = pd.read_csv('/datasets/rides_go.csv')\n",
    "subscriptions = pd.read_csv('/datasets/subscriptions_go.csv')"
   ]
  },
  {
   "cell_type": "markdown",
   "id": "b8352b73",
   "metadata": {},
   "source": [
    "Изучим общую информацию и выведем первые строки каждого датафрейма"
   ]
  },
  {
   "cell_type": "markdown",
   "id": "a1544824",
   "metadata": {},
   "source": [
    "**Датафрейм users**"
   ]
  },
  {
   "cell_type": "code",
   "execution_count": 3,
   "id": "2effd462",
   "metadata": {},
   "outputs": [
    {
     "data": {
      "text/html": [
       "<div>\n",
       "<style scoped>\n",
       "    .dataframe tbody tr th:only-of-type {\n",
       "        vertical-align: middle;\n",
       "    }\n",
       "\n",
       "    .dataframe tbody tr th {\n",
       "        vertical-align: top;\n",
       "    }\n",
       "\n",
       "    .dataframe thead th {\n",
       "        text-align: right;\n",
       "    }\n",
       "</style>\n",
       "<table border=\"1\" class=\"dataframe\">\n",
       "  <thead>\n",
       "    <tr style=\"text-align: right;\">\n",
       "      <th></th>\n",
       "      <th>user_id</th>\n",
       "      <th>name</th>\n",
       "      <th>age</th>\n",
       "      <th>city</th>\n",
       "      <th>subscription_type</th>\n",
       "    </tr>\n",
       "  </thead>\n",
       "  <tbody>\n",
       "    <tr>\n",
       "      <th>0</th>\n",
       "      <td>1</td>\n",
       "      <td>Кира</td>\n",
       "      <td>22</td>\n",
       "      <td>Тюмень</td>\n",
       "      <td>ultra</td>\n",
       "    </tr>\n",
       "    <tr>\n",
       "      <th>1</th>\n",
       "      <td>2</td>\n",
       "      <td>Станислав</td>\n",
       "      <td>31</td>\n",
       "      <td>Омск</td>\n",
       "      <td>ultra</td>\n",
       "    </tr>\n",
       "    <tr>\n",
       "      <th>2</th>\n",
       "      <td>3</td>\n",
       "      <td>Алексей</td>\n",
       "      <td>20</td>\n",
       "      <td>Москва</td>\n",
       "      <td>ultra</td>\n",
       "    </tr>\n",
       "    <tr>\n",
       "      <th>3</th>\n",
       "      <td>4</td>\n",
       "      <td>Константин</td>\n",
       "      <td>26</td>\n",
       "      <td>Ростов-на-Дону</td>\n",
       "      <td>ultra</td>\n",
       "    </tr>\n",
       "    <tr>\n",
       "      <th>4</th>\n",
       "      <td>5</td>\n",
       "      <td>Адель</td>\n",
       "      <td>28</td>\n",
       "      <td>Омск</td>\n",
       "      <td>ultra</td>\n",
       "    </tr>\n",
       "  </tbody>\n",
       "</table>\n",
       "</div>"
      ],
      "text/plain": [
       "   user_id        name  age            city subscription_type\n",
       "0        1        Кира   22          Тюмень             ultra\n",
       "1        2   Станислав   31            Омск             ultra\n",
       "2        3     Алексей   20          Москва             ultra\n",
       "3        4  Константин   26  Ростов-на-Дону             ultra\n",
       "4        5       Адель   28            Омск             ultra"
      ]
     },
     "execution_count": 3,
     "metadata": {},
     "output_type": "execute_result"
    }
   ],
   "source": [
    "users.head()"
   ]
  },
  {
   "cell_type": "code",
   "execution_count": 4,
   "id": "4aec5b82",
   "metadata": {},
   "outputs": [
    {
     "name": "stdout",
     "output_type": "stream",
     "text": [
      "<class 'pandas.core.frame.DataFrame'>\n",
      "RangeIndex: 1565 entries, 0 to 1564\n",
      "Data columns (total 5 columns):\n",
      " #   Column             Non-Null Count  Dtype \n",
      "---  ------             --------------  ----- \n",
      " 0   user_id            1565 non-null   int64 \n",
      " 1   name               1565 non-null   object\n",
      " 2   age                1565 non-null   int64 \n",
      " 3   city               1565 non-null   object\n",
      " 4   subscription_type  1565 non-null   object\n",
      "dtypes: int64(2), object(3)\n",
      "memory usage: 61.3+ KB\n"
     ]
    },
    {
     "data": {
      "text/plain": [
       "(1565, 5)"
      ]
     },
     "execution_count": 4,
     "metadata": {},
     "output_type": "execute_result"
    }
   ],
   "source": [
    "users.info()\n",
    "users.shape"
   ]
  },
  {
   "cell_type": "markdown",
   "id": "2d32e426",
   "metadata": {},
   "source": [
    "**Датафрейм rides**"
   ]
  },
  {
   "cell_type": "code",
   "execution_count": 5,
   "id": "4e0116c2",
   "metadata": {},
   "outputs": [
    {
     "data": {
      "text/html": [
       "<div>\n",
       "<style scoped>\n",
       "    .dataframe tbody tr th:only-of-type {\n",
       "        vertical-align: middle;\n",
       "    }\n",
       "\n",
       "    .dataframe tbody tr th {\n",
       "        vertical-align: top;\n",
       "    }\n",
       "\n",
       "    .dataframe thead th {\n",
       "        text-align: right;\n",
       "    }\n",
       "</style>\n",
       "<table border=\"1\" class=\"dataframe\">\n",
       "  <thead>\n",
       "    <tr style=\"text-align: right;\">\n",
       "      <th></th>\n",
       "      <th>user_id</th>\n",
       "      <th>distance</th>\n",
       "      <th>duration</th>\n",
       "      <th>date</th>\n",
       "    </tr>\n",
       "  </thead>\n",
       "  <tbody>\n",
       "    <tr>\n",
       "      <th>0</th>\n",
       "      <td>1</td>\n",
       "      <td>4409.919140</td>\n",
       "      <td>25.599769</td>\n",
       "      <td>2021-01-01</td>\n",
       "    </tr>\n",
       "    <tr>\n",
       "      <th>1</th>\n",
       "      <td>1</td>\n",
       "      <td>2617.592153</td>\n",
       "      <td>15.816871</td>\n",
       "      <td>2021-01-18</td>\n",
       "    </tr>\n",
       "    <tr>\n",
       "      <th>2</th>\n",
       "      <td>1</td>\n",
       "      <td>754.159807</td>\n",
       "      <td>6.232113</td>\n",
       "      <td>2021-04-20</td>\n",
       "    </tr>\n",
       "    <tr>\n",
       "      <th>3</th>\n",
       "      <td>1</td>\n",
       "      <td>2694.783254</td>\n",
       "      <td>18.511000</td>\n",
       "      <td>2021-08-11</td>\n",
       "    </tr>\n",
       "    <tr>\n",
       "      <th>4</th>\n",
       "      <td>1</td>\n",
       "      <td>4028.687306</td>\n",
       "      <td>26.265803</td>\n",
       "      <td>2021-08-28</td>\n",
       "    </tr>\n",
       "    <tr>\n",
       "      <th>5</th>\n",
       "      <td>1</td>\n",
       "      <td>2770.890808</td>\n",
       "      <td>16.650138</td>\n",
       "      <td>2021-10-09</td>\n",
       "    </tr>\n",
       "    <tr>\n",
       "      <th>6</th>\n",
       "      <td>1</td>\n",
       "      <td>3039.020292</td>\n",
       "      <td>14.927879</td>\n",
       "      <td>2021-10-19</td>\n",
       "    </tr>\n",
       "    <tr>\n",
       "      <th>7</th>\n",
       "      <td>1</td>\n",
       "      <td>2842.118050</td>\n",
       "      <td>23.117468</td>\n",
       "      <td>2021-11-06</td>\n",
       "    </tr>\n",
       "    <tr>\n",
       "      <th>8</th>\n",
       "      <td>1</td>\n",
       "      <td>3412.690668</td>\n",
       "      <td>15.238072</td>\n",
       "      <td>2021-11-14</td>\n",
       "    </tr>\n",
       "    <tr>\n",
       "      <th>9</th>\n",
       "      <td>1</td>\n",
       "      <td>748.690645</td>\n",
       "      <td>15.041884</td>\n",
       "      <td>2021-11-22</td>\n",
       "    </tr>\n",
       "    <tr>\n",
       "      <th>10</th>\n",
       "      <td>1</td>\n",
       "      <td>4031.020195</td>\n",
       "      <td>17.674448</td>\n",
       "      <td>2021-12-14</td>\n",
       "    </tr>\n",
       "    <tr>\n",
       "      <th>11</th>\n",
       "      <td>1</td>\n",
       "      <td>2720.609748</td>\n",
       "      <td>9.529463</td>\n",
       "      <td>2021-12-22</td>\n",
       "    </tr>\n",
       "    <tr>\n",
       "      <th>12</th>\n",
       "      <td>2</td>\n",
       "      <td>3105.086678</td>\n",
       "      <td>24.307514</td>\n",
       "      <td>2021-03-15</td>\n",
       "    </tr>\n",
       "    <tr>\n",
       "      <th>13</th>\n",
       "      <td>2</td>\n",
       "      <td>3053.519401</td>\n",
       "      <td>11.543256</td>\n",
       "      <td>2021-03-18</td>\n",
       "    </tr>\n",
       "    <tr>\n",
       "      <th>14</th>\n",
       "      <td>2</td>\n",
       "      <td>4029.116927</td>\n",
       "      <td>25.109188</td>\n",
       "      <td>2021-03-23</td>\n",
       "    </tr>\n",
       "    <tr>\n",
       "      <th>15</th>\n",
       "      <td>2</td>\n",
       "      <td>2805.786329</td>\n",
       "      <td>20.652145</td>\n",
       "      <td>2021-04-08</td>\n",
       "    </tr>\n",
       "    <tr>\n",
       "      <th>16</th>\n",
       "      <td>2</td>\n",
       "      <td>3358.595495</td>\n",
       "      <td>18.396489</td>\n",
       "      <td>2021-04-13</td>\n",
       "    </tr>\n",
       "    <tr>\n",
       "      <th>17</th>\n",
       "      <td>2</td>\n",
       "      <td>3255.338202</td>\n",
       "      <td>13.851127</td>\n",
       "      <td>2021-06-20</td>\n",
       "    </tr>\n",
       "    <tr>\n",
       "      <th>18</th>\n",
       "      <td>2</td>\n",
       "      <td>3942.817648</td>\n",
       "      <td>20.142725</td>\n",
       "      <td>2021-07-02</td>\n",
       "    </tr>\n",
       "    <tr>\n",
       "      <th>19</th>\n",
       "      <td>2</td>\n",
       "      <td>2837.905316</td>\n",
       "      <td>26.027432</td>\n",
       "      <td>2021-07-18</td>\n",
       "    </tr>\n",
       "    <tr>\n",
       "      <th>20</th>\n",
       "      <td>2</td>\n",
       "      <td>923.007439</td>\n",
       "      <td>6.914760</td>\n",
       "      <td>2021-08-03</td>\n",
       "    </tr>\n",
       "    <tr>\n",
       "      <th>21</th>\n",
       "      <td>2</td>\n",
       "      <td>2824.636598</td>\n",
       "      <td>18.779128</td>\n",
       "      <td>2021-10-27</td>\n",
       "    </tr>\n",
       "    <tr>\n",
       "      <th>22</th>\n",
       "      <td>2</td>\n",
       "      <td>3828.248580</td>\n",
       "      <td>11.920514</td>\n",
       "      <td>2021-12-18</td>\n",
       "    </tr>\n",
       "    <tr>\n",
       "      <th>23</th>\n",
       "      <td>3</td>\n",
       "      <td>3061.777147</td>\n",
       "      <td>12.654443</td>\n",
       "      <td>2021-01-31</td>\n",
       "    </tr>\n",
       "    <tr>\n",
       "      <th>24</th>\n",
       "      <td>3</td>\n",
       "      <td>2560.495330</td>\n",
       "      <td>16.534984</td>\n",
       "      <td>2021-02-24</td>\n",
       "    </tr>\n",
       "    <tr>\n",
       "      <th>25</th>\n",
       "      <td>3</td>\n",
       "      <td>2860.656686</td>\n",
       "      <td>21.033653</td>\n",
       "      <td>2021-02-26</td>\n",
       "    </tr>\n",
       "    <tr>\n",
       "      <th>26</th>\n",
       "      <td>3</td>\n",
       "      <td>2956.651632</td>\n",
       "      <td>20.671364</td>\n",
       "      <td>2021-04-12</td>\n",
       "    </tr>\n",
       "    <tr>\n",
       "      <th>27</th>\n",
       "      <td>3</td>\n",
       "      <td>2756.975841</td>\n",
       "      <td>18.519025</td>\n",
       "      <td>2021-05-07</td>\n",
       "    </tr>\n",
       "    <tr>\n",
       "      <th>28</th>\n",
       "      <td>3</td>\n",
       "      <td>2837.317332</td>\n",
       "      <td>24.476276</td>\n",
       "      <td>2021-05-21</td>\n",
       "    </tr>\n",
       "    <tr>\n",
       "      <th>29</th>\n",
       "      <td>3</td>\n",
       "      <td>3469.733745</td>\n",
       "      <td>18.409201</td>\n",
       "      <td>2021-05-22</td>\n",
       "    </tr>\n",
       "    <tr>\n",
       "      <th>30</th>\n",
       "      <td>3</td>\n",
       "      <td>2727.653704</td>\n",
       "      <td>19.589171</td>\n",
       "      <td>2021-07-04</td>\n",
       "    </tr>\n",
       "    <tr>\n",
       "      <th>31</th>\n",
       "      <td>3</td>\n",
       "      <td>2856.729609</td>\n",
       "      <td>20.082575</td>\n",
       "      <td>2021-07-07</td>\n",
       "    </tr>\n",
       "    <tr>\n",
       "      <th>32</th>\n",
       "      <td>3</td>\n",
       "      <td>5335.212090</td>\n",
       "      <td>25.848038</td>\n",
       "      <td>2021-07-14</td>\n",
       "    </tr>\n",
       "    <tr>\n",
       "      <th>33</th>\n",
       "      <td>3</td>\n",
       "      <td>2891.012822</td>\n",
       "      <td>22.390055</td>\n",
       "      <td>2021-09-04</td>\n",
       "    </tr>\n",
       "    <tr>\n",
       "      <th>34</th>\n",
       "      <td>3</td>\n",
       "      <td>2593.381928</td>\n",
       "      <td>12.984728</td>\n",
       "      <td>2021-12-14</td>\n",
       "    </tr>\n",
       "    <tr>\n",
       "      <th>35</th>\n",
       "      <td>4</td>\n",
       "      <td>2905.428908</td>\n",
       "      <td>27.847794</td>\n",
       "      <td>2021-02-10</td>\n",
       "    </tr>\n",
       "    <tr>\n",
       "      <th>36</th>\n",
       "      <td>4</td>\n",
       "      <td>3434.267839</td>\n",
       "      <td>20.302804</td>\n",
       "      <td>2021-02-16</td>\n",
       "    </tr>\n",
       "    <tr>\n",
       "      <th>37</th>\n",
       "      <td>4</td>\n",
       "      <td>3312.286135</td>\n",
       "      <td>22.463675</td>\n",
       "      <td>2021-06-06</td>\n",
       "    </tr>\n",
       "    <tr>\n",
       "      <th>38</th>\n",
       "      <td>4</td>\n",
       "      <td>3440.755671</td>\n",
       "      <td>21.143844</td>\n",
       "      <td>2021-06-27</td>\n",
       "    </tr>\n",
       "    <tr>\n",
       "      <th>39</th>\n",
       "      <td>4</td>\n",
       "      <td>3718.480483</td>\n",
       "      <td>16.581109</td>\n",
       "      <td>2021-07-04</td>\n",
       "    </tr>\n",
       "    <tr>\n",
       "      <th>40</th>\n",
       "      <td>4</td>\n",
       "      <td>2563.986670</td>\n",
       "      <td>15.688661</td>\n",
       "      <td>2021-07-06</td>\n",
       "    </tr>\n",
       "    <tr>\n",
       "      <th>41</th>\n",
       "      <td>4</td>\n",
       "      <td>4208.708402</td>\n",
       "      <td>22.979239</td>\n",
       "      <td>2021-07-17</td>\n",
       "    </tr>\n",
       "    <tr>\n",
       "      <th>42</th>\n",
       "      <td>4</td>\n",
       "      <td>4649.488243</td>\n",
       "      <td>35.896929</td>\n",
       "      <td>2021-08-14</td>\n",
       "    </tr>\n",
       "    <tr>\n",
       "      <th>43</th>\n",
       "      <td>4</td>\n",
       "      <td>2333.794808</td>\n",
       "      <td>16.779316</td>\n",
       "      <td>2021-10-08</td>\n",
       "    </tr>\n",
       "    <tr>\n",
       "      <th>44</th>\n",
       "      <td>4</td>\n",
       "      <td>3893.486227</td>\n",
       "      <td>21.984968</td>\n",
       "      <td>2021-10-24</td>\n",
       "    </tr>\n",
       "    <tr>\n",
       "      <th>45</th>\n",
       "      <td>4</td>\n",
       "      <td>3933.142317</td>\n",
       "      <td>14.726752</td>\n",
       "      <td>2021-10-27</td>\n",
       "    </tr>\n",
       "    <tr>\n",
       "      <th>46</th>\n",
       "      <td>4</td>\n",
       "      <td>3100.338922</td>\n",
       "      <td>24.501695</td>\n",
       "      <td>2021-10-30</td>\n",
       "    </tr>\n",
       "    <tr>\n",
       "      <th>47</th>\n",
       "      <td>4</td>\n",
       "      <td>724.559572</td>\n",
       "      <td>11.811399</td>\n",
       "      <td>2021-11-14</td>\n",
       "    </tr>\n",
       "    <tr>\n",
       "      <th>48</th>\n",
       "      <td>4</td>\n",
       "      <td>2618.465719</td>\n",
       "      <td>15.855397</td>\n",
       "      <td>2021-11-25</td>\n",
       "    </tr>\n",
       "    <tr>\n",
       "      <th>49</th>\n",
       "      <td>5</td>\n",
       "      <td>3914.646990</td>\n",
       "      <td>12.395153</td>\n",
       "      <td>2021-01-18</td>\n",
       "    </tr>\n",
       "  </tbody>\n",
       "</table>\n",
       "</div>"
      ],
      "text/plain": [
       "    user_id     distance   duration        date\n",
       "0         1  4409.919140  25.599769  2021-01-01\n",
       "1         1  2617.592153  15.816871  2021-01-18\n",
       "2         1   754.159807   6.232113  2021-04-20\n",
       "3         1  2694.783254  18.511000  2021-08-11\n",
       "4         1  4028.687306  26.265803  2021-08-28\n",
       "5         1  2770.890808  16.650138  2021-10-09\n",
       "6         1  3039.020292  14.927879  2021-10-19\n",
       "7         1  2842.118050  23.117468  2021-11-06\n",
       "8         1  3412.690668  15.238072  2021-11-14\n",
       "9         1   748.690645  15.041884  2021-11-22\n",
       "10        1  4031.020195  17.674448  2021-12-14\n",
       "11        1  2720.609748   9.529463  2021-12-22\n",
       "12        2  3105.086678  24.307514  2021-03-15\n",
       "13        2  3053.519401  11.543256  2021-03-18\n",
       "14        2  4029.116927  25.109188  2021-03-23\n",
       "15        2  2805.786329  20.652145  2021-04-08\n",
       "16        2  3358.595495  18.396489  2021-04-13\n",
       "17        2  3255.338202  13.851127  2021-06-20\n",
       "18        2  3942.817648  20.142725  2021-07-02\n",
       "19        2  2837.905316  26.027432  2021-07-18\n",
       "20        2   923.007439   6.914760  2021-08-03\n",
       "21        2  2824.636598  18.779128  2021-10-27\n",
       "22        2  3828.248580  11.920514  2021-12-18\n",
       "23        3  3061.777147  12.654443  2021-01-31\n",
       "24        3  2560.495330  16.534984  2021-02-24\n",
       "25        3  2860.656686  21.033653  2021-02-26\n",
       "26        3  2956.651632  20.671364  2021-04-12\n",
       "27        3  2756.975841  18.519025  2021-05-07\n",
       "28        3  2837.317332  24.476276  2021-05-21\n",
       "29        3  3469.733745  18.409201  2021-05-22\n",
       "30        3  2727.653704  19.589171  2021-07-04\n",
       "31        3  2856.729609  20.082575  2021-07-07\n",
       "32        3  5335.212090  25.848038  2021-07-14\n",
       "33        3  2891.012822  22.390055  2021-09-04\n",
       "34        3  2593.381928  12.984728  2021-12-14\n",
       "35        4  2905.428908  27.847794  2021-02-10\n",
       "36        4  3434.267839  20.302804  2021-02-16\n",
       "37        4  3312.286135  22.463675  2021-06-06\n",
       "38        4  3440.755671  21.143844  2021-06-27\n",
       "39        4  3718.480483  16.581109  2021-07-04\n",
       "40        4  2563.986670  15.688661  2021-07-06\n",
       "41        4  4208.708402  22.979239  2021-07-17\n",
       "42        4  4649.488243  35.896929  2021-08-14\n",
       "43        4  2333.794808  16.779316  2021-10-08\n",
       "44        4  3893.486227  21.984968  2021-10-24\n",
       "45        4  3933.142317  14.726752  2021-10-27\n",
       "46        4  3100.338922  24.501695  2021-10-30\n",
       "47        4   724.559572  11.811399  2021-11-14\n",
       "48        4  2618.465719  15.855397  2021-11-25\n",
       "49        5  3914.646990  12.395153  2021-01-18"
      ]
     },
     "execution_count": 5,
     "metadata": {},
     "output_type": "execute_result"
    }
   ],
   "source": [
    "rides.head(50)"
   ]
  },
  {
   "cell_type": "code",
   "execution_count": 6,
   "id": "e7bf96c7",
   "metadata": {},
   "outputs": [
    {
     "name": "stdout",
     "output_type": "stream",
     "text": [
      "<class 'pandas.core.frame.DataFrame'>\n",
      "RangeIndex: 18068 entries, 0 to 18067\n",
      "Data columns (total 4 columns):\n",
      " #   Column    Non-Null Count  Dtype  \n",
      "---  ------    --------------  -----  \n",
      " 0   user_id   18068 non-null  int64  \n",
      " 1   distance  18068 non-null  float64\n",
      " 2   duration  18068 non-null  float64\n",
      " 3   date      18068 non-null  object \n",
      "dtypes: float64(2), int64(1), object(1)\n",
      "memory usage: 564.8+ KB\n"
     ]
    },
    {
     "data": {
      "text/plain": [
       "(18068, 4)"
      ]
     },
     "execution_count": 6,
     "metadata": {},
     "output_type": "execute_result"
    }
   ],
   "source": [
    "rides.info()\n",
    "rides.shape"
   ]
  },
  {
   "cell_type": "markdown",
   "id": "217f1a67",
   "metadata": {},
   "source": [
    "**Датафрейм subscriptions**"
   ]
  },
  {
   "cell_type": "code",
   "execution_count": 7,
   "id": "6e57c535",
   "metadata": {},
   "outputs": [
    {
     "data": {
      "text/html": [
       "<div>\n",
       "<style scoped>\n",
       "    .dataframe tbody tr th:only-of-type {\n",
       "        vertical-align: middle;\n",
       "    }\n",
       "\n",
       "    .dataframe tbody tr th {\n",
       "        vertical-align: top;\n",
       "    }\n",
       "\n",
       "    .dataframe thead th {\n",
       "        text-align: right;\n",
       "    }\n",
       "</style>\n",
       "<table border=\"1\" class=\"dataframe\">\n",
       "  <thead>\n",
       "    <tr style=\"text-align: right;\">\n",
       "      <th></th>\n",
       "      <th>subscription_type</th>\n",
       "      <th>minute_price</th>\n",
       "      <th>start_ride_price</th>\n",
       "      <th>subscription_fee</th>\n",
       "    </tr>\n",
       "  </thead>\n",
       "  <tbody>\n",
       "    <tr>\n",
       "      <th>0</th>\n",
       "      <td>free</td>\n",
       "      <td>8</td>\n",
       "      <td>50</td>\n",
       "      <td>0</td>\n",
       "    </tr>\n",
       "    <tr>\n",
       "      <th>1</th>\n",
       "      <td>ultra</td>\n",
       "      <td>6</td>\n",
       "      <td>0</td>\n",
       "      <td>199</td>\n",
       "    </tr>\n",
       "  </tbody>\n",
       "</table>\n",
       "</div>"
      ],
      "text/plain": [
       "  subscription_type  minute_price  start_ride_price  subscription_fee\n",
       "0              free             8                50                 0\n",
       "1             ultra             6                 0               199"
      ]
     },
     "execution_count": 7,
     "metadata": {},
     "output_type": "execute_result"
    }
   ],
   "source": [
    "subscriptions.head()"
   ]
  },
  {
   "cell_type": "code",
   "execution_count": 8,
   "id": "d9ad7a17",
   "metadata": {},
   "outputs": [
    {
     "name": "stdout",
     "output_type": "stream",
     "text": [
      "<class 'pandas.core.frame.DataFrame'>\n",
      "RangeIndex: 2 entries, 0 to 1\n",
      "Data columns (total 4 columns):\n",
      " #   Column             Non-Null Count  Dtype \n",
      "---  ------             --------------  ----- \n",
      " 0   subscription_type  2 non-null      object\n",
      " 1   minute_price       2 non-null      int64 \n",
      " 2   start_ride_price   2 non-null      int64 \n",
      " 3   subscription_fee   2 non-null      int64 \n",
      "dtypes: int64(3), object(1)\n",
      "memory usage: 192.0+ bytes\n"
     ]
    },
    {
     "data": {
      "text/plain": [
       "(2, 4)"
      ]
     },
     "execution_count": 8,
     "metadata": {},
     "output_type": "execute_result"
    }
   ],
   "source": [
    "subscriptions.info()\n",
    "subscriptions.shape"
   ]
  },
  {
   "cell_type": "markdown",
   "id": "ad849e46",
   "metadata": {},
   "source": [
    "Из полученных данных получаем:\n",
    "* Таблица users состоит из 1565 строк и 5 столбцов,и включает в себя столбцы: user_id, name, age, city, subscription_type.\n",
    "* Таблица rides состоит из 18068 строк и 4 столбцов, и включает в себя столбцы user_id, distance, duration, date.\n",
    "* Таблица subscriptions состоит из 2 строк и 4 столбцов, и включает в себя столбцы subscription_type, minute_price, start_ride_price, subscription_fee.\n"
   ]
  },
  {
   "cell_type": "markdown",
   "id": "dbdfcffa",
   "metadata": {},
   "source": [
    "## Предобработка данных"
   ]
  },
  {
   "cell_type": "markdown",
   "id": "e33d2534",
   "metadata": {},
   "source": [
    "### Поменяем тип данных для столбца date в таблице rides"
   ]
  },
  {
   "cell_type": "code",
   "execution_count": 9,
   "id": "6fa8685d",
   "metadata": {},
   "outputs": [],
   "source": [
    "rides['date'] = pd.to_datetime(rides['date'], format='%Y-%m-%d')"
   ]
  },
  {
   "cell_type": "markdown",
   "id": "a29de47d",
   "metadata": {},
   "source": [
    "### В таблицу rides добавим новый столбец, в котором будет хранится информация о номере месяца."
   ]
  },
  {
   "cell_type": "code",
   "execution_count": 10,
   "id": "121ddfb6",
   "metadata": {},
   "outputs": [],
   "source": [
    "rides['month'] = rides['date'].dt.month"
   ]
  },
  {
   "cell_type": "markdown",
   "id": "8a81a0dd",
   "metadata": {},
   "source": [
    "### Проверим последовательно все датафреймы на наличие пропусков и дубликатов, а после обработаем их"
   ]
  },
  {
   "cell_type": "code",
   "execution_count": 11,
   "id": "a0342d76",
   "metadata": {},
   "outputs": [
    {
     "name": "stdout",
     "output_type": "stream",
     "text": [
      "Датафрейм users\n",
      "user_id              0.0\n",
      "name                 0.0\n",
      "age                  0.0\n",
      "city                 0.0\n",
      "subscription_type    0.0\n",
      "dtype: float64\n",
      "Количество явных дубликатов: 31\n",
      "\n",
      "Датафрейм rides\n",
      "user_id     0.0\n",
      "distance    0.0\n",
      "duration    0.0\n",
      "date        0.0\n",
      "month       0.0\n",
      "dtype: float64\n",
      "Количество явных дубликатов: 0\n",
      "\n",
      "Датафрейм subscriptions\n",
      "subscription_type    0.0\n",
      "minute_price         0.0\n",
      "start_ride_price     0.0\n",
      "subscription_fee     0.0\n",
      "dtype: float64\n",
      "Количество явных дубликатов: 0\n",
      "\n"
     ]
    }
   ],
   "source": [
    "def check_dataframe(df, df_name):\n",
    "    print(f'Датафрейм {df_name}')\n",
    "    print((df.isna().mean() * 100).sort_values(ascending=False))\n",
    "    print('Количество явных дубликатов:', df.duplicated().sum())\n",
    "    print()\n",
    "\n",
    "\n",
    "check_dataframe(users, 'users')\n",
    "check_dataframe(rides, 'rides')\n",
    "check_dataframe(subscriptions, 'subscriptions')"
   ]
  },
  {
   "cell_type": "markdown",
   "id": "9dfb3843",
   "metadata": {},
   "source": [
    "Во всех 3 датафреймах отсутствуют пропуски, есть пропуски в датафрейме users, обработаем их"
   ]
  },
  {
   "cell_type": "code",
   "execution_count": 12,
   "id": "3fc914f9",
   "metadata": {},
   "outputs": [
    {
     "name": "stdout",
     "output_type": "stream",
     "text": [
      "Количество явных дубликатов в столбце users после обработки 0\n"
     ]
    }
   ],
   "source": [
    "users = users.drop_duplicates()\n",
    "print('Количество явных дубликатов в столбце users после обработки',users.duplicated().sum())"
   ]
  },
  {
   "cell_type": "markdown",
   "id": "d97171e7",
   "metadata": {},
   "source": [
    "**Вывод:**\n",
    "* Изменили тип столбца date в датафрейме rides\n",
    "* Добавили новый столбец month в датафрейм rides, показывающий месяц\n",
    "* Явные дубликаты присутствовали в датафрейме users и были удалены\n",
    "* Пропуски во всех датафреймах отсутствуют\n"
   ]
  },
  {
   "cell_type": "markdown",
   "id": "aa9ced8b",
   "metadata": {},
   "source": [
    "## Исследовательский анализ данных"
   ]
  },
  {
   "cell_type": "markdown",
   "id": "ed7bd0b4",
   "metadata": {},
   "source": [
    "### Частота встречаемости городов"
   ]
  },
  {
   "cell_type": "code",
   "execution_count": 13,
   "id": "b1987099",
   "metadata": {},
   "outputs": [
    {
     "data": {
      "text/html": [
       "<div>\n",
       "<style scoped>\n",
       "    .dataframe tbody tr th:only-of-type {\n",
       "        vertical-align: middle;\n",
       "    }\n",
       "\n",
       "    .dataframe tbody tr th {\n",
       "        vertical-align: top;\n",
       "    }\n",
       "\n",
       "    .dataframe thead th {\n",
       "        text-align: right;\n",
       "    }\n",
       "</style>\n",
       "<table border=\"1\" class=\"dataframe\">\n",
       "  <thead>\n",
       "    <tr style=\"text-align: right;\">\n",
       "      <th></th>\n",
       "      <th>user_id</th>\n",
       "    </tr>\n",
       "    <tr>\n",
       "      <th>city</th>\n",
       "      <th></th>\n",
       "    </tr>\n",
       "  </thead>\n",
       "  <tbody>\n",
       "    <tr>\n",
       "      <th>Москва</th>\n",
       "      <td>168</td>\n",
       "    </tr>\n",
       "    <tr>\n",
       "      <th>Тюмень</th>\n",
       "      <td>180</td>\n",
       "    </tr>\n",
       "    <tr>\n",
       "      <th>Омск</th>\n",
       "      <td>183</td>\n",
       "    </tr>\n",
       "    <tr>\n",
       "      <th>Сочи</th>\n",
       "      <td>189</td>\n",
       "    </tr>\n",
       "    <tr>\n",
       "      <th>Краснодар</th>\n",
       "      <td>193</td>\n",
       "    </tr>\n",
       "    <tr>\n",
       "      <th>Ростов-на-Дону</th>\n",
       "      <td>198</td>\n",
       "    </tr>\n",
       "    <tr>\n",
       "      <th>Екатеринбург</th>\n",
       "      <td>204</td>\n",
       "    </tr>\n",
       "    <tr>\n",
       "      <th>Пятигорск</th>\n",
       "      <td>219</td>\n",
       "    </tr>\n",
       "  </tbody>\n",
       "</table>\n",
       "</div>"
      ],
      "text/plain": [
       "                user_id\n",
       "city                   \n",
       "Москва              168\n",
       "Тюмень              180\n",
       "Омск                183\n",
       "Сочи                189\n",
       "Краснодар           193\n",
       "Ростов-на-Дону      198\n",
       "Екатеринбург        204\n",
       "Пятигорск           219"
      ]
     },
     "execution_count": 13,
     "metadata": {},
     "output_type": "execute_result"
    }
   ],
   "source": [
    "data_user_city = users.pivot_table(index='city',values='user_id',aggfunc = 'count')\n",
    "data_user_city = data_user_city.sort_values(by='user_id',ascending=True)\n",
    "data_user_city"
   ]
  },
  {
   "cell_type": "code",
   "execution_count": 14,
   "id": "4ec7dc1f",
   "metadata": {},
   "outputs": [
    {
     "data": {
      "image/png": "[encoded data removed]",
      "text/plain": [
       "<Figure size 720x504 with 1 Axes>"
      ]
     },
     "metadata": {
      "needs_background": "light"
     },
     "output_type": "display_data"
    }
   ],
   "source": [
    "data_user_city.plot(kind='bar',figsize=(10,7))\n",
    "plt.title('Частота встречаемости городов')\n",
    "plt.ylabel('Количество пользователей')\n",
    "plt.xlabel('Города')\n",
    "plt.show()"
   ]
  },
  {
   "cell_type": "markdown",
   "id": "de34d23f",
   "metadata": {},
   "source": [
    "**Вывод:**\n",
    "* Больше всего пользователей из Пятигорска, а меньше всего из Москвы\n",
    "* Всего в датафрейме есть информация о 8 городах "
   ]
  },
  {
   "cell_type": "markdown",
   "id": "845753e9",
   "metadata": {},
   "source": [
    "### Соотношение пользователей с подпиской и без подписки"
   ]
  },
  {
   "cell_type": "code",
   "execution_count": 15,
   "id": "ee7138ca",
   "metadata": {},
   "outputs": [
    {
     "data": {
      "text/html": [
       "<div>\n",
       "<style scoped>\n",
       "    .dataframe tbody tr th:only-of-type {\n",
       "        vertical-align: middle;\n",
       "    }\n",
       "\n",
       "    .dataframe tbody tr th {\n",
       "        vertical-align: top;\n",
       "    }\n",
       "\n",
       "    .dataframe thead th {\n",
       "        text-align: right;\n",
       "    }\n",
       "</style>\n",
       "<table border=\"1\" class=\"dataframe\">\n",
       "  <thead>\n",
       "    <tr style=\"text-align: right;\">\n",
       "      <th></th>\n",
       "      <th>user_id</th>\n",
       "    </tr>\n",
       "    <tr>\n",
       "      <th>subscription_type</th>\n",
       "      <th></th>\n",
       "    </tr>\n",
       "  </thead>\n",
       "  <tbody>\n",
       "    <tr>\n",
       "      <th>ultra</th>\n",
       "      <td>699</td>\n",
       "    </tr>\n",
       "    <tr>\n",
       "      <th>free</th>\n",
       "      <td>835</td>\n",
       "    </tr>\n",
       "  </tbody>\n",
       "</table>\n",
       "</div>"
      ],
      "text/plain": [
       "                   user_id\n",
       "subscription_type         \n",
       "ultra                  699\n",
       "free                   835"
      ]
     },
     "execution_count": 15,
     "metadata": {},
     "output_type": "execute_result"
    }
   ],
   "source": [
    "data_user_sub = users.pivot_table(index='subscription_type',values='user_id',aggfunc='count')\n",
    "data_user_sub.sort_values(by='user_id',ascending=True)"
   ]
  },
  {
   "cell_type": "code",
   "execution_count": 16,
   "id": "af6d202c",
   "metadata": {},
   "outputs": [
    {
     "data": {
      "image/png": "[encoded data removed]",
      "text/plain": [
       "<Figure size 720x504 with 1 Axes>"
      ]
     },
     "metadata": {
      "needs_background": "light"
     },
     "output_type": "display_data"
    }
   ],
   "source": [
    "data_user_sub.plot(kind='bar',figsize=(10,7),grid=True)\n",
    "plt.xlabel('Тип подписки')\n",
    "plt.ylabel('Количество пользователей')\n",
    "plt.title('Соотношение пользователей с подпиской и без подписки')\n",
    "plt.show()"
   ]
  },
  {
   "cell_type": "markdown",
   "id": "76c408cf",
   "metadata": {},
   "source": [
    "**Вывод:**\n",
    "* Больше всего пользователей без подписки - 835 человек, с подпиской ultra - 699 человек."
   ]
  },
  {
   "cell_type": "markdown",
   "id": "62946f2f",
   "metadata": {},
   "source": [
    "### Возраст пользователей"
   ]
  },
  {
   "cell_type": "code",
   "execution_count": 17,
   "id": "fb613afd",
   "metadata": {},
   "outputs": [
    {
     "data": {
      "text/plain": [
       "count    1534.000000\n",
       "mean       24.903520\n",
       "std         4.572367\n",
       "min        12.000000\n",
       "25%        22.000000\n",
       "50%        25.000000\n",
       "75%        28.000000\n",
       "max        43.000000\n",
       "Name: age, dtype: float64"
      ]
     },
     "execution_count": 17,
     "metadata": {},
     "output_type": "execute_result"
    }
   ],
   "source": [
    "users['age'].describe()"
   ]
  },
  {
   "cell_type": "code",
   "execution_count": 18,
   "id": "0fe89bb0",
   "metadata": {},
   "outputs": [
    {
     "data": {
      "image/png": "[encoded data removed]",
      "text/plain": [
       "<Figure size 720x504 with 1 Axes>"
      ]
     },
     "metadata": {
      "needs_background": "light"
     },
     "output_type": "display_data"
    }
   ],
   "source": [
    "users['age'].plot(kind='hist',bins=30,figsize=(10,7),grid=True)\n",
    "plt.title('Возраст пользователей')\n",
    "plt.xlabel('Возраст')\n",
    "plt.ylabel('Количество пользователей')\n",
    "plt.show()"
   ]
  },
  {
   "cell_type": "markdown",
   "id": "831dc673",
   "metadata": {},
   "source": [
    "**Вывод:**\n",
    "* Средний возраст по медиане составил 24.9 лет, при этом сам график распределения по возрасту имеет нормальное распределние,так как среднее 25 близко к медиане."
   ]
  },
  {
   "cell_type": "markdown",
   "id": "19069e28",
   "metadata": {},
   "source": [
    "### Расстояние, которое пользователь преодолел за 1 поездку"
   ]
  },
  {
   "cell_type": "code",
   "execution_count": 19,
   "id": "347195d7",
   "metadata": {},
   "outputs": [
    {
     "data": {
      "text/plain": [
       "count    18068.000000\n",
       "mean      3070.659976\n",
       "std       1116.831209\n",
       "min          0.855683\n",
       "25%       2543.226360\n",
       "50%       3133.609994\n",
       "75%       3776.222735\n",
       "max       7211.007745\n",
       "Name: distance, dtype: float64"
      ]
     },
     "execution_count": 19,
     "metadata": {},
     "output_type": "execute_result"
    }
   ],
   "source": [
    "rides['distance'].describe()"
   ]
  },
  {
   "cell_type": "code",
   "execution_count": 20,
   "id": "57d10640",
   "metadata": {},
   "outputs": [
    {
     "data": {
      "image/png": "[encoded data removed]",
      "text/plain": [
       "<Figure size 720x504 with 1 Axes>"
      ]
     },
     "metadata": {
      "needs_background": "light"
     },
     "output_type": "display_data"
    }
   ],
   "source": [
    "rides['distance'].plot(kind='hist',bins=30,figsize=(10,7),grid=True)\n",
    "plt.title('Расстояние, которое пользователь преодолел за 1 поездку')\n",
    "plt.xlabel('Расстояние в метрах')\n",
    "plt.ylabel('Количество пользователей')\n",
    "plt.show()"
   ]
  },
  {
   "cell_type": "markdown",
   "id": "3c264095",
   "metadata": {},
   "source": [
    "**Вывод:**\n",
    "* Среднее растояние, которое преодолевали пользователи за 1 поездку - 3070 метром, также в данных есть сплеск в значениях 500-600 метров, можем предположить,что пользователи брали в аренду самокат, чтобы доехать до станции метро или автобусной остановки."
   ]
  },
  {
   "cell_type": "markdown",
   "id": "2ec4a9ee",
   "metadata": {},
   "source": [
    "### Продолжительность поездок"
   ]
  },
  {
   "cell_type": "code",
   "execution_count": 21,
   "id": "eb09faf5",
   "metadata": {},
   "outputs": [
    {
     "data": {
      "text/plain": [
       "count    18068.000000\n",
       "mean        17.805011\n",
       "std          6.091051\n",
       "min          0.500000\n",
       "25%         13.597563\n",
       "50%         17.678395\n",
       "75%         21.724800\n",
       "max         40.823963\n",
       "Name: duration, dtype: float64"
      ]
     },
     "execution_count": 21,
     "metadata": {},
     "output_type": "execute_result"
    }
   ],
   "source": [
    "rides['duration'].describe()"
   ]
  },
  {
   "cell_type": "code",
   "execution_count": 22,
   "id": "12715eae",
   "metadata": {},
   "outputs": [
    {
     "data": {
      "text/plain": [
       "<AxesSubplot:ylabel='Frequency'>"
      ]
     },
     "execution_count": 22,
     "metadata": {},
     "output_type": "execute_result"
    },
    {
     "data": {
      "image/png": "[encoded data removed]",
      "text/plain": [
       "<Figure size 720x504 with 1 Axes>"
      ]
     },
     "metadata": {
      "needs_background": "light"
     },
     "output_type": "display_data"
    }
   ],
   "source": [
    "rides['duration'].plot(kind='hist',bins=30,figsize=(10,7),grid=True)"
   ]
  },
  {
   "cell_type": "markdown",
   "id": "cbbec8ed",
   "metadata": {},
   "source": [
    "**Вывод:**\n",
    "* Среднее время поездки составляет 17.7 минут, при этом можно заметить снова нормальное распределение данных в выборке."
   ]
  },
  {
   "cell_type": "markdown",
   "id": "e9c16fb3",
   "metadata": {},
   "source": [
    "**Общий вывод исследовательского анализа данных:**\n",
    "* Больше всего пользователей из Пятигорска, меньше всего из Москвы\n",
    "* Больше всего пользователей без подписки - 835 человек, с подпиской ultra - 699 человек\n",
    "* Средний возраст пользователей 24.9 лет\n",
    "* Среднее растояние, которое преодолевали пользователи за 1 поездку - 3070 метров, при этом есть выбросы на 600 метрах\n",
    "* Среднее время поездки составило 17.7 минут"
   ]
  },
  {
   "cell_type": "markdown",
   "id": "4ef51331",
   "metadata": {},
   "source": [
    "## Объединение данных"
   ]
  },
  {
   "cell_type": "code",
   "execution_count": 23,
   "id": "d3fa233d",
   "metadata": {},
   "outputs": [
    {
     "data": {
      "text/html": [
       "<div>\n",
       "<style scoped>\n",
       "    .dataframe tbody tr th:only-of-type {\n",
       "        vertical-align: middle;\n",
       "    }\n",
       "\n",
       "    .dataframe tbody tr th {\n",
       "        vertical-align: top;\n",
       "    }\n",
       "\n",
       "    .dataframe thead th {\n",
       "        text-align: right;\n",
       "    }\n",
       "</style>\n",
       "<table border=\"1\" class=\"dataframe\">\n",
       "  <thead>\n",
       "    <tr style=\"text-align: right;\">\n",
       "      <th></th>\n",
       "      <th>user_id</th>\n",
       "      <th>distance</th>\n",
       "      <th>duration</th>\n",
       "      <th>date</th>\n",
       "      <th>month</th>\n",
       "    </tr>\n",
       "  </thead>\n",
       "  <tbody>\n",
       "    <tr>\n",
       "      <th>0</th>\n",
       "      <td>1</td>\n",
       "      <td>4410</td>\n",
       "      <td>25.599769</td>\n",
       "      <td>2021-01-01</td>\n",
       "      <td>1</td>\n",
       "    </tr>\n",
       "    <tr>\n",
       "      <th>1</th>\n",
       "      <td>1</td>\n",
       "      <td>2618</td>\n",
       "      <td>15.816871</td>\n",
       "      <td>2021-01-18</td>\n",
       "      <td>1</td>\n",
       "    </tr>\n",
       "    <tr>\n",
       "      <th>2</th>\n",
       "      <td>1</td>\n",
       "      <td>755</td>\n",
       "      <td>6.232113</td>\n",
       "      <td>2021-04-20</td>\n",
       "      <td>4</td>\n",
       "    </tr>\n",
       "    <tr>\n",
       "      <th>3</th>\n",
       "      <td>1</td>\n",
       "      <td>2695</td>\n",
       "      <td>18.511000</td>\n",
       "      <td>2021-08-11</td>\n",
       "      <td>8</td>\n",
       "    </tr>\n",
       "    <tr>\n",
       "      <th>4</th>\n",
       "      <td>1</td>\n",
       "      <td>4029</td>\n",
       "      <td>26.265803</td>\n",
       "      <td>2021-08-28</td>\n",
       "      <td>8</td>\n",
       "    </tr>\n",
       "  </tbody>\n",
       "</table>\n",
       "</div>"
      ],
      "text/plain": [
       "   user_id  distance   duration       date  month\n",
       "0        1      4410  25.599769 2021-01-01      1\n",
       "1        1      2618  15.816871 2021-01-18      1\n",
       "2        1       755   6.232113 2021-04-20      4\n",
       "3        1      2695  18.511000 2021-08-11      8\n",
       "4        1      4029  26.265803 2021-08-28      8"
      ]
     },
     "execution_count": 23,
     "metadata": {},
     "output_type": "execute_result"
    }
   ],
   "source": [
    "rides['distance'] = np.ceil(rides['distance'])\n",
    "rides['distance'] = rides['distance'].astype('int')\n",
    "rides.head()"
   ]
  },
  {
   "cell_type": "markdown",
   "id": "85887a03",
   "metadata": {},
   "source": [
    "### Объединим датафреймы users, rides, subscriptions"
   ]
  },
  {
   "cell_type": "code",
   "execution_count": 24,
   "id": "6bf288b5",
   "metadata": {},
   "outputs": [
    {
     "data": {
      "text/html": [
       "<div>\n",
       "<style scoped>\n",
       "    .dataframe tbody tr th:only-of-type {\n",
       "        vertical-align: middle;\n",
       "    }\n",
       "\n",
       "    .dataframe tbody tr th {\n",
       "        vertical-align: top;\n",
       "    }\n",
       "\n",
       "    .dataframe thead th {\n",
       "        text-align: right;\n",
       "    }\n",
       "</style>\n",
       "<table border=\"1\" class=\"dataframe\">\n",
       "  <thead>\n",
       "    <tr style=\"text-align: right;\">\n",
       "      <th></th>\n",
       "      <th>user_id</th>\n",
       "      <th>distance</th>\n",
       "      <th>duration</th>\n",
       "      <th>date</th>\n",
       "      <th>month</th>\n",
       "      <th>name</th>\n",
       "      <th>age</th>\n",
       "      <th>city</th>\n",
       "      <th>subscription_type</th>\n",
       "      <th>minute_price</th>\n",
       "      <th>start_ride_price</th>\n",
       "      <th>subscription_fee</th>\n",
       "    </tr>\n",
       "  </thead>\n",
       "  <tbody>\n",
       "    <tr>\n",
       "      <th>0</th>\n",
       "      <td>1</td>\n",
       "      <td>4410</td>\n",
       "      <td>25.599769</td>\n",
       "      <td>2021-01-01</td>\n",
       "      <td>1</td>\n",
       "      <td>Кира</td>\n",
       "      <td>22</td>\n",
       "      <td>Тюмень</td>\n",
       "      <td>ultra</td>\n",
       "      <td>6</td>\n",
       "      <td>0</td>\n",
       "      <td>199</td>\n",
       "    </tr>\n",
       "    <tr>\n",
       "      <th>1</th>\n",
       "      <td>1</td>\n",
       "      <td>2618</td>\n",
       "      <td>15.816871</td>\n",
       "      <td>2021-01-18</td>\n",
       "      <td>1</td>\n",
       "      <td>Кира</td>\n",
       "      <td>22</td>\n",
       "      <td>Тюмень</td>\n",
       "      <td>ultra</td>\n",
       "      <td>6</td>\n",
       "      <td>0</td>\n",
       "      <td>199</td>\n",
       "    </tr>\n",
       "    <tr>\n",
       "      <th>2</th>\n",
       "      <td>1</td>\n",
       "      <td>755</td>\n",
       "      <td>6.232113</td>\n",
       "      <td>2021-04-20</td>\n",
       "      <td>4</td>\n",
       "      <td>Кира</td>\n",
       "      <td>22</td>\n",
       "      <td>Тюмень</td>\n",
       "      <td>ultra</td>\n",
       "      <td>6</td>\n",
       "      <td>0</td>\n",
       "      <td>199</td>\n",
       "    </tr>\n",
       "    <tr>\n",
       "      <th>3</th>\n",
       "      <td>1</td>\n",
       "      <td>2695</td>\n",
       "      <td>18.511000</td>\n",
       "      <td>2021-08-11</td>\n",
       "      <td>8</td>\n",
       "      <td>Кира</td>\n",
       "      <td>22</td>\n",
       "      <td>Тюмень</td>\n",
       "      <td>ultra</td>\n",
       "      <td>6</td>\n",
       "      <td>0</td>\n",
       "      <td>199</td>\n",
       "    </tr>\n",
       "    <tr>\n",
       "      <th>4</th>\n",
       "      <td>1</td>\n",
       "      <td>4029</td>\n",
       "      <td>26.265803</td>\n",
       "      <td>2021-08-28</td>\n",
       "      <td>8</td>\n",
       "      <td>Кира</td>\n",
       "      <td>22</td>\n",
       "      <td>Тюмень</td>\n",
       "      <td>ultra</td>\n",
       "      <td>6</td>\n",
       "      <td>0</td>\n",
       "      <td>199</td>\n",
       "    </tr>\n",
       "  </tbody>\n",
       "</table>\n",
       "</div>"
      ],
      "text/plain": [
       "   user_id  distance   duration       date  month  name  age    city  \\\n",
       "0        1      4410  25.599769 2021-01-01      1  Кира   22  Тюмень   \n",
       "1        1      2618  15.816871 2021-01-18      1  Кира   22  Тюмень   \n",
       "2        1       755   6.232113 2021-04-20      4  Кира   22  Тюмень   \n",
       "3        1      2695  18.511000 2021-08-11      8  Кира   22  Тюмень   \n",
       "4        1      4029  26.265803 2021-08-28      8  Кира   22  Тюмень   \n",
       "\n",
       "  subscription_type  minute_price  start_ride_price  subscription_fee  \n",
       "0             ultra             6                 0               199  \n",
       "1             ultra             6                 0               199  \n",
       "2             ultra             6                 0               199  \n",
       "3             ultra             6                 0               199  \n",
       "4             ultra             6                 0               199  "
      ]
     },
     "execution_count": 24,
     "metadata": {},
     "output_type": "execute_result"
    }
   ],
   "source": [
    "merged_df = pd.merge(users, subscriptions, on='subscription_type')\n",
    "merged_df = pd.merge(rides, merged_df, on='user_id')\n",
    "merged_df.head()"
   ]
  },
  {
   "cell_type": "code",
   "execution_count": 25,
   "id": "945cb00c",
   "metadata": {},
   "outputs": [
    {
     "name": "stdout",
     "output_type": "stream",
     "text": [
      "<class 'pandas.core.frame.DataFrame'>\n",
      "Int64Index: 18068 entries, 0 to 18067\n",
      "Data columns (total 12 columns):\n",
      " #   Column             Non-Null Count  Dtype         \n",
      "---  ------             --------------  -----         \n",
      " 0   user_id            18068 non-null  int64         \n",
      " 1   distance           18068 non-null  int64         \n",
      " 2   duration           18068 non-null  float64       \n",
      " 3   date               18068 non-null  datetime64[ns]\n",
      " 4   month              18068 non-null  int64         \n",
      " 5   name               18068 non-null  object        \n",
      " 6   age                18068 non-null  int64         \n",
      " 7   city               18068 non-null  object        \n",
      " 8   subscription_type  18068 non-null  object        \n",
      " 9   minute_price       18068 non-null  int64         \n",
      " 10  start_ride_price   18068 non-null  int64         \n",
      " 11  subscription_fee   18068 non-null  int64         \n",
      "dtypes: datetime64[ns](1), float64(1), int64(7), object(3)\n",
      "memory usage: 1.8+ MB\n"
     ]
    }
   ],
   "source": [
    "merged_df.info()"
   ]
  },
  {
   "cell_type": "markdown",
   "id": "fd5031f7",
   "metadata": {},
   "source": [
    "Объединенный датафрейм имеет 18068 строк, что соответствует изначальным датафреймам, объединение датафреймов выполнено."
   ]
  },
  {
   "cell_type": "markdown",
   "id": "86bb4b16",
   "metadata": {},
   "source": [
    "### Создадим еще два датафрейма c данными о пользователях без подписки и с подпиской"
   ]
  },
  {
   "cell_type": "markdown",
   "id": "4dcf23e0",
   "metadata": {},
   "source": [
    "Создадим датафрейм с информацией о пользователях без подписки"
   ]
  },
  {
   "cell_type": "code",
   "execution_count": 26,
   "id": "f90c7d43",
   "metadata": {},
   "outputs": [
    {
     "data": {
      "text/html": [
       "<div>\n",
       "<style scoped>\n",
       "    .dataframe tbody tr th:only-of-type {\n",
       "        vertical-align: middle;\n",
       "    }\n",
       "\n",
       "    .dataframe tbody tr th {\n",
       "        vertical-align: top;\n",
       "    }\n",
       "\n",
       "    .dataframe thead th {\n",
       "        text-align: right;\n",
       "    }\n",
       "</style>\n",
       "<table border=\"1\" class=\"dataframe\">\n",
       "  <thead>\n",
       "    <tr style=\"text-align: right;\">\n",
       "      <th></th>\n",
       "      <th>user_id</th>\n",
       "      <th>distance</th>\n",
       "      <th>duration</th>\n",
       "      <th>date</th>\n",
       "      <th>month</th>\n",
       "      <th>name</th>\n",
       "      <th>age</th>\n",
       "      <th>city</th>\n",
       "      <th>subscription_type</th>\n",
       "      <th>minute_price</th>\n",
       "      <th>start_ride_price</th>\n",
       "      <th>subscription_fee</th>\n",
       "    </tr>\n",
       "  </thead>\n",
       "  <tbody>\n",
       "    <tr>\n",
       "      <th>6500</th>\n",
       "      <td>700</td>\n",
       "      <td>2516</td>\n",
       "      <td>14.944286</td>\n",
       "      <td>2021-01-02</td>\n",
       "      <td>1</td>\n",
       "      <td>Айдар</td>\n",
       "      <td>22</td>\n",
       "      <td>Омск</td>\n",
       "      <td>free</td>\n",
       "      <td>8</td>\n",
       "      <td>50</td>\n",
       "      <td>0</td>\n",
       "    </tr>\n",
       "    <tr>\n",
       "      <th>6501</th>\n",
       "      <td>700</td>\n",
       "      <td>847</td>\n",
       "      <td>16.234663</td>\n",
       "      <td>2021-02-01</td>\n",
       "      <td>2</td>\n",
       "      <td>Айдар</td>\n",
       "      <td>22</td>\n",
       "      <td>Омск</td>\n",
       "      <td>free</td>\n",
       "      <td>8</td>\n",
       "      <td>50</td>\n",
       "      <td>0</td>\n",
       "    </tr>\n",
       "    <tr>\n",
       "      <th>6502</th>\n",
       "      <td>700</td>\n",
       "      <td>4005</td>\n",
       "      <td>20.016628</td>\n",
       "      <td>2021-02-04</td>\n",
       "      <td>2</td>\n",
       "      <td>Айдар</td>\n",
       "      <td>22</td>\n",
       "      <td>Омск</td>\n",
       "      <td>free</td>\n",
       "      <td>8</td>\n",
       "      <td>50</td>\n",
       "      <td>0</td>\n",
       "    </tr>\n",
       "    <tr>\n",
       "      <th>6503</th>\n",
       "      <td>700</td>\n",
       "      <td>1206</td>\n",
       "      <td>9.782872</td>\n",
       "      <td>2021-02-10</td>\n",
       "      <td>2</td>\n",
       "      <td>Айдар</td>\n",
       "      <td>22</td>\n",
       "      <td>Омск</td>\n",
       "      <td>free</td>\n",
       "      <td>8</td>\n",
       "      <td>50</td>\n",
       "      <td>0</td>\n",
       "    </tr>\n",
       "    <tr>\n",
       "      <th>6504</th>\n",
       "      <td>700</td>\n",
       "      <td>3048</td>\n",
       "      <td>17.427673</td>\n",
       "      <td>2021-02-14</td>\n",
       "      <td>2</td>\n",
       "      <td>Айдар</td>\n",
       "      <td>22</td>\n",
       "      <td>Омск</td>\n",
       "      <td>free</td>\n",
       "      <td>8</td>\n",
       "      <td>50</td>\n",
       "      <td>0</td>\n",
       "    </tr>\n",
       "  </tbody>\n",
       "</table>\n",
       "</div>"
      ],
      "text/plain": [
       "      user_id  distance   duration       date  month   name  age  city  \\\n",
       "6500      700      2516  14.944286 2021-01-02      1  Айдар   22  Омск   \n",
       "6501      700       847  16.234663 2021-02-01      2  Айдар   22  Омск   \n",
       "6502      700      4005  20.016628 2021-02-04      2  Айдар   22  Омск   \n",
       "6503      700      1206   9.782872 2021-02-10      2  Айдар   22  Омск   \n",
       "6504      700      3048  17.427673 2021-02-14      2  Айдар   22  Омск   \n",
       "\n",
       "     subscription_type  minute_price  start_ride_price  subscription_fee  \n",
       "6500              free             8                50                 0  \n",
       "6501              free             8                50                 0  \n",
       "6502              free             8                50                 0  \n",
       "6503              free             8                50                 0  \n",
       "6504              free             8                50                 0  "
      ]
     },
     "execution_count": 26,
     "metadata": {},
     "output_type": "execute_result"
    }
   ],
   "source": [
    "merged_df_nosub = merged_df[merged_df['subscription_type']=='free']\n",
    "merged_df_nosub.head()"
   ]
  },
  {
   "cell_type": "code",
   "execution_count": 27,
   "id": "7051f0f7",
   "metadata": {},
   "outputs": [
    {
     "name": "stdout",
     "output_type": "stream",
     "text": [
      "Количество пользователей без подписки: 11568\n"
     ]
    }
   ],
   "source": [
    "print('Количество пользователей без подписки:',merged_df_nosub.shape[0])"
   ]
  },
  {
   "cell_type": "markdown",
   "id": "a102bbae",
   "metadata": {},
   "source": [
    "Создадим датафрейм с информацией о пользователях с подпиской ultra"
   ]
  },
  {
   "cell_type": "code",
   "execution_count": 28,
   "id": "62a34dfe",
   "metadata": {},
   "outputs": [
    {
     "data": {
      "text/html": [
       "<div>\n",
       "<style scoped>\n",
       "    .dataframe tbody tr th:only-of-type {\n",
       "        vertical-align: middle;\n",
       "    }\n",
       "\n",
       "    .dataframe tbody tr th {\n",
       "        vertical-align: top;\n",
       "    }\n",
       "\n",
       "    .dataframe thead th {\n",
       "        text-align: right;\n",
       "    }\n",
       "</style>\n",
       "<table border=\"1\" class=\"dataframe\">\n",
       "  <thead>\n",
       "    <tr style=\"text-align: right;\">\n",
       "      <th></th>\n",
       "      <th>user_id</th>\n",
       "      <th>distance</th>\n",
       "      <th>duration</th>\n",
       "      <th>date</th>\n",
       "      <th>month</th>\n",
       "      <th>name</th>\n",
       "      <th>age</th>\n",
       "      <th>city</th>\n",
       "      <th>subscription_type</th>\n",
       "      <th>minute_price</th>\n",
       "      <th>start_ride_price</th>\n",
       "      <th>subscription_fee</th>\n",
       "    </tr>\n",
       "  </thead>\n",
       "  <tbody>\n",
       "    <tr>\n",
       "      <th>0</th>\n",
       "      <td>1</td>\n",
       "      <td>4410</td>\n",
       "      <td>25.599769</td>\n",
       "      <td>2021-01-01</td>\n",
       "      <td>1</td>\n",
       "      <td>Кира</td>\n",
       "      <td>22</td>\n",
       "      <td>Тюмень</td>\n",
       "      <td>ultra</td>\n",
       "      <td>6</td>\n",
       "      <td>0</td>\n",
       "      <td>199</td>\n",
       "    </tr>\n",
       "    <tr>\n",
       "      <th>1</th>\n",
       "      <td>1</td>\n",
       "      <td>2618</td>\n",
       "      <td>15.816871</td>\n",
       "      <td>2021-01-18</td>\n",
       "      <td>1</td>\n",
       "      <td>Кира</td>\n",
       "      <td>22</td>\n",
       "      <td>Тюмень</td>\n",
       "      <td>ultra</td>\n",
       "      <td>6</td>\n",
       "      <td>0</td>\n",
       "      <td>199</td>\n",
       "    </tr>\n",
       "    <tr>\n",
       "      <th>2</th>\n",
       "      <td>1</td>\n",
       "      <td>755</td>\n",
       "      <td>6.232113</td>\n",
       "      <td>2021-04-20</td>\n",
       "      <td>4</td>\n",
       "      <td>Кира</td>\n",
       "      <td>22</td>\n",
       "      <td>Тюмень</td>\n",
       "      <td>ultra</td>\n",
       "      <td>6</td>\n",
       "      <td>0</td>\n",
       "      <td>199</td>\n",
       "    </tr>\n",
       "    <tr>\n",
       "      <th>3</th>\n",
       "      <td>1</td>\n",
       "      <td>2695</td>\n",
       "      <td>18.511000</td>\n",
       "      <td>2021-08-11</td>\n",
       "      <td>8</td>\n",
       "      <td>Кира</td>\n",
       "      <td>22</td>\n",
       "      <td>Тюмень</td>\n",
       "      <td>ultra</td>\n",
       "      <td>6</td>\n",
       "      <td>0</td>\n",
       "      <td>199</td>\n",
       "    </tr>\n",
       "    <tr>\n",
       "      <th>4</th>\n",
       "      <td>1</td>\n",
       "      <td>4029</td>\n",
       "      <td>26.265803</td>\n",
       "      <td>2021-08-28</td>\n",
       "      <td>8</td>\n",
       "      <td>Кира</td>\n",
       "      <td>22</td>\n",
       "      <td>Тюмень</td>\n",
       "      <td>ultra</td>\n",
       "      <td>6</td>\n",
       "      <td>0</td>\n",
       "      <td>199</td>\n",
       "    </tr>\n",
       "  </tbody>\n",
       "</table>\n",
       "</div>"
      ],
      "text/plain": [
       "   user_id  distance   duration       date  month  name  age    city  \\\n",
       "0        1      4410  25.599769 2021-01-01      1  Кира   22  Тюмень   \n",
       "1        1      2618  15.816871 2021-01-18      1  Кира   22  Тюмень   \n",
       "2        1       755   6.232113 2021-04-20      4  Кира   22  Тюмень   \n",
       "3        1      2695  18.511000 2021-08-11      8  Кира   22  Тюмень   \n",
       "4        1      4029  26.265803 2021-08-28      8  Кира   22  Тюмень   \n",
       "\n",
       "  subscription_type  minute_price  start_ride_price  subscription_fee  \n",
       "0             ultra             6                 0               199  \n",
       "1             ultra             6                 0               199  \n",
       "2             ultra             6                 0               199  \n",
       "3             ultra             6                 0               199  \n",
       "4             ultra             6                 0               199  "
      ]
     },
     "execution_count": 28,
     "metadata": {},
     "output_type": "execute_result"
    }
   ],
   "source": [
    "merged_df_sub = merged_df[merged_df['subscription_type']=='ultra']\n",
    "merged_df_sub.head()"
   ]
  },
  {
   "cell_type": "code",
   "execution_count": 29,
   "id": "aa480ecd",
   "metadata": {},
   "outputs": [
    {
     "name": "stdout",
     "output_type": "stream",
     "text": [
      "Количество пользователей с подпиской ultra: 6500\n"
     ]
    }
   ],
   "source": [
    "print('Количество пользователей с подпиской ultra:',merged_df_sub.shape[0])"
   ]
  },
  {
   "cell_type": "markdown",
   "id": "15c73c55",
   "metadata": {},
   "source": [
    "### Визуализируем информацию о расстоянии и времени поездок для пользователей обеих категорий"
   ]
  },
  {
   "cell_type": "code",
   "execution_count": 30,
   "id": "e8dc7004",
   "metadata": {},
   "outputs": [
    {
     "data": {
      "image/png": "[encoded data removed]",
      "text/plain": [
       "<Figure size 720x504 with 1 Axes>"
      ]
     },
     "metadata": {
      "needs_background": "light"
     },
     "output_type": "display_data"
    }
   ],
   "source": [
    "dist = merged_df_nosub['distance'].plot(kind='hist',figsize=(10,7),bins=30,label='без подписки')\n",
    "dist = merged_df_sub['distance'].plot(kind='hist',color='red',figsize=(10,7),alpha=0.7,bins=30,label='с подпиской')\n",
    "plt.title('Расстояние поездок пользователей с подпиской и без')\n",
    "plt.xlabel('Расстояние в метрах')\n",
    "plt.ylabel('Количество пользователей')\n",
    "plt.legend()\n",
    "plt.show()"
   ]
  },
  {
   "cell_type": "code",
   "execution_count": 31,
   "id": "1c95755d",
   "metadata": {},
   "outputs": [
    {
     "data": {
      "image/png": "[encoded data removed]",
      "text/plain": [
       "<Figure size 720x504 with 1 Axes>"
      ]
     },
     "metadata": {
      "needs_background": "light"
     },
     "output_type": "display_data"
    }
   ],
   "source": [
    "dur = merged_df_nosub['duration'].plot(kind='hist',figsize=(10,7),bins=30,label='без подписки')\n",
    "dur = merged_df_sub['duration'].plot(kind='hist',figsize=(10,7),bins=30,label='с подпиской',color = 'red',alpha=0.7)\n",
    "plt.title('Длительность 1 поездки для пользователей с подпиской и без')\n",
    "plt.xlabel('Длительность в минутах')\n",
    "plt.ylabel('Количество пользователей')\n",
    "plt.legend()\n",
    "plt.show()"
   ]
  },
  {
   "cell_type": "markdown",
   "id": "24081916",
   "metadata": {},
   "source": [
    "**Общий вывод:**\n",
    "* Объединили 3 датафрейма в один\n",
    "* Создали 2 датафрейма с информацией о пользователях с подпиской и без подписки\n",
    "* Выявили,что пользователей с подпиской почти в 2 раза больше,графики выше сложно сравнить пока что, из-за разницы выборки.\n",
    "* Пользователи без подписки имеют более равномерное распределение как по времени, так и по расстоянию поездок. Они совершают чуть более длинные поездки\n",
    "* Пользователи с подпиской склонны выбирать поездки, которые длятся немного дольше, однако их расстояние обычно короче. В этой группе также наблюдается меньшее количество поездок, которые являются короткими по расстоянию, но длительными по времени\n",
    "* Пользователи без подписки, совершающие короткие по расстоянию, но длительные по времени поездки, включают новых клиентов, которые только начинают знакомиться с сервисом и учатся взаимодействовать с ним и самокатами"
   ]
  },
  {
   "cell_type": "markdown",
   "id": "402d620f",
   "metadata": {},
   "source": [
    "## Подсчёт выручки"
   ]
  },
  {
   "cell_type": "markdown",
   "id": "c48c7ed9",
   "metadata": {},
   "source": [
    "### Создадим датафрейм с агрегированными данными о поездках на основе датафрейма с объединёнными данными из шага 4: найдем суммарное расстояние, количество поездок и суммарное время для каждого пользователя за каждый месяц."
   ]
  },
  {
   "cell_type": "markdown",
   "id": "d03a6236",
   "metadata": {},
   "source": [
    "Обозначим sum_distance - общая дистанция за месяц, count_distance - количество поездок, sum_duration - общее время поездок "
   ]
  },
  {
   "cell_type": "code",
   "execution_count": 32,
   "id": "adb76838",
   "metadata": {
    "scrolled": true
   },
   "outputs": [
    {
     "data": {
      "text/html": [
       "<div>\n",
       "<style scoped>\n",
       "    .dataframe tbody tr th:only-of-type {\n",
       "        vertical-align: middle;\n",
       "    }\n",
       "\n",
       "    .dataframe tbody tr th {\n",
       "        vertical-align: top;\n",
       "    }\n",
       "\n",
       "    .dataframe thead th {\n",
       "        text-align: right;\n",
       "    }\n",
       "</style>\n",
       "<table border=\"1\" class=\"dataframe\">\n",
       "  <thead>\n",
       "    <tr style=\"text-align: right;\">\n",
       "      <th></th>\n",
       "      <th>index</th>\n",
       "      <th>user_id</th>\n",
       "      <th>count_distance</th>\n",
       "      <th>sum_distance</th>\n",
       "      <th>sum_duration</th>\n",
       "      <th>name</th>\n",
       "      <th>age</th>\n",
       "      <th>city</th>\n",
       "      <th>subscription_type</th>\n",
       "      <th>minute_price</th>\n",
       "      <th>start_ride_price</th>\n",
       "      <th>subscription_fee</th>\n",
       "    </tr>\n",
       "  </thead>\n",
       "  <tbody>\n",
       "    <tr>\n",
       "      <th>0</th>\n",
       "      <td>0</td>\n",
       "      <td>1</td>\n",
       "      <td>2</td>\n",
       "      <td>7028</td>\n",
       "      <td>42</td>\n",
       "      <td>Кира</td>\n",
       "      <td>22</td>\n",
       "      <td>Тюмень</td>\n",
       "      <td>ultra</td>\n",
       "      <td>6</td>\n",
       "      <td>0</td>\n",
       "      <td>199</td>\n",
       "    </tr>\n",
       "    <tr>\n",
       "      <th>1</th>\n",
       "      <td>1</td>\n",
       "      <td>1</td>\n",
       "      <td>1</td>\n",
       "      <td>755</td>\n",
       "      <td>7</td>\n",
       "      <td>Кира</td>\n",
       "      <td>22</td>\n",
       "      <td>Тюмень</td>\n",
       "      <td>ultra</td>\n",
       "      <td>6</td>\n",
       "      <td>0</td>\n",
       "      <td>199</td>\n",
       "    </tr>\n",
       "    <tr>\n",
       "      <th>2</th>\n",
       "      <td>2</td>\n",
       "      <td>1</td>\n",
       "      <td>2</td>\n",
       "      <td>6724</td>\n",
       "      <td>46</td>\n",
       "      <td>Кира</td>\n",
       "      <td>22</td>\n",
       "      <td>Тюмень</td>\n",
       "      <td>ultra</td>\n",
       "      <td>6</td>\n",
       "      <td>0</td>\n",
       "      <td>199</td>\n",
       "    </tr>\n",
       "    <tr>\n",
       "      <th>3</th>\n",
       "      <td>3</td>\n",
       "      <td>1</td>\n",
       "      <td>2</td>\n",
       "      <td>5811</td>\n",
       "      <td>32</td>\n",
       "      <td>Кира</td>\n",
       "      <td>22</td>\n",
       "      <td>Тюмень</td>\n",
       "      <td>ultra</td>\n",
       "      <td>6</td>\n",
       "      <td>0</td>\n",
       "      <td>199</td>\n",
       "    </tr>\n",
       "    <tr>\n",
       "      <th>4</th>\n",
       "      <td>4</td>\n",
       "      <td>1</td>\n",
       "      <td>3</td>\n",
       "      <td>7005</td>\n",
       "      <td>56</td>\n",
       "      <td>Кира</td>\n",
       "      <td>22</td>\n",
       "      <td>Тюмень</td>\n",
       "      <td>ultra</td>\n",
       "      <td>6</td>\n",
       "      <td>0</td>\n",
       "      <td>199</td>\n",
       "    </tr>\n",
       "    <tr>\n",
       "      <th>...</th>\n",
       "      <td>...</td>\n",
       "      <td>...</td>\n",
       "      <td>...</td>\n",
       "      <td>...</td>\n",
       "      <td>...</td>\n",
       "      <td>...</td>\n",
       "      <td>...</td>\n",
       "      <td>...</td>\n",
       "      <td>...</td>\n",
       "      <td>...</td>\n",
       "      <td>...</td>\n",
       "      <td>...</td>\n",
       "    </tr>\n",
       "    <tr>\n",
       "      <th>11326</th>\n",
       "      <td>11326</td>\n",
       "      <td>1534</td>\n",
       "      <td>2</td>\n",
       "      <td>3411</td>\n",
       "      <td>26</td>\n",
       "      <td>Альберт</td>\n",
       "      <td>25</td>\n",
       "      <td>Краснодар</td>\n",
       "      <td>free</td>\n",
       "      <td>8</td>\n",
       "      <td>50</td>\n",
       "      <td>0</td>\n",
       "    </tr>\n",
       "    <tr>\n",
       "      <th>11327</th>\n",
       "      <td>11327</td>\n",
       "      <td>1534</td>\n",
       "      <td>2</td>\n",
       "      <td>7623</td>\n",
       "      <td>48</td>\n",
       "      <td>Альберт</td>\n",
       "      <td>25</td>\n",
       "      <td>Краснодар</td>\n",
       "      <td>free</td>\n",
       "      <td>8</td>\n",
       "      <td>50</td>\n",
       "      <td>0</td>\n",
       "    </tr>\n",
       "    <tr>\n",
       "      <th>11328</th>\n",
       "      <td>11328</td>\n",
       "      <td>1534</td>\n",
       "      <td>1</td>\n",
       "      <td>4929</td>\n",
       "      <td>23</td>\n",
       "      <td>Альберт</td>\n",
       "      <td>25</td>\n",
       "      <td>Краснодар</td>\n",
       "      <td>free</td>\n",
       "      <td>8</td>\n",
       "      <td>50</td>\n",
       "      <td>0</td>\n",
       "    </tr>\n",
       "    <tr>\n",
       "      <th>11329</th>\n",
       "      <td>11329</td>\n",
       "      <td>1534</td>\n",
       "      <td>4</td>\n",
       "      <td>13353</td>\n",
       "      <td>78</td>\n",
       "      <td>Альберт</td>\n",
       "      <td>25</td>\n",
       "      <td>Краснодар</td>\n",
       "      <td>free</td>\n",
       "      <td>8</td>\n",
       "      <td>50</td>\n",
       "      <td>0</td>\n",
       "    </tr>\n",
       "    <tr>\n",
       "      <th>11330</th>\n",
       "      <td>11330</td>\n",
       "      <td>1534</td>\n",
       "      <td>1</td>\n",
       "      <td>2372</td>\n",
       "      <td>16</td>\n",
       "      <td>Альберт</td>\n",
       "      <td>25</td>\n",
       "      <td>Краснодар</td>\n",
       "      <td>free</td>\n",
       "      <td>8</td>\n",
       "      <td>50</td>\n",
       "      <td>0</td>\n",
       "    </tr>\n",
       "  </tbody>\n",
       "</table>\n",
       "<p>11331 rows × 12 columns</p>\n",
       "</div>"
      ],
      "text/plain": [
       "       index  user_id  count_distance  sum_distance  sum_duration     name  \\\n",
       "0          0        1               2          7028            42     Кира   \n",
       "1          1        1               1           755             7     Кира   \n",
       "2          2        1               2          6724            46     Кира   \n",
       "3          3        1               2          5811            32     Кира   \n",
       "4          4        1               3          7005            56     Кира   \n",
       "...      ...      ...             ...           ...           ...      ...   \n",
       "11326  11326     1534               2          3411            26  Альберт   \n",
       "11327  11327     1534               2          7623            48  Альберт   \n",
       "11328  11328     1534               1          4929            23  Альберт   \n",
       "11329  11329     1534               4         13353            78  Альберт   \n",
       "11330  11330     1534               1          2372            16  Альберт   \n",
       "\n",
       "       age       city subscription_type  minute_price  start_ride_price  \\\n",
       "0       22     Тюмень             ultra             6                 0   \n",
       "1       22     Тюмень             ultra             6                 0   \n",
       "2       22     Тюмень             ultra             6                 0   \n",
       "3       22     Тюмень             ultra             6                 0   \n",
       "4       22     Тюмень             ultra             6                 0   \n",
       "...    ...        ...               ...           ...               ...   \n",
       "11326   25  Краснодар              free             8                50   \n",
       "11327   25  Краснодар              free             8                50   \n",
       "11328   25  Краснодар              free             8                50   \n",
       "11329   25  Краснодар              free             8                50   \n",
       "11330   25  Краснодар              free             8                50   \n",
       "\n",
       "       subscription_fee  \n",
       "0                   199  \n",
       "1                   199  \n",
       "2                   199  \n",
       "3                   199  \n",
       "4                   199  \n",
       "...                 ...  \n",
       "11326                 0  \n",
       "11327                 0  \n",
       "11328                 0  \n",
       "11329                 0  \n",
       "11330                 0  \n",
       "\n",
       "[11331 rows x 12 columns]"
      ]
     },
     "metadata": {},
     "output_type": "display_data"
    }
   ],
   "source": [
    "# округлим время поезки и изменим тип данных\n",
    "merged_df['duration'] = np.ceil(merged_df['duration'])\n",
    "merged_df['duration'] = merged_df['duration'].astype('int')\n",
    "agg_df = merged_df.pivot_table(index= ['user_id', 'month'], values = ['distance', 'duration'], aggfunc = ['count', 'sum'])\n",
    "agg_df.columns = ['_'.join(col) for col in agg_df.columns.values]#объединим уровни индекса символом \"_\"\n",
    "agg_df = agg_df.drop(columns=['count_duration']) #уберем ненужный столбец\n",
    "agg_df = agg_df.merge(users, how='left', on='user_id')#объединим с другими датафреймами\n",
    "agg_df = agg_df.merge(subscriptions, how = 'left', on='subscription_type')\n",
    "agg_df = agg_df.reset_index()\n",
    "display(agg_df)"
   ]
  },
  {
   "cell_type": "markdown",
   "id": "ba60aecc",
   "metadata": {},
   "source": [
    "### Добавим столбец с помесячной выручкой"
   ]
  },
  {
   "cell_type": "code",
   "execution_count": 33,
   "id": "4a491db3",
   "metadata": {},
   "outputs": [],
   "source": [
    "agg_df['month_earning'] = agg_df['start_ride_price']*agg_df['count_distance']+agg_df['minute_price']*agg_df['sum_duration']+agg_df['subscription_fee']"
   ]
  },
  {
   "cell_type": "code",
   "execution_count": 34,
   "id": "c8751c49",
   "metadata": {},
   "outputs": [
    {
     "data": {
      "text/html": [
       "<div>\n",
       "<style scoped>\n",
       "    .dataframe tbody tr th:only-of-type {\n",
       "        vertical-align: middle;\n",
       "    }\n",
       "\n",
       "    .dataframe tbody tr th {\n",
       "        vertical-align: top;\n",
       "    }\n",
       "\n",
       "    .dataframe thead th {\n",
       "        text-align: right;\n",
       "    }\n",
       "</style>\n",
       "<table border=\"1\" class=\"dataframe\">\n",
       "  <thead>\n",
       "    <tr style=\"text-align: right;\">\n",
       "      <th></th>\n",
       "      <th>index</th>\n",
       "      <th>user_id</th>\n",
       "      <th>count_distance</th>\n",
       "      <th>sum_distance</th>\n",
       "      <th>sum_duration</th>\n",
       "      <th>name</th>\n",
       "      <th>age</th>\n",
       "      <th>city</th>\n",
       "      <th>subscription_type</th>\n",
       "      <th>minute_price</th>\n",
       "      <th>start_ride_price</th>\n",
       "      <th>subscription_fee</th>\n",
       "      <th>month_earning</th>\n",
       "    </tr>\n",
       "  </thead>\n",
       "  <tbody>\n",
       "    <tr>\n",
       "      <th>0</th>\n",
       "      <td>0</td>\n",
       "      <td>1</td>\n",
       "      <td>2</td>\n",
       "      <td>7028</td>\n",
       "      <td>42</td>\n",
       "      <td>Кира</td>\n",
       "      <td>22</td>\n",
       "      <td>Тюмень</td>\n",
       "      <td>ultra</td>\n",
       "      <td>6</td>\n",
       "      <td>0</td>\n",
       "      <td>199</td>\n",
       "      <td>451</td>\n",
       "    </tr>\n",
       "    <tr>\n",
       "      <th>1</th>\n",
       "      <td>1</td>\n",
       "      <td>1</td>\n",
       "      <td>1</td>\n",
       "      <td>755</td>\n",
       "      <td>7</td>\n",
       "      <td>Кира</td>\n",
       "      <td>22</td>\n",
       "      <td>Тюмень</td>\n",
       "      <td>ultra</td>\n",
       "      <td>6</td>\n",
       "      <td>0</td>\n",
       "      <td>199</td>\n",
       "      <td>241</td>\n",
       "    </tr>\n",
       "    <tr>\n",
       "      <th>2</th>\n",
       "      <td>2</td>\n",
       "      <td>1</td>\n",
       "      <td>2</td>\n",
       "      <td>6724</td>\n",
       "      <td>46</td>\n",
       "      <td>Кира</td>\n",
       "      <td>22</td>\n",
       "      <td>Тюмень</td>\n",
       "      <td>ultra</td>\n",
       "      <td>6</td>\n",
       "      <td>0</td>\n",
       "      <td>199</td>\n",
       "      <td>475</td>\n",
       "    </tr>\n",
       "    <tr>\n",
       "      <th>3</th>\n",
       "      <td>3</td>\n",
       "      <td>1</td>\n",
       "      <td>2</td>\n",
       "      <td>5811</td>\n",
       "      <td>32</td>\n",
       "      <td>Кира</td>\n",
       "      <td>22</td>\n",
       "      <td>Тюмень</td>\n",
       "      <td>ultra</td>\n",
       "      <td>6</td>\n",
       "      <td>0</td>\n",
       "      <td>199</td>\n",
       "      <td>391</td>\n",
       "    </tr>\n",
       "    <tr>\n",
       "      <th>4</th>\n",
       "      <td>4</td>\n",
       "      <td>1</td>\n",
       "      <td>3</td>\n",
       "      <td>7005</td>\n",
       "      <td>56</td>\n",
       "      <td>Кира</td>\n",
       "      <td>22</td>\n",
       "      <td>Тюмень</td>\n",
       "      <td>ultra</td>\n",
       "      <td>6</td>\n",
       "      <td>0</td>\n",
       "      <td>199</td>\n",
       "      <td>535</td>\n",
       "    </tr>\n",
       "  </tbody>\n",
       "</table>\n",
       "</div>"
      ],
      "text/plain": [
       "   index  user_id  count_distance  sum_distance  sum_duration  name  age  \\\n",
       "0      0        1               2          7028            42  Кира   22   \n",
       "1      1        1               1           755             7  Кира   22   \n",
       "2      2        1               2          6724            46  Кира   22   \n",
       "3      3        1               2          5811            32  Кира   22   \n",
       "4      4        1               3          7005            56  Кира   22   \n",
       "\n",
       "     city subscription_type  minute_price  start_ride_price  subscription_fee  \\\n",
       "0  Тюмень             ultra             6                 0               199   \n",
       "1  Тюмень             ultra             6                 0               199   \n",
       "2  Тюмень             ultra             6                 0               199   \n",
       "3  Тюмень             ultra             6                 0               199   \n",
       "4  Тюмень             ultra             6                 0               199   \n",
       "\n",
       "   month_earning  \n",
       "0            451  \n",
       "1            241  \n",
       "2            475  \n",
       "3            391  \n",
       "4            535  "
      ]
     },
     "execution_count": 34,
     "metadata": {},
     "output_type": "execute_result"
    }
   ],
   "source": [
    "agg_df.head()"
   ]
  },
  {
   "cell_type": "markdown",
   "id": "7168dffb",
   "metadata": {},
   "source": [
    "**Вывод:**\n",
    "Подсчитали выручку для каждого пользователя,которая вычисляется: Помесячная выручка считается по формуле: стоимость старта поездки × количество поездок + стоимость одной минуты поездки × общая продолжительность всех поездок в минутах + стоимость подписки."
   ]
  },
  {
   "cell_type": "markdown",
   "id": "41545ac0",
   "metadata": {},
   "source": [
    "## Проверка гипотез"
   ]
  },
  {
   "cell_type": "markdown",
   "id": "f919c568",
   "metadata": {},
   "source": [
    "### Важно понять, тратят ли пользователи с подпиской больше времени на поездки? \n",
    "Если да, то пользователи с подпиской могут быть «выгоднее» для компании. Проверим гипотезу. Будем использовать исходные данные о продолжительности каждой сессии — отдельно для подписчиков и тех, у кого нет подписки."
   ]
  },
  {
   "cell_type": "markdown",
   "id": "b19b3196",
   "metadata": {},
   "source": [
    "**Нулевая гипотеза:** Средняя продолжительность поездок пользоваталей с подпиской и без подписки равны\n",
    "\n",
    "**Альтернативная гипотеза:** Средняя продолжительность поездок у пользователей с подпиской больше"
   ]
  },
  {
   "cell_type": "code",
   "execution_count": 35,
   "id": "f833bb75",
   "metadata": {},
   "outputs": [
    {
     "name": "stdout",
     "output_type": "stream",
     "text": [
      "p-значение 1.2804098316645618e-34\n",
      "Отвергаем нулевую гипотезу\n"
     ]
    }
   ],
   "source": [
    "alpha=0.05 # Зададим статистический уровень значимости\n",
    "results = st.ttest_ind(merged_df_sub['duration'],merged_df_nosub['duration'],alternative='greater')\n",
    "print('p-значение',results.pvalue)\n",
    "if results.pvalue < alpha:\n",
    "    print('Отвергаем нулевую гипотезу')\n",
    "else:\n",
    "    print('Не получилось отвергнуть нулевую гипотезу')\n"
   ]
  },
  {
   "cell_type": "markdown",
   "id": "6c979b4f",
   "metadata": {},
   "source": [
    "Так как мы отвергаем нулевую гипотезу, можно сделать вывод, что пользователи с подпиской тратят больше времени на поездки, проверим другим способом."
   ]
  },
  {
   "cell_type": "code",
   "execution_count": 36,
   "id": "116ccd04",
   "metadata": {},
   "outputs": [
    {
     "name": "stdout",
     "output_type": "stream",
     "text": [
      "Среднее время поездок пользователей с подпиской 18.54198516280583\n",
      "Среднее время поездок пользователей без подписки 17.39090929866399\n"
     ]
    }
   ],
   "source": [
    "print('Среднее время поездок пользователей с подпиской',merged_df_sub['duration'].mean())\n",
    "print('Среднее время поездок пользователей без подписки',merged_df_nosub['duration'].mean())"
   ]
  },
  {
   "cell_type": "markdown",
   "id": "bac52c26",
   "metadata": {},
   "source": [
    "Как мы видим, среднее время поездок пользователей с подпиской и в правду больше."
   ]
  },
  {
   "cell_type": "markdown",
   "id": "9178795d",
   "metadata": {},
   "source": [
    "***Гипотеза подтвердилась***"
   ]
  },
  {
   "cell_type": "markdown",
   "id": "623c7b6d",
   "metadata": {},
   "source": [
    "### Можно ли сказать, что среднее расстояние, которое проезжают пользователи с подпиской за одну поездку, не превышает 3130 метров?\n",
    "Расстояние одной поездки в \n",
    "3130\n",
    " метров — оптимальное с точки зрения износа самоката"
   ]
  },
  {
   "cell_type": "markdown",
   "id": "2fff78cf",
   "metadata": {},
   "source": [
    "**Нулевая гипотеза:** пользователи проезжают одну поездку в среднем длинною 3130 метров\n",
    "\n",
    "**Альтернативная гипотеза:** пользователи проезжают одну поездку в среднем длинною меньше 3130 метров"
   ]
  },
  {
   "cell_type": "code",
   "execution_count": 38,
   "id": "7369d2b9",
   "metadata": {},
   "outputs": [
    {
     "name": "stdout",
     "output_type": "stream",
     "text": [
      "p-значение 0.08795776629194929\n",
      "Не удалось отвергнуть нулевую гипотезу\n"
     ]
    }
   ],
   "source": [
    "value = 3130 \n",
    "alpha = 0.05 #Зададим статистический уровень значимости\n",
    "mean_dis_sub = merged_df_sub['distance'] #определим среднее расстояние поездок\n",
    "results = st.ttest_1samp(mean_dis_sub,value,alternative='less')\n",
    "print('p-значение',results.pvalue)\n",
    "if results.pvalue < alpha:\n",
    "    print('Отвергаем нулевую гипотезу')\n",
    "else:\n",
    "    print('Не удалось отвергнуть нулевую гипотезу')"
   ]
  },
  {
   "cell_type": "markdown",
   "id": "934b4a55",
   "metadata": {},
   "source": [
    "Проверим чему равно среднее расстояние поездки пользователей с подпиской"
   ]
  },
  {
   "cell_type": "code",
   "execution_count": 39,
   "id": "90f9488f",
   "metadata": {},
   "outputs": [
    {
     "name": "stdout",
     "output_type": "stream",
     "text": [
      "Среднее расстояние поездок пользователей с подпиской 3115.949230769231\n"
     ]
    }
   ],
   "source": [
    "print('Среднее расстояние поездок пользователей с подпиской', merged_df_sub['distance'].mean())"
   ]
  },
  {
   "cell_type": "markdown",
   "id": "0075ea23",
   "metadata": {},
   "source": [
    "Среднее расстояние поездок пользователей с подпиской, действительно меньше 3130 метров"
   ]
  },
  {
   "cell_type": "markdown",
   "id": "27dbd78d",
   "metadata": {},
   "source": [
    "***Гипотеза подтвердилась***"
   ]
  },
  {
   "cell_type": "markdown",
   "id": "76385b43",
   "metadata": {},
   "source": [
    "### Будет ли помесячная выручка от пользователей с подпиской по месяцам выше, чем выручка от пользователей без подписки\n",
    "\n",
    "**Нулевая гипотеза:** Помесячная выручка от пользователей без подписки и с подпиской равны\n",
    "\n",
    "**Альтернативная гипотеза** Помесячная выручка от пользователей с подпиской выше, чем от пользователей без подписки."
   ]
  },
  {
   "cell_type": "code",
   "execution_count": 40,
   "id": "45ca660b",
   "metadata": {},
   "outputs": [
    {
     "name": "stdout",
     "output_type": "stream",
     "text": [
      "p-значение 1.8850394384715216e-31\n",
      "Отвергаем нулевую гипотезу\n"
     ]
    }
   ],
   "source": [
    "alpha = 0.05 #Зададим статистический уровень значимости \n",
    "#Для удобства создадим отдельные выборки с выручкой\n",
    "agg_df_ultra = agg_df[agg_df['subscription_type']== 'ultra']\n",
    "agg_df_free = agg_df[agg_df['subscription_type'] == 'free']\n",
    "\n",
    "results = st.ttest_ind(agg_df_ultra['month_earning'],agg_df_free['month_earning'],alternative='greater')\n",
    "print('p-значение',results.pvalue)\n",
    "if results.pvalue < alpha:\n",
    "    print('Отвергаем нулевую гипотезу')\n",
    "else:\n",
    "    print('Не получилось отвергнуть нулевую гипотезу')"
   ]
  },
  {
   "cell_type": "markdown",
   "id": "6840f480",
   "metadata": {},
   "source": [
    "Так как мы отвергаем нулевую гипотезу, можем теперь сказать, что помесячная выручка от пользователей с подпиской выше, чем выручка от пользователей без подписки, проверим."
   ]
  },
  {
   "cell_type": "code",
   "execution_count": 41,
   "id": "6622aed4",
   "metadata": {},
   "outputs": [
    {
     "name": "stdout",
     "output_type": "stream",
     "text": [
      "Средняя помесячная выручка от пользователей с подпиской 362.7921906022502\n",
      "Средняя помесячная выручка от пользователей без подписки 328.6413651073845\n"
     ]
    }
   ],
   "source": [
    "print('Средняя помесячная выручка от пользователей с подпиской',agg_df_ultra['month_earning'].mean())\n",
    "print('Средняя помесячная выручка от пользователей без подписки',agg_df_free['month_earning'].mean())"
   ]
  },
  {
   "cell_type": "markdown",
   "id": "3d2924fe",
   "metadata": {},
   "source": [
    "И в правду, даже средняя помесячная выручка от пользователей с подпиской больше, чем выручка от пользователей без подписки \n",
    "\n",
    "***Гипотеза подтвердилась***"
   ]
  },
  {
   "cell_type": "markdown",
   "id": "faaf418f",
   "metadata": {},
   "source": [
    "### Техническая команда сервиса обновила сервера, с которыми взаимодействует мобильное приложение. Она надеется, что из-за этого количество обращений в техподдержку значимо снизилось. Некоторый файл содержит для каждого пользователя данные о количестве обращений до обновления и после него."
   ]
  },
  {
   "cell_type": "markdown",
   "id": "47d158ee",
   "metadata": {},
   "source": [
    "В такой ситуации стоит применять тест о равенстве средних двух зависимых выборок. Такой тест поможет определить равенство среднего значения гениральной совокупности до и после внедрения изменений. \n",
    "\n",
    "В коде это будет выглядеть так: scipy.stats.ttest_rel\n",
    "\n",
    "А аргуметами послужат выборки до и после изменений, также нужно указать, что мы проверяем левосторонюю гипотезу,поэтому аргумент alternative будет иметь значения 'less'.\n"
   ]
  },
  {
   "cell_type": "markdown",
   "id": "1f6fbf82",
   "metadata": {},
   "source": [
    "**Вывод по проверке гипотез:**\n",
    "* Нулевая гипотеза отвергнута - можно предполагать, что пользователи с подпиской тратят больше времени на поездки\n",
    "* Нулевую гипотезу не удалось отвергнуть - можно предполагать, что среднее расстояние, которое проезжают пользователи с подпиской за одну поездку, не превышает 3130 метро\n",
    "* Нулевая гипотеза отвергнута - можно предполагать, что помесячная выручка от пользователей с подпиской выше, чем выручка от пользователей без подписки\n",
    "* В ситуации обновления сервиса, стоит использовать метод scipy.stats.ttest_rel с аргументами - выборки до и после изменения и аргументом alternative - 'less'"
   ]
  },
  {
   "cell_type": "markdown",
   "id": "27567cb6",
   "metadata": {},
   "source": [
    "## Общий вывод:\n",
    "\n",
    "* **Изучили общую информацию о данных:**\n",
    "    * Таблица users состоит из 1565 строк и 5 столбцов,и включает в себя столбцы: user_id, name, age, city, subscription_type.\n",
    "    * Таблица rides состоит из 18068 строк и 4 столбцов, и включает в себя столбцы user_id, distance, duration, date.\n",
    "    * Таблица subscriptions состоит из 2 строк и 4 столбцов, и включает в себя столбцы subscription_type, minute_price, start_ride_price, subscription_fee.\n",
    "    \n",
    "* **Выполнили предобработку данных:** \n",
    "    * Изменили тип столбца date в датафрейме rides\n",
    "    * Добавили новый столбец month в датафрейм rides, показывающий месяц\n",
    "    * Явные дубликаты присутствовали в датафрейме users и были удалены\n",
    "    * Пропуски во всех датафреймах отсутствуют\n",
    "    \n",
    "* **Провели исследовательский анализ данных:**\n",
    "    * Больше всего пользователей из Пятигорска, меньше всего из Москвы\n",
    "    * Больше всего пользователей без подписки - 835 человек, с подпиской ultra - 699 человек\n",
    "    * Средний возраст пользователей 24.9 лет\n",
    "    * Среднее растояние, которое преодолевали пользователи за 1 поездку - 3070 метров, при этом есть выбросы на 600 метрах\n",
    "    * Среднее время поездки составило 17.7 минут\n",
    "    \n",
    "* **Объединили данные:**\n",
    "    * Объединили 3 датафрейма в один\n",
    "    * Создали 2 датафрейма с информацией о пользователях с подпиской и без подписки\n",
    "    * Выявили,что пользователей с подпиской почти в 2 раза больше,графики выше сложно сравнить пока что, из-за разницы выборки.\n",
    "    * Пользователи без подписки имеют более равномерное распределение как по времени, так и по расстоянию поездок. Они совершают чуть более длинные поездки\n",
    "    * Пользователи с подпиской склонны выбирать поездки, которые длятся немного дольше, однако их расстояние обычно короче. В этой группе также наблюдается меньшее количество поездок, которые являются короткими по расстоянию, но длительными по времени\n",
    "    * Пользователи без подписки, совершающие короткие по расстоянию, но длительные по времени поездки, включают новых клиентов, которые только начинают знакомиться с сервисом и учатся взаимодействовать с ним и самокатами\n",
    "\n",
    "* **Подсчитали выручку:**\n",
    "    * Подсчитали выручку для каждого пользователя,которая вычисляется: Помесячная выручка считается по формуле: стоимость старта поездки × количество поездок + стоимость одной минуты поездки × общая продолжительность всех поездок в минутах + стоимость подписки.\n",
    "* **Проверили гипотезы:**\n",
    "    * Можно предполагать, что пользователи с подпиской тратят больше времени на поездки\n",
    "    * Можно предполагать, что среднее расстояние, которое проезжают пользователи с подпиской за одну поездку, не превышает 3130 метров\n",
    "    * Можно предполагать, что помесячная выручка от пользователей с подпиской выше, чем выручка от пользователей без подписки\n",
    "    * В ситуации обновления сервиса, стоит использовать метод scipy.stats.ttest_rel с аргументами - выборки до и после изменения и аргументом alternative - 'less'"
   ]
  },
  {
   "cell_type": "markdown",
   "id": "8b561bc7",
   "metadata": {},
   "source": [
    "Подводя итоги, можно сказать, что пользователи с подпиской являются более релевантными и бизнесу GoFast, необходимо продать свои подписки большему количеству пользователей."
   ]
  }
 ],
 "metadata": {
  "ExecuteTimeLog": [
   {
    "duration": 61,
    "start_time": "2024-12-04T12:46:50.231Z"
   },
   {
    "duration": 80,
    "start_time": "2024-12-04T12:50:21.404Z"
   },
   {
    "duration": 58,
    "start_time": "2024-12-04T12:50:23.783Z"
   },
   {
    "duration": 12,
    "start_time": "2024-12-04T12:53:15.879Z"
   },
   {
    "duration": 5,
    "start_time": "2024-12-04T12:53:23.790Z"
   },
   {
    "duration": 6,
    "start_time": "2024-12-04T12:53:27.710Z"
   },
   {
    "duration": 7,
    "start_time": "2024-12-04T12:53:33.314Z"
   },
   {
    "duration": 6,
    "start_time": "2024-12-04T12:53:37.298Z"
   },
   {
    "duration": 6,
    "start_time": "2024-12-04T12:53:40.033Z"
   },
   {
    "duration": 7,
    "start_time": "2024-12-04T12:54:49.624Z"
   },
   {
    "duration": 7,
    "start_time": "2024-12-04T12:55:00.646Z"
   },
   {
    "duration": 7,
    "start_time": "2024-12-04T12:55:13.275Z"
   },
   {
    "duration": 11,
    "start_time": "2024-12-04T12:55:30.637Z"
   },
   {
    "duration": 10,
    "start_time": "2024-12-04T12:55:55.658Z"
   },
   {
    "duration": 7,
    "start_time": "2024-12-04T12:56:03.045Z"
   },
   {
    "duration": 10,
    "start_time": "2024-12-04T12:56:13.338Z"
   },
   {
    "duration": 7,
    "start_time": "2024-12-04T12:56:22.793Z"
   },
   {
    "duration": 10,
    "start_time": "2024-12-04T12:56:40.197Z"
   },
   {
    "duration": 6,
    "start_time": "2024-12-04T12:57:45.454Z"
   },
   {
    "duration": 7,
    "start_time": "2024-12-04T12:57:48.307Z"
   },
   {
    "duration": 7,
    "start_time": "2024-12-04T13:05:19.529Z"
   },
   {
    "duration": 8,
    "start_time": "2024-12-04T13:10:08.158Z"
   },
   {
    "duration": 12,
    "start_time": "2024-12-04T13:10:18.337Z"
   },
   {
    "duration": 3,
    "start_time": "2024-12-04T13:14:29.224Z"
   },
   {
    "duration": 7,
    "start_time": "2024-12-04T13:14:38.565Z"
   },
   {
    "duration": 6,
    "start_time": "2024-12-04T13:16:23.246Z"
   },
   {
    "duration": 5,
    "start_time": "2024-12-04T13:16:30.658Z"
   },
   {
    "duration": 6,
    "start_time": "2024-12-04T13:17:04.842Z"
   },
   {
    "duration": 5,
    "start_time": "2024-12-04T13:17:14.428Z"
   },
   {
    "duration": 6,
    "start_time": "2024-12-04T13:17:19.857Z"
   },
   {
    "duration": 5,
    "start_time": "2024-12-04T13:17:33.220Z"
   },
   {
    "duration": 59,
    "start_time": "2024-12-04T13:17:42.996Z"
   },
   {
    "duration": 7,
    "start_time": "2024-12-04T13:17:43.818Z"
   },
   {
    "duration": 10,
    "start_time": "2024-12-04T13:17:44.349Z"
   },
   {
    "duration": 7,
    "start_time": "2024-12-04T13:17:44.774Z"
   },
   {
    "duration": 12,
    "start_time": "2024-12-04T13:17:45.383Z"
   },
   {
    "duration": 6,
    "start_time": "2024-12-04T13:17:45.903Z"
   },
   {
    "duration": 14,
    "start_time": "2024-12-04T13:17:47.268Z"
   },
   {
    "duration": 13,
    "start_time": "2024-12-04T13:17:55.000Z"
   },
   {
    "duration": 5,
    "start_time": "2024-12-04T13:18:02.278Z"
   },
   {
    "duration": 5,
    "start_time": "2024-12-04T13:18:06.123Z"
   },
   {
    "duration": 5,
    "start_time": "2024-12-04T13:18:13.045Z"
   },
   {
    "duration": 6,
    "start_time": "2024-12-04T13:20:15.533Z"
   },
   {
    "duration": 87,
    "start_time": "2024-12-04T13:20:40.429Z"
   },
   {
    "duration": 88,
    "start_time": "2024-12-04T13:20:44.162Z"
   },
   {
    "duration": 5,
    "start_time": "2024-12-04T13:20:52.515Z"
   },
   {
    "duration": 7,
    "start_time": "2024-12-04T13:21:08.643Z"
   },
   {
    "duration": 9,
    "start_time": "2024-12-04T13:21:35.067Z"
   },
   {
    "duration": 6,
    "start_time": "2024-12-04T13:26:32.509Z"
   },
   {
    "duration": 6,
    "start_time": "2024-12-04T13:26:36.283Z"
   },
   {
    "duration": 6,
    "start_time": "2024-12-04T13:26:38.911Z"
   },
   {
    "duration": 6,
    "start_time": "2024-12-04T13:26:41.218Z"
   },
   {
    "duration": 4,
    "start_time": "2024-12-04T13:26:45.511Z"
   },
   {
    "duration": 8,
    "start_time": "2024-12-04T13:28:00.530Z"
   },
   {
    "duration": 13,
    "start_time": "2024-12-04T13:28:03.926Z"
   },
   {
    "duration": 6,
    "start_time": "2024-12-04T13:34:00.951Z"
   },
   {
    "duration": 7,
    "start_time": "2024-12-04T13:34:03.249Z"
   },
   {
    "duration": 10,
    "start_time": "2024-12-04T13:34:07.942Z"
   },
   {
    "duration": 6,
    "start_time": "2024-12-04T13:34:08.957Z"
   },
   {
    "duration": 12,
    "start_time": "2024-12-04T13:34:14.782Z"
   },
   {
    "duration": 12,
    "start_time": "2024-12-04T13:34:18.683Z"
   },
   {
    "duration": 4,
    "start_time": "2024-12-04T13:34:31.945Z"
   },
   {
    "duration": 9,
    "start_time": "2024-12-04T13:34:33.992Z"
   },
   {
    "duration": 9,
    "start_time": "2024-12-04T13:37:25.744Z"
   },
   {
    "duration": 90,
    "start_time": "2024-12-04T13:37:29.739Z"
   },
   {
    "duration": 8,
    "start_time": "2024-12-04T13:37:31.718Z"
   },
   {
    "duration": 9,
    "start_time": "2024-12-04T13:37:34.962Z"
   },
   {
    "duration": 7,
    "start_time": "2024-12-04T13:37:40.023Z"
   },
   {
    "duration": 8,
    "start_time": "2024-12-04T13:38:15.318Z"
   },
   {
    "duration": 11,
    "start_time": "2024-12-04T13:38:27.919Z"
   },
   {
    "duration": 10,
    "start_time": "2024-12-04T13:38:33.273Z"
   },
   {
    "duration": 85,
    "start_time": "2024-12-04T13:38:56.202Z"
   },
   {
    "duration": 9,
    "start_time": "2024-12-04T13:38:58.649Z"
   },
   {
    "duration": 10,
    "start_time": "2024-12-04T13:39:05.207Z"
   },
   {
    "duration": 10,
    "start_time": "2024-12-04T13:39:56.465Z"
   },
   {
    "duration": 11,
    "start_time": "2024-12-04T13:40:03.860Z"
   },
   {
    "duration": 9,
    "start_time": "2024-12-04T13:40:15.550Z"
   },
   {
    "duration": 13,
    "start_time": "2024-12-04T13:40:28.548Z"
   },
   {
    "duration": 13,
    "start_time": "2024-12-04T13:40:36.812Z"
   },
   {
    "duration": 13,
    "start_time": "2024-12-04T13:40:54.535Z"
   },
   {
    "duration": 17,
    "start_time": "2024-12-04T13:41:21.394Z"
   },
   {
    "duration": 7,
    "start_time": "2024-12-04T13:42:02.786Z"
   },
   {
    "duration": 6,
    "start_time": "2024-12-04T13:42:18.501Z"
   },
   {
    "duration": 64,
    "start_time": "2024-12-04T13:42:22.475Z"
   },
   {
    "duration": 8,
    "start_time": "2024-12-04T13:42:23.683Z"
   },
   {
    "duration": 11,
    "start_time": "2024-12-04T13:42:24.011Z"
   },
   {
    "duration": 11,
    "start_time": "2024-12-04T13:42:24.801Z"
   },
   {
    "duration": 11,
    "start_time": "2024-12-04T13:42:25.504Z"
   },
   {
    "duration": 6,
    "start_time": "2024-12-04T13:42:26.344Z"
   },
   {
    "duration": 10,
    "start_time": "2024-12-04T13:42:26.754Z"
   },
   {
    "duration": 6,
    "start_time": "2024-12-04T13:42:28.725Z"
   },
   {
    "duration": 3,
    "start_time": "2024-12-04T13:42:29.541Z"
   },
   {
    "duration": 18,
    "start_time": "2024-12-04T13:42:30.425Z"
   },
   {
    "duration": 17,
    "start_time": "2024-12-04T13:42:33.975Z"
   },
   {
    "duration": 6,
    "start_time": "2024-12-04T13:42:36.207Z"
   },
   {
    "duration": 2,
    "start_time": "2024-12-04T13:50:16.995Z"
   },
   {
    "duration": 7,
    "start_time": "2024-12-04T13:51:46.775Z"
   },
   {
    "duration": 14,
    "start_time": "2024-12-04T13:53:05.978Z"
   },
   {
    "duration": 10,
    "start_time": "2024-12-04T13:53:09.272Z"
   },
   {
    "duration": 7,
    "start_time": "2024-12-04T13:53:31.283Z"
   },
   {
    "duration": 763,
    "start_time": "2024-12-04T13:54:56.206Z"
   },
   {
    "duration": 135,
    "start_time": "2024-12-04T13:55:15.824Z"
   },
   {
    "duration": 121,
    "start_time": "2024-12-04T13:55:19.998Z"
   },
   {
    "duration": 133,
    "start_time": "2024-12-04T13:55:27.973Z"
   },
   {
    "duration": 154,
    "start_time": "2024-12-04T13:55:33.733Z"
   },
   {
    "duration": 122,
    "start_time": "2024-12-04T13:55:41.600Z"
   },
   {
    "duration": 13,
    "start_time": "2024-12-04T13:56:00.987Z"
   },
   {
    "duration": 12,
    "start_time": "2024-12-04T13:56:18.100Z"
   },
   {
    "duration": 112,
    "start_time": "2024-12-04T13:57:21.691Z"
   },
   {
    "duration": 131,
    "start_time": "2024-12-04T13:57:38.449Z"
   },
   {
    "duration": 105,
    "start_time": "2024-12-04T13:57:53.537Z"
   },
   {
    "duration": 152,
    "start_time": "2024-12-04T13:57:55.539Z"
   },
   {
    "duration": 166,
    "start_time": "2024-12-04T13:58:03.088Z"
   },
   {
    "duration": 199,
    "start_time": "2024-12-04T13:58:08.530Z"
   },
   {
    "duration": 153,
    "start_time": "2024-12-04T13:58:45.805Z"
   },
   {
    "duration": 157,
    "start_time": "2024-12-04T13:59:16.671Z"
   },
   {
    "duration": 160,
    "start_time": "2024-12-04T13:59:33.954Z"
   },
   {
    "duration": 195,
    "start_time": "2024-12-04T14:00:18.620Z"
   },
   {
    "duration": 174,
    "start_time": "2024-12-04T14:00:27.746Z"
   },
   {
    "duration": 174,
    "start_time": "2024-12-04T14:00:31.951Z"
   },
   {
    "duration": 159,
    "start_time": "2024-12-04T14:00:38.482Z"
   },
   {
    "duration": 162,
    "start_time": "2024-12-04T14:00:40.967Z"
   },
   {
    "duration": 170,
    "start_time": "2024-12-04T14:00:45.165Z"
   },
   {
    "duration": 8,
    "start_time": "2024-12-04T14:01:11.238Z"
   },
   {
    "duration": 8,
    "start_time": "2024-12-04T14:01:13.729Z"
   },
   {
    "duration": 158,
    "start_time": "2024-12-04T14:01:19.800Z"
   },
   {
    "duration": 204,
    "start_time": "2024-12-04T14:01:23.281Z"
   },
   {
    "duration": 7,
    "start_time": "2024-12-04T14:01:25.103Z"
   },
   {
    "duration": 10,
    "start_time": "2024-12-04T14:01:34.591Z"
   },
   {
    "duration": 12,
    "start_time": "2024-12-04T14:38:29.584Z"
   },
   {
    "duration": 11,
    "start_time": "2024-12-04T14:38:38.684Z"
   },
   {
    "duration": 104,
    "start_time": "2024-12-04T14:41:31.744Z"
   },
   {
    "duration": 121,
    "start_time": "2024-12-04T14:41:54.097Z"
   },
   {
    "duration": 147,
    "start_time": "2024-12-04T14:48:06.449Z"
   },
   {
    "duration": 2,
    "start_time": "2024-12-04T14:49:44.632Z"
   },
   {
    "duration": 2,
    "start_time": "2024-12-04T14:49:47.149Z"
   },
   {
    "duration": 8,
    "start_time": "2024-12-04T14:50:45.458Z"
   },
   {
    "duration": 11,
    "start_time": "2024-12-04T14:50:50.306Z"
   },
   {
    "duration": 12,
    "start_time": "2024-12-04T14:50:57.093Z"
   },
   {
    "duration": 6,
    "start_time": "2024-12-04T14:51:49.169Z"
   },
   {
    "duration": 7,
    "start_time": "2024-12-04T14:52:33.794Z"
   },
   {
    "duration": 128,
    "start_time": "2024-12-04T14:52:52.349Z"
   },
   {
    "duration": 161,
    "start_time": "2024-12-04T14:53:15.202Z"
   },
   {
    "duration": 268,
    "start_time": "2024-12-04T14:53:19.559Z"
   },
   {
    "duration": 150,
    "start_time": "2024-12-04T14:53:22.456Z"
   },
   {
    "duration": 140,
    "start_time": "2024-12-04T14:53:25.549Z"
   },
   {
    "duration": 146,
    "start_time": "2024-12-04T14:53:34.722Z"
   },
   {
    "duration": 157,
    "start_time": "2024-12-04T14:53:53.869Z"
   },
   {
    "duration": 160,
    "start_time": "2024-12-04T14:54:28.588Z"
   },
   {
    "duration": 163,
    "start_time": "2024-12-04T14:54:32.987Z"
   },
   {
    "duration": 8,
    "start_time": "2024-12-04T15:02:11.085Z"
   },
   {
    "duration": 161,
    "start_time": "2024-12-04T15:03:14.293Z"
   },
   {
    "duration": 176,
    "start_time": "2024-12-04T15:04:38.950Z"
   },
   {
    "duration": 8,
    "start_time": "2024-12-04T15:08:10.060Z"
   },
   {
    "duration": 162,
    "start_time": "2024-12-04T15:09:07.265Z"
   },
   {
    "duration": 137,
    "start_time": "2024-12-04T15:14:14.513Z"
   },
   {
    "duration": 7,
    "start_time": "2024-12-04T15:17:52.092Z"
   },
   {
    "duration": 11,
    "start_time": "2024-12-04T15:18:51.696Z"
   },
   {
    "duration": 9,
    "start_time": "2024-12-04T15:18:58.927Z"
   },
   {
    "duration": 8,
    "start_time": "2024-12-04T15:19:49.633Z"
   },
   {
    "duration": 17,
    "start_time": "2024-12-04T15:21:32.332Z"
   },
   {
    "duration": 14,
    "start_time": "2024-12-04T15:22:20.760Z"
   },
   {
    "duration": 21,
    "start_time": "2024-12-04T15:22:29.657Z"
   },
   {
    "duration": 6,
    "start_time": "2024-12-04T15:30:44.554Z"
   },
   {
    "duration": 9,
    "start_time": "2024-12-04T15:30:56.974Z"
   },
   {
    "duration": 13,
    "start_time": "2024-12-04T15:31:12.463Z"
   },
   {
    "duration": 14,
    "start_time": "2024-12-04T15:31:16.472Z"
   },
   {
    "duration": 14,
    "start_time": "2024-12-04T15:31:18.932Z"
   },
   {
    "duration": 13,
    "start_time": "2024-12-04T15:33:26.751Z"
   },
   {
    "duration": 5,
    "start_time": "2024-12-04T15:33:50.800Z"
   },
   {
    "duration": 12,
    "start_time": "2024-12-04T15:34:01.689Z"
   },
   {
    "duration": 49,
    "start_time": "2024-12-04T16:18:53.611Z"
   },
   {
    "duration": 1228,
    "start_time": "2024-12-04T16:19:00.894Z"
   },
   {
    "duration": 351,
    "start_time": "2024-12-04T16:19:02.125Z"
   },
   {
    "duration": 13,
    "start_time": "2024-12-04T16:19:02.478Z"
   },
   {
    "duration": 76,
    "start_time": "2024-12-04T16:19:02.493Z"
   },
   {
    "duration": 76,
    "start_time": "2024-12-04T16:19:02.571Z"
   },
   {
    "duration": 38,
    "start_time": "2024-12-04T16:19:02.649Z"
   },
   {
    "duration": 46,
    "start_time": "2024-12-04T16:19:02.689Z"
   },
   {
    "duration": 21,
    "start_time": "2024-12-04T16:19:02.736Z"
   },
   {
    "duration": 14,
    "start_time": "2024-12-04T16:19:02.758Z"
   },
   {
    "duration": 23,
    "start_time": "2024-12-04T16:19:02.775Z"
   },
   {
    "duration": 21,
    "start_time": "2024-12-04T16:19:02.799Z"
   },
   {
    "duration": 29,
    "start_time": "2024-12-04T16:19:02.822Z"
   },
   {
    "duration": 18,
    "start_time": "2024-12-04T16:19:02.853Z"
   },
   {
    "duration": 204,
    "start_time": "2024-12-04T16:19:02.873Z"
   },
   {
    "duration": 12,
    "start_time": "2024-12-04T16:19:03.078Z"
   },
   {
    "duration": 248,
    "start_time": "2024-12-04T16:19:03.091Z"
   },
   {
    "duration": 10,
    "start_time": "2024-12-04T16:19:03.340Z"
   },
   {
    "duration": 193,
    "start_time": "2024-12-04T16:19:03.352Z"
   },
   {
    "duration": 9,
    "start_time": "2024-12-04T16:19:03.546Z"
   },
   {
    "duration": 215,
    "start_time": "2024-12-04T16:19:03.556Z"
   },
   {
    "duration": 7,
    "start_time": "2024-12-04T16:19:03.773Z"
   },
   {
    "duration": 233,
    "start_time": "2024-12-04T16:19:03.782Z"
   },
   {
    "duration": 28,
    "start_time": "2024-12-04T16:19:04.017Z"
   },
   {
    "duration": 18,
    "start_time": "2024-12-04T16:19:04.046Z"
   },
   {
    "duration": 14,
    "start_time": "2024-12-04T16:19:04.066Z"
   },
   {
    "duration": 172,
    "start_time": "2024-12-04T16:19:04.082Z"
   },
   {
    "duration": 237,
    "start_time": "2024-12-04T16:19:32.947Z"
   },
   {
    "duration": 326,
    "start_time": "2024-12-04T16:19:36.901Z"
   },
   {
    "duration": 179,
    "start_time": "2024-12-04T16:19:43.034Z"
   },
   {
    "duration": 395,
    "start_time": "2024-12-04T16:26:28.777Z"
   },
   {
    "duration": 125,
    "start_time": "2024-12-04T16:26:42.510Z"
   },
   {
    "duration": 148,
    "start_time": "2024-12-04T16:27:08.365Z"
   },
   {
    "duration": 127,
    "start_time": "2024-12-04T16:27:14.611Z"
   },
   {
    "duration": 187,
    "start_time": "2024-12-04T16:27:19.871Z"
   },
   {
    "duration": 151,
    "start_time": "2024-12-04T16:27:24.326Z"
   },
   {
    "duration": 178,
    "start_time": "2024-12-04T16:28:23.036Z"
   },
   {
    "duration": 296,
    "start_time": "2024-12-04T16:28:31.667Z"
   },
   {
    "duration": 205,
    "start_time": "2024-12-04T16:28:41.496Z"
   },
   {
    "duration": 191,
    "start_time": "2024-12-04T16:28:46.014Z"
   },
   {
    "duration": 195,
    "start_time": "2024-12-04T16:28:51.245Z"
   },
   {
    "duration": 222,
    "start_time": "2024-12-04T16:29:02.565Z"
   },
   {
    "duration": 226,
    "start_time": "2024-12-04T16:29:09.122Z"
   },
   {
    "duration": 231,
    "start_time": "2024-12-04T16:29:37.437Z"
   },
   {
    "duration": 241,
    "start_time": "2024-12-04T16:29:50.367Z"
   },
   {
    "duration": 347,
    "start_time": "2024-12-04T16:29:56.176Z"
   },
   {
    "duration": 230,
    "start_time": "2024-12-04T16:30:25.425Z"
   },
   {
    "duration": 231,
    "start_time": "2024-12-04T16:30:46.632Z"
   },
   {
    "duration": 270,
    "start_time": "2024-12-04T16:31:02.015Z"
   },
   {
    "duration": 293,
    "start_time": "2024-12-04T16:31:44.554Z"
   },
   {
    "duration": 256,
    "start_time": "2024-12-04T16:32:30.899Z"
   },
   {
    "duration": 385,
    "start_time": "2024-12-04T16:34:15.211Z"
   },
   {
    "duration": 294,
    "start_time": "2024-12-04T16:34:56.565Z"
   },
   {
    "duration": 7,
    "start_time": "2024-12-04T16:37:26.044Z"
   },
   {
    "duration": 11,
    "start_time": "2024-12-04T16:37:35.475Z"
   },
   {
    "duration": 13,
    "start_time": "2024-12-04T16:37:40.690Z"
   },
   {
    "duration": 21,
    "start_time": "2024-12-04T16:38:01.061Z"
   },
   {
    "duration": 22,
    "start_time": "2024-12-04T16:38:03.118Z"
   },
   {
    "duration": 4,
    "start_time": "2024-12-04T16:38:26.225Z"
   },
   {
    "duration": 5,
    "start_time": "2024-12-04T16:38:44.714Z"
   },
   {
    "duration": 4,
    "start_time": "2024-12-04T16:38:50.108Z"
   },
   {
    "duration": 10,
    "start_time": "2024-12-04T16:55:26.638Z"
   },
   {
    "duration": 3,
    "start_time": "2024-12-04T16:55:50.837Z"
   },
   {
    "duration": 9,
    "start_time": "2024-12-04T16:55:58.196Z"
   },
   {
    "duration": 4,
    "start_time": "2024-12-04T16:56:08.401Z"
   },
   {
    "duration": 33,
    "start_time": "2024-12-04T17:09:47.996Z"
   },
   {
    "duration": 35,
    "start_time": "2024-12-04T17:10:08.917Z"
   },
   {
    "duration": 34,
    "start_time": "2024-12-04T17:12:55.539Z"
   },
   {
    "duration": 34,
    "start_time": "2024-12-04T17:13:06.455Z"
   },
   {
    "duration": 424,
    "start_time": "2024-12-04T17:13:09.526Z"
   },
   {
    "duration": 517,
    "start_time": "2024-12-04T17:13:31.716Z"
   },
   {
    "duration": 303,
    "start_time": "2024-12-04T17:13:40.039Z"
   },
   {
    "duration": 1256,
    "start_time": "2024-12-04T17:14:37.421Z"
   },
   {
    "duration": 35,
    "start_time": "2024-12-04T17:15:09.993Z"
   },
   {
    "duration": 10,
    "start_time": "2024-12-04T17:15:36.722Z"
   },
   {
    "duration": 35,
    "start_time": "2024-12-04T17:15:51.542Z"
   },
   {
    "duration": 33,
    "start_time": "2024-12-04T17:16:05.573Z"
   },
   {
    "duration": 34,
    "start_time": "2024-12-04T17:16:40.321Z"
   },
   {
    "duration": 48,
    "start_time": "2024-12-05T19:42:09.175Z"
   },
   {
    "duration": 1300,
    "start_time": "2024-12-05T19:42:17.061Z"
   },
   {
    "duration": 316,
    "start_time": "2024-12-05T19:42:18.363Z"
   },
   {
    "duration": 13,
    "start_time": "2024-12-05T19:42:18.680Z"
   },
   {
    "duration": 13,
    "start_time": "2024-12-05T19:42:18.694Z"
   },
   {
    "duration": 13,
    "start_time": "2024-12-05T19:42:18.709Z"
   },
   {
    "duration": 14,
    "start_time": "2024-12-05T19:42:18.724Z"
   },
   {
    "duration": 11,
    "start_time": "2024-12-05T19:42:18.739Z"
   },
   {
    "duration": 41,
    "start_time": "2024-12-05T19:42:18.752Z"
   },
   {
    "duration": 10,
    "start_time": "2024-12-05T19:42:18.795Z"
   },
   {
    "duration": 5,
    "start_time": "2024-12-05T19:42:18.807Z"
   },
   {
    "duration": 28,
    "start_time": "2024-12-05T19:42:18.814Z"
   },
   {
    "duration": 7,
    "start_time": "2024-12-05T19:42:18.844Z"
   },
   {
    "duration": 45,
    "start_time": "2024-12-05T19:42:18.853Z"
   },
   {
    "duration": 200,
    "start_time": "2024-12-05T19:42:18.901Z"
   },
   {
    "duration": 11,
    "start_time": "2024-12-05T19:42:19.103Z"
   },
   {
    "duration": 199,
    "start_time": "2024-12-05T19:42:19.116Z"
   },
   {
    "duration": 8,
    "start_time": "2024-12-05T19:42:19.317Z"
   },
   {
    "duration": 219,
    "start_time": "2024-12-05T19:42:19.326Z"
   },
   {
    "duration": 9,
    "start_time": "2024-12-05T19:42:19.546Z"
   },
   {
    "duration": 238,
    "start_time": "2024-12-05T19:42:19.556Z"
   },
   {
    "duration": 8,
    "start_time": "2024-12-05T19:42:19.796Z"
   },
   {
    "duration": 229,
    "start_time": "2024-12-05T19:42:19.806Z"
   },
   {
    "duration": 23,
    "start_time": "2024-12-05T19:42:20.037Z"
   },
   {
    "duration": 32,
    "start_time": "2024-12-05T19:42:20.062Z"
   },
   {
    "duration": 11,
    "start_time": "2024-12-05T19:42:20.095Z"
   },
   {
    "duration": 47,
    "start_time": "2024-12-05T19:42:20.107Z"
   },
   {
    "duration": 4,
    "start_time": "2024-12-05T19:42:20.156Z"
   },
   {
    "duration": 292,
    "start_time": "2024-12-05T19:42:20.162Z"
   },
   {
    "duration": 321,
    "start_time": "2024-12-05T19:42:20.456Z"
   },
   {
    "duration": 37,
    "start_time": "2024-12-05T19:42:20.779Z"
   },
   {
    "duration": 323,
    "start_time": "2024-12-05T19:42:20.818Z"
   },
   {
    "duration": 0,
    "start_time": "2024-12-05T19:42:21.142Z"
   },
   {
    "duration": 1199,
    "start_time": "2024-12-05T19:42:41.584Z"
   },
   {
    "duration": 1118,
    "start_time": "2024-12-05T19:43:30.921Z"
   },
   {
    "duration": 1480,
    "start_time": "2024-12-05T19:43:35.326Z"
   },
   {
    "duration": 35,
    "start_time": "2024-12-05T19:45:12.570Z"
   },
   {
    "duration": 60,
    "start_time": "2024-12-05T20:04:19.418Z"
   },
   {
    "duration": 60,
    "start_time": "2024-12-05T20:13:24.007Z"
   },
   {
    "duration": 48,
    "start_time": "2024-12-05T20:13:39.820Z"
   },
   {
    "duration": 5,
    "start_time": "2024-12-05T20:31:56.840Z"
   },
   {
    "duration": 11,
    "start_time": "2024-12-05T20:34:33.331Z"
   },
   {
    "duration": 1312,
    "start_time": "2024-12-07T22:28:23.370Z"
   },
   {
    "duration": 211,
    "start_time": "2024-12-07T22:28:24.684Z"
   },
   {
    "duration": 12,
    "start_time": "2024-12-07T22:28:24.897Z"
   },
   {
    "duration": 48,
    "start_time": "2024-12-07T22:28:24.911Z"
   },
   {
    "duration": 16,
    "start_time": "2024-12-07T22:28:24.962Z"
   },
   {
    "duration": 15,
    "start_time": "2024-12-07T22:28:24.980Z"
   },
   {
    "duration": 6,
    "start_time": "2024-12-07T22:28:24.997Z"
   },
   {
    "duration": 11,
    "start_time": "2024-12-07T22:28:25.005Z"
   },
   {
    "duration": 94,
    "start_time": "2024-12-07T22:28:25.017Z"
   },
   {
    "duration": 24,
    "start_time": "2024-12-07T22:28:25.113Z"
   },
   {
    "duration": 21,
    "start_time": "2024-12-07T22:28:25.139Z"
   },
   {
    "duration": 7,
    "start_time": "2024-12-07T22:28:25.162Z"
   },
   {
    "duration": 99,
    "start_time": "2024-12-07T22:28:25.170Z"
   },
   {
    "duration": 189,
    "start_time": "2024-12-07T22:28:25.272Z"
   },
   {
    "duration": 13,
    "start_time": "2024-12-07T22:28:25.462Z"
   },
   {
    "duration": 181,
    "start_time": "2024-12-07T22:28:25.489Z"
   },
   {
    "duration": 8,
    "start_time": "2024-12-07T22:28:25.671Z"
   },
   {
    "duration": 187,
    "start_time": "2024-12-07T22:28:25.688Z"
   },
   {
    "duration": 16,
    "start_time": "2024-12-07T22:28:25.877Z"
   },
   {
    "duration": 205,
    "start_time": "2024-12-07T22:28:25.895Z"
   },
   {
    "duration": 9,
    "start_time": "2024-12-07T22:28:26.102Z"
   },
   {
    "duration": 275,
    "start_time": "2024-12-07T22:28:26.113Z"
   },
   {
    "duration": 24,
    "start_time": "2024-12-07T22:28:26.390Z"
   },
   {
    "duration": 15,
    "start_time": "2024-12-07T22:28:26.416Z"
   },
   {
    "duration": 3,
    "start_time": "2024-12-07T22:28:26.432Z"
   },
   {
    "duration": 14,
    "start_time": "2024-12-07T22:28:26.437Z"
   },
   {
    "duration": 2,
    "start_time": "2024-12-07T22:28:26.453Z"
   },
   {
    "duration": 282,
    "start_time": "2024-12-07T22:28:26.488Z"
   },
   {
    "duration": 291,
    "start_time": "2024-12-07T22:28:26.772Z"
   },
   {
    "duration": 193,
    "start_time": "2024-12-07T22:28:27.065Z"
   },
   {
    "duration": 0,
    "start_time": "2024-12-07T22:28:27.260Z"
   },
   {
    "duration": 11,
    "start_time": "2024-12-07T22:28:37.772Z"
   },
   {
    "duration": 49,
    "start_time": "2024-12-07T22:29:08.467Z"
   },
   {
    "duration": 5,
    "start_time": "2024-12-07T22:29:12.672Z"
   },
   {
    "duration": 11,
    "start_time": "2024-12-07T22:29:13.464Z"
   },
   {
    "duration": 11,
    "start_time": "2024-12-07T22:37:01.289Z"
   },
   {
    "duration": 102,
    "start_time": "2024-12-07T22:37:16.987Z"
   },
   {
    "duration": 5,
    "start_time": "2024-12-07T22:37:19.838Z"
   },
   {
    "duration": 5,
    "start_time": "2024-12-07T22:37:36.511Z"
   },
   {
    "duration": 4,
    "start_time": "2024-12-07T22:39:31.939Z"
   },
   {
    "duration": 5,
    "start_time": "2024-12-07T22:39:59.303Z"
   },
   {
    "duration": 7,
    "start_time": "2024-12-07T22:47:28.226Z"
   },
   {
    "duration": 6,
    "start_time": "2024-12-07T22:47:55.091Z"
   },
   {
    "duration": 6,
    "start_time": "2024-12-07T22:48:06.713Z"
   },
   {
    "duration": 5,
    "start_time": "2024-12-07T22:48:43.725Z"
   },
   {
    "duration": 5,
    "start_time": "2024-12-07T22:49:54.440Z"
   },
   {
    "duration": 4,
    "start_time": "2024-12-07T22:50:16.517Z"
   },
   {
    "duration": 4,
    "start_time": "2024-12-07T22:50:51.913Z"
   },
   {
    "duration": 6,
    "start_time": "2024-12-07T22:51:32.772Z"
   },
   {
    "duration": 1399,
    "start_time": "2024-12-07T23:04:20.550Z"
   },
   {
    "duration": 9,
    "start_time": "2024-12-07T23:05:18.888Z"
   },
   {
    "duration": 10,
    "start_time": "2024-12-07T23:05:36.216Z"
   },
   {
    "duration": 9,
    "start_time": "2024-12-07T23:06:10.819Z"
   },
   {
    "duration": 5,
    "start_time": "2024-12-07T23:06:24.374Z"
   },
   {
    "duration": 5,
    "start_time": "2024-12-07T23:06:39.302Z"
   },
   {
    "duration": 10,
    "start_time": "2024-12-07T23:08:34.523Z"
   },
   {
    "duration": 21,
    "start_time": "2024-12-07T23:08:46.258Z"
   },
   {
    "duration": 3,
    "start_time": "2024-12-07T23:09:05.509Z"
   },
   {
    "duration": 4,
    "start_time": "2024-12-07T23:09:44.015Z"
   },
   {
    "duration": 4,
    "start_time": "2024-12-07T23:12:57.199Z"
   },
   {
    "duration": 51,
    "start_time": "2024-12-08T21:24:11.363Z"
   },
   {
    "duration": 1299,
    "start_time": "2024-12-08T21:24:16.479Z"
   },
   {
    "duration": 209,
    "start_time": "2024-12-08T21:24:17.781Z"
   },
   {
    "duration": 13,
    "start_time": "2024-12-08T21:24:17.992Z"
   },
   {
    "duration": 16,
    "start_time": "2024-12-08T21:24:18.006Z"
   },
   {
    "duration": 15,
    "start_time": "2024-12-08T21:24:18.024Z"
   },
   {
    "duration": 21,
    "start_time": "2024-12-08T21:24:18.040Z"
   },
   {
    "duration": 6,
    "start_time": "2024-12-08T21:24:18.063Z"
   },
   {
    "duration": 25,
    "start_time": "2024-12-08T21:24:18.070Z"
   },
   {
    "duration": 12,
    "start_time": "2024-12-08T21:24:18.096Z"
   },
   {
    "duration": 8,
    "start_time": "2024-12-08T21:24:18.109Z"
   },
   {
    "duration": 20,
    "start_time": "2024-12-08T21:24:18.119Z"
   },
   {
    "duration": 19,
    "start_time": "2024-12-08T21:24:18.141Z"
   },
   {
    "duration": 7,
    "start_time": "2024-12-08T21:24:18.189Z"
   },
   {
    "duration": 48,
    "start_time": "2024-12-08T21:24:18.199Z"
   },
   {
    "duration": 201,
    "start_time": "2024-12-08T21:24:18.248Z"
   },
   {
    "duration": 11,
    "start_time": "2024-12-08T21:24:18.451Z"
   },
   {
    "duration": 168,
    "start_time": "2024-12-08T21:24:18.464Z"
   },
   {
    "duration": 7,
    "start_time": "2024-12-08T21:24:18.634Z"
   },
   {
    "duration": 189,
    "start_time": "2024-12-08T21:24:18.643Z"
   },
   {
    "duration": 9,
    "start_time": "2024-12-08T21:24:18.834Z"
   },
   {
    "duration": 218,
    "start_time": "2024-12-08T21:24:18.844Z"
   },
   {
    "duration": 8,
    "start_time": "2024-12-08T21:24:19.064Z"
   },
   {
    "duration": 216,
    "start_time": "2024-12-08T21:24:19.074Z"
   },
   {
    "duration": 25,
    "start_time": "2024-12-08T21:24:19.292Z"
   },
   {
    "duration": 17,
    "start_time": "2024-12-08T21:24:19.318Z"
   },
   {
    "duration": 4,
    "start_time": "2024-12-08T21:24:19.336Z"
   },
   {
    "duration": 17,
    "start_time": "2024-12-08T21:24:19.342Z"
   },
   {
    "duration": 27,
    "start_time": "2024-12-08T21:24:19.361Z"
   },
   {
    "duration": 311,
    "start_time": "2024-12-08T21:24:19.390Z"
   },
   {
    "duration": 358,
    "start_time": "2024-12-08T21:24:19.703Z"
   },
   {
    "duration": 81,
    "start_time": "2024-12-08T21:24:20.062Z"
   },
   {
    "duration": 0,
    "start_time": "2024-12-08T21:24:20.145Z"
   },
   {
    "duration": 0,
    "start_time": "2024-12-08T21:24:20.146Z"
   },
   {
    "duration": 0,
    "start_time": "2024-12-08T21:24:20.148Z"
   },
   {
    "duration": 0,
    "start_time": "2024-12-08T21:24:20.150Z"
   },
   {
    "duration": 0,
    "start_time": "2024-12-08T21:24:20.151Z"
   },
   {
    "duration": 0,
    "start_time": "2024-12-08T21:24:20.153Z"
   },
   {
    "duration": 0,
    "start_time": "2024-12-08T21:24:20.154Z"
   },
   {
    "duration": 0,
    "start_time": "2024-12-08T21:24:20.155Z"
   },
   {
    "duration": 68,
    "start_time": "2024-12-08T21:25:12.082Z"
   },
   {
    "duration": 10,
    "start_time": "2024-12-08T21:25:15.851Z"
   },
   {
    "duration": 10,
    "start_time": "2024-12-08T21:25:44.405Z"
   },
   {
    "duration": 246,
    "start_time": "2024-12-08T21:25:51.319Z"
   },
   {
    "duration": 156,
    "start_time": "2024-12-08T21:26:02.658Z"
   },
   {
    "duration": 6,
    "start_time": "2024-12-08T21:28:01.570Z"
   },
   {
    "duration": 14,
    "start_time": "2024-12-08T21:28:10.858Z"
   },
   {
    "duration": 14,
    "start_time": "2024-12-08T21:28:54.813Z"
   },
   {
    "duration": 3,
    "start_time": "2024-12-08T21:29:04.149Z"
   },
   {
    "duration": 81,
    "start_time": "2024-12-08T21:29:04.154Z"
   },
   {
    "duration": 8,
    "start_time": "2024-12-08T21:29:04.236Z"
   },
   {
    "duration": 43,
    "start_time": "2024-12-08T21:29:04.246Z"
   },
   {
    "duration": 15,
    "start_time": "2024-12-08T21:29:04.291Z"
   },
   {
    "duration": 13,
    "start_time": "2024-12-08T21:29:04.307Z"
   },
   {
    "duration": 12,
    "start_time": "2024-12-08T21:29:04.321Z"
   },
   {
    "duration": 12,
    "start_time": "2024-12-08T21:29:04.334Z"
   },
   {
    "duration": 47,
    "start_time": "2024-12-08T21:29:04.347Z"
   },
   {
    "duration": 82,
    "start_time": "2024-12-08T21:29:04.396Z"
   },
   {
    "duration": 40,
    "start_time": "2024-12-08T21:29:04.479Z"
   },
   {
    "duration": 7,
    "start_time": "2024-12-08T21:29:04.521Z"
   },
   {
    "duration": 41,
    "start_time": "2024-12-08T21:29:04.529Z"
   },
   {
    "duration": 270,
    "start_time": "2024-12-08T21:29:04.572Z"
   },
   {
    "duration": 20,
    "start_time": "2024-12-08T21:29:04.843Z"
   },
   {
    "duration": 183,
    "start_time": "2024-12-08T21:29:04.865Z"
   },
   {
    "duration": 9,
    "start_time": "2024-12-08T21:29:05.049Z"
   },
   {
    "duration": 199,
    "start_time": "2024-12-08T21:29:05.059Z"
   },
   {
    "duration": 8,
    "start_time": "2024-12-08T21:29:05.259Z"
   },
   {
    "duration": 221,
    "start_time": "2024-12-08T21:29:05.269Z"
   },
   {
    "duration": 8,
    "start_time": "2024-12-08T21:29:05.492Z"
   },
   {
    "duration": 301,
    "start_time": "2024-12-08T21:29:05.501Z"
   },
   {
    "duration": 10,
    "start_time": "2024-12-08T21:29:05.804Z"
   },
   {
    "duration": 43,
    "start_time": "2024-12-08T21:29:05.816Z"
   },
   {
    "duration": 16,
    "start_time": "2024-12-08T21:29:05.861Z"
   },
   {
    "duration": 24,
    "start_time": "2024-12-08T21:29:05.888Z"
   },
   {
    "duration": 29,
    "start_time": "2024-12-08T21:29:05.914Z"
   },
   {
    "duration": 47,
    "start_time": "2024-12-08T21:29:05.945Z"
   },
   {
    "duration": 333,
    "start_time": "2024-12-08T21:29:05.993Z"
   },
   {
    "duration": 285,
    "start_time": "2024-12-08T21:29:06.328Z"
   },
   {
    "duration": 82,
    "start_time": "2024-12-08T21:29:06.615Z"
   },
   {
    "duration": 0,
    "start_time": "2024-12-08T21:29:06.699Z"
   },
   {
    "duration": 0,
    "start_time": "2024-12-08T21:29:06.700Z"
   },
   {
    "duration": 0,
    "start_time": "2024-12-08T21:29:06.702Z"
   },
   {
    "duration": 0,
    "start_time": "2024-12-08T21:29:06.703Z"
   },
   {
    "duration": 0,
    "start_time": "2024-12-08T21:29:06.704Z"
   },
   {
    "duration": 0,
    "start_time": "2024-12-08T21:29:06.705Z"
   },
   {
    "duration": 0,
    "start_time": "2024-12-08T21:29:06.706Z"
   },
   {
    "duration": 0,
    "start_time": "2024-12-08T21:29:06.707Z"
   },
   {
    "duration": 9,
    "start_time": "2024-12-08T21:30:22.170Z"
   },
   {
    "duration": 12,
    "start_time": "2024-12-08T21:30:32.522Z"
   },
   {
    "duration": 14,
    "start_time": "2024-12-08T21:30:53.353Z"
   },
   {
    "duration": 21,
    "start_time": "2024-12-08T21:31:10.038Z"
   },
   {
    "duration": 8,
    "start_time": "2024-12-08T21:32:08.674Z"
   },
   {
    "duration": 15,
    "start_time": "2024-12-08T21:32:14.309Z"
   },
   {
    "duration": 1215,
    "start_time": "2025-08-14T11:57:11.355Z"
   },
   {
    "duration": 70,
    "start_time": "2025-08-14T11:57:12.572Z"
   },
   {
    "duration": 27,
    "start_time": "2025-08-14T11:57:12.643Z"
   },
   {
    "duration": 30,
    "start_time": "2025-08-14T11:57:12.672Z"
   },
   {
    "duration": 13,
    "start_time": "2025-08-14T11:57:12.706Z"
   },
   {
    "duration": 13,
    "start_time": "2025-08-14T11:57:12.720Z"
   },
   {
    "duration": 6,
    "start_time": "2025-08-14T11:57:12.734Z"
   },
   {
    "duration": 11,
    "start_time": "2025-08-14T11:57:12.742Z"
   },
   {
    "duration": 41,
    "start_time": "2025-08-14T11:57:12.754Z"
   },
   {
    "duration": 7,
    "start_time": "2025-08-14T11:57:12.797Z"
   },
   {
    "duration": 21,
    "start_time": "2025-08-14T11:57:12.806Z"
   },
   {
    "duration": 10,
    "start_time": "2025-08-14T11:57:12.829Z"
   },
   {
    "duration": 13,
    "start_time": "2025-08-14T11:57:12.841Z"
   },
   {
    "duration": 240,
    "start_time": "2025-08-14T11:57:12.857Z"
   },
   {
    "duration": 14,
    "start_time": "2025-08-14T11:57:13.098Z"
   },
   {
    "duration": 199,
    "start_time": "2025-08-14T11:57:13.113Z"
   },
   {
    "duration": 8,
    "start_time": "2025-08-14T11:57:13.314Z"
   },
   {
    "duration": 210,
    "start_time": "2025-08-14T11:57:13.323Z"
   },
   {
    "duration": 9,
    "start_time": "2025-08-14T11:57:13.534Z"
   },
   {
    "duration": 257,
    "start_time": "2025-08-14T11:57:13.544Z"
   },
   {
    "duration": 9,
    "start_time": "2025-08-14T11:57:13.804Z"
   },
   {
    "duration": 227,
    "start_time": "2025-08-14T11:57:13.814Z"
   },
   {
    "duration": 11,
    "start_time": "2025-08-14T11:57:14.042Z"
   },
   {
    "duration": 48,
    "start_time": "2025-08-14T11:57:14.054Z"
   },
   {
    "duration": 14,
    "start_time": "2025-08-14T11:57:14.104Z"
   },
   {
    "duration": 20,
    "start_time": "2025-08-14T11:57:14.120Z"
   },
   {
    "duration": 119,
    "start_time": "2025-08-14T11:57:14.142Z"
   },
   {
    "duration": 40,
    "start_time": "2025-08-14T11:57:14.263Z"
   },
   {
    "duration": 3,
    "start_time": "2025-08-14T11:57:14.307Z"
   },
   {
    "duration": 305,
    "start_time": "2025-08-14T11:57:14.312Z"
   },
   {
    "duration": 330,
    "start_time": "2025-08-14T11:57:14.619Z"
   },
   {
    "duration": 156,
    "start_time": "2025-08-14T11:57:14.951Z"
   },
   {
    "duration": 6,
    "start_time": "2025-08-14T11:57:15.109Z"
   },
   {
    "duration": 59,
    "start_time": "2025-08-14T11:57:15.116Z"
   },
   {
    "duration": 59,
    "start_time": "2025-08-14T11:57:15.180Z"
   },
   {
    "duration": 26,
    "start_time": "2025-08-14T11:57:15.241Z"
   },
   {
    "duration": 141,
    "start_time": "2025-08-14T11:57:15.269Z"
   },
   {
    "duration": 1,
    "start_time": "2025-08-14T11:57:15.411Z"
   },
   {
    "duration": 0,
    "start_time": "2025-08-14T11:57:15.413Z"
   },
   {
    "duration": 0,
    "start_time": "2025-08-14T11:57:15.414Z"
   },
   {
    "duration": 5,
    "start_time": "2025-08-14T11:59:44.107Z"
   },
   {
    "duration": 4,
    "start_time": "2025-08-14T11:59:56.422Z"
   },
   {
    "duration": 10,
    "start_time": "2025-08-14T12:00:01.349Z"
   },
   {
    "duration": 8,
    "start_time": "2025-08-14T12:00:02.690Z"
   }
  ],
  "kernelspec": {
   "display_name": "Python 3 (ipykernel)",
   "language": "python",
   "name": "python3"
  },
  "language_info": {
   "codemirror_mode": {
    "name": "ipython",
    "version": 3
   },
   "file_extension": ".py",
   "mimetype": "text/x-python",
   "name": "python",
   "nbconvert_exporter": "python",
   "pygments_lexer": "ipython3",
   "version": "3.9.5"
  },
  "toc": {
   "base_numbering": 1,
   "nav_menu": {},
   "number_sections": true,
   "sideBar": true,
   "skip_h1_title": true,
   "title_cell": "Table of Contents",
   "title_sidebar": "Contents",
   "toc_cell": false,
   "toc_position": {
    "height": "calc(100% - 180px)",
    "left": "10px",
    "top": "150px",
    "width": "323.1875px"
   },
   "toc_section_display": true,
   "toc_window_display": true
  }
 },
 "nbformat": 4,
 "nbformat_minor": 5
}
