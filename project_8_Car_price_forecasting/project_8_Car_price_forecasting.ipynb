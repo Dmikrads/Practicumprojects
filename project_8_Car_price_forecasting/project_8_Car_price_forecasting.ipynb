{
 "cells": [
  {
   "cell_type": "markdown",
   "metadata": {},
   "source": [
    "# Определение стоимости автомобилей"
   ]
  },
  {
   "cell_type": "markdown",
   "metadata": {},
   "source": [
    "Сервис по продаже автомобилей с пробегом «Не бит, не крашен» разрабатывает приложение для привлечения новых клиентов. В нём можно быстро узнать рыночную стоимость своего автомобиля. В вашем распоряжении исторические данные: технические характеристики, комплектации и цены автомобилей. Вам нужно построить модель для определения стоимости. \n",
    "\n",
    "Заказчику важны:\n",
    "\n",
    "- качество предсказания;\n",
    "- скорость предсказания;\n",
    "- время обучения.\n",
    "\n",
    "Шаги для выполнения:\n",
    "- Загрузим данные\n",
    "- Подготовим данные\n",
    "- Обучим модели\n",
    "- Проанализируем модели\n",
    "- Сделаем общий вывод\n",
    "\n",
    "Описание данных:\n",
    "* Признаки\n",
    "    * DateCrawled — дата скачивания анкеты из базы\n",
    "    * VehicleType — тип автомобильного кузова\n",
    "    * RegistrationYear — год регистрации автомобиля\n",
    "    * Gearbox — тип коробки передач\n",
    "    * Power — мощность (л. с.)\n",
    "    * Model — модель автомобиля\n",
    "    * Kilometer — пробег (км)\n",
    "    * RegistrationMonth — месяц регистрации автомобиля\n",
    "    * FuelType — тип топлива\n",
    "    * Brand — марка автомобиля\n",
    "    * Repaired — была машина в ремонте или нет\n",
    "    * DateCreated — дата создания анкеты\n",
    "    * NumberOfPictures — количество фотографий автомобиля\n",
    "    * PostalCode — почтовый индекс владельца анкеты (пользователя)\n",
    "    * LastSeen — дата последней активности пользователя\n",
    "* Целевой признак\n",
    "    * Price — цена (евро)"
   ]
  },
  {
   "cell_type": "markdown",
   "metadata": {},
   "source": [
    "**Импортируем необходимые библиотеки**"
   ]
  },
  {
   "cell_type": "code",
   "execution_count": 55,
   "metadata": {},
   "outputs": [
    {
     "name": "stdout",
     "output_type": "stream",
     "text": [
      "Requirement already satisfied: lightgbm in /opt/anaconda3/lib/python3.12/site-packages (4.6.0)\n",
      "Requirement already satisfied: numpy>=1.17.0 in /opt/anaconda3/lib/python3.12/site-packages (from lightgbm) (1.26.4)\n",
      "Requirement already satisfied: scipy in /opt/anaconda3/lib/python3.12/site-packages (from lightgbm) (1.13.1)\n",
      "Requirement already satisfied: catboost in /opt/anaconda3/lib/python3.12/site-packages (1.2.7)\n",
      "Requirement already satisfied: graphviz in /opt/anaconda3/lib/python3.12/site-packages (from catboost) (0.20.3)\n",
      "Requirement already satisfied: matplotlib in /opt/anaconda3/lib/python3.12/site-packages (from catboost) (3.8.4)\n",
      "Requirement already satisfied: numpy<2.0,>=1.16.0 in /opt/anaconda3/lib/python3.12/site-packages (from catboost) (1.26.4)\n",
      "Requirement already satisfied: pandas>=0.24 in /opt/anaconda3/lib/python3.12/site-packages (from catboost) (2.2.2)\n",
      "Requirement already satisfied: scipy in /opt/anaconda3/lib/python3.12/site-packages (from catboost) (1.13.1)\n",
      "Requirement already satisfied: plotly in /opt/anaconda3/lib/python3.12/site-packages (from catboost) (5.22.0)\n",
      "Requirement already satisfied: six in /opt/anaconda3/lib/python3.12/site-packages (from catboost) (1.16.0)\n",
      "Requirement already satisfied: python-dateutil>=2.8.2 in /opt/anaconda3/lib/python3.12/site-packages (from pandas>=0.24->catboost) (2.9.0.post0)\n",
      "Requirement already satisfied: pytz>=2020.1 in /opt/anaconda3/lib/python3.12/site-packages (from pandas>=0.24->catboost) (2024.1)\n",
      "Requirement already satisfied: tzdata>=2022.7 in /opt/anaconda3/lib/python3.12/site-packages (from pandas>=0.24->catboost) (2023.3)\n",
      "Requirement already satisfied: contourpy>=1.0.1 in /opt/anaconda3/lib/python3.12/site-packages (from matplotlib->catboost) (1.2.0)\n",
      "Requirement already satisfied: cycler>=0.10 in /opt/anaconda3/lib/python3.12/site-packages (from matplotlib->catboost) (0.11.0)\n",
      "Requirement already satisfied: fonttools>=4.22.0 in /opt/anaconda3/lib/python3.12/site-packages (from matplotlib->catboost) (4.51.0)\n",
      "Requirement already satisfied: kiwisolver>=1.3.1 in /opt/anaconda3/lib/python3.12/site-packages (from matplotlib->catboost) (1.4.4)\n",
      "Requirement already satisfied: packaging>=20.0 in /opt/anaconda3/lib/python3.12/site-packages (from matplotlib->catboost) (23.2)\n",
      "Requirement already satisfied: pillow>=8 in /opt/anaconda3/lib/python3.12/site-packages (from matplotlib->catboost) (10.3.0)\n",
      "Requirement already satisfied: pyparsing>=2.3.1 in /opt/anaconda3/lib/python3.12/site-packages (from matplotlib->catboost) (3.0.9)\n",
      "Requirement already satisfied: tenacity>=6.2.0 in /opt/anaconda3/lib/python3.12/site-packages (from plotly->catboost) (8.2.2)\n"
     ]
    }
   ],
   "source": [
    "!pip install lightgbm\n",
    "!pip install catboost\n",
    "import phik\n",
    "import pandas as pd\n",
    "import matplotlib.pyplot as plt \n",
    "import seaborn as sns\n",
    "import numpy as np\n",
    "from phik import phik_matrix\n",
    "from sklearn.model_selection import train_test_split\n",
    "from sklearn.metrics import mean_squared_error\n",
    "from sklearn.preprocessing import OrdinalEncoder\n",
    "import lightgbm as lgb\n",
    "RANDOM_STATE = 42\n",
    "from catboost import CatBoostRegressor, Pool\n",
    "from sklearn.tree import DecisionTreeRegressor\n",
    "from sklearn.preprocessing import LabelEncoder\n",
    "import time"
   ]
  },
  {
   "cell_type": "markdown",
   "metadata": {},
   "source": [
    "**Загрузим и просмотрим данные:**"
   ]
  },
  {
   "cell_type": "code",
   "execution_count": 56,
   "metadata": {},
   "outputs": [],
   "source": [
    "try:\n",
    "    df = pd.read_csv('autos.csv')\n",
    "except:\n",
    "    df = pd.read_csv('/datasets/autos.csv')"
   ]
  },
  {
   "cell_type": "markdown",
   "metadata": {},
   "source": [
    "Просмотрим данные"
   ]
  },
  {
   "cell_type": "code",
   "execution_count": 57,
   "metadata": {},
   "outputs": [
    {
     "data": {
      "text/html": [
       "<div>\n",
       "<style scoped>\n",
       "    .dataframe tbody tr th:only-of-type {\n",
       "        vertical-align: middle;\n",
       "    }\n",
       "\n",
       "    .dataframe tbody tr th {\n",
       "        vertical-align: top;\n",
       "    }\n",
       "\n",
       "    .dataframe thead th {\n",
       "        text-align: right;\n",
       "    }\n",
       "</style>\n",
       "<table border=\"1\" class=\"dataframe\">\n",
       "  <thead>\n",
       "    <tr style=\"text-align: right;\">\n",
       "      <th></th>\n",
       "      <th>DateCrawled</th>\n",
       "      <th>Price</th>\n",
       "      <th>VehicleType</th>\n",
       "      <th>RegistrationYear</th>\n",
       "      <th>Gearbox</th>\n",
       "      <th>Power</th>\n",
       "      <th>Model</th>\n",
       "      <th>Kilometer</th>\n",
       "      <th>RegistrationMonth</th>\n",
       "      <th>FuelType</th>\n",
       "      <th>Brand</th>\n",
       "      <th>Repaired</th>\n",
       "      <th>DateCreated</th>\n",
       "      <th>NumberOfPictures</th>\n",
       "      <th>PostalCode</th>\n",
       "      <th>LastSeen</th>\n",
       "    </tr>\n",
       "  </thead>\n",
       "  <tbody>\n",
       "    <tr>\n",
       "      <th>0</th>\n",
       "      <td>2016-03-24 11:52:17</td>\n",
       "      <td>480</td>\n",
       "      <td>NaN</td>\n",
       "      <td>1993</td>\n",
       "      <td>manual</td>\n",
       "      <td>0</td>\n",
       "      <td>golf</td>\n",
       "      <td>150000</td>\n",
       "      <td>0</td>\n",
       "      <td>petrol</td>\n",
       "      <td>volkswagen</td>\n",
       "      <td>NaN</td>\n",
       "      <td>2016-03-24 00:00:00</td>\n",
       "      <td>0</td>\n",
       "      <td>70435</td>\n",
       "      <td>2016-04-07 03:16:57</td>\n",
       "    </tr>\n",
       "    <tr>\n",
       "      <th>1</th>\n",
       "      <td>2016-03-24 10:58:45</td>\n",
       "      <td>18300</td>\n",
       "      <td>coupe</td>\n",
       "      <td>2011</td>\n",
       "      <td>manual</td>\n",
       "      <td>190</td>\n",
       "      <td>NaN</td>\n",
       "      <td>125000</td>\n",
       "      <td>5</td>\n",
       "      <td>gasoline</td>\n",
       "      <td>audi</td>\n",
       "      <td>yes</td>\n",
       "      <td>2016-03-24 00:00:00</td>\n",
       "      <td>0</td>\n",
       "      <td>66954</td>\n",
       "      <td>2016-04-07 01:46:50</td>\n",
       "    </tr>\n",
       "    <tr>\n",
       "      <th>2</th>\n",
       "      <td>2016-03-14 12:52:21</td>\n",
       "      <td>9800</td>\n",
       "      <td>suv</td>\n",
       "      <td>2004</td>\n",
       "      <td>auto</td>\n",
       "      <td>163</td>\n",
       "      <td>grand</td>\n",
       "      <td>125000</td>\n",
       "      <td>8</td>\n",
       "      <td>gasoline</td>\n",
       "      <td>jeep</td>\n",
       "      <td>NaN</td>\n",
       "      <td>2016-03-14 00:00:00</td>\n",
       "      <td>0</td>\n",
       "      <td>90480</td>\n",
       "      <td>2016-04-05 12:47:46</td>\n",
       "    </tr>\n",
       "    <tr>\n",
       "      <th>3</th>\n",
       "      <td>2016-03-17 16:54:04</td>\n",
       "      <td>1500</td>\n",
       "      <td>small</td>\n",
       "      <td>2001</td>\n",
       "      <td>manual</td>\n",
       "      <td>75</td>\n",
       "      <td>golf</td>\n",
       "      <td>150000</td>\n",
       "      <td>6</td>\n",
       "      <td>petrol</td>\n",
       "      <td>volkswagen</td>\n",
       "      <td>no</td>\n",
       "      <td>2016-03-17 00:00:00</td>\n",
       "      <td>0</td>\n",
       "      <td>91074</td>\n",
       "      <td>2016-03-17 17:40:17</td>\n",
       "    </tr>\n",
       "    <tr>\n",
       "      <th>4</th>\n",
       "      <td>2016-03-31 17:25:20</td>\n",
       "      <td>3600</td>\n",
       "      <td>small</td>\n",
       "      <td>2008</td>\n",
       "      <td>manual</td>\n",
       "      <td>69</td>\n",
       "      <td>fabia</td>\n",
       "      <td>90000</td>\n",
       "      <td>7</td>\n",
       "      <td>gasoline</td>\n",
       "      <td>skoda</td>\n",
       "      <td>no</td>\n",
       "      <td>2016-03-31 00:00:00</td>\n",
       "      <td>0</td>\n",
       "      <td>60437</td>\n",
       "      <td>2016-04-06 10:17:21</td>\n",
       "    </tr>\n",
       "  </tbody>\n",
       "</table>\n",
       "</div>"
      ],
      "text/plain": [
       "           DateCrawled  Price VehicleType  RegistrationYear Gearbox  Power  \\\n",
       "0  2016-03-24 11:52:17    480         NaN              1993  manual      0   \n",
       "1  2016-03-24 10:58:45  18300       coupe              2011  manual    190   \n",
       "2  2016-03-14 12:52:21   9800         suv              2004    auto    163   \n",
       "3  2016-03-17 16:54:04   1500       small              2001  manual     75   \n",
       "4  2016-03-31 17:25:20   3600       small              2008  manual     69   \n",
       "\n",
       "   Model  Kilometer  RegistrationMonth  FuelType       Brand Repaired  \\\n",
       "0   golf     150000                  0    petrol  volkswagen      NaN   \n",
       "1    NaN     125000                  5  gasoline        audi      yes   \n",
       "2  grand     125000                  8  gasoline        jeep      NaN   \n",
       "3   golf     150000                  6    petrol  volkswagen       no   \n",
       "4  fabia      90000                  7  gasoline       skoda       no   \n",
       "\n",
       "           DateCreated  NumberOfPictures  PostalCode             LastSeen  \n",
       "0  2016-03-24 00:00:00                 0       70435  2016-04-07 03:16:57  \n",
       "1  2016-03-24 00:00:00                 0       66954  2016-04-07 01:46:50  \n",
       "2  2016-03-14 00:00:00                 0       90480  2016-04-05 12:47:46  \n",
       "3  2016-03-17 00:00:00                 0       91074  2016-03-17 17:40:17  \n",
       "4  2016-03-31 00:00:00                 0       60437  2016-04-06 10:17:21  "
      ]
     },
     "execution_count": 57,
     "metadata": {},
     "output_type": "execute_result"
    }
   ],
   "source": [
    "df.head()"
   ]
  },
  {
   "cell_type": "markdown",
   "metadata": {},
   "source": [
    "## Подготовка данных"
   ]
  },
  {
   "cell_type": "markdown",
   "metadata": {},
   "source": [
    "Просмотрим общую информацию о данных:"
   ]
  },
  {
   "cell_type": "code",
   "execution_count": 58,
   "metadata": {},
   "outputs": [
    {
     "name": "stdout",
     "output_type": "stream",
     "text": [
      "<class 'pandas.core.frame.DataFrame'>\n",
      "RangeIndex: 354369 entries, 0 to 354368\n",
      "Data columns (total 16 columns):\n",
      " #   Column             Non-Null Count   Dtype \n",
      "---  ------             --------------   ----- \n",
      " 0   DateCrawled        354369 non-null  object\n",
      " 1   Price              354369 non-null  int64 \n",
      " 2   VehicleType        316879 non-null  object\n",
      " 3   RegistrationYear   354369 non-null  int64 \n",
      " 4   Gearbox            334536 non-null  object\n",
      " 5   Power              354369 non-null  int64 \n",
      " 6   Model              334664 non-null  object\n",
      " 7   Kilometer          354369 non-null  int64 \n",
      " 8   RegistrationMonth  354369 non-null  int64 \n",
      " 9   FuelType           321474 non-null  object\n",
      " 10  Brand              354369 non-null  object\n",
      " 11  Repaired           283215 non-null  object\n",
      " 12  DateCreated        354369 non-null  object\n",
      " 13  NumberOfPictures   354369 non-null  int64 \n",
      " 14  PostalCode         354369 non-null  int64 \n",
      " 15  LastSeen           354369 non-null  object\n",
      "dtypes: int64(7), object(9)\n",
      "memory usage: 43.3+ MB\n"
     ]
    }
   ],
   "source": [
    "df.info()"
   ]
  },
  {
   "cell_type": "code",
   "execution_count": 59,
   "metadata": {},
   "outputs": [
    {
     "data": {
      "text/html": [
       "<div>\n",
       "<style scoped>\n",
       "    .dataframe tbody tr th:only-of-type {\n",
       "        vertical-align: middle;\n",
       "    }\n",
       "\n",
       "    .dataframe tbody tr th {\n",
       "        vertical-align: top;\n",
       "    }\n",
       "\n",
       "    .dataframe thead th {\n",
       "        text-align: right;\n",
       "    }\n",
       "</style>\n",
       "<table border=\"1\" class=\"dataframe\">\n",
       "  <thead>\n",
       "    <tr style=\"text-align: right;\">\n",
       "      <th></th>\n",
       "      <th>count</th>\n",
       "      <th>mean</th>\n",
       "      <th>std</th>\n",
       "      <th>min</th>\n",
       "      <th>25%</th>\n",
       "      <th>50%</th>\n",
       "      <th>75%</th>\n",
       "      <th>max</th>\n",
       "    </tr>\n",
       "  </thead>\n",
       "  <tbody>\n",
       "    <tr>\n",
       "      <th>Price</th>\n",
       "      <td>354369.0</td>\n",
       "      <td>4416.656776</td>\n",
       "      <td>4514.158514</td>\n",
       "      <td>0.0</td>\n",
       "      <td>1050.0</td>\n",
       "      <td>2700.0</td>\n",
       "      <td>6400.0</td>\n",
       "      <td>20000.0</td>\n",
       "    </tr>\n",
       "    <tr>\n",
       "      <th>RegistrationYear</th>\n",
       "      <td>354369.0</td>\n",
       "      <td>2004.234448</td>\n",
       "      <td>90.227958</td>\n",
       "      <td>1000.0</td>\n",
       "      <td>1999.0</td>\n",
       "      <td>2003.0</td>\n",
       "      <td>2008.0</td>\n",
       "      <td>9999.0</td>\n",
       "    </tr>\n",
       "    <tr>\n",
       "      <th>Power</th>\n",
       "      <td>354369.0</td>\n",
       "      <td>110.094337</td>\n",
       "      <td>189.850405</td>\n",
       "      <td>0.0</td>\n",
       "      <td>69.0</td>\n",
       "      <td>105.0</td>\n",
       "      <td>143.0</td>\n",
       "      <td>20000.0</td>\n",
       "    </tr>\n",
       "    <tr>\n",
       "      <th>Kilometer</th>\n",
       "      <td>354369.0</td>\n",
       "      <td>128211.172535</td>\n",
       "      <td>37905.341530</td>\n",
       "      <td>5000.0</td>\n",
       "      <td>125000.0</td>\n",
       "      <td>150000.0</td>\n",
       "      <td>150000.0</td>\n",
       "      <td>150000.0</td>\n",
       "    </tr>\n",
       "    <tr>\n",
       "      <th>RegistrationMonth</th>\n",
       "      <td>354369.0</td>\n",
       "      <td>5.714645</td>\n",
       "      <td>3.726421</td>\n",
       "      <td>0.0</td>\n",
       "      <td>3.0</td>\n",
       "      <td>6.0</td>\n",
       "      <td>9.0</td>\n",
       "      <td>12.0</td>\n",
       "    </tr>\n",
       "    <tr>\n",
       "      <th>NumberOfPictures</th>\n",
       "      <td>354369.0</td>\n",
       "      <td>0.000000</td>\n",
       "      <td>0.000000</td>\n",
       "      <td>0.0</td>\n",
       "      <td>0.0</td>\n",
       "      <td>0.0</td>\n",
       "      <td>0.0</td>\n",
       "      <td>0.0</td>\n",
       "    </tr>\n",
       "    <tr>\n",
       "      <th>PostalCode</th>\n",
       "      <td>354369.0</td>\n",
       "      <td>50508.689087</td>\n",
       "      <td>25783.096248</td>\n",
       "      <td>1067.0</td>\n",
       "      <td>30165.0</td>\n",
       "      <td>49413.0</td>\n",
       "      <td>71083.0</td>\n",
       "      <td>99998.0</td>\n",
       "    </tr>\n",
       "  </tbody>\n",
       "</table>\n",
       "</div>"
      ],
      "text/plain": [
       "                      count           mean           std     min       25%  \\\n",
       "Price              354369.0    4416.656776   4514.158514     0.0    1050.0   \n",
       "RegistrationYear   354369.0    2004.234448     90.227958  1000.0    1999.0   \n",
       "Power              354369.0     110.094337    189.850405     0.0      69.0   \n",
       "Kilometer          354369.0  128211.172535  37905.341530  5000.0  125000.0   \n",
       "RegistrationMonth  354369.0       5.714645      3.726421     0.0       3.0   \n",
       "NumberOfPictures   354369.0       0.000000      0.000000     0.0       0.0   \n",
       "PostalCode         354369.0   50508.689087  25783.096248  1067.0   30165.0   \n",
       "\n",
       "                        50%       75%       max  \n",
       "Price                2700.0    6400.0   20000.0  \n",
       "RegistrationYear     2003.0    2008.0    9999.0  \n",
       "Power                 105.0     143.0   20000.0  \n",
       "Kilometer          150000.0  150000.0  150000.0  \n",
       "RegistrationMonth       6.0       9.0      12.0  \n",
       "NumberOfPictures        0.0       0.0       0.0  \n",
       "PostalCode          49413.0   71083.0   99998.0  "
      ]
     },
     "execution_count": 59,
     "metadata": {},
     "output_type": "execute_result"
    }
   ],
   "source": [
    "df.describe().T"
   ]
  },
  {
   "cell_type": "markdown",
   "metadata": {},
   "source": [
    "Теперь выведем колличество явных дубликатов и пропусков"
   ]
  },
  {
   "cell_type": "code",
   "execution_count": 60,
   "metadata": {},
   "outputs": [
    {
     "data": {
      "text/plain": [
       "Repaired             20.079070\n",
       "VehicleType          10.579368\n",
       "FuelType              9.282697\n",
       "Gearbox               5.596709\n",
       "Model                 5.560588\n",
       "DateCrawled           0.000000\n",
       "Price                 0.000000\n",
       "RegistrationYear      0.000000\n",
       "Power                 0.000000\n",
       "Kilometer             0.000000\n",
       "RegistrationMonth     0.000000\n",
       "Brand                 0.000000\n",
       "DateCreated           0.000000\n",
       "NumberOfPictures      0.000000\n",
       "PostalCode            0.000000\n",
       "LastSeen              0.000000\n",
       "dtype: float64"
      ]
     },
     "metadata": {},
     "output_type": "display_data"
    },
    {
     "data": {
      "text/plain": [
       "Repaired             71154\n",
       "VehicleType          37490\n",
       "FuelType             32895\n",
       "Gearbox              19833\n",
       "Model                19705\n",
       "DateCrawled              0\n",
       "Price                    0\n",
       "RegistrationYear         0\n",
       "Power                    0\n",
       "Kilometer                0\n",
       "RegistrationMonth        0\n",
       "Brand                    0\n",
       "DateCreated              0\n",
       "NumberOfPictures         0\n",
       "PostalCode               0\n",
       "LastSeen                 0\n",
       "dtype: int64"
      ]
     },
     "metadata": {},
     "output_type": "display_data"
    },
    {
     "data": {
      "text/plain": [
       "'Количество явных дубликатов:'"
      ]
     },
     "metadata": {},
     "output_type": "display_data"
    },
    {
     "data": {
      "text/plain": [
       "4"
      ]
     },
     "metadata": {},
     "output_type": "display_data"
    },
    {
     "data": {
      "text/plain": [
       "(354369, 16)"
      ]
     },
     "metadata": {},
     "output_type": "display_data"
    }
   ],
   "source": [
    "display((df.isna().mean() * 100).sort_values(ascending=False))\n",
    "display((df.isna()).sum().sort_values(ascending=False))\n",
    "display('Количество явных дубликатов:',df.duplicated().sum())\n",
    "display(df.shape)"
   ]
  },
  {
   "cell_type": "markdown",
   "metadata": {},
   "source": [
    "Вывод по загрузке данных:\n",
    "* Датафрейм состоит из 354369 строк и 16 столбцов\n",
    "* Пропуски присутствуют в столбцах: Repaired,VenicleType,FuelType,GearBox,Model\n",
    "* Присутствуют явные дубликаты: 4\n",
    "* Типы данных соответствуют\n",
    "\n",
    "Стоит добавить, что пропуски в столбце Repaired, скорее всего связано с тем, что продавец не указал была ли в ремонте машина. Пропуски в столбце VenichleType - вероятнее всего человек либо забыл указать, либо авто не подходило ни к одной из категорий. FuelType,Gearbox,Model - по тем же причинам."
   ]
  },
  {
   "cell_type": "markdown",
   "metadata": {},
   "source": [
    "###  Предобработка данных"
   ]
  },
  {
   "cell_type": "markdown",
   "metadata": {},
   "source": [
    "**Обработка пропусков**"
   ]
  },
  {
   "cell_type": "markdown",
   "metadata": {},
   "source": [
    "Учитывая,что доли пропущенных значений довольно велики, стоит сразу отсеять вариант удаления всех строк с пропущенными значениями, наши данные сильно пострадают при таком действии. Так как признаки в которых есть пропуски, являются категорийными, лучшим вариантов разобраться с пропусками считаю - заполнить пропущенные значения, значениями наиболее часто встречающимися(то есть модой). Так мы сможем сохранить данные, хоть и качество этих данных может немного пострадать."
   ]
  },
  {
   "cell_type": "code",
   "execution_count": 61,
   "metadata": {},
   "outputs": [
    {
     "data": {
      "text/plain": [
       "array(['no', 'yes'], dtype=object)"
      ]
     },
     "metadata": {},
     "output_type": "display_data"
    },
    {
     "data": {
      "text/plain": [
       "array(['sedan', 'coupe', 'suv', 'small', 'convertible', 'bus', 'wagon',\n",
       "       'other'], dtype=object)"
      ]
     },
     "metadata": {},
     "output_type": "display_data"
    },
    {
     "data": {
      "text/plain": [
       "array(['petrol', 'gasoline', 'lpg', 'other', 'hybrid', 'cng', 'electric'],\n",
       "      dtype=object)"
      ]
     },
     "metadata": {},
     "output_type": "display_data"
    },
    {
     "data": {
      "text/plain": [
       "array(['manual', 'auto'], dtype=object)"
      ]
     },
     "metadata": {},
     "output_type": "display_data"
    },
    {
     "data": {
      "text/plain": [
       "array(['golf', 'grand', 'fabia', '3er', '2_reihe', 'other', 'c_max',\n",
       "       '3_reihe', 'passat', 'navara', 'ka', 'polo', 'twingo', 'a_klasse',\n",
       "       'scirocco', '5er', 'meriva', 'arosa', 'c4', 'civic', 'transporter',\n",
       "       'punto', 'e_klasse', 'clio', 'kadett', 'kangoo', 'corsa', 'one',\n",
       "       'fortwo', '1er', 'b_klasse', 'signum', 'astra', 'a8', 'jetta',\n",
       "       'fiesta', 'c_klasse', 'micra', 'vito', 'sprinter', '156', 'escort',\n",
       "       'forester', 'xc_reihe', 'scenic', 'a4', 'a1', 'insignia', 'combo',\n",
       "       'focus', 'tt', 'a6', 'jazz', 'omega', 'slk', '7er', '80', '147',\n",
       "       '100', 'z_reihe', 'sportage', 'sorento', 'v40', 'ibiza', 'mustang',\n",
       "       'eos', 'touran', 'getz', 'a3', 'almera', 'megane', 'lupo', 'r19',\n",
       "       'zafira', 'caddy', 'mondeo', 'cordoba', 'colt', 'impreza',\n",
       "       'vectra', 'berlingo', 'tiguan', 'i_reihe', 'espace', 'sharan',\n",
       "       '6_reihe', 'panda', 'up', 'seicento', 'ceed', '5_reihe', 'yeti',\n",
       "       'octavia', 'mii', 'rx_reihe', '6er', 'modus', 'fox', 'matiz',\n",
       "       'beetle', 'c1', 'rio', 'touareg', 'logan', 'spider', 'cuore',\n",
       "       's_max', 'a2', 'galaxy', 'c3', 'viano', 's_klasse', '1_reihe',\n",
       "       'avensis', 'roomster', 'sl', 'kaefer', 'santa', 'cooper', 'leon',\n",
       "       '4_reihe', 'a5', '500', 'laguna', 'ptcruiser', 'clk', 'primera',\n",
       "       'x_reihe', 'exeo', '159', 'transit', 'juke', 'qashqai', 'carisma',\n",
       "       'accord', 'corolla', 'lanos', 'phaeton', 'verso', 'swift', 'rav',\n",
       "       'picanto', 'boxster', 'kalos', 'superb', 'stilo', 'alhambra',\n",
       "       'mx_reihe', 'roadster', 'ypsilon', 'cayenne', 'galant', 'justy',\n",
       "       '90', 'sirion', 'crossfire', 'agila', 'duster', 'cr_reihe', 'v50',\n",
       "       'c_reihe', 'v_klasse', 'm_klasse', 'yaris', 'c5', 'aygo', 'cc',\n",
       "       'carnival', 'fusion', '911', 'bora', 'forfour', 'm_reihe', 'cl',\n",
       "       'tigra', '300c', 'spark', 'v70', 'kuga', 'x_type', 'ducato',\n",
       "       's_type', 'x_trail', 'toledo', 'altea', 'voyager', 'calibra',\n",
       "       'bravo', 'antara', 'tucson', 'citigo', 'jimny', 'wrangler',\n",
       "       'lybra', 'q7', 'lancer', 'captiva', 'c2', 'discovery',\n",
       "       'freelander', 'sandero', 'note', '900', 'cherokee', 'clubman',\n",
       "       'samara', 'defender', '601', 'cx_reihe', 'legacy', 'pajero',\n",
       "       'auris', 'niva', 's60', 'nubira', 'vivaro', 'g_klasse', 'lodgy',\n",
       "       '850', 'range_rover', 'q3', 'serie_2', 'glk', 'charade', 'croma',\n",
       "       'outlander', 'doblo', 'musa', 'move', '9000', 'v60', '145', 'aveo',\n",
       "       '200', 'b_max', 'range_rover_sport', 'terios', 'rangerover', 'q5',\n",
       "       'range_rover_evoque', 'materia', 'delta', 'gl', 'kalina', 'amarok',\n",
       "       'elefantino', 'i3', 'kappa', 'serie_3', 'serie_1'], dtype=object)"
      ]
     },
     "metadata": {},
     "output_type": "display_data"
    }
   ],
   "source": [
    "df['Repaired'] = df['Repaired'].fillna(df['Repaired'].mode().values[0])\n",
    "df['VehicleType'] = df['VehicleType'].fillna(df['VehicleType'].mode().values[0])\n",
    "df['FuelType'] = df['FuelType'].fillna(df['FuelType'].mode().values[0])\n",
    "df['Gearbox'] = df['Gearbox'].fillna(df['Gearbox'].mode().values[0])\n",
    "df['Model'] = df['Model'].fillna(df['Model'].mode().values[0])\n",
    "# Проверим\n",
    "display(df['Repaired'].unique())\n",
    "display(df['VehicleType'].unique())\n",
    "display(df['FuelType'].unique())\n",
    "display(df['Gearbox'].unique())\n",
    "display(df['Model'].unique())\n"
   ]
  },
  {
   "cell_type": "markdown",
   "metadata": {},
   "source": [
    "**Обработка дубликатов**"
   ]
  },
  {
   "cell_type": "markdown",
   "metadata": {},
   "source": [
    "Просмотрим дубликаты"
   ]
  },
  {
   "cell_type": "code",
   "execution_count": 62,
   "metadata": {},
   "outputs": [
    {
     "data": {
      "text/html": [
       "<div>\n",
       "<style scoped>\n",
       "    .dataframe tbody tr th:only-of-type {\n",
       "        vertical-align: middle;\n",
       "    }\n",
       "\n",
       "    .dataframe tbody tr th {\n",
       "        vertical-align: top;\n",
       "    }\n",
       "\n",
       "    .dataframe thead th {\n",
       "        text-align: right;\n",
       "    }\n",
       "</style>\n",
       "<table border=\"1\" class=\"dataframe\">\n",
       "  <thead>\n",
       "    <tr style=\"text-align: right;\">\n",
       "      <th></th>\n",
       "      <th>DateCrawled</th>\n",
       "      <th>Price</th>\n",
       "      <th>VehicleType</th>\n",
       "      <th>RegistrationYear</th>\n",
       "      <th>Gearbox</th>\n",
       "      <th>Power</th>\n",
       "      <th>Model</th>\n",
       "      <th>Kilometer</th>\n",
       "      <th>RegistrationMonth</th>\n",
       "      <th>FuelType</th>\n",
       "      <th>Brand</th>\n",
       "      <th>Repaired</th>\n",
       "      <th>DateCreated</th>\n",
       "      <th>NumberOfPictures</th>\n",
       "      <th>PostalCode</th>\n",
       "      <th>LastSeen</th>\n",
       "    </tr>\n",
       "  </thead>\n",
       "  <tbody>\n",
       "    <tr>\n",
       "      <th>41529</th>\n",
       "      <td>2016-03-18 18:46:15</td>\n",
       "      <td>1999</td>\n",
       "      <td>wagon</td>\n",
       "      <td>2001</td>\n",
       "      <td>manual</td>\n",
       "      <td>131</td>\n",
       "      <td>passat</td>\n",
       "      <td>150000</td>\n",
       "      <td>7</td>\n",
       "      <td>gasoline</td>\n",
       "      <td>volkswagen</td>\n",
       "      <td>no</td>\n",
       "      <td>2016-03-18 00:00:00</td>\n",
       "      <td>0</td>\n",
       "      <td>36391</td>\n",
       "      <td>2016-03-18 18:46:15</td>\n",
       "    </tr>\n",
       "    <tr>\n",
       "      <th>88087</th>\n",
       "      <td>2016-03-08 18:42:48</td>\n",
       "      <td>1799</td>\n",
       "      <td>coupe</td>\n",
       "      <td>1999</td>\n",
       "      <td>auto</td>\n",
       "      <td>193</td>\n",
       "      <td>clk</td>\n",
       "      <td>20000</td>\n",
       "      <td>7</td>\n",
       "      <td>petrol</td>\n",
       "      <td>mercedes_benz</td>\n",
       "      <td>no</td>\n",
       "      <td>2016-03-08 00:00:00</td>\n",
       "      <td>0</td>\n",
       "      <td>89518</td>\n",
       "      <td>2016-03-09 09:46:57</td>\n",
       "    </tr>\n",
       "    <tr>\n",
       "      <th>90964</th>\n",
       "      <td>2016-03-28 00:56:10</td>\n",
       "      <td>1000</td>\n",
       "      <td>small</td>\n",
       "      <td>2002</td>\n",
       "      <td>manual</td>\n",
       "      <td>83</td>\n",
       "      <td>other</td>\n",
       "      <td>150000</td>\n",
       "      <td>1</td>\n",
       "      <td>petrol</td>\n",
       "      <td>suzuki</td>\n",
       "      <td>no</td>\n",
       "      <td>2016-03-28 00:00:00</td>\n",
       "      <td>0</td>\n",
       "      <td>66589</td>\n",
       "      <td>2016-03-28 08:46:21</td>\n",
       "    </tr>\n",
       "    <tr>\n",
       "      <th>171088</th>\n",
       "      <td>2016-03-08 18:42:48</td>\n",
       "      <td>1799</td>\n",
       "      <td>coupe</td>\n",
       "      <td>1999</td>\n",
       "      <td>auto</td>\n",
       "      <td>193</td>\n",
       "      <td>clk</td>\n",
       "      <td>20000</td>\n",
       "      <td>7</td>\n",
       "      <td>petrol</td>\n",
       "      <td>mercedes_benz</td>\n",
       "      <td>no</td>\n",
       "      <td>2016-03-08 00:00:00</td>\n",
       "      <td>0</td>\n",
       "      <td>89518</td>\n",
       "      <td>2016-03-09 09:46:57</td>\n",
       "    </tr>\n",
       "    <tr>\n",
       "      <th>187735</th>\n",
       "      <td>2016-04-03 09:01:15</td>\n",
       "      <td>4699</td>\n",
       "      <td>coupe</td>\n",
       "      <td>2003</td>\n",
       "      <td>auto</td>\n",
       "      <td>218</td>\n",
       "      <td>clk</td>\n",
       "      <td>125000</td>\n",
       "      <td>6</td>\n",
       "      <td>petrol</td>\n",
       "      <td>mercedes_benz</td>\n",
       "      <td>yes</td>\n",
       "      <td>2016-04-03 00:00:00</td>\n",
       "      <td>0</td>\n",
       "      <td>75196</td>\n",
       "      <td>2016-04-07 09:44:54</td>\n",
       "    </tr>\n",
       "    <tr>\n",
       "      <th>189060</th>\n",
       "      <td>2016-04-04 22:50:44</td>\n",
       "      <td>13000</td>\n",
       "      <td>sedan</td>\n",
       "      <td>2008</td>\n",
       "      <td>manual</td>\n",
       "      <td>143</td>\n",
       "      <td>a4</td>\n",
       "      <td>125000</td>\n",
       "      <td>9</td>\n",
       "      <td>gasoline</td>\n",
       "      <td>audi</td>\n",
       "      <td>no</td>\n",
       "      <td>2016-04-04 00:00:00</td>\n",
       "      <td>0</td>\n",
       "      <td>65428</td>\n",
       "      <td>2016-04-05 12:30:14</td>\n",
       "    </tr>\n",
       "    <tr>\n",
       "      <th>194008</th>\n",
       "      <td>2016-04-04 22:50:44</td>\n",
       "      <td>13000</td>\n",
       "      <td>sedan</td>\n",
       "      <td>2008</td>\n",
       "      <td>manual</td>\n",
       "      <td>143</td>\n",
       "      <td>a4</td>\n",
       "      <td>125000</td>\n",
       "      <td>9</td>\n",
       "      <td>gasoline</td>\n",
       "      <td>audi</td>\n",
       "      <td>no</td>\n",
       "      <td>2016-04-04 00:00:00</td>\n",
       "      <td>0</td>\n",
       "      <td>65428</td>\n",
       "      <td>2016-04-05 12:30:14</td>\n",
       "    </tr>\n",
       "    <tr>\n",
       "      <th>231258</th>\n",
       "      <td>2016-03-28 00:56:10</td>\n",
       "      <td>1000</td>\n",
       "      <td>small</td>\n",
       "      <td>2002</td>\n",
       "      <td>manual</td>\n",
       "      <td>83</td>\n",
       "      <td>other</td>\n",
       "      <td>150000</td>\n",
       "      <td>1</td>\n",
       "      <td>petrol</td>\n",
       "      <td>suzuki</td>\n",
       "      <td>no</td>\n",
       "      <td>2016-03-28 00:00:00</td>\n",
       "      <td>0</td>\n",
       "      <td>66589</td>\n",
       "      <td>2016-03-28 08:46:21</td>\n",
       "    </tr>\n",
       "    <tr>\n",
       "      <th>258109</th>\n",
       "      <td>2016-04-03 09:01:15</td>\n",
       "      <td>4699</td>\n",
       "      <td>coupe</td>\n",
       "      <td>2003</td>\n",
       "      <td>auto</td>\n",
       "      <td>218</td>\n",
       "      <td>clk</td>\n",
       "      <td>125000</td>\n",
       "      <td>6</td>\n",
       "      <td>petrol</td>\n",
       "      <td>mercedes_benz</td>\n",
       "      <td>yes</td>\n",
       "      <td>2016-04-03 00:00:00</td>\n",
       "      <td>0</td>\n",
       "      <td>75196</td>\n",
       "      <td>2016-04-07 09:44:54</td>\n",
       "    </tr>\n",
       "    <tr>\n",
       "      <th>325651</th>\n",
       "      <td>2016-03-18 18:46:15</td>\n",
       "      <td>1999</td>\n",
       "      <td>wagon</td>\n",
       "      <td>2001</td>\n",
       "      <td>manual</td>\n",
       "      <td>131</td>\n",
       "      <td>passat</td>\n",
       "      <td>150000</td>\n",
       "      <td>7</td>\n",
       "      <td>gasoline</td>\n",
       "      <td>volkswagen</td>\n",
       "      <td>no</td>\n",
       "      <td>2016-03-18 00:00:00</td>\n",
       "      <td>0</td>\n",
       "      <td>36391</td>\n",
       "      <td>2016-03-18 18:46:15</td>\n",
       "    </tr>\n",
       "  </tbody>\n",
       "</table>\n",
       "</div>"
      ],
      "text/plain": [
       "                DateCrawled  Price VehicleType  RegistrationYear Gearbox  \\\n",
       "41529   2016-03-18 18:46:15   1999       wagon              2001  manual   \n",
       "88087   2016-03-08 18:42:48   1799       coupe              1999    auto   \n",
       "90964   2016-03-28 00:56:10   1000       small              2002  manual   \n",
       "171088  2016-03-08 18:42:48   1799       coupe              1999    auto   \n",
       "187735  2016-04-03 09:01:15   4699       coupe              2003    auto   \n",
       "189060  2016-04-04 22:50:44  13000       sedan              2008  manual   \n",
       "194008  2016-04-04 22:50:44  13000       sedan              2008  manual   \n",
       "231258  2016-03-28 00:56:10   1000       small              2002  manual   \n",
       "258109  2016-04-03 09:01:15   4699       coupe              2003    auto   \n",
       "325651  2016-03-18 18:46:15   1999       wagon              2001  manual   \n",
       "\n",
       "        Power   Model  Kilometer  RegistrationMonth  FuelType          Brand  \\\n",
       "41529     131  passat     150000                  7  gasoline     volkswagen   \n",
       "88087     193     clk      20000                  7    petrol  mercedes_benz   \n",
       "90964      83   other     150000                  1    petrol         suzuki   \n",
       "171088    193     clk      20000                  7    petrol  mercedes_benz   \n",
       "187735    218     clk     125000                  6    petrol  mercedes_benz   \n",
       "189060    143      a4     125000                  9  gasoline           audi   \n",
       "194008    143      a4     125000                  9  gasoline           audi   \n",
       "231258     83   other     150000                  1    petrol         suzuki   \n",
       "258109    218     clk     125000                  6    petrol  mercedes_benz   \n",
       "325651    131  passat     150000                  7  gasoline     volkswagen   \n",
       "\n",
       "       Repaired          DateCreated  NumberOfPictures  PostalCode  \\\n",
       "41529        no  2016-03-18 00:00:00                 0       36391   \n",
       "88087        no  2016-03-08 00:00:00                 0       89518   \n",
       "90964        no  2016-03-28 00:00:00                 0       66589   \n",
       "171088       no  2016-03-08 00:00:00                 0       89518   \n",
       "187735      yes  2016-04-03 00:00:00                 0       75196   \n",
       "189060       no  2016-04-04 00:00:00                 0       65428   \n",
       "194008       no  2016-04-04 00:00:00                 0       65428   \n",
       "231258       no  2016-03-28 00:00:00                 0       66589   \n",
       "258109      yes  2016-04-03 00:00:00                 0       75196   \n",
       "325651       no  2016-03-18 00:00:00                 0       36391   \n",
       "\n",
       "                   LastSeen  \n",
       "41529   2016-03-18 18:46:15  \n",
       "88087   2016-03-09 09:46:57  \n",
       "90964   2016-03-28 08:46:21  \n",
       "171088  2016-03-09 09:46:57  \n",
       "187735  2016-04-07 09:44:54  \n",
       "189060  2016-04-05 12:30:14  \n",
       "194008  2016-04-05 12:30:14  \n",
       "231258  2016-03-28 08:46:21  \n",
       "258109  2016-04-07 09:44:54  \n",
       "325651  2016-03-18 18:46:15  "
      ]
     },
     "execution_count": 62,
     "metadata": {},
     "output_type": "execute_result"
    }
   ],
   "source": [
    "df[df.duplicated(keep=False)]"
   ]
  },
  {
   "cell_type": "markdown",
   "metadata": {},
   "source": [
    "Удалим их"
   ]
  },
  {
   "cell_type": "code",
   "execution_count": 63,
   "metadata": {},
   "outputs": [
    {
     "data": {
      "text/plain": [
       "0"
      ]
     },
     "execution_count": 63,
     "metadata": {},
     "output_type": "execute_result"
    }
   ],
   "source": [
    "df = df.drop_duplicates()\n",
    "# Проверим\n",
    "df.duplicated().sum()"
   ]
  },
  {
   "cell_type": "markdown",
   "metadata": {},
   "source": [
    "\n",
    "<div class=\"alert alert-block alert-info\">\n",
    "<b>Совет:</b> У fuel_type есть категории, которые означают одно и тоже - их можно объединить, либо подумать может они действительно означают, что-то разное.\n",
    "</div>"
   ]
  },
  {
   "cell_type": "markdown",
   "metadata": {},
   "source": [
    "### Исследовательский анализ данных"
   ]
  },
  {
   "cell_type": "markdown",
   "metadata": {},
   "source": [
    "Просмотрим сначала распределения категориальных признаков. Признак Model рассмотрим отдельно"
   ]
  },
  {
   "cell_type": "code",
   "execution_count": 64,
   "metadata": {},
   "outputs": [],
   "source": [
    "def plot_features_cat(df):\n",
    "    # Определяем признаки для визуализации\n",
    "    features = ['VehicleType','Gearbox','FuelType','Brand','Repaired',]\n",
    "\n",
    "    # Создаем фигуру и оси для графиков\n",
    "    fig, axes = plt.subplots(3, 2, figsize=(20, 15))\n",
    "    axes = axes.flatten()  # Упрощаем доступ к осям\n",
    "\n",
    "    # Построение графиков для каждого признака\n",
    "    for i, feature in enumerate(features):\n",
    "        sns.countplot(df[feature], ax=axes[i],color='blue')\n",
    "        axes[i].set_title(f'Распределение {feature}')\n",
    "        axes[i].set_xlabel(feature)\n",
    "        axes[i].set_ylabel('Частота')\n",
    "\n",
    "    # Настройка общего оформления графиков\n",
    "    plt.tight_layout()\n",
    "    plt.show()"
   ]
  },
  {
   "cell_type": "code",
   "execution_count": 65,
   "metadata": {},
   "outputs": [
    {
     "data": {
      "image/png": "[encoded data removed]",
      "text/plain": [
       "<Figure size 2000x1500 with 6 Axes>"
      ]
     },
     "metadata": {},
     "output_type": "display_data"
    }
   ],
   "source": [
    "plot_features_cat(df)"
   ]
  },
  {
   "cell_type": "markdown",
   "metadata": {},
   "source": [
    "Следуя из графиков можем сказать:\n",
    "- Среди столбца VehicleType лидерами являются седаны, маленькие авто, фургоны, наименьшие значения имеют внедорожники и категория \"другие\" авто\n",
    "- Среди столбца Gearbox лидерами являются машины с ручной коробкой переключения передач\n",
    "- Среди столбца FuelType выделяются автомобили на бензине и газе, электроавтомобили и гибридные составляют наименьшую долю\n",
    "- Среди столбца Brand, больше всего автомобилей от таких марок как: volkswagen,mercedes_benz,bmw, меньше всего автомобилей lada\n",
    "- Среди столбца Repaireed, большинство машин не были в ремонте  "
   ]
  },
  {
   "cell_type": "markdown",
   "metadata": {},
   "source": [
    "Перед просмотром распределений для колличественных признаков, удалим ненужные признаки, которые не связаны с автомибилями:"
   ]
  },
  {
   "cell_type": "code",
   "execution_count": 66,
   "metadata": {},
   "outputs": [],
   "source": [
    "df = df.drop([\"DateCrawled\",\"DateCreated\",\"LastSeen\",\"NumberOfPictures\",\"PostalCode\"],axis=1)"
   ]
  },
  {
   "cell_type": "markdown",
   "metadata": {},
   "source": [
    "Рассмотрим колличественные признаки"
   ]
  },
  {
   "cell_type": "code",
   "execution_count": 67,
   "metadata": {},
   "outputs": [],
   "source": [
    "def plot_feature_kol(df):\n",
    "    # Определяем признаки для визуализации\n",
    "    features = ['Price','RegistrationYear','Power','Kilometer','RegistrationMonth']\n",
    "\n",
    "    # Создаем фигуру и оси для графиков\n",
    "    fig, axes = plt.subplots(3, 2, figsize=(15, 10))\n",
    "    axes = axes.flatten()  # Упрощаем доступ к осям\n",
    "\n",
    "    # Построение графиков для каждого признака\n",
    "    for i, feature in enumerate(features):\n",
    "        sns.histplot(df[feature], ax=axes[i], kde=True, color='blue', bins=7)\n",
    "        axes[i].set_title(f'Распределение {feature}')\n",
    "        axes[i].set_xlabel(feature)\n",
    "        axes[i].set_ylabel('Значения')\n",
    "\n",
    "    # Настройка общего оформления графиков\n",
    "    plt.tight_layout()\n",
    "    plt.show()"
   ]
  },
  {
   "cell_type": "code",
   "execution_count": 68,
   "metadata": {},
   "outputs": [
    {
     "data": {
      "image/png": "[encoded data removed]",
      "text/plain": [
       "<Figure size 1500x1000 with 6 Axes>"
      ]
     },
     "metadata": {},
     "output_type": "display_data"
    }
   ],
   "source": [
    "plot_feature_kol(df)"
   ]
  },
  {
   "cell_type": "markdown",
   "metadata": {},
   "source": [
    "Теперь выведим общую информацию по датафрейму"
   ]
  },
  {
   "cell_type": "code",
   "execution_count": 69,
   "metadata": {},
   "outputs": [
    {
     "data": {
      "text/html": [
       "<div>\n",
       "<style scoped>\n",
       "    .dataframe tbody tr th:only-of-type {\n",
       "        vertical-align: middle;\n",
       "    }\n",
       "\n",
       "    .dataframe tbody tr th {\n",
       "        vertical-align: top;\n",
       "    }\n",
       "\n",
       "    .dataframe thead th {\n",
       "        text-align: right;\n",
       "    }\n",
       "</style>\n",
       "<table border=\"1\" class=\"dataframe\">\n",
       "  <thead>\n",
       "    <tr style=\"text-align: right;\">\n",
       "      <th></th>\n",
       "      <th>Price</th>\n",
       "      <th>RegistrationYear</th>\n",
       "      <th>Power</th>\n",
       "      <th>Kilometer</th>\n",
       "      <th>RegistrationMonth</th>\n",
       "    </tr>\n",
       "  </thead>\n",
       "  <tbody>\n",
       "    <tr>\n",
       "      <th>count</th>\n",
       "      <td>354364.000000</td>\n",
       "      <td>354364.000000</td>\n",
       "      <td>354364.000000</td>\n",
       "      <td>354364.000000</td>\n",
       "      <td>354364.000000</td>\n",
       "    </tr>\n",
       "    <tr>\n",
       "      <th>mean</th>\n",
       "      <td>4416.655608</td>\n",
       "      <td>2004.234471</td>\n",
       "      <td>110.093723</td>\n",
       "      <td>128211.373051</td>\n",
       "      <td>5.714641</td>\n",
       "    </tr>\n",
       "    <tr>\n",
       "      <th>std</th>\n",
       "      <td>4514.159690</td>\n",
       "      <td>90.228593</td>\n",
       "      <td>189.851590</td>\n",
       "      <td>37905.136957</td>\n",
       "      <td>3.726433</td>\n",
       "    </tr>\n",
       "    <tr>\n",
       "      <th>min</th>\n",
       "      <td>0.000000</td>\n",
       "      <td>1000.000000</td>\n",
       "      <td>0.000000</td>\n",
       "      <td>5000.000000</td>\n",
       "      <td>0.000000</td>\n",
       "    </tr>\n",
       "    <tr>\n",
       "      <th>25%</th>\n",
       "      <td>1050.000000</td>\n",
       "      <td>1999.000000</td>\n",
       "      <td>69.000000</td>\n",
       "      <td>125000.000000</td>\n",
       "      <td>3.000000</td>\n",
       "    </tr>\n",
       "    <tr>\n",
       "      <th>50%</th>\n",
       "      <td>2700.000000</td>\n",
       "      <td>2003.000000</td>\n",
       "      <td>105.000000</td>\n",
       "      <td>150000.000000</td>\n",
       "      <td>6.000000</td>\n",
       "    </tr>\n",
       "    <tr>\n",
       "      <th>75%</th>\n",
       "      <td>6400.000000</td>\n",
       "      <td>2008.000000</td>\n",
       "      <td>143.000000</td>\n",
       "      <td>150000.000000</td>\n",
       "      <td>9.000000</td>\n",
       "    </tr>\n",
       "    <tr>\n",
       "      <th>max</th>\n",
       "      <td>20000.000000</td>\n",
       "      <td>9999.000000</td>\n",
       "      <td>20000.000000</td>\n",
       "      <td>150000.000000</td>\n",
       "      <td>12.000000</td>\n",
       "    </tr>\n",
       "  </tbody>\n",
       "</table>\n",
       "</div>"
      ],
      "text/plain": [
       "               Price  RegistrationYear          Power      Kilometer  \\\n",
       "count  354364.000000     354364.000000  354364.000000  354364.000000   \n",
       "mean     4416.655608       2004.234471     110.093723  128211.373051   \n",
       "std      4514.159690         90.228593     189.851590   37905.136957   \n",
       "min         0.000000       1000.000000       0.000000    5000.000000   \n",
       "25%      1050.000000       1999.000000      69.000000  125000.000000   \n",
       "50%      2700.000000       2003.000000     105.000000  150000.000000   \n",
       "75%      6400.000000       2008.000000     143.000000  150000.000000   \n",
       "max     20000.000000       9999.000000   20000.000000  150000.000000   \n",
       "\n",
       "       RegistrationMonth  \n",
       "count      354364.000000  \n",
       "mean            5.714641  \n",
       "std             3.726433  \n",
       "min             0.000000  \n",
       "25%             3.000000  \n",
       "50%             6.000000  \n",
       "75%             9.000000  \n",
       "max            12.000000  "
      ]
     },
     "execution_count": 69,
     "metadata": {},
     "output_type": "execute_result"
    }
   ],
   "source": [
    "df.describe()"
   ]
  },
  {
   "cell_type": "markdown",
   "metadata": {},
   "source": [
    "**Вывод по исследовательскому анализу данных:**\n",
    "- Данные в столбце Price имеют довольно большое стандартное отклонение, максимальное значение - 20000 а минимальное 0, средняя цена 4416, распределение не похоже на нормальное\n",
    "- Данные в столбце RegistrationYear - минимальное значение 1000, а максимальное 9999, что точно говорит о том что в данных есть аномалии, стоит убрать эти аномалии\n",
    "- Данные в столбце Power - минимальное значение 0 а максимальное значение 20000, также говорит нам о том что в данных есть аномалии, уберем выбросы\n",
    "- Данные в столбце Kilometer - минимальное значение 5000, а максимальное 150000, данные выглядят как реальные, выбросов нет.\n",
    "- Данные в RegistrationMonth - минимальное значение 0, а максимальное 12, значение 0 говорит о нулевом месяце, которого не существует, следует обработать"
   ]
  },
  {
   "cell_type": "markdown",
   "metadata": {},
   "source": [
    "**Обработка выбросов**"
   ]
  },
  {
   "cell_type": "markdown",
   "metadata": {},
   "source": [
    "**Примим решения по выбросам:**\n",
    "- В столбце RegustrationYear следует ограничить данные, которые выходят за пределы, порогом обозначим 1920 год, а пределом 2020 годом\n",
    "- В столбце RegistrationMonth заменим 0 месяц на 1 месяц\n",
    "- В столбце Power ограничим значения 3500, так как на данный момент самое большое колличетсво лошадинных сил имеети автомобиль Saleen s7-3000 л.с.\n",
    "- В столбце Power разберемся с выбросами на основе межквартального размаха"
   ]
  },
  {
   "cell_type": "code",
   "execution_count": 70,
   "metadata": {},
   "outputs": [],
   "source": [
    "# Балансировка RegistrationYear\n",
    "df[\"RegistrationYear\"] = np.clip(df[\"RegistrationYear\"], 1920, 2020)\n",
    "\n",
    "# Замена 0 на 1 в RegistrationMonth\n",
    "df[\"RegistrationMonth\"] = df[\"RegistrationMonth\"].replace(0, 1)\n",
    "\n",
    "# Ограничение Power\n",
    "df[\"Power\"] = np.clip(df[\"Power\"], 1, 3500)"
   ]
  },
  {
   "cell_type": "markdown",
   "metadata": {},
   "source": [
    "### Корреляционный анализ данных"
   ]
  },
  {
   "cell_type": "markdown",
   "metadata": {},
   "source": [
    "Целевой признак в нашем исследовании - Price, стоит рассмотреть есть ли зависимости между признаками"
   ]
  },
  {
   "cell_type": "code",
   "execution_count": 71,
   "metadata": {},
   "outputs": [
    {
     "data": {
      "image/png": "[encoded data removed]",
      "text/plain": [
       "<Figure size 1000x800 with 2 Axes>"
      ]
     },
     "metadata": {},
     "output_type": "display_data"
    }
   ],
   "source": [
    "correlation_matrix = df[['Price', 'RegistrationYear', 'RegistrationMonth', 'Power', 'Kilometer']].corr()\n",
    "# Выводим матрицу корреляции\n",
    "# Визуализируем матрицу корреляции с помощью тепловой карты\n",
    "plt.figure(figsize=(10, 8))\n",
    "sns.heatmap(correlation_matrix, annot=True, fmt=\".2f\", cmap='coolwarm')\n",
    "plt.title('Матрица корреляции')\n",
    "plt.show()"
   ]
  },
  {
   "cell_type": "markdown",
   "metadata": {},
   "source": [
    "**Вывод по корреляционному анализу данных:**\n",
    "- Наибольшую корреляцию имеют признаки RegistrationYear и Power, 0.37 и 0.33 соответственно, остальные признаки имеют иное либо отрицательное значение. Коэффиценты в порядке, мультиколлинеарности нет, данные не следует менять."
   ]
  },
  {
   "cell_type": "markdown",
   "metadata": {},
   "source": [
    "###  Общий вывод по подготовке данных\n",
    "* Загрузили данные:\n",
    "    * Датафрейм состоит из 354369 строк и 16 столбцов\n",
    "    * Пропуски присутствуют в столбцах: Repaired,VenicleType,FuelType,GearBox,Model\n",
    "    * Присутствуют явные дубликаты: 4\n",
    "    * Типы данных соответствуют\n",
    "* Предобработали данные:\n",
    "    * Учитывая,что доли пропущенных значений довольно велики, отсеяли вариант удаления всех строк с пропущенными значениями, наши данные сильно пострадают при таком действии. Так как признаки в которых есть пропуски, являются категорийными, лучшим вариантов разобраться с пропусками считаю - заполнить пропущенные значения, значениями наиболее часто встречающимися(то есть модой). Так мы сможем сохранить данные, хоть и качество этих данных может немного пострадать.\n",
    "    * Обработали дубликаты\n",
    "* Провели исследовательский анализ данных:\n",
    "    * Среди столбца VehicleType лидерами являются седаны, маленькие авто, фургоны, наименьшие значения имеют внедорожники и категория \"другие\" авто\n",
    "    * Среди столбца Gearbox лидерами являются машины с ручной коробкой переключения передач\n",
    "    * Среди столбца FuelType выделяются автомобили на бензине и газе, электроавтомобили и гибридные составляют наименьшую долю\n",
    "    * Среди столбца Brand, больше всего автомобилей от таких марок как: volkswagen,mercedes_benz,bmw, меньше всего автомобилей lada\n",
    "    * Среди столбца Repaireed, большинство машин не были в ремонте\n",
    "    * В столбце RegustrationYear ограничили данные, которые выходят за пределы, порогом обозначим 1920 год, а пределом 2020 годом\n",
    "    * В столбце RegistrationMonth заменили 0 месяц на 1 месяц\n",
    "    * В столбце Power ограничили значения 3500, так как на данный момент самое большое колличетсво лошадинных сил имеети автомобиль Saleen s7-3000 л.с.\n",
    "    * В столбцах Price и Power разобрались с выбросами на основе межквартального размаха\n",
    "* Провели корреляционный анализ данных:\n",
    "    *  Наибольшую корреляцию имеют признаки RegistrationYear и Power, 0.37 и 0.33 соответственно, остальные признаки имеют иное либо отрицательное значение. Коэффиценты в порядке, мультиколлинеарности нет, данные не следует менять.\n",
    "\n",
    "По итогу наши данные готовы для обучения модели."
   ]
  },
  {
   "cell_type": "markdown",
   "metadata": {},
   "source": [
    "## Обучение моделей"
   ]
  },
  {
   "cell_type": "markdown",
   "metadata": {},
   "source": [
    "### Разделим выборки\n",
    "\n",
    "Перед обучением выборки стоит разделить и закодировать категориальные признаки"
   ]
  },
  {
   "cell_type": "code",
   "execution_count": 72,
   "metadata": {},
   "outputs": [],
   "source": [
    "df_lgb = df.copy()\n",
    "df_cat = df.copy()\n",
    "df_dt = df.copy()"
   ]
  },
  {
   "cell_type": "code",
   "execution_count": 73,
   "metadata": {},
   "outputs": [],
   "source": [
    "category_columns = ['VehicleType', 'Gearbox', 'Model', 'FuelType', 'Brand', 'Repaired']\n",
    "target_column = \"Price\"\n",
    "\n",
    "#Выборки для LightGBM\n",
    "df_lgb_train, df_lgb_test = train_test_split(df_lgb, test_size=0.25, random_state=RANDOM_STATE)\n",
    "\n",
    "encoder_lgb = OrdinalEncoder(handle_unknown='use_encoded_value', unknown_value=-1)\n",
    "df_lgb_train[category_columns] = encoder_lgb.fit_transform(df_lgb_train[category_columns])\n",
    "df_lgb_test[category_columns] = encoder_lgb.transform(df_lgb_test[category_columns])\n",
    "\n",
    "trainX_lgb = df_lgb_train.drop(columns=target_column)\n",
    "trainY_lgb = df_lgb_train[target_column]\n",
    "testX_lgb = df_lgb_test.drop(columns=target_column)\n",
    "testY_lgb = df_lgb_test[target_column]\n",
    "\n",
    "# Выборки для CatBoost\n",
    "df_cat_train, df_cat_test = train_test_split(df_cat, test_size=0.25, random_state=RANDOM_STATE)\n",
    "\n",
    "trainX_cat = df_cat_train.drop(columns=target_column)\n",
    "trainY_cat = df_cat_train[target_column]\n",
    "testX_cat = df_cat_test.drop(columns=target_column)\n",
    "testY_cat = df_cat_test[target_column]\n",
    "\n",
    "# Выборки для DT\n",
    "df_dt_train, df_dt_test = train_test_split(df_dt, test_size=0.25, random_state=RANDOM_STATE)\n",
    "\n",
    "encoder_dt = OrdinalEncoder(handle_unknown='use_encoded_value', unknown_value=-1)\n",
    "df_dt_train[category_columns] = encoder_dt.fit_transform(df_dt_train[category_columns])\n",
    "df_dt_test[category_columns] = encoder_dt.transform(df_dt_test[category_columns])\n",
    "\n",
    "trainX_dt = df_dt_train.drop(columns=target_column)\n",
    "trainY_dt = df_dt_train[target_column]\n",
    "testX_dt = df_dt_test.drop(columns=target_column)\n",
    "testY_dt = df_dt_test[target_column]\n"
   ]
  },
  {
   "cell_type": "markdown",
   "metadata": {},
   "source": [
    "Теперь разделим данные на выборки"
   ]
  },
  {
   "cell_type": "markdown",
   "metadata": {
    "scrolled": true
   },
   "source": [
    "Проверим размерность выборок:"
   ]
  },
  {
   "cell_type": "code",
   "execution_count": 74,
   "metadata": {},
   "outputs": [
    {
     "name": "stdout",
     "output_type": "stream",
     "text": [
      "Размерности выборок для модели LightGBM:\n",
      "trainX: (265773, 10)\n",
      "testX: (88591, 10)\n",
      "trainY: (265773,)\n",
      "testY: (88591,)\n",
      "\n",
      "Размерности выборок для модели CatBoost:\n",
      "trainX_cat: (265773, 10)\n",
      "testX_cat: (88591, 10)\n",
      "trainY_cat: (265773,)\n",
      "testY_cat: (88591,)\n",
      "\n",
      "Размерности для модели DT:\n",
      "trainX_dt: (265773, 10)\n",
      "testX_dt: (88591, 10)\n",
      "trainY_dt: (265773,)\n",
      "testY_dt: (88591,)\n"
     ]
    }
   ],
   "source": [
    "# Выводим размерности выборок\n",
    "print(\"Размерности выборок для модели LightGBM:\")\n",
    "print(\"trainX:\", trainX_lgb.shape)\n",
    "print(\"testX:\", testX_lgb.shape)\n",
    "print(\"trainY:\", trainY_lgb.shape)\n",
    "print(\"testY:\", testY_lgb.shape)\n",
    "\n",
    "print(\"\\nРазмерности выборок для модели CatBoost:\")\n",
    "print(\"trainX_cat:\", trainX_cat.shape)\n",
    "print(\"testX_cat:\", testX_cat.shape)\n",
    "print(\"trainY_cat:\", trainY_cat.shape)\n",
    "print(\"testY_cat:\", testY_cat.shape)\n",
    "\n",
    "print(\"\\nРазмерности для модели DT:\")\n",
    "print(\"trainX_dt:\", trainX_dt.shape)\n",
    "print(\"testX_dt:\", testX_dt.shape)\n",
    "print(\"trainY_dt:\", trainY_dt.shape)\n",
    "print(\"testY_dt:\", testY_dt.shape)"
   ]
  },
  {
   "cell_type": "markdown",
   "metadata": {},
   "source": [
    "С выборками все отлично, можно приступать к обучению разных моделей."
   ]
  },
  {
   "cell_type": "markdown",
   "metadata": {},
   "source": [
    "### Обучение моделей"
   ]
  },
  {
   "cell_type": "markdown",
   "metadata": {},
   "source": [
    "По условиям исследование нам необходимо обучить 3  модели, в качестве оценки модели необходимо применять RMSE,а также одна из моделей должна быть LightGBM"
   ]
  },
  {
   "cell_type": "markdown",
   "metadata": {},
   "source": [
    "Первую модель рассмотрим LightGBM,попробуем поставить такие гиперпараметры:\n",
    "максимальная глубина-10,сила обновления весов модели - 0.1, обрабатывать данные будем построчно, количество листьев в каждом дереве до 5"
   ]
  },
  {
   "cell_type": "code",
   "execution_count": 75,
   "metadata": {},
   "outputs": [
    {
     "name": "stdout",
     "output_type": "stream",
     "text": [
      "[LightGBM] [Info] Total Bins 657\n",
      "[LightGBM] [Info] Number of data points in the train set: 212618, number of used features: 10\n",
      "[LightGBM] [Info] Start training from score 4407.130582\n",
      "Время обучения: 1.2513 сек\n",
      "Время предсказания: 0.164880 сек\n",
      "LightGBM RMSE (на валидации): 1891.6966880613336\n"
     ]
    }
   ],
   "source": [
    "X_train, X_valid, y_train, y_valid = train_test_split(trainX_lgb, trainY_lgb, test_size=0.2, random_state=RANDOM_STATE)\n",
    "lgb_train = lgb.Dataset(X_train, y_train)\n",
    "lgb_valid = lgb.Dataset(X_valid, y_valid, reference=lgb_train)\n",
    "parameters_light = {\n",
    "    'metric': 'l2',\n",
    "    'max_depth': 10,\n",
    "    'random_state': RANDOM_STATE,\n",
    "    'learning_rate': 0.1,\n",
    "    'force_row_wise': True,\n",
    "    'num_leaves': 5\n",
    "}\n",
    "\n",
    "# Измерение времени обучения\n",
    "start_train = time.time()\n",
    "light = lgb.train(\n",
    "    parameters_light,\n",
    "    lgb_train,\n",
    "    num_boost_round=1000,\n",
    "    valid_sets=[lgb_train, lgb_valid]\n",
    ")\n",
    "end_train = time.time()\n",
    "print(f\"Время обучения: {end_train - start_train:.4f} сек\")\n",
    "# Измерение времени предсказания\n",
    "start_pred = time.time()\n",
    "valid_preds = light.predict(X_valid, num_iteration=light.best_iteration)\n",
    "end_pred = time.time()\n",
    "print(f\"Время предсказания: {end_pred - start_pred:.6f} сек\")\n",
    "# Оценка качества модели\n",
    "rmse = np.sqrt(mean_squared_error(y_valid, valid_preds))\n",
    "print(\"LightGBM RMSE (на валидации):\", rmse)"
   ]
  },
  {
   "cell_type": "markdown",
   "metadata": {},
   "source": [
    "Вторую модель рассмотрим Catboost от Яндекса"
   ]
  },
  {
   "cell_type": "code",
   "execution_count": 76,
   "metadata": {
    "scrolled": true
   },
   "outputs": [
    {
     "name": "stdout",
     "output_type": "stream",
     "text": [
      "\n",
      "bestTest = 1905.952079\n",
      "bestIteration = 99\n",
      "\n",
      "0:\tloss: 1905.9520788\tbest: 1905.9520788 (0)\ttotal: 2.18s\tremaining: 41.4s\n",
      "\n",
      "bestTest = 1826.075188\n",
      "bestIteration = 98\n",
      "\n",
      "1:\tloss: 1826.0751883\tbest: 1826.0751883 (1)\ttotal: 4.94s\tremaining: 44.5s\n",
      "\n",
      "bestTest = 1829.391159\n",
      "bestIteration = 99\n",
      "\n",
      "2:\tloss: 1829.3911590\tbest: 1826.0751883 (1)\ttotal: 7.41s\tremaining: 42s\n",
      "\n",
      "bestTest = 1829.557938\n",
      "bestIteration = 98\n",
      "\n",
      "3:\tloss: 1829.5579376\tbest: 1826.0751883 (1)\ttotal: 10.1s\tremaining: 40.3s\n",
      "\n",
      "bestTest = 1860.516185\n",
      "bestIteration = 92\n",
      "\n",
      "4:\tloss: 1860.5161854\tbest: 1826.0751883 (1)\ttotal: 12.3s\tremaining: 37s\n",
      "\n",
      "bestTest = 1826.461247\n",
      "bestIteration = 199\n",
      "\n",
      "5:\tloss: 1826.4612466\tbest: 1826.0751883 (1)\ttotal: 21.8s\tremaining: 50.8s\n",
      "\n",
      "bestTest = 1786.263011\n",
      "bestIteration = 199\n",
      "\n",
      "6:\tloss: 1786.2630108\tbest: 1786.2630108 (6)\ttotal: 29.5s\tremaining: 54.8s\n",
      "\n",
      "bestTest = 1791.495371\n",
      "bestIteration = 199\n",
      "\n",
      "7:\tloss: 1791.4953712\tbest: 1786.2630108 (6)\ttotal: 37s\tremaining: 55.5s\n",
      "\n",
      "bestTest = 1818.411296\n",
      "bestIteration = 192\n",
      "\n",
      "8:\tloss: 1818.4112960\tbest: 1786.2630108 (6)\ttotal: 44.9s\tremaining: 54.8s\n",
      "\n",
      "bestTest = 1834.457516\n",
      "bestIteration = 143\n",
      "\n",
      "9:\tloss: 1834.4575162\tbest: 1786.2630108 (6)\ttotal: 52.9s\tremaining: 52.9s\n",
      "\n",
      "bestTest = 1864.698016\n",
      "bestIteration = 99\n",
      "\n",
      "10:\tloss: 1864.6980157\tbest: 1786.2630108 (6)\ttotal: 55.2s\tremaining: 45.1s\n",
      "\n",
      "bestTest = 1808.004926\n",
      "bestIteration = 98\n",
      "\n",
      "11:\tloss: 1808.0049259\tbest: 1786.2630108 (6)\ttotal: 57.3s\tremaining: 38.2s\n",
      "\n",
      "bestTest = 1810.021082\n",
      "bestIteration = 95\n",
      "\n",
      "12:\tloss: 1810.0210821\tbest: 1786.2630108 (6)\ttotal: 59.6s\tremaining: 32.1s\n",
      "\n",
      "bestTest = 1831.023736\n",
      "bestIteration = 99\n",
      "\n",
      "13:\tloss: 1831.0237361\tbest: 1786.2630108 (6)\ttotal: 1m 1s\tremaining: 26.5s\n",
      "\n",
      "bestTest = 1869.615544\n",
      "bestIteration = 85\n",
      "\n",
      "14:\tloss: 1869.6155436\tbest: 1786.2630108 (6)\ttotal: 1m 4s\tremaining: 21.3s\n",
      "\n",
      "bestTest = 1796.88747\n",
      "bestIteration = 199\n",
      "\n",
      "15:\tloss: 1796.8874703\tbest: 1786.2630108 (6)\ttotal: 1m 15s\tremaining: 18.8s\n",
      "\n",
      "bestTest = 1770.104433\n",
      "bestIteration = 197\n",
      "\n",
      "16:\tloss: 1770.1044333\tbest: 1770.1044333 (16)\ttotal: 1m 26s\tremaining: 15.2s\n",
      "\n",
      "bestTest = 1797.344707\n",
      "bestIteration = 146\n",
      "\n",
      "17:\tloss: 1797.3447066\tbest: 1770.1044333 (16)\ttotal: 1m 37s\tremaining: 10.9s\n",
      "\n",
      "bestTest = 1828.385131\n",
      "bestIteration = 122\n",
      "\n",
      "18:\tloss: 1828.3851307\tbest: 1770.1044333 (16)\ttotal: 1m 49s\tremaining: 5.75s\n",
      "\n",
      "bestTest = 1856.167075\n",
      "bestIteration = 79\n",
      "\n",
      "19:\tloss: 1856.1670749\tbest: 1770.1044333 (16)\ttotal: 2m\tremaining: 0us\n",
      "Estimating final quality...\n",
      "Training on fold [0/3]\n",
      "\n",
      "bestTest = 1758.976917\n",
      "bestIteration = 199\n",
      "\n",
      "Training on fold [1/3]\n",
      "\n",
      "bestTest = 1806.639616\n",
      "bestIteration = 199\n",
      "\n",
      "Training on fold [2/3]\n",
      "\n",
      "bestTest = 1781.598861\n",
      "bestIteration = 199\n",
      "\n",
      "Лучшие параметры:  {'depth': 10, 'learning_rate': 0.30000000000000004, 'iterations': 200}\n",
      "Время обучения: 12.7420 сек\n",
      "Время предсказания: 0.020992 сек\n",
      "CatBoost RMSE (на валидации): 1763.0596375044342\n"
     ]
    }
   ],
   "source": [
    "# Разделение на обучающую и валидационную выборки\n",
    "X_train, X_valid, y_train, y_valid = train_test_split(trainX_cat, trainY_cat, test_size=0.2, random_state=RANDOM_STATE)\n",
    "\n",
    "# Создание Pool - объектов с категориальными признаками\n",
    "cat_features = [\"VehicleType\", \"Gearbox\", \"Model\", \"FuelType\", \"Brand\", \"Repaired\"]\n",
    "train_pool = Pool(X_train, y_train, cat_features=cat_features)\n",
    "valid_pool = Pool(X_valid, y_valid, cat_features=cat_features)\n",
    "\n",
    "# Определение модели и параметров для поиска\n",
    "catboost = CatBoostRegressor(loss_function='RMSE', verbose=0)\n",
    "parameters_cat = {\n",
    "    'depth': [8, 10],\n",
    "    'learning_rate': np.arange(0.1, 1, 0.2),\n",
    "    'iterations': [100, 200] \n",
    "}\n",
    "# Поиск по сетке (с использованием кросс-валидации на обучающей части)\n",
    "catboost_grid = catboost.grid_search(parameters_cat, train_pool, cv=3, verbose=True, plot=False)\n",
    "print(\"Лучшие параметры: \", catboost_grid['params'])\n",
    "# Обучение модели с лучшими параметрами на тренировочной части\n",
    "start_train = time.time()\n",
    "best_model = CatBoostRegressor(**catboost_grid['params'], loss_function='RMSE', verbose=0)\n",
    "best_model.fit(train_pool)\n",
    "end_train = time.time()\n",
    "print(f\"Время обучения: {end_train - start_train:.4f} сек\")\n",
    "# Предсказание на валидации\n",
    "start_pred = time.time()\n",
    "valid_preds = best_model.predict(valid_pool)\n",
    "end_pred = time.time()\n",
    "print(f\"Время предсказания: {end_pred - start_pred:.6f} сек\")\n",
    "# RMSE на валидации\n",
    "rmse_cat = np.sqrt(mean_squared_error(y_valid, valid_preds))\n",
    "print(\"CatBoost RMSE (на валидации):\", rmse_cat)\n"
   ]
  },
  {
   "cell_type": "markdown",
   "metadata": {},
   "source": [
    "Третей моделью выберием DecisionTree, обучим ее "
   ]
  },
  {
   "cell_type": "code",
   "execution_count": 77,
   "metadata": {},
   "outputs": [
    {
     "name": "stdout",
     "output_type": "stream",
     "text": [
      "Время обучения: 0.9324 сек\n",
      "Время предсказания: 0.034098 сек\n",
      "Decision Tree RMSE (на валидации): 2350.041543444273\n"
     ]
    }
   ],
   "source": [
    "# Разделение на обучающую и валидационную выборки\n",
    "X_train, X_valid, y_train, y_valid = train_test_split(trainX_dt, trainY_dt, test_size=0.2, random_state=RANDOM_STATE)\n",
    "# Обучение модели\n",
    "start_train = time.time()\n",
    "DT = DecisionTreeRegressor(criterion='squared_error', random_state=42)\n",
    "DT.fit(X_train, y_train)\n",
    "end_train = time.time()\n",
    "print(f\"Время обучения: {end_train - start_train:.4f} сек\")\n",
    "# Предсказание на валидационных данных\n",
    "start_pred = time.time()\n",
    "valid_preds = DT.predict(X_valid)\n",
    "end_pred = time.time()\n",
    "print(f\"Время предсказания: {end_pred - start_pred:.6f} сек\")\n",
    "# Расчёт RMSE на валидации\n",
    "rmse_dt = np.sqrt(mean_squared_error(y_valid, valid_preds))\n",
    "print(\"Decision Tree RMSE (на валидации):\", rmse_dt)\n"
   ]
  },
  {
   "cell_type": "markdown",
   "metadata": {},
   "source": [
    "## Анализ моделей"
   ]
  },
  {
   "cell_type": "markdown",
   "metadata": {},
   "source": [
    "После обучения моделей получили:\n",
    "* Модель LightGBM\n",
    "    * Время обучения 1.25 секунды\n",
    "    * Метрика RMSE 1891\n",
    "    * Время предсказаний с вычислением RMSE 0.16 ms\n",
    "* Модель CatBoost\n",
    "    * Время обучения 12.74 секунды\n",
    "    * Метрика RMSE 1763\n",
    "    * Время предсказаний c вычислением RMSE 0.02 ms\n",
    "* Модель DecisionTreeRegressor\n",
    "    * Время обучения 0.93 секунды\n",
    "    * Метрика RMSE 2350\n",
    "    * Время предсказаний с вычислением RMSE 0.03 ms\n",
    " \n",
    "Можно сделать вывод, что наименьшую ошибку выдает CatBoost, на тренировку данной модели ушло ~12.74s, в то же время на обучение DT ушло всего - 0.93 s, а на обучение LightGBM ушло 1.25 с. Ошибки моделей CatBoost и LightGBM довольно близки, разница между крайними значениями составляет всего 128. Учитывая условия, в котором сказано, что заказчику важны:\n",
    "* качество предсказания;\n",
    "* скорость предсказания;\n",
    "* время обучения.\n",
    "\n",
    "Стоит сразу отбросить модель DecisionTreeRegressor, так как качество метрики хуже приблизительно на 20%. Остается выбрать модель между LightGBM и Catboost и если сравнивать в процентных соотношениях, какая из моделей лучше по показателям, выиграет модель LightGBM, так как время обучения у нее лучше на 120%. Следовательно лучше всего предложить заказчику модель LightGBM.\n",
    "  "
   ]
  },
  {
   "cell_type": "markdown",
   "metadata": {},
   "source": [
    "Теперь проверим метрику на тестовых данных для модели LightGBM"
   ]
  },
  {
   "cell_type": "code",
   "execution_count": 78,
   "metadata": {
    "scrolled": true
   },
   "outputs": [
    {
     "name": "stdout",
     "output_type": "stream",
     "text": [
      "LightGBM RMSE (на тесте): 1866.2224585663705\n"
     ]
    }
   ],
   "source": [
    "test_preds = light.predict(testX_lgb, num_iteration=light.best_iteration)\n",
    "final_rmse = np.sqrt(mean_squared_error(testY_lgb, test_preds))\n",
    "print(\"LightGBM RMSE (на тесте):\", final_rmse)"
   ]
  },
  {
   "cell_type": "markdown",
   "metadata": {},
   "source": [
    "Отлично, значение метрики удовлетворяет условиям, модель выбрана!"
   ]
  },
  {
   "cell_type": "markdown",
   "metadata": {},
   "source": [
    "## Вывод\n",
    "* Подготовили данные\n",
    "    * Загрузили данные:\n",
    "        * Датафрейм состоит из 354369 строк и 16 столбцов\n",
    "        * Пропуски присутствуют в столбцах: Repaired,VenicleType,FuelType,GearBox,Model\n",
    "        * Присутствуют явные дубликаты: 4\n",
    "        * Типы данных соответствуют\n",
    "    * Предобработали данные:\n",
    "        * Учитывая,что доли пропущенных значений довольно велики, отсеяли вариант удаления всех строк с пропущенными значениями, наши данные сильно пострадают при таком действии. Так как признаки в которых есть пропуски, являются категорийными, лучшим вариантов разобраться с пропусками считаю - заполнить пропущенные значения, значениями наиболее часто встречающимися(то есть модой). Так мы сможем сохранить данные, хоть и качество этих данных может немного пострадать.\n",
    "        * Обработали дубликаты\n",
    "        * Провели исследовательский анализ данных:\n",
    "        * Среди столбца VehicleType лидерами являются седаны, маленькие авто, фургоны, наименьшие значения имеют внедорожники и категория \"другие\" авто\n",
    "        * Среди столбца Gearbox лидерами являются машины с ручной коробкой переключения передач\n",
    "        * Среди столбца FuelType выделяются автомобили на бензине и газе, электроавтомобили и гибридные составляют наименьшую долю\n",
    "        * Среди столбца Brand, больше всего автомобилей от таких марок как: volkswagen,mercedes_benz,bmw, меньше всего автомобилей lada\n",
    "        * Среди столбца Repaireed, большинство машин не были в ремонте\n",
    "        * В столбце RegustrationYear ограничили данные, которые выходят за пределы, порогом обозначим 1920 год, а пределом 2020 годом\n",
    "        * В столбце RegistrationMonth заменили 0 месяц на 1 месяц\n",
    "        * В столбце Power ограничили значения 3500, так как на данный момент самое большое колличетсво лошадинных сил имеети автомобиль Saleen s7-3000 л.с.\n",
    "        * В столбцах Price и Power разобрались с выбросами на основе межквартального размаха\n",
    "    * Провели корреляционный анализ данных:\n",
    "        *  Наибольшую корреляцию имеют признаки RegistrationYear и Power, 0.37 и 0.33 соответственно, остальные признаки имеют иное либо отрицательное значение. Коэффиценты в порядке, мультиколлинеарности нет, данные не следует менять.\n",
    "* Обучили модели\n",
    "* Выполнили анализ моделей\n",
    "    * Модель LightGBM\n",
    "        * Время обучения 1.25 секунды\n",
    "        * Метрика RMSE 1891\n",
    "        * Время предсказаний с вычислением RMSE 0.16 ms\n",
    "    * Модель CatBoost\n",
    "        * Время обучения 12.74 секунды\n",
    "        * Метрика RMSE 1763\n",
    "        * Время предсказаний c вычислением RMSE 0.02 ms\n",
    "    * Модель DecisionTreeRegressor\n",
    "        * Время обучения 0.93 секунды\n",
    "        * Метрика RMSE 2350\n",
    "        * Время предсказаний с вычислением RMSE 0.03 ms\n",
    "    * Лучше всего предложить заказчику модель LightGBM, значение метрики RMSE на тестовых данных: 1866.2224585663705"
   ]
  }
 ],
 "metadata": {
  "ExecuteTimeLog": [
   {
    "duration": 1779,
    "start_time": "2025-04-09T14:10:20.654Z"
   },
   {
    "duration": 0,
    "start_time": "2025-04-09T14:10:22.435Z"
   },
   {
    "duration": 0,
    "start_time": "2025-04-09T14:10:22.447Z"
   },
   {
    "duration": 0,
    "start_time": "2025-04-09T14:10:22.447Z"
   },
   {
    "duration": 0,
    "start_time": "2025-04-09T14:10:22.448Z"
   },
   {
    "duration": 0,
    "start_time": "2025-04-09T14:10:22.449Z"
   },
   {
    "duration": 0,
    "start_time": "2025-04-09T14:10:22.449Z"
   },
   {
    "duration": 0,
    "start_time": "2025-04-09T14:10:22.450Z"
   },
   {
    "duration": 0,
    "start_time": "2025-04-09T14:10:22.451Z"
   },
   {
    "duration": 0,
    "start_time": "2025-04-09T14:10:22.452Z"
   },
   {
    "duration": 0,
    "start_time": "2025-04-09T14:10:22.453Z"
   },
   {
    "duration": 0,
    "start_time": "2025-04-09T14:10:22.453Z"
   },
   {
    "duration": 0,
    "start_time": "2025-04-09T14:10:22.454Z"
   },
   {
    "duration": 0,
    "start_time": "2025-04-09T14:10:22.456Z"
   },
   {
    "duration": 0,
    "start_time": "2025-04-09T14:10:22.457Z"
   },
   {
    "duration": 0,
    "start_time": "2025-04-09T14:10:22.459Z"
   },
   {
    "duration": 0,
    "start_time": "2025-04-09T14:10:22.460Z"
   },
   {
    "duration": 1027,
    "start_time": "2025-04-09T14:10:37.630Z"
   },
   {
    "duration": 19,
    "start_time": "2025-04-09T14:10:55.118Z"
   },
   {
    "duration": 164,
    "start_time": "2025-04-09T14:10:55.777Z"
   },
   {
    "duration": 157,
    "start_time": "2025-04-09T14:10:55.950Z"
   },
   {
    "duration": 861,
    "start_time": "2025-04-09T14:10:56.109Z"
   },
   {
    "duration": 342,
    "start_time": "2025-04-09T14:10:56.972Z"
   },
   {
    "duration": 565,
    "start_time": "2025-04-09T14:10:57.316Z"
   },
   {
    "duration": 1039,
    "start_time": "2025-04-09T14:10:57.883Z"
   },
   {
    "duration": 4,
    "start_time": "2025-04-09T14:10:58.924Z"
   },
   {
    "duration": 2793,
    "start_time": "2025-04-09T14:10:58.979Z"
   },
   {
    "duration": 41,
    "start_time": "2025-04-09T14:11:01.775Z"
   },
   {
    "duration": 43,
    "start_time": "2025-04-09T14:11:01.818Z"
   },
   {
    "duration": 8933,
    "start_time": "2025-04-09T14:11:01.863Z"
   },
   {
    "duration": 85,
    "start_time": "2025-04-09T14:11:10.798Z"
   },
   {
    "duration": 14,
    "start_time": "2025-04-09T14:11:10.885Z"
   },
   {
    "duration": 59,
    "start_time": "2025-04-09T14:11:10.902Z"
   },
   {
    "duration": 18,
    "start_time": "2025-04-09T14:11:15.090Z"
   },
   {
    "duration": 3,
    "start_time": "2025-04-09T14:11:17.008Z"
   },
   {
    "duration": 3,
    "start_time": "2025-04-09T14:11:19.082Z"
   },
   {
    "duration": 87,
    "start_time": "2025-04-09T14:11:21.865Z"
   },
   {
    "duration": 1547,
    "start_time": "2025-04-10T21:27:02.252Z"
   },
   {
    "duration": 0,
    "start_time": "2025-04-10T21:27:03.801Z"
   },
   {
    "duration": 0,
    "start_time": "2025-04-10T21:27:03.802Z"
   },
   {
    "duration": 0,
    "start_time": "2025-04-10T21:27:03.804Z"
   },
   {
    "duration": 0,
    "start_time": "2025-04-10T21:27:03.805Z"
   },
   {
    "duration": 0,
    "start_time": "2025-04-10T21:27:03.806Z"
   },
   {
    "duration": 0,
    "start_time": "2025-04-10T21:27:03.807Z"
   },
   {
    "duration": 0,
    "start_time": "2025-04-10T21:27:03.808Z"
   },
   {
    "duration": 0,
    "start_time": "2025-04-10T21:27:03.810Z"
   },
   {
    "duration": 0,
    "start_time": "2025-04-10T21:27:03.811Z"
   },
   {
    "duration": 0,
    "start_time": "2025-04-10T21:27:03.812Z"
   },
   {
    "duration": 0,
    "start_time": "2025-04-10T21:27:03.813Z"
   },
   {
    "duration": 0,
    "start_time": "2025-04-10T21:27:03.814Z"
   },
   {
    "duration": 0,
    "start_time": "2025-04-10T21:27:03.815Z"
   },
   {
    "duration": 0,
    "start_time": "2025-04-10T21:27:03.817Z"
   },
   {
    "duration": 0,
    "start_time": "2025-04-10T21:27:03.818Z"
   },
   {
    "duration": 0,
    "start_time": "2025-04-10T21:27:03.819Z"
   },
   {
    "duration": 12,
    "start_time": "2025-04-10T21:27:18.203Z"
   },
   {
    "duration": 34,
    "start_time": "2025-04-10T21:29:20.079Z"
   },
   {
    "duration": 0,
    "start_time": "2025-04-10T21:29:20.115Z"
   },
   {
    "duration": 0,
    "start_time": "2025-04-10T21:29:20.116Z"
   },
   {
    "duration": 990,
    "start_time": "2025-04-10T21:29:25.871Z"
   },
   {
    "duration": 20,
    "start_time": "2025-04-10T21:29:27.343Z"
   },
   {
    "duration": 159,
    "start_time": "2025-04-10T21:30:27.189Z"
   },
   {
    "duration": 106,
    "start_time": "2025-04-10T21:30:27.461Z"
   },
   {
    "duration": 834,
    "start_time": "2025-04-10T21:30:27.906Z"
   },
   {
    "duration": 297,
    "start_time": "2025-04-10T21:30:29.236Z"
   },
   {
    "duration": 451,
    "start_time": "2025-04-10T21:30:30.394Z"
   },
   {
    "duration": 965,
    "start_time": "2025-04-10T21:30:30.848Z"
   },
   {
    "duration": 6,
    "start_time": "2025-04-10T21:30:32.094Z"
   },
   {
    "duration": 2634,
    "start_time": "2025-04-10T21:30:32.323Z"
   },
   {
    "duration": 38,
    "start_time": "2025-04-10T21:30:34.959Z"
   },
   {
    "duration": 4,
    "start_time": "2025-04-10T21:30:34.999Z"
   },
   {
    "duration": 8153,
    "start_time": "2025-04-10T21:30:35.005Z"
   },
   {
    "duration": 79,
    "start_time": "2025-04-10T21:30:43.160Z"
   },
   {
    "duration": 17,
    "start_time": "2025-04-10T21:30:43.241Z"
   },
   {
    "duration": 130,
    "start_time": "2025-04-10T21:30:43.260Z"
   },
   {
    "duration": 66,
    "start_time": "2025-04-10T21:32:55.091Z"
   }
  ],
  "kernelspec": {
   "display_name": "Python 3 (ipykernel)",
   "language": "python",
   "name": "python3"
  },
  "language_info": {
   "codemirror_mode": {
    "name": "ipython",
    "version": 3
   },
   "file_extension": ".py",
   "mimetype": "text/x-python",
   "name": "python",
   "nbconvert_exporter": "python",
   "pygments_lexer": "ipython3",
   "version": "3.9.5"
  },
  "toc": {
   "base_numbering": 1,
   "nav_menu": {},
   "number_sections": true,
   "sideBar": true,
   "skip_h1_title": true,
   "title_cell": "Table of Contents",
   "title_sidebar": "Contents",
   "toc_cell": false,
   "toc_position": {
    "height": "calc(100% - 180px)",
    "left": "10px",
    "top": "150px",
    "width": "323.1875px"
   },
   "toc_section_display": true,
   "toc_window_display": true
  }
 },
 "nbformat": 4,
 "nbformat_minor": 4
}
