{
 "cells": [
  {
   "cell_type": "markdown",
   "metadata": {
    "toc": true
   },
   "source": [
    "<h1>Содержание<span class=\"tocSkip\"></span></h1>\n",
    "<div class=\"toc\"><ul class=\"toc-item\"><li><span><a href=\"#Подготовка\" data-toc-modified-id=\"Подготовка-1\"><span class=\"toc-item-num\">1&nbsp;&nbsp;</span>Подготовка</a></span><ul class=\"toc-item\"><li><span><a href=\"#Вывод-по-подготовке-данных:\" data-toc-modified-id=\"Вывод-по-подготовке-данных:-1.1\"><span class=\"toc-item-num\">1.1&nbsp;&nbsp;</span><strong>Вывод по подготовке данных:</strong></a></span></li></ul></li><li><span><a href=\"#Анализ\" data-toc-modified-id=\"Анализ-2\"><span class=\"toc-item-num\">2&nbsp;&nbsp;</span>Анализ</a></span><ul class=\"toc-item\"><li><span><a href=\"#Вывод-по-анализу-данных:\" data-toc-modified-id=\"Вывод-по-анализу-данных:-2.1\"><span class=\"toc-item-num\">2.1&nbsp;&nbsp;</span><strong>Вывод по анализу данных:</strong></a></span></li></ul></li><li><span><a href=\"#Обучение\" data-toc-modified-id=\"Обучение-3\"><span class=\"toc-item-num\">3&nbsp;&nbsp;</span>Обучение</a></span><ul class=\"toc-item\"><li><span><a href=\"#Вывод-по-обучению-моделей:\" data-toc-modified-id=\"Вывод-по-обучению-моделей:-3.1\"><span class=\"toc-item-num\">3.1&nbsp;&nbsp;</span><strong>Вывод по обучению моделей:</strong></a></span></li></ul></li><li><span><a href=\"#Тестирование\" data-toc-modified-id=\"Тестирование-4\"><span class=\"toc-item-num\">4&nbsp;&nbsp;</span>Тестирование</a></span></li><li><span><a href=\"#Вывод\" data-toc-modified-id=\"Вывод-5\"><span class=\"toc-item-num\">5&nbsp;&nbsp;</span>Вывод</a></span></li></ul></div>"
   ]
  },
  {
   "cell_type": "markdown",
   "metadata": {},
   "source": [
    "#  Прогнозирование заказов такси"
   ]
  },
  {
   "cell_type": "markdown",
   "metadata": {},
   "source": [
    "Компания «Чётенькое такси» собрала исторические данные о заказах такси в аэропортах. Чтобы привлекать больше водителей в период пиковой нагрузки, нужно спрогнозировать количество заказов такси на следующий час. Постройте модель для такого предсказания.\n",
    "\n",
    "Значение метрики *RMSE* на тестовой выборке должно быть не больше 48.\n",
    "\n",
    "Вам нужно:\n",
    "\n",
    "1. Загрузить данные и выполнить их ресемплирование по одному часу.\n",
    "2. Проанализировать данные.\n",
    "3. Обучить разные модели с различными гиперпараметрами. Сделать тестовую выборку размером 10% от исходных данных.\n",
    "4. Проверить данные на тестовой выборке и сделать выводы.\n",
    "\n",
    "\n",
    "Данные лежат в файле `taxi.csv`. Количество заказов находится в столбце `num_orders` (от англ. *number of orders*, «число заказов»)."
   ]
  },
  {
   "cell_type": "markdown",
   "metadata": {},
   "source": [
    "**Загрузим библиотеки**"
   ]
  },
  {
   "cell_type": "code",
   "execution_count": 1,
   "metadata": {},
   "outputs": [],
   "source": [
    "import pandas as pd\n",
    "import warnings\n",
    "from statsmodels.tsa.seasonal import seasonal_decompose\n",
    "import matplotlib.pyplot as plt\n",
    "from sklearn.metrics import mean_squared_error\n",
    "from sklearn.model_selection import train_test_split,GridSearchCV,TimeSeriesSplit\n",
    "import time\n",
    "from sklearn.model_selection import GridSearchCV\n",
    "import numpy as np\n",
    "from sklearn.tree import DecisionTreeRegressor\n",
    "import lightgbm as lgb\n",
    "from catboost import CatBoostRegressor, Pool\n",
    "from sklearn.ensemble import RandomForestRegressor\n",
    "RANDOM_STATE = 42\n",
    "warnings.filterwarnings('ignore')"
   ]
  },
  {
   "cell_type": "markdown",
   "metadata": {},
   "source": [
    "## Подготовка"
   ]
  },
  {
   "cell_type": "markdown",
   "metadata": {},
   "source": [
    "Загрузим данные"
   ]
  },
  {
   "cell_type": "code",
   "execution_count": 2,
   "metadata": {},
   "outputs": [],
   "source": [
    "try:\n",
    "    df = pd.read_csv('taxi.csv',index_col=[0], parse_dates=[0])\n",
    "except:\n",
    "    df = pd.read_csv('/datasets/taxi.csv',index_col=[0], parse_dates=[0])"
   ]
  },
  {
   "cell_type": "markdown",
   "metadata": {},
   "source": [
    "Просмотрим общую информацию о данных:"
   ]
  },
  {
   "cell_type": "code",
   "execution_count": 3,
   "metadata": {},
   "outputs": [
    {
     "data": {
      "text/html": [
       "<div>\n",
       "<style scoped>\n",
       "    .dataframe tbody tr th:only-of-type {\n",
       "        vertical-align: middle;\n",
       "    }\n",
       "\n",
       "    .dataframe tbody tr th {\n",
       "        vertical-align: top;\n",
       "    }\n",
       "\n",
       "    .dataframe thead th {\n",
       "        text-align: right;\n",
       "    }\n",
       "</style>\n",
       "<table border=\"1\" class=\"dataframe\">\n",
       "  <thead>\n",
       "    <tr style=\"text-align: right;\">\n",
       "      <th></th>\n",
       "      <th>num_orders</th>\n",
       "    </tr>\n",
       "    <tr>\n",
       "      <th>datetime</th>\n",
       "      <th></th>\n",
       "    </tr>\n",
       "  </thead>\n",
       "  <tbody>\n",
       "    <tr>\n",
       "      <th>2018-03-01 00:00:00</th>\n",
       "      <td>9</td>\n",
       "    </tr>\n",
       "    <tr>\n",
       "      <th>2018-03-01 00:10:00</th>\n",
       "      <td>14</td>\n",
       "    </tr>\n",
       "    <tr>\n",
       "      <th>2018-03-01 00:20:00</th>\n",
       "      <td>28</td>\n",
       "    </tr>\n",
       "    <tr>\n",
       "      <th>2018-03-01 00:30:00</th>\n",
       "      <td>20</td>\n",
       "    </tr>\n",
       "    <tr>\n",
       "      <th>2018-03-01 00:40:00</th>\n",
       "      <td>32</td>\n",
       "    </tr>\n",
       "  </tbody>\n",
       "</table>\n",
       "</div>"
      ],
      "text/plain": [
       "                     num_orders\n",
       "datetime                       \n",
       "2018-03-01 00:00:00           9\n",
       "2018-03-01 00:10:00          14\n",
       "2018-03-01 00:20:00          28\n",
       "2018-03-01 00:30:00          20\n",
       "2018-03-01 00:40:00          32"
      ]
     },
     "metadata": {},
     "output_type": "display_data"
    },
    {
     "name": "stdout",
     "output_type": "stream",
     "text": [
      "<class 'pandas.core.frame.DataFrame'>\n",
      "DatetimeIndex: 26496 entries, 2018-03-01 00:00:00 to 2018-08-31 23:50:00\n",
      "Data columns (total 1 columns):\n",
      " #   Column      Non-Null Count  Dtype\n",
      "---  ------      --------------  -----\n",
      " 0   num_orders  26496 non-null  int64\n",
      "dtypes: int64(1)\n",
      "memory usage: 414.0 KB\n"
     ]
    },
    {
     "data": {
      "text/plain": [
       "None"
      ]
     },
     "metadata": {},
     "output_type": "display_data"
    },
    {
     "data": {
      "text/html": [
       "<div>\n",
       "<style scoped>\n",
       "    .dataframe tbody tr th:only-of-type {\n",
       "        vertical-align: middle;\n",
       "    }\n",
       "\n",
       "    .dataframe tbody tr th {\n",
       "        vertical-align: top;\n",
       "    }\n",
       "\n",
       "    .dataframe thead th {\n",
       "        text-align: right;\n",
       "    }\n",
       "</style>\n",
       "<table border=\"1\" class=\"dataframe\">\n",
       "  <thead>\n",
       "    <tr style=\"text-align: right;\">\n",
       "      <th></th>\n",
       "      <th>count</th>\n",
       "      <th>mean</th>\n",
       "      <th>std</th>\n",
       "      <th>min</th>\n",
       "      <th>25%</th>\n",
       "      <th>50%</th>\n",
       "      <th>75%</th>\n",
       "      <th>max</th>\n",
       "    </tr>\n",
       "  </thead>\n",
       "  <tbody>\n",
       "    <tr>\n",
       "      <th>num_orders</th>\n",
       "      <td>26496.0</td>\n",
       "      <td>14.070463</td>\n",
       "      <td>9.21133</td>\n",
       "      <td>0.0</td>\n",
       "      <td>8.0</td>\n",
       "      <td>13.0</td>\n",
       "      <td>19.0</td>\n",
       "      <td>119.0</td>\n",
       "    </tr>\n",
       "  </tbody>\n",
       "</table>\n",
       "</div>"
      ],
      "text/plain": [
       "              count       mean      std  min  25%   50%   75%    max\n",
       "num_orders  26496.0  14.070463  9.21133  0.0  8.0  13.0  19.0  119.0"
      ]
     },
     "metadata": {},
     "output_type": "display_data"
    },
    {
     "data": {
      "text/plain": [
       "num_orders    0\n",
       "dtype: int64"
      ]
     },
     "metadata": {},
     "output_type": "display_data"
    }
   ],
   "source": [
    "display(df.head())\n",
    "display(df.info())\n",
    "display(df.describe().T)\n",
    "display((df.isna()).sum().sort_values(ascending=False))"
   ]
  },
  {
   "cell_type": "markdown",
   "metadata": {},
   "source": [
    "Отсортируем индексы и проверим на монотонность"
   ]
  },
  {
   "cell_type": "code",
   "execution_count": 4,
   "metadata": {},
   "outputs": [
    {
     "data": {
      "text/plain": [
       "True"
      ]
     },
     "execution_count": 4,
     "metadata": {},
     "output_type": "execute_result"
    }
   ],
   "source": [
    "df.sort_index(inplace=True)\n",
    "df.index.is_monotonic_increasing"
   ]
  },
  {
   "cell_type": "markdown",
   "metadata": {},
   "source": [
    "По условию ресемплируем данные по одному часу"
   ]
  },
  {
   "cell_type": "code",
   "execution_count": 5,
   "metadata": {
    "scrolled": true
   },
   "outputs": [],
   "source": [
    "df = df.resample('1h').sum()"
   ]
  },
  {
   "cell_type": "markdown",
   "metadata": {},
   "source": [
    "Подготовим сразу разложение временного ряда на тренд, сезонность и остаток"
   ]
  },
  {
   "cell_type": "code",
   "execution_count": 6,
   "metadata": {},
   "outputs": [],
   "source": [
    "decomposing = seasonal_decompose(df)\n",
    "decomposing_day = seasonal_decompose(df.resample('1D').sum())"
   ]
  },
  {
   "cell_type": "markdown",
   "metadata": {},
   "source": [
    "### **Вывод по подготовке данных:**\n",
    "- Загрузили данные,\n",
    "- Просмотрели общую информацию\n",
    "    - Таблица состоит из 26496 строк и 1 столбца\n",
    "    - Пропуски отсутствуют\n",
    "    - Индексы отсортированы и проверенны на монотонность\n",
    "    - На первый взгляд с данными в столбце num_orders все в порядке, отрицательные значения отсутствуют\n",
    "- Ресемплировали данные по часу\n",
    "- Подготовили разложение временного ряда на тренд, сезонность и остаток\n",
    "- Данные готовы к анализу"
   ]
  },
  {
   "cell_type": "markdown",
   "metadata": {},
   "source": [
    "## Анализ"
   ]
  },
  {
   "cell_type": "markdown",
   "metadata": {},
   "source": [
    "**Просмотрим график на стационарность**"
   ]
  },
  {
   "cell_type": "markdown",
   "metadata": {
    "scrolled": true
   },
   "source": [
    "Для более информативных графиков добавим новые столбцы в таблицу: скользящее среднее и скользящее отклонение"
   ]
  },
  {
   "cell_type": "code",
   "execution_count": 7,
   "metadata": {},
   "outputs": [],
   "source": [
    "df['rolling_mean'] = df['num_orders'].shift().rolling(10).mean()\n",
    "df['rolling_std'] = df['num_orders'].rolling(10).std()"
   ]
  },
  {
   "cell_type": "code",
   "execution_count": 8,
   "metadata": {},
   "outputs": [
    {
     "data": {
      "text/plain": [
       "<AxesSubplot:xlabel='datetime'>"
      ]
     },
     "execution_count": 8,
     "metadata": {},
     "output_type": "execute_result"
    },
    {
     "data": {
      "image/png": "[encoded data removed]",
      "text/plain": [
       "<Figure size 432x288 with 1 Axes>"
      ]
     },
     "metadata": {
      "needs_background": "light"
     },
     "output_type": "display_data"
    }
   ],
   "source": [
    "df.plot()"
   ]
  },
  {
   "cell_type": "markdown",
   "metadata": {},
   "source": [
    "Теперь просмотрим разность рядов"
   ]
  },
  {
   "cell_type": "code",
   "execution_count": 9,
   "metadata": {},
   "outputs": [
    {
     "data": {
      "text/plain": [
       "<AxesSubplot:xlabel='datetime'>"
      ]
     },
     "execution_count": 9,
     "metadata": {},
     "output_type": "execute_result"
    },
    {
     "data": {
      "image/png": "[encoded data removed]",
      "text/plain": [
       "<Figure size 432x288 with 1 Axes>"
      ]
     },
     "metadata": {
      "needs_background": "light"
     },
     "output_type": "display_data"
    }
   ],
   "source": [
    "df_1 = df - df.shift()\n",
    "df_1['rolling_mean'] = df_1['num_orders'].shift().rolling(10).mean()\n",
    "df_1['rolling_std'] = df_1['num_orders'].rolling(10).std()\n",
    "df_1.plot()"
   ]
  },
  {
   "cell_type": "markdown",
   "metadata": {},
   "source": [
    "Графически можем определить что наш график стационарный"
   ]
  },
  {
   "cell_type": "markdown",
   "metadata": {},
   "source": [
    "Подготовим функцию для последующих графиков:"
   ]
  },
  {
   "cell_type": "code",
   "execution_count": 10,
   "metadata": {},
   "outputs": [],
   "source": [
    "def plot_graph(data, title):\n",
    "    plt.figure(figsize=(10, 6))\n",
    "    plt.plot(data.index, data, color='blue', label='Данные')\n",
    "    plt.title(title)\n",
    "    plt.xlabel('Данные')\n",
    "    plt.ylabel('Значения')\n",
    "    plt.grid(True)\n",
    "    plt.legend()\n",
    "    plt.tight_layout()\n",
    "    plt.show()"
   ]
  },
  {
   "cell_type": "markdown",
   "metadata": {},
   "source": [
    "Просмотрим графики тренда, сезонности, остатков декомпозиции"
   ]
  },
  {
   "cell_type": "code",
   "execution_count": 11,
   "metadata": {},
   "outputs": [
    {
     "data": {
      "image/png": "[encoded data removed]",
      "text/plain": [
       "<Figure size 720x432 with 1 Axes>"
      ]
     },
     "metadata": {
      "needs_background": "light"
     },
     "output_type": "display_data"
    },
    {
     "data": {
      "text/plain": [
       "None"
      ]
     },
     "metadata": {},
     "output_type": "display_data"
    },
    {
     "data": {
      "image/png": "[encoded data removed]",
      "text/plain": [
       "<Figure size 720x432 with 1 Axes>"
      ]
     },
     "metadata": {
      "needs_background": "light"
     },
     "output_type": "display_data"
    },
    {
     "data": {
      "text/plain": [
       "None"
      ]
     },
     "metadata": {},
     "output_type": "display_data"
    },
    {
     "data": {
      "image/png": "[encoded data removed]",
      "text/plain": [
       "<Figure size 720x432 with 1 Axes>"
      ]
     },
     "metadata": {
      "needs_background": "light"
     },
     "output_type": "display_data"
    },
    {
     "data": {
      "text/plain": [
       "None"
      ]
     },
     "metadata": {},
     "output_type": "display_data"
    }
   ],
   "source": [
    "display(plot_graph(decomposing.trend,'Trend'))\n",
    "display(plot_graph(decomposing.seasonal,'Season'))\n",
    "display(plot_graph(decomposing.resid,'Resid'))"
   ]
  },
  {
   "cell_type": "markdown",
   "metadata": {},
   "source": [
    "Рассмотрим сезонность на конкретном промежутке"
   ]
  },
  {
   "cell_type": "code",
   "execution_count": 12,
   "metadata": {},
   "outputs": [
    {
     "data": {
      "image/png": "[encoded data removed]",
      "text/plain": [
       "<Figure size 720x432 with 1 Axes>"
      ]
     },
     "metadata": {
      "needs_background": "light"
     },
     "output_type": "display_data"
    },
    {
     "data": {
      "text/plain": [
       "None"
      ]
     },
     "metadata": {},
     "output_type": "display_data"
    },
    {
     "data": {
      "image/png": "[encoded data removed]",
      "text/plain": [
       "<Figure size 720x432 with 1 Axes>"
      ]
     },
     "metadata": {
      "needs_background": "light"
     },
     "output_type": "display_data"
    },
    {
     "data": {
      "text/plain": [
       "None"
      ]
     },
     "metadata": {},
     "output_type": "display_data"
    }
   ],
   "source": [
    "display(plot_graph(decomposing.seasonal['2018-03-01':'2018-03-2'], 'Daily seasonality'))\n",
    "display(plot_graph(decomposing_day.seasonal['2018-03-01':'2018-03-2'], 'Weekly seasonality'))"
   ]
  },
  {
   "cell_type": "markdown",
   "metadata": {},
   "source": [
    "### **Вывод по анализу данных:**\n",
    "Выявлена сезонность по дням: заказы достигают минимума в ночное время, затем увеличиваются с утра и в течение дня, достигая максимума к вечеру. Это может указывать на влияние времени суток и потребительского поведения на объем заказов.\n",
    "Наблюдается общий тренд устойчивого роста количества заказов, с периодическими небольшими снижениями. Это может свидетельствовать о постепенном увеличении спроса или о развитии бизнеса в данной сфере.\n"
   ]
  },
  {
   "cell_type": "markdown",
   "metadata": {},
   "source": [
    "**Подготовка данных**"
   ]
  },
  {
   "cell_type": "markdown",
   "metadata": {},
   "source": [
    "Подготовим функцию, которая позволит нам добавить признаки в таблицу"
   ]
  },
  {
   "cell_type": "code",
   "execution_count": 13,
   "metadata": {},
   "outputs": [
    {
     "data": {
      "text/html": [
       "<div>\n",
       "<style scoped>\n",
       "    .dataframe tbody tr th:only-of-type {\n",
       "        vertical-align: middle;\n",
       "    }\n",
       "\n",
       "    .dataframe tbody tr th {\n",
       "        vertical-align: top;\n",
       "    }\n",
       "\n",
       "    .dataframe thead th {\n",
       "        text-align: right;\n",
       "    }\n",
       "</style>\n",
       "<table border=\"1\" class=\"dataframe\">\n",
       "  <thead>\n",
       "    <tr style=\"text-align: right;\">\n",
       "      <th></th>\n",
       "      <th>num_orders</th>\n",
       "      <th>rolling_mean</th>\n",
       "      <th>rolling_std</th>\n",
       "      <th>month</th>\n",
       "      <th>day</th>\n",
       "      <th>dayofweek</th>\n",
       "      <th>hour</th>\n",
       "      <th>lag_1</th>\n",
       "      <th>lag_2</th>\n",
       "      <th>lag_3</th>\n",
       "      <th>lag_4</th>\n",
       "      <th>lag_5</th>\n",
       "    </tr>\n",
       "    <tr>\n",
       "      <th>datetime</th>\n",
       "      <th></th>\n",
       "      <th></th>\n",
       "      <th></th>\n",
       "      <th></th>\n",
       "      <th></th>\n",
       "      <th></th>\n",
       "      <th></th>\n",
       "      <th></th>\n",
       "      <th></th>\n",
       "      <th></th>\n",
       "      <th></th>\n",
       "      <th></th>\n",
       "    </tr>\n",
       "  </thead>\n",
       "  <tbody>\n",
       "    <tr>\n",
       "      <th>2018-03-01 09:00:00</th>\n",
       "      <td>69</td>\n",
       "      <td>34.0</td>\n",
       "      <td>37.426224</td>\n",
       "      <td>3</td>\n",
       "      <td>1</td>\n",
       "      <td>3</td>\n",
       "      <td>9</td>\n",
       "      <td>34.0</td>\n",
       "      <td>15.0</td>\n",
       "      <td>12.0</td>\n",
       "      <td>6.0</td>\n",
       "      <td>43.0</td>\n",
       "    </tr>\n",
       "    <tr>\n",
       "      <th>2018-03-01 10:00:00</th>\n",
       "      <td>64</td>\n",
       "      <td>69.0</td>\n",
       "      <td>28.414589</td>\n",
       "      <td>3</td>\n",
       "      <td>1</td>\n",
       "      <td>3</td>\n",
       "      <td>10</td>\n",
       "      <td>69.0</td>\n",
       "      <td>34.0</td>\n",
       "      <td>15.0</td>\n",
       "      <td>12.0</td>\n",
       "      <td>6.0</td>\n",
       "    </tr>\n",
       "    <tr>\n",
       "      <th>2018-03-01 11:00:00</th>\n",
       "      <td>96</td>\n",
       "      <td>64.0</td>\n",
       "      <td>30.225817</td>\n",
       "      <td>3</td>\n",
       "      <td>1</td>\n",
       "      <td>3</td>\n",
       "      <td>11</td>\n",
       "      <td>64.0</td>\n",
       "      <td>69.0</td>\n",
       "      <td>34.0</td>\n",
       "      <td>15.0</td>\n",
       "      <td>12.0</td>\n",
       "    </tr>\n",
       "    <tr>\n",
       "      <th>2018-03-01 12:00:00</th>\n",
       "      <td>30</td>\n",
       "      <td>96.0</td>\n",
       "      <td>29.470324</td>\n",
       "      <td>3</td>\n",
       "      <td>1</td>\n",
       "      <td>3</td>\n",
       "      <td>12</td>\n",
       "      <td>96.0</td>\n",
       "      <td>64.0</td>\n",
       "      <td>69.0</td>\n",
       "      <td>34.0</td>\n",
       "      <td>15.0</td>\n",
       "    </tr>\n",
       "    <tr>\n",
       "      <th>2018-03-01 13:00:00</th>\n",
       "      <td>32</td>\n",
       "      <td>30.0</td>\n",
       "      <td>28.532438</td>\n",
       "      <td>3</td>\n",
       "      <td>1</td>\n",
       "      <td>3</td>\n",
       "      <td>13</td>\n",
       "      <td>30.0</td>\n",
       "      <td>96.0</td>\n",
       "      <td>64.0</td>\n",
       "      <td>69.0</td>\n",
       "      <td>34.0</td>\n",
       "    </tr>\n",
       "  </tbody>\n",
       "</table>\n",
       "</div>"
      ],
      "text/plain": [
       "                     num_orders  rolling_mean  rolling_std  month  day  \\\n",
       "datetime                                                                 \n",
       "2018-03-01 09:00:00          69          34.0    37.426224      3    1   \n",
       "2018-03-01 10:00:00          64          69.0    28.414589      3    1   \n",
       "2018-03-01 11:00:00          96          64.0    30.225817      3    1   \n",
       "2018-03-01 12:00:00          30          96.0    29.470324      3    1   \n",
       "2018-03-01 13:00:00          32          30.0    28.532438      3    1   \n",
       "\n",
       "                     dayofweek  hour  lag_1  lag_2  lag_3  lag_4  lag_5  \n",
       "datetime                                                                 \n",
       "2018-03-01 09:00:00          3     9   34.0   15.0   12.0    6.0   43.0  \n",
       "2018-03-01 10:00:00          3    10   69.0   34.0   15.0   12.0    6.0  \n",
       "2018-03-01 11:00:00          3    11   64.0   69.0   34.0   15.0   12.0  \n",
       "2018-03-01 12:00:00          3    12   96.0   64.0   69.0   34.0   15.0  \n",
       "2018-03-01 13:00:00          3    13   30.0   96.0   64.0   69.0   34.0  "
      ]
     },
     "execution_count": 13,
     "metadata": {},
     "output_type": "execute_result"
    }
   ],
   "source": [
    "def make_features(data):\n",
    "    data = df.copy()\n",
    "    data['month'] = df.index.month\n",
    "    data['day'] = df.index.day\n",
    "    data['dayofweek'] = df.index.dayofweek\n",
    "    data['hour'] = df.index.hour\n",
    "    \n",
    "    for i in range(1, 6):\n",
    "        data['lag_{}'.format(i)] = data['num_orders'].shift(i)\n",
    "    \n",
    "    data['rolling_mean'] = data['num_orders'].shift().rolling(1).mean()\n",
    "    data.dropna(inplace=True)\n",
    "    \n",
    "    return data\n",
    "data = make_features(df)\n",
    "data.head()"
   ]
  },
  {
   "cell_type": "markdown",
   "metadata": {},
   "source": [
    "Теперь определим целевой признак и остальные"
   ]
  },
  {
   "cell_type": "code",
   "execution_count": 14,
   "metadata": {},
   "outputs": [],
   "source": [
    "train,test = train_test_split(data,shuffle = False, random_state = 42, test_size = 0.1)\n",
    "valid,test = train_test_split(test,shuffle = False, random_state = 42, test_size = 0.5)"
   ]
  },
  {
   "cell_type": "code",
   "execution_count": 15,
   "metadata": {},
   "outputs": [],
   "source": [
    "train = train.dropna()\n",
    "(train_features,\n",
    "valid_features,\n",
    "test_features) = (train.drop('num_orders',axis = 1),\n",
    "                  valid.drop('num_orders',axis = 1),\n",
    "                  test.drop('num_orders',axis = 1))\n",
    "(train_target,\n",
    "valid_target,\n",
    "test_target) = (train['num_orders'],\n",
    "                valid['num_orders'],\n",
    "                test['num_orders'])"
   ]
  },
  {
   "cell_type": "code",
   "execution_count": 16,
   "metadata": {},
   "outputs": [],
   "source": [
    "tscv = TimeSeriesSplit(n_splits=5)"
   ]
  },
  {
   "cell_type": "markdown",
   "metadata": {},
   "source": [
    "Теперь данные готовы для обучения моделей"
   ]
  },
  {
   "cell_type": "markdown",
   "metadata": {},
   "source": [
    "## Обучение"
   ]
  },
  {
   "cell_type": "markdown",
   "metadata": {},
   "source": [
    "Перед обучением разных моделей, хотелось бы сказать, что критерии лучшей модели будем смотреть по 3 критериям: качество предсказания, скорость предсказания, время обучения.\n",
    "В качестве метрики будем использовать RMSE"
   ]
  },
  {
   "cell_type": "markdown",
   "metadata": {
    "scrolled": true
   },
   "source": [
    "Рассмотрим первую модель: DecisionTreeRegressor"
   ]
  },
  {
   "cell_type": "code",
   "execution_count": 17,
   "metadata": {},
   "outputs": [
    {
     "name": "stdout",
     "output_type": "stream",
     "text": [
      "Время обучения: 0.0348 сек\n",
      "Время предсказания: 0.002533 сек\n",
      "Decision Tree RMSE (на валидации): 47.42841495827734\n"
     ]
    }
   ],
   "source": [
    "# Обучение модели\n",
    "start_train = time.time()\n",
    "DT = DecisionTreeRegressor(criterion='mse', random_state=42)\n",
    "DT.fit(train_features,train_target)\n",
    "end_train = time.time()\n",
    "print(f\"Время обучения: {end_train - start_train:.4f} сек\")\n",
    "# Предсказание на валидационных данных\n",
    "start_pred = time.time()\n",
    "valid_preds = DT.predict(valid_features)\n",
    "end_pred = time.time()\n",
    "print(f\"Время предсказания: {end_pred - start_pred:.6f} сек\")\n",
    "# Расчёт RMSE на валидации\n",
    "rmse_dt = np.sqrt(mean_squared_error(valid_target, valid_preds))\n",
    "print(\"Decision Tree RMSE (на валидации):\", rmse_dt)"
   ]
  },
  {
   "cell_type": "markdown",
   "metadata": {},
   "source": [
    "Теперь LightGBM"
   ]
  },
  {
   "cell_type": "code",
   "execution_count": 18,
   "metadata": {
    "scrolled": true
   },
   "outputs": [
    {
     "name": "stdout",
     "output_type": "stream",
     "text": [
      "[LightGBM] [Info] Total Bins 1465\n",
      "[LightGBM] [Info] Number of data points in the train set: 3966, number of used features: 11\n",
      "[LightGBM] [Info] Start training from score 78.359304\n",
      "[1]\ttraining's l2: 1385.1\tvalid_1's l2: 5270.68\n",
      "[2]\ttraining's l2: 1293.97\tvalid_1's l2: 4932.51\n",
      "[3]\ttraining's l2: 1219.78\tvalid_1's l2: 4760.21\n",
      "[4]\ttraining's l2: 1154.58\tvalid_1's l2: 4579.03\n",
      "[5]\ttraining's l2: 1102.51\tvalid_1's l2: 4446.06\n",
      "[6]\ttraining's l2: 1042.6\tvalid_1's l2: 4235.24\n",
      "[7]\ttraining's l2: 1005.8\tvalid_1's l2: 4127.26\n",
      "[8]\ttraining's l2: 958.937\tvalid_1's l2: 3947.82\n",
      "[9]\ttraining's l2: 919.664\tvalid_1's l2: 3793.82\n",
      "[10]\ttraining's l2: 893.529\tvalid_1's l2: 3604.82\n",
      "[11]\ttraining's l2: 866.707\tvalid_1's l2: 3479.14\n",
      "[12]\ttraining's l2: 837.495\tvalid_1's l2: 3357.9\n",
      "[13]\ttraining's l2: 815.117\tvalid_1's l2: 3249.99\n",
      "[14]\ttraining's l2: 793.372\tvalid_1's l2: 3155.23\n",
      "[15]\ttraining's l2: 772.532\tvalid_1's l2: 3092.2\n",
      "[16]\ttraining's l2: 750.796\tvalid_1's l2: 2965.27\n",
      "[17]\ttraining's l2: 734.26\tvalid_1's l2: 2914.45\n",
      "[18]\ttraining's l2: 720.327\tvalid_1's l2: 2865.95\n",
      "[19]\ttraining's l2: 704.969\tvalid_1's l2: 2790.93\n",
      "[20]\ttraining's l2: 692.707\tvalid_1's l2: 2753.45\n",
      "[21]\ttraining's l2: 678.561\tvalid_1's l2: 2691.64\n",
      "[22]\ttraining's l2: 669.689\tvalid_1's l2: 2656.67\n",
      "[23]\ttraining's l2: 660.175\tvalid_1's l2: 2616.58\n",
      "[24]\ttraining's l2: 652.62\tvalid_1's l2: 2532.95\n",
      "[25]\ttraining's l2: 644.556\tvalid_1's l2: 2505.21\n",
      "[26]\ttraining's l2: 634.041\tvalid_1's l2: 2450.04\n",
      "[27]\ttraining's l2: 627.725\tvalid_1's l2: 2429.1\n",
      "[28]\ttraining's l2: 619.258\tvalid_1's l2: 2378.22\n",
      "[29]\ttraining's l2: 613.684\tvalid_1's l2: 2356.75\n",
      "[30]\ttraining's l2: 604.683\tvalid_1's l2: 2325.95\n",
      "[31]\ttraining's l2: 596.808\tvalid_1's l2: 2266.81\n",
      "[32]\ttraining's l2: 592.823\tvalid_1's l2: 2163.04\n",
      "[33]\ttraining's l2: 588.692\tvalid_1's l2: 2136.08\n",
      "[34]\ttraining's l2: 585.091\tvalid_1's l2: 2100.99\n",
      "[35]\ttraining's l2: 581.174\tvalid_1's l2: 2086.65\n",
      "[36]\ttraining's l2: 576.57\tvalid_1's l2: 2074.13\n",
      "[37]\ttraining's l2: 573.568\tvalid_1's l2: 2069.72\n",
      "[38]\ttraining's l2: 570.298\tvalid_1's l2: 2048.05\n",
      "[39]\ttraining's l2: 564.905\tvalid_1's l2: 2007.02\n",
      "[40]\ttraining's l2: 559.127\tvalid_1's l2: 1984.55\n",
      "[41]\ttraining's l2: 556.622\tvalid_1's l2: 1957.87\n",
      "[42]\ttraining's l2: 552.109\tvalid_1's l2: 1944.24\n",
      "[43]\ttraining's l2: 548.234\tvalid_1's l2: 1915.07\n",
      "[44]\ttraining's l2: 544.757\tvalid_1's l2: 1897.6\n",
      "[45]\ttraining's l2: 542.343\tvalid_1's l2: 1884.9\n",
      "[46]\ttraining's l2: 536.311\tvalid_1's l2: 1866.89\n",
      "[47]\ttraining's l2: 533.775\tvalid_1's l2: 1855.01\n",
      "[48]\ttraining's l2: 531.487\tvalid_1's l2: 1840.97\n",
      "[49]\ttraining's l2: 529.627\tvalid_1's l2: 1830.74\n",
      "[50]\ttraining's l2: 527.249\tvalid_1's l2: 1823.95\n",
      "[51]\ttraining's l2: 525.308\tvalid_1's l2: 1800.45\n",
      "[52]\ttraining's l2: 523.528\tvalid_1's l2: 1791.74\n",
      "[53]\ttraining's l2: 518.261\tvalid_1's l2: 1786.02\n",
      "[54]\ttraining's l2: 515.252\tvalid_1's l2: 1782.29\n",
      "[55]\ttraining's l2: 512.418\tvalid_1's l2: 1771.64\n",
      "[56]\ttraining's l2: 509.421\tvalid_1's l2: 1756.55\n",
      "[57]\ttraining's l2: 507.744\tvalid_1's l2: 1743.21\n",
      "[58]\ttraining's l2: 505.52\tvalid_1's l2: 1723.45\n",
      "[59]\ttraining's l2: 501.856\tvalid_1's l2: 1710.91\n",
      "[60]\ttraining's l2: 500.365\tvalid_1's l2: 1708.91\n",
      "[61]\ttraining's l2: 496.709\tvalid_1's l2: 1692.51\n",
      "[62]\ttraining's l2: 495.389\tvalid_1's l2: 1673.88\n",
      "[63]\ttraining's l2: 493.121\tvalid_1's l2: 1664.49\n",
      "[64]\ttraining's l2: 491.292\tvalid_1's l2: 1639.61\n",
      "[65]\ttraining's l2: 489.974\tvalid_1's l2: 1613.27\n",
      "[66]\ttraining's l2: 488.437\tvalid_1's l2: 1611.86\n",
      "[67]\ttraining's l2: 487.241\tvalid_1's l2: 1611.27\n",
      "[68]\ttraining's l2: 485.774\tvalid_1's l2: 1609.8\n",
      "[69]\ttraining's l2: 483.376\tvalid_1's l2: 1591.86\n",
      "[70]\ttraining's l2: 482.348\tvalid_1's l2: 1589.5\n",
      "[71]\ttraining's l2: 480.429\tvalid_1's l2: 1581.23\n",
      "[72]\ttraining's l2: 478.84\tvalid_1's l2: 1566.71\n",
      "[73]\ttraining's l2: 477.529\tvalid_1's l2: 1565.15\n",
      "[74]\ttraining's l2: 475.65\tvalid_1's l2: 1562.35\n",
      "[75]\ttraining's l2: 474.528\tvalid_1's l2: 1559.08\n",
      "[76]\ttraining's l2: 473.164\tvalid_1's l2: 1558.02\n",
      "[77]\ttraining's l2: 472.459\tvalid_1's l2: 1551.58\n",
      "[78]\ttraining's l2: 471.41\tvalid_1's l2: 1547.91\n",
      "[79]\ttraining's l2: 470.353\tvalid_1's l2: 1530.11\n",
      "[80]\ttraining's l2: 468.516\tvalid_1's l2: 1527.06\n",
      "[81]\ttraining's l2: 465.76\tvalid_1's l2: 1522.75\n",
      "[82]\ttraining's l2: 464.835\tvalid_1's l2: 1521.22\n",
      "[83]\ttraining's l2: 463.716\tvalid_1's l2: 1520.5\n",
      "[84]\ttraining's l2: 461.391\tvalid_1's l2: 1518.62\n",
      "[85]\ttraining's l2: 460.232\tvalid_1's l2: 1516.64\n",
      "[86]\ttraining's l2: 458.303\tvalid_1's l2: 1513.49\n",
      "[87]\ttraining's l2: 456.877\tvalid_1's l2: 1512.55\n",
      "[88]\ttraining's l2: 455.091\tvalid_1's l2: 1511.94\n",
      "[89]\ttraining's l2: 454.189\tvalid_1's l2: 1511.59\n",
      "[90]\ttraining's l2: 453.389\tvalid_1's l2: 1506.5\n",
      "[91]\ttraining's l2: 452.568\tvalid_1's l2: 1505.8\n",
      "[92]\ttraining's l2: 451.649\tvalid_1's l2: 1504.64\n",
      "[93]\ttraining's l2: 450.21\tvalid_1's l2: 1500.75\n",
      "[94]\ttraining's l2: 449.343\tvalid_1's l2: 1494.54\n",
      "[95]\ttraining's l2: 448.795\tvalid_1's l2: 1493.72\n",
      "[96]\ttraining's l2: 447.413\tvalid_1's l2: 1493.74\n",
      "[97]\ttraining's l2: 445.778\tvalid_1's l2: 1488.5\n",
      "[98]\ttraining's l2: 443.808\tvalid_1's l2: 1486.19\n",
      "[99]\ttraining's l2: 442.951\tvalid_1's l2: 1485.72\n",
      "[100]\ttraining's l2: 441.553\tvalid_1's l2: 1480.18\n",
      "[101]\ttraining's l2: 440.187\tvalid_1's l2: 1473.27\n",
      "[102]\ttraining's l2: 439.488\tvalid_1's l2: 1473.13\n",
      "[103]\ttraining's l2: 438.332\tvalid_1's l2: 1463.5\n",
      "[104]\ttraining's l2: 435.828\tvalid_1's l2: 1462.92\n",
      "[105]\ttraining's l2: 435.065\tvalid_1's l2: 1450.96\n",
      "[106]\ttraining's l2: 433.789\tvalid_1's l2: 1452.11\n",
      "[107]\ttraining's l2: 433.009\tvalid_1's l2: 1452\n",
      "[108]\ttraining's l2: 431.913\tvalid_1's l2: 1452.9\n",
      "[109]\ttraining's l2: 430.542\tvalid_1's l2: 1450.57\n",
      "[110]\ttraining's l2: 429.54\tvalid_1's l2: 1446.41\n",
      "[111]\ttraining's l2: 428.149\tvalid_1's l2: 1441.62\n",
      "[112]\ttraining's l2: 426.647\tvalid_1's l2: 1441.7\n",
      "[113]\ttraining's l2: 425.997\tvalid_1's l2: 1442.76\n",
      "[114]\ttraining's l2: 425.183\tvalid_1's l2: 1437.54\n",
      "[115]\ttraining's l2: 424.755\tvalid_1's l2: 1436.86\n",
      "[116]\ttraining's l2: 423.861\tvalid_1's l2: 1432.2\n",
      "[117]\ttraining's l2: 423.05\tvalid_1's l2: 1428.84\n",
      "[118]\ttraining's l2: 420.971\tvalid_1's l2: 1428.22\n",
      "[119]\ttraining's l2: 419.914\tvalid_1's l2: 1429.44\n",
      "[120]\ttraining's l2: 419.089\tvalid_1's l2: 1428.25\n",
      "[121]\ttraining's l2: 418.427\tvalid_1's l2: 1428.76\n",
      "[122]\ttraining's l2: 417.912\tvalid_1's l2: 1428.5\n",
      "[123]\ttraining's l2: 417.289\tvalid_1's l2: 1427.28\n",
      "[124]\ttraining's l2: 416.694\tvalid_1's l2: 1410.18\n",
      "[125]\ttraining's l2: 415.596\tvalid_1's l2: 1409.94\n",
      "[126]\ttraining's l2: 414.342\tvalid_1's l2: 1410.01\n",
      "[127]\ttraining's l2: 413.368\tvalid_1's l2: 1398.47\n",
      "[128]\ttraining's l2: 412.352\tvalid_1's l2: 1397.92\n",
      "[129]\ttraining's l2: 411.615\tvalid_1's l2: 1397.4\n",
      "[130]\ttraining's l2: 411.229\tvalid_1's l2: 1397.29\n",
      "[131]\ttraining's l2: 410.435\tvalid_1's l2: 1404.24\n",
      "[132]\ttraining's l2: 409.995\tvalid_1's l2: 1403.2\n",
      "[133]\ttraining's l2: 409.158\tvalid_1's l2: 1387.51\n",
      "[134]\ttraining's l2: 408.057\tvalid_1's l2: 1384.76\n",
      "[135]\ttraining's l2: 407.238\tvalid_1's l2: 1384.79\n",
      "[136]\ttraining's l2: 406.561\tvalid_1's l2: 1383.37\n",
      "[137]\ttraining's l2: 405.454\tvalid_1's l2: 1384.54\n",
      "[138]\ttraining's l2: 405.013\tvalid_1's l2: 1387.5\n",
      "[139]\ttraining's l2: 404.48\tvalid_1's l2: 1383.3\n",
      "[140]\ttraining's l2: 404.116\tvalid_1's l2: 1382.96\n",
      "[141]\ttraining's l2: 402.366\tvalid_1's l2: 1383.33\n",
      "[142]\ttraining's l2: 401.443\tvalid_1's l2: 1381.63\n",
      "[143]\ttraining's l2: 401.02\tvalid_1's l2: 1382.87\n",
      "[144]\ttraining's l2: 399.433\tvalid_1's l2: 1383.99\n",
      "[145]\ttraining's l2: 398.717\tvalid_1's l2: 1382.57\n",
      "[146]\ttraining's l2: 398.197\tvalid_1's l2: 1382.77\n",
      "[147]\ttraining's l2: 397.881\tvalid_1's l2: 1382.29\n",
      "[148]\ttraining's l2: 397.174\tvalid_1's l2: 1380.73\n",
      "[149]\ttraining's l2: 396.878\tvalid_1's l2: 1383.75\n",
      "[150]\ttraining's l2: 396.377\tvalid_1's l2: 1384.15\n",
      "[151]\ttraining's l2: 395.971\tvalid_1's l2: 1382.82\n",
      "[152]\ttraining's l2: 395.52\tvalid_1's l2: 1382.85\n",
      "[153]\ttraining's l2: 394.623\tvalid_1's l2: 1383.69\n",
      "[154]\ttraining's l2: 394.19\tvalid_1's l2: 1379.89\n",
      "[155]\ttraining's l2: 393.435\tvalid_1's l2: 1380.28\n",
      "[156]\ttraining's l2: 392.507\tvalid_1's l2: 1377.59\n",
      "[157]\ttraining's l2: 391.949\tvalid_1's l2: 1368.93\n",
      "[158]\ttraining's l2: 391.163\tvalid_1's l2: 1366.12\n",
      "[159]\ttraining's l2: 390.534\tvalid_1's l2: 1371.63\n",
      "[160]\ttraining's l2: 390.032\tvalid_1's l2: 1372.85\n",
      "[161]\ttraining's l2: 389.72\tvalid_1's l2: 1373.55\n",
      "[162]\ttraining's l2: 388.981\tvalid_1's l2: 1374.42\n",
      "[163]\ttraining's l2: 388.437\tvalid_1's l2: 1374.63\n",
      "[164]\ttraining's l2: 386.813\tvalid_1's l2: 1374.17\n",
      "[165]\ttraining's l2: 386.057\tvalid_1's l2: 1369.93\n",
      "[166]\ttraining's l2: 385.69\tvalid_1's l2: 1370.11\n",
      "[167]\ttraining's l2: 385.195\tvalid_1's l2: 1369.66\n",
      "[168]\ttraining's l2: 384.526\tvalid_1's l2: 1370.3\n",
      "[169]\ttraining's l2: 383.726\tvalid_1's l2: 1370.38\n",
      "[170]\ttraining's l2: 383.317\tvalid_1's l2: 1368.83\n",
      "[171]\ttraining's l2: 382.932\tvalid_1's l2: 1370.16\n",
      "[172]\ttraining's l2: 382.422\tvalid_1's l2: 1375.52\n",
      "[173]\ttraining's l2: 381.792\tvalid_1's l2: 1373.03\n",
      "[174]\ttraining's l2: 381.351\tvalid_1's l2: 1372.72\n",
      "[175]\ttraining's l2: 380.782\tvalid_1's l2: 1373.12\n",
      "[176]\ttraining's l2: 380.122\tvalid_1's l2: 1368.93\n",
      "[177]\ttraining's l2: 379.41\tvalid_1's l2: 1366.65\n",
      "[178]\ttraining's l2: 378.945\tvalid_1's l2: 1366.89\n",
      "[179]\ttraining's l2: 377.791\tvalid_1's l2: 1363.54\n",
      "[180]\ttraining's l2: 376.918\tvalid_1's l2: 1364.58\n",
      "[181]\ttraining's l2: 376.574\tvalid_1's l2: 1368.61\n",
      "[182]\ttraining's l2: 375.862\tvalid_1's l2: 1369.51\n",
      "[183]\ttraining's l2: 375.33\tvalid_1's l2: 1369.1\n",
      "[184]\ttraining's l2: 374.882\tvalid_1's l2: 1361.56\n",
      "[185]\ttraining's l2: 374.508\tvalid_1's l2: 1362.76\n",
      "[186]\ttraining's l2: 373.849\tvalid_1's l2: 1361.16\n",
      "[187]\ttraining's l2: 372.731\tvalid_1's l2: 1362.68\n",
      "[188]\ttraining's l2: 371.984\tvalid_1's l2: 1360.74\n",
      "[189]\ttraining's l2: 371.249\tvalid_1's l2: 1361.78\n",
      "[190]\ttraining's l2: 370.847\tvalid_1's l2: 1362.35\n",
      "[191]\ttraining's l2: 370.602\tvalid_1's l2: 1362.79\n",
      "[192]\ttraining's l2: 370.272\tvalid_1's l2: 1362.21\n",
      "[193]\ttraining's l2: 369.676\tvalid_1's l2: 1360.84\n",
      "[194]\ttraining's l2: 369.239\tvalid_1's l2: 1360.44\n",
      "[195]\ttraining's l2: 368.848\tvalid_1's l2: 1358.63\n",
      "[196]\ttraining's l2: 368.609\tvalid_1's l2: 1358.42\n",
      "[197]\ttraining's l2: 368.136\tvalid_1's l2: 1358.29\n",
      "[198]\ttraining's l2: 367.643\tvalid_1's l2: 1347.79\n",
      "[199]\ttraining's l2: 366.885\tvalid_1's l2: 1344.05\n",
      "[200]\ttraining's l2: 366.612\tvalid_1's l2: 1347.91\n",
      "[201]\ttraining's l2: 365.845\tvalid_1's l2: 1344.34\n",
      "[202]\ttraining's l2: 365.533\tvalid_1's l2: 1345.46\n",
      "[203]\ttraining's l2: 365.238\tvalid_1's l2: 1345.3\n",
      "[204]\ttraining's l2: 364.962\tvalid_1's l2: 1338.42\n",
      "[205]\ttraining's l2: 364.36\tvalid_1's l2: 1337.7\n",
      "[206]\ttraining's l2: 364.091\tvalid_1's l2: 1337.89\n",
      "[207]\ttraining's l2: 363.492\tvalid_1's l2: 1333.72\n",
      "[208]\ttraining's l2: 362.347\tvalid_1's l2: 1329.58\n",
      "[209]\ttraining's l2: 361.143\tvalid_1's l2: 1327.75\n",
      "[210]\ttraining's l2: 360.571\tvalid_1's l2: 1326.44\n",
      "[211]\ttraining's l2: 359.902\tvalid_1's l2: 1323.07\n",
      "[212]\ttraining's l2: 359.292\tvalid_1's l2: 1323.98\n",
      "[213]\ttraining's l2: 358.727\tvalid_1's l2: 1325.29\n",
      "[214]\ttraining's l2: 358.406\tvalid_1's l2: 1324.96\n",
      "[215]\ttraining's l2: 358.196\tvalid_1's l2: 1324.77\n",
      "[216]\ttraining's l2: 357.393\tvalid_1's l2: 1322.58\n",
      "[217]\ttraining's l2: 357.022\tvalid_1's l2: 1326.86\n",
      "[218]\ttraining's l2: 356.737\tvalid_1's l2: 1326.61\n",
      "[219]\ttraining's l2: 356.096\tvalid_1's l2: 1332.1\n",
      "[220]\ttraining's l2: 355.217\tvalid_1's l2: 1333.72\n",
      "[221]\ttraining's l2: 354.67\tvalid_1's l2: 1335.04\n",
      "[222]\ttraining's l2: 354.368\tvalid_1's l2: 1334.9\n",
      "[223]\ttraining's l2: 353.872\tvalid_1's l2: 1330.3\n",
      "[224]\ttraining's l2: 353.344\tvalid_1's l2: 1330.37\n",
      "[225]\ttraining's l2: 352.705\tvalid_1's l2: 1331.73\n",
      "[226]\ttraining's l2: 352.525\tvalid_1's l2: 1331.89\n",
      "[227]\ttraining's l2: 352.08\tvalid_1's l2: 1333.2\n",
      "[228]\ttraining's l2: 351.854\tvalid_1's l2: 1333.01\n",
      "[229]\ttraining's l2: 351.379\tvalid_1's l2: 1333.1\n",
      "[230]\ttraining's l2: 350.916\tvalid_1's l2: 1331.94\n",
      "[231]\ttraining's l2: 350.705\tvalid_1's l2: 1333.41\n",
      "[232]\ttraining's l2: 350.425\tvalid_1's l2: 1328.84\n",
      "[233]\ttraining's l2: 349.968\tvalid_1's l2: 1329.19\n",
      "[234]\ttraining's l2: 349.722\tvalid_1's l2: 1327.74\n",
      "[235]\ttraining's l2: 348.868\tvalid_1's l2: 1326.46\n",
      "[236]\ttraining's l2: 348.585\tvalid_1's l2: 1325.81\n",
      "[237]\ttraining's l2: 348.25\tvalid_1's l2: 1326.43\n",
      "[238]\ttraining's l2: 347.934\tvalid_1's l2: 1326.43\n",
      "[239]\ttraining's l2: 347.412\tvalid_1's l2: 1323.87\n",
      "[240]\ttraining's l2: 346.969\tvalid_1's l2: 1321.75\n",
      "[241]\ttraining's l2: 346.522\tvalid_1's l2: 1317.37\n",
      "[242]\ttraining's l2: 346.288\tvalid_1's l2: 1321.13\n",
      "[243]\ttraining's l2: 345.645\tvalid_1's l2: 1324.53\n",
      "[244]\ttraining's l2: 345.453\tvalid_1's l2: 1324.37\n",
      "[245]\ttraining's l2: 344.992\tvalid_1's l2: 1323.64\n",
      "[246]\ttraining's l2: 344.693\tvalid_1's l2: 1323.68\n",
      "[247]\ttraining's l2: 344.191\tvalid_1's l2: 1324.32\n",
      "[248]\ttraining's l2: 343.988\tvalid_1's l2: 1327.98\n",
      "[249]\ttraining's l2: 343.73\tvalid_1's l2: 1329.78\n",
      "[250]\ttraining's l2: 343.471\tvalid_1's l2: 1329.69\n",
      "[251]\ttraining's l2: 342.905\tvalid_1's l2: 1321.88\n",
      "[252]\ttraining's l2: 342.391\tvalid_1's l2: 1325.65\n",
      "[253]\ttraining's l2: 342.013\tvalid_1's l2: 1319.38\n",
      "[254]\ttraining's l2: 341.665\tvalid_1's l2: 1323.36\n",
      "[255]\ttraining's l2: 341.16\tvalid_1's l2: 1322.75\n",
      "[256]\ttraining's l2: 340.696\tvalid_1's l2: 1318.67\n",
      "[257]\ttraining's l2: 340.508\tvalid_1's l2: 1321.03\n",
      "[258]\ttraining's l2: 340.325\tvalid_1's l2: 1321.18\n",
      "[259]\ttraining's l2: 340.07\tvalid_1's l2: 1320.93\n",
      "[260]\ttraining's l2: 339.513\tvalid_1's l2: 1320.46\n",
      "[261]\ttraining's l2: 339.26\tvalid_1's l2: 1317.99\n",
      "[262]\ttraining's l2: 338.842\tvalid_1's l2: 1321.51\n",
      "[263]\ttraining's l2: 338.003\tvalid_1's l2: 1318.14\n",
      "[264]\ttraining's l2: 337.564\tvalid_1's l2: 1311.25\n",
      "[265]\ttraining's l2: 337.408\tvalid_1's l2: 1311.1\n",
      "[266]\ttraining's l2: 336.936\tvalid_1's l2: 1311.26\n",
      "[267]\ttraining's l2: 336.439\tvalid_1's l2: 1311.52\n",
      "[268]\ttraining's l2: 335.907\tvalid_1's l2: 1309.52\n",
      "[269]\ttraining's l2: 335.419\tvalid_1's l2: 1310.99\n",
      "[270]\ttraining's l2: 334.912\tvalid_1's l2: 1307.59\n",
      "[271]\ttraining's l2: 334.579\tvalid_1's l2: 1303.57\n",
      "[272]\ttraining's l2: 334.234\tvalid_1's l2: 1301.59\n",
      "[273]\ttraining's l2: 333.797\tvalid_1's l2: 1299.99\n",
      "[274]\ttraining's l2: 333.568\tvalid_1's l2: 1301.92\n",
      "[275]\ttraining's l2: 333.157\tvalid_1's l2: 1302.93\n",
      "[276]\ttraining's l2: 332.933\tvalid_1's l2: 1303.29\n",
      "[277]\ttraining's l2: 332.583\tvalid_1's l2: 1303.51\n",
      "[278]\ttraining's l2: 332.082\tvalid_1's l2: 1302.74\n",
      "[279]\ttraining's l2: 331.645\tvalid_1's l2: 1307.18\n",
      "[280]\ttraining's l2: 331.121\tvalid_1's l2: 1302.56\n",
      "[281]\ttraining's l2: 330.93\tvalid_1's l2: 1304.46\n",
      "[282]\ttraining's l2: 330.443\tvalid_1's l2: 1303.18\n",
      "[283]\ttraining's l2: 330.255\tvalid_1's l2: 1303.67\n",
      "[284]\ttraining's l2: 330.074\tvalid_1's l2: 1300.58\n",
      "[285]\ttraining's l2: 329.788\tvalid_1's l2: 1300.3\n",
      "[286]\ttraining's l2: 329.438\tvalid_1's l2: 1298.9\n",
      "[287]\ttraining's l2: 329.148\tvalid_1's l2: 1298.55\n",
      "[288]\ttraining's l2: 328.782\tvalid_1's l2: 1295\n",
      "[289]\ttraining's l2: 328.567\tvalid_1's l2: 1300.73\n",
      "[290]\ttraining's l2: 327.865\tvalid_1's l2: 1297.47\n",
      "[291]\ttraining's l2: 327.601\tvalid_1's l2: 1296.97\n",
      "[292]\ttraining's l2: 327.232\tvalid_1's l2: 1297.57\n",
      "[293]\ttraining's l2: 326.909\tvalid_1's l2: 1297.28\n",
      "[294]\ttraining's l2: 326.376\tvalid_1's l2: 1298.04\n",
      "[295]\ttraining's l2: 326.017\tvalid_1's l2: 1298.29\n",
      "[296]\ttraining's l2: 325.418\tvalid_1's l2: 1295.09\n",
      "[297]\ttraining's l2: 325.046\tvalid_1's l2: 1292.58\n",
      "[298]\ttraining's l2: 324.656\tvalid_1's l2: 1293.09\n",
      "[299]\ttraining's l2: 324.183\tvalid_1's l2: 1289.98\n",
      "[300]\ttraining's l2: 323.703\tvalid_1's l2: 1287.88\n",
      "[301]\ttraining's l2: 322.857\tvalid_1's l2: 1288.02\n",
      "[302]\ttraining's l2: 322.395\tvalid_1's l2: 1287.45\n",
      "[303]\ttraining's l2: 322.195\tvalid_1's l2: 1287.31\n",
      "[304]\ttraining's l2: 321.891\tvalid_1's l2: 1284.04\n",
      "[305]\ttraining's l2: 321.655\tvalid_1's l2: 1283.78\n",
      "[306]\ttraining's l2: 321.442\tvalid_1's l2: 1283.45\n",
      "[307]\ttraining's l2: 321.212\tvalid_1's l2: 1283.76\n",
      "[308]\ttraining's l2: 321.074\tvalid_1's l2: 1283.63\n",
      "[309]\ttraining's l2: 320.829\tvalid_1's l2: 1283.58\n",
      "[310]\ttraining's l2: 320.523\tvalid_1's l2: 1283.28\n",
      "[311]\ttraining's l2: 320.078\tvalid_1's l2: 1277.93\n",
      "[312]\ttraining's l2: 319.692\tvalid_1's l2: 1275.85\n",
      "[313]\ttraining's l2: 319.379\tvalid_1's l2: 1277.11\n",
      "[314]\ttraining's l2: 318.873\tvalid_1's l2: 1275.32\n",
      "[315]\ttraining's l2: 318.685\tvalid_1's l2: 1280.88\n",
      "[316]\ttraining's l2: 318.379\tvalid_1's l2: 1278.97\n",
      "[317]\ttraining's l2: 318.179\tvalid_1's l2: 1280.72\n",
      "[318]\ttraining's l2: 317.73\tvalid_1's l2: 1280.48\n",
      "[319]\ttraining's l2: 317.467\tvalid_1's l2: 1280.63\n",
      "[320]\ttraining's l2: 316.945\tvalid_1's l2: 1282.16\n",
      "[321]\ttraining's l2: 316.686\tvalid_1's l2: 1282.58\n",
      "[322]\ttraining's l2: 316.39\tvalid_1's l2: 1281.93\n",
      "[323]\ttraining's l2: 315.813\tvalid_1's l2: 1283.2\n",
      "[324]\ttraining's l2: 315.576\tvalid_1's l2: 1282.97\n",
      "[325]\ttraining's l2: 315.26\tvalid_1's l2: 1283.47\n",
      "[326]\ttraining's l2: 315.1\tvalid_1's l2: 1286.04\n",
      "[327]\ttraining's l2: 314.699\tvalid_1's l2: 1285.51\n",
      "[328]\ttraining's l2: 314.516\tvalid_1's l2: 1285.29\n",
      "[329]\ttraining's l2: 314.174\tvalid_1's l2: 1287.64\n",
      "[330]\ttraining's l2: 313.894\tvalid_1's l2: 1285.91\n",
      "[331]\ttraining's l2: 313.226\tvalid_1's l2: 1284.94\n",
      "[332]\ttraining's l2: 312.954\tvalid_1's l2: 1284.69\n",
      "[333]\ttraining's l2: 312.594\tvalid_1's l2: 1280.21\n",
      "[334]\ttraining's l2: 312.419\tvalid_1's l2: 1278.98\n",
      "[335]\ttraining's l2: 311.995\tvalid_1's l2: 1279.61\n",
      "[336]\ttraining's l2: 311.835\tvalid_1's l2: 1279.49\n",
      "[337]\ttraining's l2: 311.606\tvalid_1's l2: 1282.24\n",
      "[338]\ttraining's l2: 311.236\tvalid_1's l2: 1281.47\n",
      "[339]\ttraining's l2: 310.875\tvalid_1's l2: 1282.64\n",
      "[340]\ttraining's l2: 310.701\tvalid_1's l2: 1282.42\n",
      "[341]\ttraining's l2: 310.34\tvalid_1's l2: 1283.01\n",
      "[342]\ttraining's l2: 310.058\tvalid_1's l2: 1284.89\n",
      "[343]\ttraining's l2: 309.76\tvalid_1's l2: 1282.46\n",
      "[344]\ttraining's l2: 309.493\tvalid_1's l2: 1282.63\n",
      "[345]\ttraining's l2: 309.241\tvalid_1's l2: 1282.28\n",
      "[346]\ttraining's l2: 308.737\tvalid_1's l2: 1280.86\n",
      "[347]\ttraining's l2: 308.527\tvalid_1's l2: 1280.98\n",
      "[348]\ttraining's l2: 308.258\tvalid_1's l2: 1278.98\n",
      "[349]\ttraining's l2: 307.945\tvalid_1's l2: 1278.63\n",
      "[350]\ttraining's l2: 307.597\tvalid_1's l2: 1278.68\n",
      "[351]\ttraining's l2: 307.425\tvalid_1's l2: 1278.41\n",
      "[352]\ttraining's l2: 307.241\tvalid_1's l2: 1281.44\n",
      "[353]\ttraining's l2: 306.951\tvalid_1's l2: 1281.63\n",
      "[354]\ttraining's l2: 306.521\tvalid_1's l2: 1281.2\n",
      "[355]\ttraining's l2: 306.239\tvalid_1's l2: 1281.48\n",
      "[356]\ttraining's l2: 306.133\tvalid_1's l2: 1281.36\n",
      "[357]\ttraining's l2: 305.947\tvalid_1's l2: 1281.25\n",
      "[358]\ttraining's l2: 305.615\tvalid_1's l2: 1281.42\n",
      "[359]\ttraining's l2: 305.262\tvalid_1's l2: 1283.84\n",
      "[360]\ttraining's l2: 305.034\tvalid_1's l2: 1286.34\n",
      "[361]\ttraining's l2: 304.914\tvalid_1's l2: 1287.96\n",
      "[362]\ttraining's l2: 304.571\tvalid_1's l2: 1288.5\n",
      "[363]\ttraining's l2: 304.463\tvalid_1's l2: 1288.61\n",
      "[364]\ttraining's l2: 304.217\tvalid_1's l2: 1287.15\n",
      "[365]\ttraining's l2: 303.684\tvalid_1's l2: 1286.3\n",
      "[366]\ttraining's l2: 303.314\tvalid_1's l2: 1285.32\n",
      "[367]\ttraining's l2: 303.018\tvalid_1's l2: 1284.64\n",
      "[368]\ttraining's l2: 302.591\tvalid_1's l2: 1285.71\n",
      "[369]\ttraining's l2: 302.321\tvalid_1's l2: 1288.4\n",
      "[370]\ttraining's l2: 302.146\tvalid_1's l2: 1288.35\n",
      "[371]\ttraining's l2: 301.858\tvalid_1's l2: 1286.35\n",
      "[372]\ttraining's l2: 301.706\tvalid_1's l2: 1285.87\n",
      "[373]\ttraining's l2: 301.448\tvalid_1's l2: 1286.67\n",
      "[374]\ttraining's l2: 300.999\tvalid_1's l2: 1286.65\n",
      "[375]\ttraining's l2: 300.873\tvalid_1's l2: 1286.54\n",
      "[376]\ttraining's l2: 300.575\tvalid_1's l2: 1287.26\n",
      "[377]\ttraining's l2: 300.382\tvalid_1's l2: 1285.92\n",
      "[378]\ttraining's l2: 300.212\tvalid_1's l2: 1285.72\n",
      "[379]\ttraining's l2: 300.062\tvalid_1's l2: 1285.66\n",
      "[380]\ttraining's l2: 299.856\tvalid_1's l2: 1280.87\n",
      "[381]\ttraining's l2: 299.77\tvalid_1's l2: 1281.67\n",
      "[382]\ttraining's l2: 299.316\tvalid_1's l2: 1279.75\n",
      "[383]\ttraining's l2: 299.057\tvalid_1's l2: 1279.22\n",
      "[384]\ttraining's l2: 298.918\tvalid_1's l2: 1280.62\n",
      "[385]\ttraining's l2: 298.62\tvalid_1's l2: 1279.66\n",
      "[386]\ttraining's l2: 298.41\tvalid_1's l2: 1278.78\n",
      "[387]\ttraining's l2: 298.159\tvalid_1's l2: 1279.06\n",
      "[388]\ttraining's l2: 297.866\tvalid_1's l2: 1279.26\n",
      "[389]\ttraining's l2: 297.571\tvalid_1's l2: 1279.59\n",
      "[390]\ttraining's l2: 297.242\tvalid_1's l2: 1278.42\n",
      "[391]\ttraining's l2: 297.154\tvalid_1's l2: 1278.03\n",
      "[392]\ttraining's l2: 296.937\tvalid_1's l2: 1278.33\n",
      "[393]\ttraining's l2: 296.472\tvalid_1's l2: 1275.59\n",
      "[394]\ttraining's l2: 296.338\tvalid_1's l2: 1275.36\n",
      "[395]\ttraining's l2: 296.053\tvalid_1's l2: 1275.16\n",
      "[396]\ttraining's l2: 295.819\tvalid_1's l2: 1274.52\n",
      "[397]\ttraining's l2: 295.615\tvalid_1's l2: 1274.9\n",
      "[398]\ttraining's l2: 295.341\tvalid_1's l2: 1274.25\n",
      "[399]\ttraining's l2: 295.128\tvalid_1's l2: 1274.22\n",
      "[400]\ttraining's l2: 294.687\tvalid_1's l2: 1269.39\n",
      "[401]\ttraining's l2: 294.355\tvalid_1's l2: 1269\n",
      "[402]\ttraining's l2: 294.197\tvalid_1's l2: 1269.25\n",
      "[403]\ttraining's l2: 293.918\tvalid_1's l2: 1270.81\n",
      "[404]\ttraining's l2: 293.741\tvalid_1's l2: 1273.27\n",
      "[405]\ttraining's l2: 293.452\tvalid_1's l2: 1273.99\n",
      "[406]\ttraining's l2: 293.064\tvalid_1's l2: 1274.48\n",
      "[407]\ttraining's l2: 292.911\tvalid_1's l2: 1274.81\n",
      "[408]\ttraining's l2: 292.771\tvalid_1's l2: 1275.13\n",
      "[409]\ttraining's l2: 292.555\tvalid_1's l2: 1274.74\n",
      "[410]\ttraining's l2: 292.32\tvalid_1's l2: 1273.71\n",
      "[411]\ttraining's l2: 292.128\tvalid_1's l2: 1273.7\n",
      "[412]\ttraining's l2: 291.893\tvalid_1's l2: 1272.63\n",
      "[413]\ttraining's l2: 291.679\tvalid_1's l2: 1270.39\n",
      "[414]\ttraining's l2: 291.418\tvalid_1's l2: 1267.68\n",
      "[415]\ttraining's l2: 291.283\tvalid_1's l2: 1267.51\n",
      "[416]\ttraining's l2: 291.018\tvalid_1's l2: 1269.84\n",
      "[417]\ttraining's l2: 290.9\tvalid_1's l2: 1269.19\n",
      "[418]\ttraining's l2: 290.594\tvalid_1's l2: 1268.35\n",
      "[419]\ttraining's l2: 290.468\tvalid_1's l2: 1264.94\n",
      "[420]\ttraining's l2: 290.206\tvalid_1's l2: 1269.79\n",
      "[421]\ttraining's l2: 289.965\tvalid_1's l2: 1268.31\n",
      "[422]\ttraining's l2: 289.664\tvalid_1's l2: 1267.75\n",
      "[423]\ttraining's l2: 289.444\tvalid_1's l2: 1271.96\n",
      "[424]\ttraining's l2: 289.037\tvalid_1's l2: 1271.43\n",
      "[425]\ttraining's l2: 288.781\tvalid_1's l2: 1271.41\n",
      "[426]\ttraining's l2: 288.658\tvalid_1's l2: 1271.81\n",
      "[427]\ttraining's l2: 288.521\tvalid_1's l2: 1271.88\n",
      "[428]\ttraining's l2: 288.345\tvalid_1's l2: 1270.65\n",
      "[429]\ttraining's l2: 288.214\tvalid_1's l2: 1270.62\n",
      "[430]\ttraining's l2: 287.965\tvalid_1's l2: 1270.09\n",
      "[431]\ttraining's l2: 287.688\tvalid_1's l2: 1270.67\n",
      "[432]\ttraining's l2: 287.515\tvalid_1's l2: 1272.91\n",
      "[433]\ttraining's l2: 287.117\tvalid_1's l2: 1270.47\n",
      "[434]\ttraining's l2: 286.7\tvalid_1's l2: 1270.36\n",
      "[435]\ttraining's l2: 286.527\tvalid_1's l2: 1270.61\n",
      "[436]\ttraining's l2: 286.411\tvalid_1's l2: 1270.43\n",
      "[437]\ttraining's l2: 286.21\tvalid_1's l2: 1269.79\n",
      "[438]\ttraining's l2: 285.956\tvalid_1's l2: 1271.95\n",
      "[439]\ttraining's l2: 285.845\tvalid_1's l2: 1268.68\n",
      "[440]\ttraining's l2: 285.75\tvalid_1's l2: 1269.29\n",
      "[441]\ttraining's l2: 285.454\tvalid_1's l2: 1271.11\n",
      "[442]\ttraining's l2: 285.267\tvalid_1's l2: 1271.74\n",
      "[443]\ttraining's l2: 284.987\tvalid_1's l2: 1272.37\n",
      "[444]\ttraining's l2: 284.879\tvalid_1's l2: 1272.28\n",
      "[445]\ttraining's l2: 284.604\tvalid_1's l2: 1272.46\n",
      "[446]\ttraining's l2: 284.483\tvalid_1's l2: 1275.06\n",
      "[447]\ttraining's l2: 284.383\tvalid_1's l2: 1275.11\n",
      "[448]\ttraining's l2: 284.001\tvalid_1's l2: 1275.57\n",
      "[449]\ttraining's l2: 283.792\tvalid_1's l2: 1273.36\n",
      "[450]\ttraining's l2: 283.581\tvalid_1's l2: 1274.79\n",
      "[451]\ttraining's l2: 283.348\tvalid_1's l2: 1273.58\n",
      "[452]\ttraining's l2: 283.108\tvalid_1's l2: 1273.63\n",
      "[453]\ttraining's l2: 282.911\tvalid_1's l2: 1272.4\n",
      "[454]\ttraining's l2: 282.742\tvalid_1's l2: 1272.23\n",
      "[455]\ttraining's l2: 282.53\tvalid_1's l2: 1271.24\n",
      "[456]\ttraining's l2: 282.247\tvalid_1's l2: 1273.1\n",
      "[457]\ttraining's l2: 281.89\tvalid_1's l2: 1273.01\n",
      "[458]\ttraining's l2: 281.689\tvalid_1's l2: 1274.02\n",
      "[459]\ttraining's l2: 281.357\tvalid_1's l2: 1273.46\n",
      "[460]\ttraining's l2: 281.142\tvalid_1's l2: 1274.1\n",
      "[461]\ttraining's l2: 280.991\tvalid_1's l2: 1274.79\n",
      "[462]\ttraining's l2: 280.847\tvalid_1's l2: 1272.96\n",
      "[463]\ttraining's l2: 280.75\tvalid_1's l2: 1272.87\n",
      "[464]\ttraining's l2: 280.569\tvalid_1's l2: 1273.43\n",
      "[465]\ttraining's l2: 280.345\tvalid_1's l2: 1273.63\n",
      "[466]\ttraining's l2: 279.944\tvalid_1's l2: 1273.24\n",
      "[467]\ttraining's l2: 279.719\tvalid_1's l2: 1272.88\n",
      "[468]\ttraining's l2: 279.311\tvalid_1's l2: 1273.6\n",
      "[469]\ttraining's l2: 279.137\tvalid_1's l2: 1272.98\n",
      "[470]\ttraining's l2: 278.906\tvalid_1's l2: 1273.43\n",
      "[471]\ttraining's l2: 278.739\tvalid_1's l2: 1273.63\n",
      "[472]\ttraining's l2: 278.446\tvalid_1's l2: 1271.58\n",
      "[473]\ttraining's l2: 278.16\tvalid_1's l2: 1269.95\n",
      "[474]\ttraining's l2: 278.045\tvalid_1's l2: 1267.95\n",
      "[475]\ttraining's l2: 277.775\tvalid_1's l2: 1266.75\n",
      "[476]\ttraining's l2: 277.429\tvalid_1's l2: 1270.32\n",
      "[477]\ttraining's l2: 277.305\tvalid_1's l2: 1270.09\n",
      "[478]\ttraining's l2: 277.211\tvalid_1's l2: 1270.03\n",
      "[479]\ttraining's l2: 276.979\tvalid_1's l2: 1269.8\n",
      "[480]\ttraining's l2: 276.81\tvalid_1's l2: 1269.5\n",
      "[481]\ttraining's l2: 276.586\tvalid_1's l2: 1267.97\n",
      "[482]\ttraining's l2: 276.269\tvalid_1's l2: 1268.65\n",
      "[483]\ttraining's l2: 275.964\tvalid_1's l2: 1268.23\n",
      "[484]\ttraining's l2: 275.758\tvalid_1's l2: 1270.47\n",
      "[485]\ttraining's l2: 275.608\tvalid_1's l2: 1269.9\n",
      "[486]\ttraining's l2: 275.296\tvalid_1's l2: 1269.81\n",
      "[487]\ttraining's l2: 275.238\tvalid_1's l2: 1270.99\n",
      "[488]\ttraining's l2: 275.049\tvalid_1's l2: 1270.45\n",
      "[489]\ttraining's l2: 274.669\tvalid_1's l2: 1269.85\n",
      "[490]\ttraining's l2: 274.534\tvalid_1's l2: 1269.99\n",
      "[491]\ttraining's l2: 274.315\tvalid_1's l2: 1269.68\n",
      "[492]\ttraining's l2: 274.079\tvalid_1's l2: 1269.82\n",
      "[493]\ttraining's l2: 273.983\tvalid_1's l2: 1270.41\n",
      "[494]\ttraining's l2: 273.861\tvalid_1's l2: 1270.25\n",
      "[495]\ttraining's l2: 273.695\tvalid_1's l2: 1272.82\n",
      "[496]\ttraining's l2: 273.487\tvalid_1's l2: 1272.19\n",
      "[497]\ttraining's l2: 273.293\tvalid_1's l2: 1271.31\n",
      "[498]\ttraining's l2: 273.198\tvalid_1's l2: 1271.15\n",
      "[499]\ttraining's l2: 273.056\tvalid_1's l2: 1271.13\n",
      "[500]\ttraining's l2: 272.713\tvalid_1's l2: 1271.38\n",
      "[501]\ttraining's l2: 272.55\tvalid_1's l2: 1272.29\n",
      "[502]\ttraining's l2: 272.38\tvalid_1's l2: 1270.14\n",
      "[503]\ttraining's l2: 272.109\tvalid_1's l2: 1270.05\n",
      "[504]\ttraining's l2: 271.759\tvalid_1's l2: 1270.11\n",
      "[505]\ttraining's l2: 271.524\tvalid_1's l2: 1271.86\n",
      "[506]\ttraining's l2: 271.369\tvalid_1's l2: 1273.39\n",
      "[507]\ttraining's l2: 271.2\tvalid_1's l2: 1273.47\n",
      "[508]\ttraining's l2: 270.868\tvalid_1's l2: 1274.48\n",
      "[509]\ttraining's l2: 270.712\tvalid_1's l2: 1274.42\n",
      "[510]\ttraining's l2: 270.471\tvalid_1's l2: 1275.41\n",
      "[511]\ttraining's l2: 270.372\tvalid_1's l2: 1276.5\n",
      "[512]\ttraining's l2: 270.131\tvalid_1's l2: 1276.57\n",
      "[513]\ttraining's l2: 270.001\tvalid_1's l2: 1277.57\n",
      "[514]\ttraining's l2: 269.742\tvalid_1's l2: 1281.05\n",
      "[515]\ttraining's l2: 269.455\tvalid_1's l2: 1282.54\n",
      "[516]\ttraining's l2: 269.139\tvalid_1's l2: 1282.22\n",
      "[517]\ttraining's l2: 268.986\tvalid_1's l2: 1280.45\n",
      "[518]\ttraining's l2: 268.683\tvalid_1's l2: 1280.39\n",
      "[519]\ttraining's l2: 268.485\tvalid_1's l2: 1278.74\n",
      "[520]\ttraining's l2: 268.266\tvalid_1's l2: 1282.06\n",
      "[521]\ttraining's l2: 268.021\tvalid_1's l2: 1281.84\n",
      "[522]\ttraining's l2: 267.869\tvalid_1's l2: 1282.34\n",
      "[523]\ttraining's l2: 267.612\tvalid_1's l2: 1281.63\n",
      "[524]\ttraining's l2: 267.435\tvalid_1's l2: 1281.65\n",
      "[525]\ttraining's l2: 267.231\tvalid_1's l2: 1282.17\n",
      "[526]\ttraining's l2: 266.979\tvalid_1's l2: 1283.17\n",
      "[527]\ttraining's l2: 266.813\tvalid_1's l2: 1280.91\n",
      "[528]\ttraining's l2: 266.619\tvalid_1's l2: 1279.83\n",
      "[529]\ttraining's l2: 266.438\tvalid_1's l2: 1279.58\n",
      "[530]\ttraining's l2: 266.258\tvalid_1's l2: 1280.02\n",
      "[531]\ttraining's l2: 266.043\tvalid_1's l2: 1279.95\n",
      "[532]\ttraining's l2: 265.793\tvalid_1's l2: 1282.27\n",
      "[533]\ttraining's l2: 265.738\tvalid_1's l2: 1283.63\n",
      "[534]\ttraining's l2: 265.655\tvalid_1's l2: 1283.63\n",
      "[535]\ttraining's l2: 265.328\tvalid_1's l2: 1283.05\n",
      "[536]\ttraining's l2: 265.147\tvalid_1's l2: 1282.9\n",
      "[537]\ttraining's l2: 264.942\tvalid_1's l2: 1282.35\n",
      "[538]\ttraining's l2: 264.838\tvalid_1's l2: 1282.41\n",
      "[539]\ttraining's l2: 264.587\tvalid_1's l2: 1283.26\n",
      "[540]\ttraining's l2: 264.477\tvalid_1's l2: 1284.34\n",
      "[541]\ttraining's l2: 264.387\tvalid_1's l2: 1284.37\n",
      "[542]\ttraining's l2: 264.211\tvalid_1's l2: 1284.16\n",
      "[543]\ttraining's l2: 263.98\tvalid_1's l2: 1283.98\n",
      "[544]\ttraining's l2: 263.87\tvalid_1's l2: 1284.77\n",
      "[545]\ttraining's l2: 263.537\tvalid_1's l2: 1284.21\n",
      "[546]\ttraining's l2: 263.298\tvalid_1's l2: 1284.48\n",
      "[547]\ttraining's l2: 263.111\tvalid_1's l2: 1284.38\n",
      "[548]\ttraining's l2: 262.933\tvalid_1's l2: 1284.11\n",
      "[549]\ttraining's l2: 262.806\tvalid_1's l2: 1283.97\n",
      "[550]\ttraining's l2: 262.544\tvalid_1's l2: 1283.89\n",
      "[551]\ttraining's l2: 262.366\tvalid_1's l2: 1285.6\n",
      "[552]\ttraining's l2: 262.118\tvalid_1's l2: 1285.18\n",
      "[553]\ttraining's l2: 261.876\tvalid_1's l2: 1284.56\n",
      "[554]\ttraining's l2: 261.696\tvalid_1's l2: 1283.22\n",
      "[555]\ttraining's l2: 261.575\tvalid_1's l2: 1284.59\n",
      "[556]\ttraining's l2: 261.362\tvalid_1's l2: 1284.51\n",
      "[557]\ttraining's l2: 261.192\tvalid_1's l2: 1285.04\n",
      "[558]\ttraining's l2: 260.994\tvalid_1's l2: 1285.2\n",
      "[559]\ttraining's l2: 260.784\tvalid_1's l2: 1284.52\n",
      "[560]\ttraining's l2: 260.618\tvalid_1's l2: 1285.24\n",
      "[561]\ttraining's l2: 260.489\tvalid_1's l2: 1286.4\n",
      "[562]\ttraining's l2: 260.316\tvalid_1's l2: 1286.89\n",
      "[563]\ttraining's l2: 260.087\tvalid_1's l2: 1286.48\n",
      "[564]\ttraining's l2: 259.884\tvalid_1's l2: 1286.26\n",
      "[565]\ttraining's l2: 259.648\tvalid_1's l2: 1286.18\n",
      "[566]\ttraining's l2: 259.383\tvalid_1's l2: 1285.14\n",
      "[567]\ttraining's l2: 259.213\tvalid_1's l2: 1285.18\n",
      "[568]\ttraining's l2: 259.012\tvalid_1's l2: 1284.3\n",
      "[569]\ttraining's l2: 258.833\tvalid_1's l2: 1283.85\n",
      "[570]\ttraining's l2: 258.622\tvalid_1's l2: 1284.79\n",
      "[571]\ttraining's l2: 258.486\tvalid_1's l2: 1285.1\n",
      "[572]\ttraining's l2: 258.313\tvalid_1's l2: 1285.4\n",
      "[573]\ttraining's l2: 258.186\tvalid_1's l2: 1287.03\n",
      "[574]\ttraining's l2: 257.985\tvalid_1's l2: 1286.09\n",
      "[575]\ttraining's l2: 257.786\tvalid_1's l2: 1287.81\n",
      "[576]\ttraining's l2: 257.653\tvalid_1's l2: 1287.56\n",
      "[577]\ttraining's l2: 257.538\tvalid_1's l2: 1291.11\n",
      "[578]\ttraining's l2: 257.302\tvalid_1's l2: 1291.46\n",
      "[579]\ttraining's l2: 257.039\tvalid_1's l2: 1292.65\n",
      "[580]\ttraining's l2: 256.919\tvalid_1's l2: 1292.55\n",
      "[581]\ttraining's l2: 256.684\tvalid_1's l2: 1292.22\n",
      "[582]\ttraining's l2: 256.545\tvalid_1's l2: 1292.21\n",
      "[583]\ttraining's l2: 256.456\tvalid_1's l2: 1291.77\n",
      "[584]\ttraining's l2: 256.263\tvalid_1's l2: 1292.5\n",
      "[585]\ttraining's l2: 256.037\tvalid_1's l2: 1293.64\n",
      "[586]\ttraining's l2: 255.909\tvalid_1's l2: 1293.75\n",
      "[587]\ttraining's l2: 255.754\tvalid_1's l2: 1296.21\n",
      "[588]\ttraining's l2: 255.53\tvalid_1's l2: 1295.39\n",
      "[589]\ttraining's l2: 255.287\tvalid_1's l2: 1295.52\n",
      "[590]\ttraining's l2: 255.198\tvalid_1's l2: 1295.44\n",
      "[591]\ttraining's l2: 255.096\tvalid_1's l2: 1295.2\n",
      "[592]\ttraining's l2: 254.945\tvalid_1's l2: 1296.96\n",
      "[593]\ttraining's l2: 254.786\tvalid_1's l2: 1296.74\n",
      "[594]\ttraining's l2: 254.593\tvalid_1's l2: 1296.84\n",
      "[595]\ttraining's l2: 254.386\tvalid_1's l2: 1296.81\n",
      "[596]\ttraining's l2: 254.214\tvalid_1's l2: 1294.95\n",
      "[597]\ttraining's l2: 254.006\tvalid_1's l2: 1294.68\n",
      "[598]\ttraining's l2: 253.775\tvalid_1's l2: 1295.13\n",
      "[599]\ttraining's l2: 253.563\tvalid_1's l2: 1293.78\n",
      "[600]\ttraining's l2: 253.35\tvalid_1's l2: 1295.22\n",
      "[601]\ttraining's l2: 253.147\tvalid_1's l2: 1295.18\n",
      "[602]\ttraining's l2: 252.936\tvalid_1's l2: 1292.64\n",
      "[603]\ttraining's l2: 252.702\tvalid_1's l2: 1292.56\n",
      "[604]\ttraining's l2: 252.519\tvalid_1's l2: 1292.36\n",
      "[605]\ttraining's l2: 252.332\tvalid_1's l2: 1291.07\n",
      "[606]\ttraining's l2: 252.153\tvalid_1's l2: 1291.04\n",
      "[607]\ttraining's l2: 251.867\tvalid_1's l2: 1291.33\n",
      "[608]\ttraining's l2: 251.639\tvalid_1's l2: 1292.22\n",
      "[609]\ttraining's l2: 251.565\tvalid_1's l2: 1292.18\n",
      "[610]\ttraining's l2: 251.41\tvalid_1's l2: 1292.05\n",
      "[611]\ttraining's l2: 251.196\tvalid_1's l2: 1291.44\n",
      "[612]\ttraining's l2: 251.031\tvalid_1's l2: 1290.92\n",
      "[613]\ttraining's l2: 250.791\tvalid_1's l2: 1292.26\n",
      "[614]\ttraining's l2: 250.699\tvalid_1's l2: 1293.32\n",
      "[615]\ttraining's l2: 250.47\tvalid_1's l2: 1293.08\n",
      "[616]\ttraining's l2: 250.415\tvalid_1's l2: 1293.92\n",
      "[617]\ttraining's l2: 250.243\tvalid_1's l2: 1294.68\n",
      "[618]\ttraining's l2: 250.109\tvalid_1's l2: 1294.49\n",
      "[619]\ttraining's l2: 249.994\tvalid_1's l2: 1294.45\n",
      "[620]\ttraining's l2: 249.862\tvalid_1's l2: 1293.64\n",
      "[621]\ttraining's l2: 249.715\tvalid_1's l2: 1294.16\n",
      "[622]\ttraining's l2: 249.625\tvalid_1's l2: 1294.48\n",
      "[623]\ttraining's l2: 249.429\tvalid_1's l2: 1293.88\n",
      "[624]\ttraining's l2: 249.216\tvalid_1's l2: 1291.94\n",
      "[625]\ttraining's l2: 249.08\tvalid_1's l2: 1292.74\n",
      "[626]\ttraining's l2: 249\tvalid_1's l2: 1292.23\n",
      "[627]\ttraining's l2: 248.862\tvalid_1's l2: 1292.07\n",
      "[628]\ttraining's l2: 248.703\tvalid_1's l2: 1292\n",
      "[629]\ttraining's l2: 248.446\tvalid_1's l2: 1289.54\n",
      "[630]\ttraining's l2: 248.302\tvalid_1's l2: 1289.98\n",
      "[631]\ttraining's l2: 248.149\tvalid_1's l2: 1289.8\n",
      "[632]\ttraining's l2: 248.031\tvalid_1's l2: 1289.73\n",
      "[633]\ttraining's l2: 247.873\tvalid_1's l2: 1289.49\n",
      "[634]\ttraining's l2: 247.763\tvalid_1's l2: 1289.62\n",
      "[635]\ttraining's l2: 247.647\tvalid_1's l2: 1290.22\n",
      "[636]\ttraining's l2: 247.406\tvalid_1's l2: 1290.05\n",
      "[637]\ttraining's l2: 247.201\tvalid_1's l2: 1289.97\n",
      "[638]\ttraining's l2: 247.092\tvalid_1's l2: 1287.7\n",
      "[639]\ttraining's l2: 246.961\tvalid_1's l2: 1283.84\n",
      "[640]\ttraining's l2: 246.877\tvalid_1's l2: 1281.84\n",
      "[641]\ttraining's l2: 246.646\tvalid_1's l2: 1281.37\n",
      "[642]\ttraining's l2: 246.469\tvalid_1's l2: 1280.18\n",
      "[643]\ttraining's l2: 246.395\tvalid_1's l2: 1282.2\n",
      "[644]\ttraining's l2: 246.226\tvalid_1's l2: 1282\n",
      "[645]\ttraining's l2: 246.076\tvalid_1's l2: 1281.4\n",
      "[646]\ttraining's l2: 245.934\tvalid_1's l2: 1282.9\n",
      "[647]\ttraining's l2: 245.848\tvalid_1's l2: 1284.7\n",
      "[648]\ttraining's l2: 245.742\tvalid_1's l2: 1284.92\n",
      "[649]\ttraining's l2: 245.509\tvalid_1's l2: 1285.3\n",
      "[650]\ttraining's l2: 245.448\tvalid_1's l2: 1285.26\n",
      "[651]\ttraining's l2: 245.258\tvalid_1's l2: 1285.31\n",
      "[652]\ttraining's l2: 245.102\tvalid_1's l2: 1284.41\n",
      "[653]\ttraining's l2: 244.895\tvalid_1's l2: 1284.31\n",
      "[654]\ttraining's l2: 244.767\tvalid_1's l2: 1284.54\n",
      "[655]\ttraining's l2: 244.638\tvalid_1's l2: 1284.47\n",
      "[656]\ttraining's l2: 244.526\tvalid_1's l2: 1283.64\n",
      "[657]\ttraining's l2: 244.413\tvalid_1's l2: 1284.14\n",
      "[658]\ttraining's l2: 244.3\tvalid_1's l2: 1281.33\n",
      "[659]\ttraining's l2: 244.225\tvalid_1's l2: 1281.39\n",
      "[660]\ttraining's l2: 244.126\tvalid_1's l2: 1282.36\n",
      "[661]\ttraining's l2: 243.902\tvalid_1's l2: 1282.09\n",
      "[662]\ttraining's l2: 243.748\tvalid_1's l2: 1282.05\n",
      "[663]\ttraining's l2: 243.591\tvalid_1's l2: 1281.33\n",
      "[664]\ttraining's l2: 243.443\tvalid_1's l2: 1283.3\n",
      "[665]\ttraining's l2: 243.243\tvalid_1's l2: 1283.4\n",
      "[666]\ttraining's l2: 243.165\tvalid_1's l2: 1283.33\n",
      "[667]\ttraining's l2: 242.891\tvalid_1's l2: 1283.02\n",
      "[668]\ttraining's l2: 242.816\tvalid_1's l2: 1282.96\n",
      "[669]\ttraining's l2: 242.694\tvalid_1's l2: 1282.99\n",
      "[670]\ttraining's l2: 242.561\tvalid_1's l2: 1283.17\n",
      "[671]\ttraining's l2: 242.431\tvalid_1's l2: 1283.05\n",
      "[672]\ttraining's l2: 242.363\tvalid_1's l2: 1282.77\n",
      "[673]\ttraining's l2: 242.322\tvalid_1's l2: 1284.07\n",
      "[674]\ttraining's l2: 242.158\tvalid_1's l2: 1283.94\n",
      "[675]\ttraining's l2: 241.972\tvalid_1's l2: 1285.37\n",
      "[676]\ttraining's l2: 241.826\tvalid_1's l2: 1285.18\n",
      "[677]\ttraining's l2: 241.695\tvalid_1's l2: 1285.32\n",
      "[678]\ttraining's l2: 241.495\tvalid_1's l2: 1284.86\n",
      "[679]\ttraining's l2: 241.395\tvalid_1's l2: 1281.67\n",
      "[680]\ttraining's l2: 241.283\tvalid_1's l2: 1281.48\n",
      "[681]\ttraining's l2: 241.107\tvalid_1's l2: 1282.35\n",
      "[682]\ttraining's l2: 241.03\tvalid_1's l2: 1282.44\n",
      "[683]\ttraining's l2: 240.942\tvalid_1's l2: 1281.97\n",
      "[684]\ttraining's l2: 240.792\tvalid_1's l2: 1281.9\n",
      "[685]\ttraining's l2: 240.631\tvalid_1's l2: 1281.99\n",
      "[686]\ttraining's l2: 240.475\tvalid_1's l2: 1282.14\n",
      "[687]\ttraining's l2: 240.365\tvalid_1's l2: 1281.84\n",
      "[688]\ttraining's l2: 240.119\tvalid_1's l2: 1282.03\n",
      "[689]\ttraining's l2: 240.022\tvalid_1's l2: 1282.24\n",
      "[690]\ttraining's l2: 239.845\tvalid_1's l2: 1282.48\n",
      "[691]\ttraining's l2: 239.7\tvalid_1's l2: 1282.29\n",
      "[692]\ttraining's l2: 239.582\tvalid_1's l2: 1282.3\n",
      "[693]\ttraining's l2: 239.405\tvalid_1's l2: 1283.93\n",
      "[694]\ttraining's l2: 239.204\tvalid_1's l2: 1284.17\n",
      "[695]\ttraining's l2: 239.047\tvalid_1's l2: 1283.95\n",
      "[696]\ttraining's l2: 238.922\tvalid_1's l2: 1284.04\n",
      "[697]\ttraining's l2: 238.76\tvalid_1's l2: 1285.09\n",
      "[698]\ttraining's l2: 238.699\tvalid_1's l2: 1283.21\n",
      "[699]\ttraining's l2: 238.581\tvalid_1's l2: 1283.09\n",
      "[700]\ttraining's l2: 238.441\tvalid_1's l2: 1282.95\n",
      "[701]\ttraining's l2: 238.365\tvalid_1's l2: 1282.53\n",
      "[702]\ttraining's l2: 238.285\tvalid_1's l2: 1282.5\n",
      "[703]\ttraining's l2: 238.036\tvalid_1's l2: 1281.97\n",
      "[704]\ttraining's l2: 237.834\tvalid_1's l2: 1281.93\n",
      "[705]\ttraining's l2: 237.707\tvalid_1's l2: 1282.06\n",
      "[706]\ttraining's l2: 237.644\tvalid_1's l2: 1281.97\n",
      "[707]\ttraining's l2: 237.467\tvalid_1's l2: 1282.06\n",
      "[708]\ttraining's l2: 237.348\tvalid_1's l2: 1281.95\n",
      "[709]\ttraining's l2: 237.168\tvalid_1's l2: 1281.83\n",
      "[710]\ttraining's l2: 236.943\tvalid_1's l2: 1282.66\n",
      "[711]\ttraining's l2: 236.868\tvalid_1's l2: 1282.7\n",
      "[712]\ttraining's l2: 236.712\tvalid_1's l2: 1280.66\n",
      "[713]\ttraining's l2: 236.611\tvalid_1's l2: 1284.54\n",
      "[714]\ttraining's l2: 236.477\tvalid_1's l2: 1284\n",
      "[715]\ttraining's l2: 236.378\tvalid_1's l2: 1285.25\n",
      "[716]\ttraining's l2: 236.198\tvalid_1's l2: 1286.78\n",
      "[717]\ttraining's l2: 236.059\tvalid_1's l2: 1287.81\n",
      "[718]\ttraining's l2: 235.959\tvalid_1's l2: 1287.7\n",
      "[719]\ttraining's l2: 235.823\tvalid_1's l2: 1285.12\n",
      "[720]\ttraining's l2: 235.664\tvalid_1's l2: 1285.62\n",
      "[721]\ttraining's l2: 235.55\tvalid_1's l2: 1288.38\n",
      "[722]\ttraining's l2: 235.397\tvalid_1's l2: 1288.27\n",
      "[723]\ttraining's l2: 235.338\tvalid_1's l2: 1288.6\n",
      "[724]\ttraining's l2: 235.202\tvalid_1's l2: 1288.06\n",
      "[725]\ttraining's l2: 235.049\tvalid_1's l2: 1287.96\n",
      "[726]\ttraining's l2: 234.927\tvalid_1's l2: 1288.95\n",
      "[727]\ttraining's l2: 234.801\tvalid_1's l2: 1288.89\n",
      "[728]\ttraining's l2: 234.614\tvalid_1's l2: 1288.26\n",
      "[729]\ttraining's l2: 234.47\tvalid_1's l2: 1286.36\n",
      "[730]\ttraining's l2: 234.253\tvalid_1's l2: 1286.64\n",
      "[731]\ttraining's l2: 234.205\tvalid_1's l2: 1286.47\n",
      "[732]\ttraining's l2: 234.092\tvalid_1's l2: 1285.12\n",
      "[733]\ttraining's l2: 234.048\tvalid_1's l2: 1285.91\n",
      "[734]\ttraining's l2: 233.934\tvalid_1's l2: 1285.88\n",
      "[735]\ttraining's l2: 233.776\tvalid_1's l2: 1285.51\n",
      "[736]\ttraining's l2: 233.637\tvalid_1's l2: 1286.29\n",
      "[737]\ttraining's l2: 233.472\tvalid_1's l2: 1285.46\n",
      "[738]\ttraining's l2: 233.363\tvalid_1's l2: 1285.57\n",
      "[739]\ttraining's l2: 233.247\tvalid_1's l2: 1285.93\n",
      "[740]\ttraining's l2: 233.029\tvalid_1's l2: 1285.03\n",
      "[741]\ttraining's l2: 232.929\tvalid_1's l2: 1284.91\n",
      "[742]\ttraining's l2: 232.876\tvalid_1's l2: 1284.84\n",
      "[743]\ttraining's l2: 232.763\tvalid_1's l2: 1284.88\n",
      "[744]\ttraining's l2: 232.541\tvalid_1's l2: 1285.17\n",
      "[745]\ttraining's l2: 232.396\tvalid_1's l2: 1285.75\n",
      "[746]\ttraining's l2: 232.35\tvalid_1's l2: 1286.5\n",
      "[747]\ttraining's l2: 232.238\tvalid_1's l2: 1285.48\n",
      "[748]\ttraining's l2: 232.117\tvalid_1's l2: 1285.42\n",
      "[749]\ttraining's l2: 232.007\tvalid_1's l2: 1288.86\n",
      "[750]\ttraining's l2: 231.901\tvalid_1's l2: 1288.98\n",
      "[751]\ttraining's l2: 231.715\tvalid_1's l2: 1288.73\n",
      "[752]\ttraining's l2: 231.62\tvalid_1's l2: 1288.63\n",
      "[753]\ttraining's l2: 231.441\tvalid_1's l2: 1288.65\n",
      "[754]\ttraining's l2: 231.378\tvalid_1's l2: 1288.71\n",
      "[755]\ttraining's l2: 231.307\tvalid_1's l2: 1288.78\n",
      "[756]\ttraining's l2: 231.156\tvalid_1's l2: 1288.71\n",
      "[757]\ttraining's l2: 230.723\tvalid_1's l2: 1288.51\n",
      "[758]\ttraining's l2: 230.555\tvalid_1's l2: 1287.35\n",
      "[759]\ttraining's l2: 230.456\tvalid_1's l2: 1287.4\n",
      "[760]\ttraining's l2: 230.348\tvalid_1's l2: 1287.45\n",
      "[761]\ttraining's l2: 230.25\tvalid_1's l2: 1287.62\n",
      "[762]\ttraining's l2: 230.14\tvalid_1's l2: 1287.6\n",
      "[763]\ttraining's l2: 230.058\tvalid_1's l2: 1287.49\n",
      "[764]\ttraining's l2: 229.915\tvalid_1's l2: 1287.88\n",
      "[765]\ttraining's l2: 229.797\tvalid_1's l2: 1287.83\n",
      "[766]\ttraining's l2: 229.59\tvalid_1's l2: 1286.56\n",
      "[767]\ttraining's l2: 229.414\tvalid_1's l2: 1287.79\n",
      "[768]\ttraining's l2: 229.314\tvalid_1's l2: 1287.97\n",
      "[769]\ttraining's l2: 229.095\tvalid_1's l2: 1287.64\n",
      "[770]\ttraining's l2: 228.979\tvalid_1's l2: 1287.48\n",
      "[771]\ttraining's l2: 228.857\tvalid_1's l2: 1288.3\n",
      "[772]\ttraining's l2: 228.645\tvalid_1's l2: 1288.64\n",
      "[773]\ttraining's l2: 228.527\tvalid_1's l2: 1288.47\n",
      "[774]\ttraining's l2: 228.395\tvalid_1's l2: 1288.89\n",
      "[775]\ttraining's l2: 228.239\tvalid_1's l2: 1290.27\n",
      "[776]\ttraining's l2: 228.126\tvalid_1's l2: 1290.11\n",
      "[777]\ttraining's l2: 227.962\tvalid_1's l2: 1292.04\n",
      "[778]\ttraining's l2: 227.805\tvalid_1's l2: 1292.24\n",
      "[779]\ttraining's l2: 227.709\tvalid_1's l2: 1292.12\n",
      "[780]\ttraining's l2: 227.52\tvalid_1's l2: 1291.22\n",
      "[781]\ttraining's l2: 227.442\tvalid_1's l2: 1291.07\n",
      "[782]\ttraining's l2: 227.227\tvalid_1's l2: 1290.67\n",
      "[783]\ttraining's l2: 227.045\tvalid_1's l2: 1291.29\n",
      "[784]\ttraining's l2: 226.928\tvalid_1's l2: 1291.09\n",
      "[785]\ttraining's l2: 226.786\tvalid_1's l2: 1292.23\n",
      "[786]\ttraining's l2: 226.607\tvalid_1's l2: 1293.85\n",
      "[787]\ttraining's l2: 226.469\tvalid_1's l2: 1293.86\n",
      "[788]\ttraining's l2: 226.33\tvalid_1's l2: 1293.8\n",
      "[789]\ttraining's l2: 226.144\tvalid_1's l2: 1293.74\n",
      "[790]\ttraining's l2: 226.049\tvalid_1's l2: 1295.38\n",
      "[791]\ttraining's l2: 226.007\tvalid_1's l2: 1296.49\n",
      "[792]\ttraining's l2: 225.899\tvalid_1's l2: 1296.45\n",
      "[793]\ttraining's l2: 225.737\tvalid_1's l2: 1295.54\n",
      "[794]\ttraining's l2: 225.643\tvalid_1's l2: 1295.31\n",
      "[795]\ttraining's l2: 225.493\tvalid_1's l2: 1295.23\n",
      "[796]\ttraining's l2: 225.372\tvalid_1's l2: 1295.17\n",
      "[797]\ttraining's l2: 225.246\tvalid_1's l2: 1295.42\n",
      "[798]\ttraining's l2: 225.123\tvalid_1's l2: 1293.86\n",
      "[799]\ttraining's l2: 225.079\tvalid_1's l2: 1294\n",
      "[800]\ttraining's l2: 224.938\tvalid_1's l2: 1294.12\n",
      "[801]\ttraining's l2: 224.891\tvalid_1's l2: 1294.03\n",
      "[802]\ttraining's l2: 224.845\tvalid_1's l2: 1293.73\n",
      "[803]\ttraining's l2: 224.706\tvalid_1's l2: 1294.47\n",
      "[804]\ttraining's l2: 224.607\tvalid_1's l2: 1294.93\n",
      "[805]\ttraining's l2: 224.509\tvalid_1's l2: 1294.42\n",
      "[806]\ttraining's l2: 224.366\tvalid_1's l2: 1295.22\n",
      "[807]\ttraining's l2: 224.273\tvalid_1's l2: 1295.07\n",
      "[808]\ttraining's l2: 224.018\tvalid_1's l2: 1295.63\n",
      "[809]\ttraining's l2: 223.919\tvalid_1's l2: 1294.16\n",
      "[810]\ttraining's l2: 223.716\tvalid_1's l2: 1294.52\n",
      "[811]\ttraining's l2: 223.581\tvalid_1's l2: 1294.61\n",
      "[812]\ttraining's l2: 223.466\tvalid_1's l2: 1294.47\n",
      "[813]\ttraining's l2: 223.413\tvalid_1's l2: 1294.8\n",
      "[814]\ttraining's l2: 223.267\tvalid_1's l2: 1294.89\n",
      "[815]\ttraining's l2: 223.149\tvalid_1's l2: 1294.98\n",
      "[816]\ttraining's l2: 223.015\tvalid_1's l2: 1294.52\n",
      "[817]\ttraining's l2: 222.869\tvalid_1's l2: 1296.09\n",
      "[818]\ttraining's l2: 222.819\tvalid_1's l2: 1296.09\n",
      "[819]\ttraining's l2: 222.727\tvalid_1's l2: 1295.99\n",
      "[820]\ttraining's l2: 222.664\tvalid_1's l2: 1295.12\n",
      "[821]\ttraining's l2: 222.57\tvalid_1's l2: 1294.84\n",
      "[822]\ttraining's l2: 222.432\tvalid_1's l2: 1295.38\n",
      "[823]\ttraining's l2: 222.35\tvalid_1's l2: 1292.4\n",
      "[824]\ttraining's l2: 222.098\tvalid_1's l2: 1292.71\n",
      "[825]\ttraining's l2: 221.993\tvalid_1's l2: 1292.47\n",
      "[826]\ttraining's l2: 221.894\tvalid_1's l2: 1292.42\n",
      "[827]\ttraining's l2: 221.835\tvalid_1's l2: 1293.12\n",
      "[828]\ttraining's l2: 221.77\tvalid_1's l2: 1293.16\n",
      "[829]\ttraining's l2: 221.734\tvalid_1's l2: 1292.56\n",
      "[830]\ttraining's l2: 221.566\tvalid_1's l2: 1293.3\n",
      "[831]\ttraining's l2: 221.416\tvalid_1's l2: 1294.88\n",
      "[832]\ttraining's l2: 221.275\tvalid_1's l2: 1296.73\n",
      "[833]\ttraining's l2: 221.192\tvalid_1's l2: 1294.79\n",
      "[834]\ttraining's l2: 221.002\tvalid_1's l2: 1294.44\n",
      "[835]\ttraining's l2: 220.919\tvalid_1's l2: 1296.4\n",
      "[836]\ttraining's l2: 220.81\tvalid_1's l2: 1296.49\n",
      "[837]\ttraining's l2: 220.684\tvalid_1's l2: 1297.21\n",
      "[838]\ttraining's l2: 220.444\tvalid_1's l2: 1298.93\n",
      "[839]\ttraining's l2: 220.296\tvalid_1's l2: 1298.83\n",
      "[840]\ttraining's l2: 220.198\tvalid_1's l2: 1297.44\n",
      "[841]\ttraining's l2: 220.095\tvalid_1's l2: 1298.34\n",
      "[842]\ttraining's l2: 220.039\tvalid_1's l2: 1297.96\n",
      "[843]\ttraining's l2: 219.832\tvalid_1's l2: 1298.11\n",
      "[844]\ttraining's l2: 219.726\tvalid_1's l2: 1298.89\n",
      "[845]\ttraining's l2: 219.666\tvalid_1's l2: 1297.88\n",
      "[846]\ttraining's l2: 219.536\tvalid_1's l2: 1297.65\n",
      "[847]\ttraining's l2: 219.438\tvalid_1's l2: 1297.55\n",
      "[848]\ttraining's l2: 219.33\tvalid_1's l2: 1296.08\n",
      "[849]\ttraining's l2: 219.224\tvalid_1's l2: 1296.25\n",
      "[850]\ttraining's l2: 219.072\tvalid_1's l2: 1296.08\n",
      "[851]\ttraining's l2: 218.963\tvalid_1's l2: 1296.16\n",
      "[852]\ttraining's l2: 218.797\tvalid_1's l2: 1296.5\n",
      "[853]\ttraining's l2: 218.682\tvalid_1's l2: 1296.36\n",
      "[854]\ttraining's l2: 218.538\tvalid_1's l2: 1296.08\n",
      "[855]\ttraining's l2: 218.441\tvalid_1's l2: 1296.81\n",
      "[856]\ttraining's l2: 218.339\tvalid_1's l2: 1296.79\n",
      "[857]\ttraining's l2: 218.231\tvalid_1's l2: 1297.16\n",
      "[858]\ttraining's l2: 218.106\tvalid_1's l2: 1297.23\n",
      "[859]\ttraining's l2: 217.944\tvalid_1's l2: 1296.78\n",
      "[860]\ttraining's l2: 217.843\tvalid_1's l2: 1295.36\n",
      "[861]\ttraining's l2: 217.809\tvalid_1's l2: 1296.05\n",
      "[862]\ttraining's l2: 217.67\tvalid_1's l2: 1296.93\n",
      "[863]\ttraining's l2: 217.436\tvalid_1's l2: 1296.89\n",
      "[864]\ttraining's l2: 217.256\tvalid_1's l2: 1296.29\n",
      "[865]\ttraining's l2: 217.11\tvalid_1's l2: 1296.45\n",
      "[866]\ttraining's l2: 217.003\tvalid_1's l2: 1296.45\n",
      "[867]\ttraining's l2: 216.849\tvalid_1's l2: 1296.48\n",
      "[868]\ttraining's l2: 216.672\tvalid_1's l2: 1296.67\n",
      "[869]\ttraining's l2: 216.581\tvalid_1's l2: 1297.98\n",
      "[870]\ttraining's l2: 216.507\tvalid_1's l2: 1297.56\n",
      "[871]\ttraining's l2: 216.374\tvalid_1's l2: 1297.83\n",
      "[872]\ttraining's l2: 216.287\tvalid_1's l2: 1297.73\n",
      "[873]\ttraining's l2: 216.136\tvalid_1's l2: 1298.1\n",
      "[874]\ttraining's l2: 216.052\tvalid_1's l2: 1297.66\n",
      "[875]\ttraining's l2: 216.011\tvalid_1's l2: 1297.78\n",
      "[876]\ttraining's l2: 215.943\tvalid_1's l2: 1297.42\n",
      "[877]\ttraining's l2: 215.898\tvalid_1's l2: 1297.46\n",
      "[878]\ttraining's l2: 215.733\tvalid_1's l2: 1297.26\n",
      "[879]\ttraining's l2: 215.65\tvalid_1's l2: 1297.26\n",
      "[880]\ttraining's l2: 215.543\tvalid_1's l2: 1297.17\n",
      "[881]\ttraining's l2: 215.468\tvalid_1's l2: 1297.16\n",
      "[882]\ttraining's l2: 215.346\tvalid_1's l2: 1297.3\n",
      "[883]\ttraining's l2: 215.283\tvalid_1's l2: 1297.36\n",
      "[884]\ttraining's l2: 215.208\tvalid_1's l2: 1298.46\n",
      "[885]\ttraining's l2: 215.094\tvalid_1's l2: 1298.42\n",
      "[886]\ttraining's l2: 214.942\tvalid_1's l2: 1298.01\n",
      "[887]\ttraining's l2: 214.864\tvalid_1's l2: 1297.62\n",
      "[888]\ttraining's l2: 214.804\tvalid_1's l2: 1296.02\n",
      "[889]\ttraining's l2: 214.698\tvalid_1's l2: 1296.12\n",
      "[890]\ttraining's l2: 214.55\tvalid_1's l2: 1296.92\n",
      "[891]\ttraining's l2: 214.466\tvalid_1's l2: 1296.83\n",
      "[892]\ttraining's l2: 214.385\tvalid_1's l2: 1296.88\n",
      "[893]\ttraining's l2: 214.309\tvalid_1's l2: 1298.26\n",
      "[894]\ttraining's l2: 214.279\tvalid_1's l2: 1297.77\n",
      "[895]\ttraining's l2: 214.172\tvalid_1's l2: 1295.37\n",
      "[896]\ttraining's l2: 214.061\tvalid_1's l2: 1295.32\n",
      "[897]\ttraining's l2: 213.982\tvalid_1's l2: 1295.73\n",
      "[898]\ttraining's l2: 213.926\tvalid_1's l2: 1294.31\n",
      "[899]\ttraining's l2: 213.886\tvalid_1's l2: 1294.66\n",
      "[900]\ttraining's l2: 213.792\tvalid_1's l2: 1296.3\n",
      "[901]\ttraining's l2: 213.705\tvalid_1's l2: 1296.23\n",
      "[902]\ttraining's l2: 213.607\tvalid_1's l2: 1297.13\n",
      "[903]\ttraining's l2: 213.515\tvalid_1's l2: 1297.13\n",
      "[904]\ttraining's l2: 213.331\tvalid_1's l2: 1298.75\n",
      "[905]\ttraining's l2: 213.232\tvalid_1's l2: 1297.29\n",
      "[906]\ttraining's l2: 213.054\tvalid_1's l2: 1298.24\n",
      "[907]\ttraining's l2: 212.916\tvalid_1's l2: 1298.2\n",
      "[908]\ttraining's l2: 212.785\tvalid_1's l2: 1298.1\n",
      "[909]\ttraining's l2: 212.629\tvalid_1's l2: 1298.9\n",
      "[910]\ttraining's l2: 212.553\tvalid_1's l2: 1298.86\n",
      "[911]\ttraining's l2: 212.41\tvalid_1's l2: 1299.04\n",
      "[912]\ttraining's l2: 212.341\tvalid_1's l2: 1298.96\n",
      "[913]\ttraining's l2: 212.192\tvalid_1's l2: 1300.43\n",
      "[914]\ttraining's l2: 212.01\tvalid_1's l2: 1299.97\n",
      "[915]\ttraining's l2: 211.881\tvalid_1's l2: 1301.05\n",
      "[916]\ttraining's l2: 211.708\tvalid_1's l2: 1300.3\n",
      "[917]\ttraining's l2: 211.543\tvalid_1's l2: 1300.25\n",
      "[918]\ttraining's l2: 211.424\tvalid_1's l2: 1298.8\n",
      "[919]\ttraining's l2: 211.358\tvalid_1's l2: 1298.84\n",
      "[920]\ttraining's l2: 211.297\tvalid_1's l2: 1298.84\n",
      "[921]\ttraining's l2: 211.247\tvalid_1's l2: 1297.59\n",
      "[922]\ttraining's l2: 211.192\tvalid_1's l2: 1297.12\n",
      "[923]\ttraining's l2: 211.039\tvalid_1's l2: 1296.66\n",
      "[924]\ttraining's l2: 210.931\tvalid_1's l2: 1296.8\n",
      "[925]\ttraining's l2: 210.832\tvalid_1's l2: 1297.27\n",
      "[926]\ttraining's l2: 210.737\tvalid_1's l2: 1294.67\n",
      "[927]\ttraining's l2: 210.695\tvalid_1's l2: 1294.19\n",
      "[928]\ttraining's l2: 210.549\tvalid_1's l2: 1294.12\n",
      "[929]\ttraining's l2: 210.475\tvalid_1's l2: 1294.33\n",
      "[930]\ttraining's l2: 210.389\tvalid_1's l2: 1294.23\n",
      "[931]\ttraining's l2: 210.361\tvalid_1's l2: 1293.78\n",
      "[932]\ttraining's l2: 210.299\tvalid_1's l2: 1292.3\n",
      "[933]\ttraining's l2: 210.238\tvalid_1's l2: 1292.25\n",
      "[934]\ttraining's l2: 210.109\tvalid_1's l2: 1292.27\n",
      "[935]\ttraining's l2: 210.005\tvalid_1's l2: 1291.86\n",
      "[936]\ttraining's l2: 209.867\tvalid_1's l2: 1291.79\n",
      "[937]\ttraining's l2: 209.748\tvalid_1's l2: 1291.84\n",
      "[938]\ttraining's l2: 209.686\tvalid_1's l2: 1291.8\n",
      "[939]\ttraining's l2: 209.644\tvalid_1's l2: 1291.73\n",
      "[940]\ttraining's l2: 209.478\tvalid_1's l2: 1292.11\n",
      "[941]\ttraining's l2: 209.323\tvalid_1's l2: 1291.9\n",
      "[942]\ttraining's l2: 209.206\tvalid_1's l2: 1291.8\n",
      "[943]\ttraining's l2: 209.105\tvalid_1's l2: 1291.83\n",
      "[944]\ttraining's l2: 208.911\tvalid_1's l2: 1292.34\n",
      "[945]\ttraining's l2: 208.817\tvalid_1's l2: 1292.89\n",
      "[946]\ttraining's l2: 208.653\tvalid_1's l2: 1291.06\n",
      "[947]\ttraining's l2: 208.58\tvalid_1's l2: 1290.49\n",
      "[948]\ttraining's l2: 208.468\tvalid_1's l2: 1292.23\n",
      "[949]\ttraining's l2: 208.352\tvalid_1's l2: 1291.55\n",
      "[950]\ttraining's l2: 208.253\tvalid_1's l2: 1291.71\n",
      "[951]\ttraining's l2: 208.155\tvalid_1's l2: 1292.78\n",
      "[952]\ttraining's l2: 208.104\tvalid_1's l2: 1291.44\n",
      "[953]\ttraining's l2: 208.003\tvalid_1's l2: 1291.51\n",
      "[954]\ttraining's l2: 207.864\tvalid_1's l2: 1290.23\n",
      "[955]\ttraining's l2: 207.835\tvalid_1's l2: 1291.37\n",
      "[956]\ttraining's l2: 207.806\tvalid_1's l2: 1292.78\n",
      "[957]\ttraining's l2: 207.737\tvalid_1's l2: 1294.36\n",
      "[958]\ttraining's l2: 207.654\tvalid_1's l2: 1294.79\n",
      "[959]\ttraining's l2: 207.472\tvalid_1's l2: 1294.4\n",
      "[960]\ttraining's l2: 207.295\tvalid_1's l2: 1293.42\n",
      "[961]\ttraining's l2: 207.195\tvalid_1's l2: 1290.68\n",
      "[962]\ttraining's l2: 207.02\tvalid_1's l2: 1291.11\n",
      "[963]\ttraining's l2: 206.891\tvalid_1's l2: 1290.73\n",
      "[964]\ttraining's l2: 206.771\tvalid_1's l2: 1290.4\n",
      "[965]\ttraining's l2: 206.678\tvalid_1's l2: 1290.15\n",
      "[966]\ttraining's l2: 206.592\tvalid_1's l2: 1289.78\n",
      "[967]\ttraining's l2: 206.439\tvalid_1's l2: 1289.96\n",
      "[968]\ttraining's l2: 206.278\tvalid_1's l2: 1290.44\n",
      "[969]\ttraining's l2: 206.176\tvalid_1's l2: 1290.39\n",
      "[970]\ttraining's l2: 206.075\tvalid_1's l2: 1290.2\n",
      "[971]\ttraining's l2: 205.994\tvalid_1's l2: 1290.24\n",
      "[972]\ttraining's l2: 205.891\tvalid_1's l2: 1290.28\n",
      "[973]\ttraining's l2: 205.782\tvalid_1's l2: 1290.23\n",
      "[974]\ttraining's l2: 205.597\tvalid_1's l2: 1290.6\n",
      "[975]\ttraining's l2: 205.519\tvalid_1's l2: 1290.59\n",
      "[976]\ttraining's l2: 205.32\tvalid_1's l2: 1291.64\n",
      "[977]\ttraining's l2: 205.128\tvalid_1's l2: 1289.63\n",
      "[978]\ttraining's l2: 205.064\tvalid_1's l2: 1289.44\n",
      "[979]\ttraining's l2: 204.984\tvalid_1's l2: 1289.51\n",
      "[980]\ttraining's l2: 204.84\tvalid_1's l2: 1289.87\n",
      "[981]\ttraining's l2: 204.732\tvalid_1's l2: 1290.25\n",
      "[982]\ttraining's l2: 204.613\tvalid_1's l2: 1290.02\n",
      "[983]\ttraining's l2: 204.54\tvalid_1's l2: 1288.81\n",
      "[984]\ttraining's l2: 204.39\tvalid_1's l2: 1289.5\n",
      "[985]\ttraining's l2: 204.305\tvalid_1's l2: 1289.36\n",
      "[986]\ttraining's l2: 204.209\tvalid_1's l2: 1289.63\n",
      "[987]\ttraining's l2: 204.082\tvalid_1's l2: 1289.06\n",
      "[988]\ttraining's l2: 204.056\tvalid_1's l2: 1290.23\n",
      "[989]\ttraining's l2: 203.935\tvalid_1's l2: 1288.52\n",
      "[990]\ttraining's l2: 203.866\tvalid_1's l2: 1288.5\n",
      "[991]\ttraining's l2: 203.842\tvalid_1's l2: 1289.93\n",
      "[992]\ttraining's l2: 203.716\tvalid_1's l2: 1289.9\n",
      "[993]\ttraining's l2: 203.657\tvalid_1's l2: 1290.73\n",
      "[994]\ttraining's l2: 203.612\tvalid_1's l2: 1291.83\n",
      "[995]\ttraining's l2: 203.442\tvalid_1's l2: 1291.62\n",
      "[996]\ttraining's l2: 203.372\tvalid_1's l2: 1291.54\n",
      "[997]\ttraining's l2: 203.228\tvalid_1's l2: 1292.26\n",
      "[998]\ttraining's l2: 203.162\tvalid_1's l2: 1289.37\n",
      "[999]\ttraining's l2: 203.108\tvalid_1's l2: 1289.37\n",
      "[1000]\ttraining's l2: 202.949\tvalid_1's l2: 1290.99\n",
      "Время обучения: 672.3152 сек\n",
      "Время предсказания: 0.012046 сек\n",
      "LightGBM RMSE (на валидации): 35.93039240338093\n"
     ]
    }
   ],
   "source": [
    "lgb_train = lgb.Dataset(train_features,train_target)\n",
    "lgb_valid = lgb.Dataset(valid_features,valid_target, reference=lgb_train)\n",
    "parameters_light = {\n",
    "    'metric': 'l2',\n",
    "    'max_depth': 10,\n",
    "    'random_state': RANDOM_STATE,\n",
    "    'learning_rate': 0.1,\n",
    "    'force_row_wise': True,\n",
    "    'num_leaves': 5\n",
    "}\n",
    "\n",
    "# Измерение времени обучения\n",
    "start_train = time.time()\n",
    "light = lgb.train(\n",
    "    parameters_light,\n",
    "    lgb_train,\n",
    "    num_boost_round=1000,\n",
    "    valid_sets=[lgb_train, lgb_valid]\n",
    ")\n",
    "end_train = time.time()\n",
    "print(f\"Время обучения: {end_train - start_train:.4f} сек\")\n",
    "# Измерение времени предсказания\n",
    "start_pred = time.time()\n",
    "valid_preds = light.predict(valid_features, num_iteration=light.best_iteration)\n",
    "end_pred = time.time()\n",
    "print(f\"Время предсказания: {end_pred - start_pred:.6f} сек\")\n",
    "# Оценка качества модели\n",
    "rmse = np.sqrt(mean_squared_error(valid_target, valid_preds))\n",
    "print(\"LightGBM RMSE (на валидации):\", rmse)"
   ]
  },
  {
   "cell_type": "markdown",
   "metadata": {},
   "source": [
    "Теперь модель CatBoost"
   ]
  },
  {
   "cell_type": "code",
   "execution_count": 20,
   "metadata": {
    "scrolled": true
   },
   "outputs": [
    {
     "name": "stdout",
     "output_type": "stream",
     "text": [
      "\n",
      "bestTest = 35.71779101\n",
      "bestIteration = 49\n",
      "\n",
      "0:\tloss: 35.7177910\tbest: 35.7177910 (0)\ttotal: 719ms\tremaining: 13.7s\n",
      "\n",
      "bestTest = 31.23892547\n",
      "bestIteration = 44\n",
      "\n",
      "1:\tloss: 31.2389255\tbest: 31.2389255 (1)\ttotal: 795ms\tremaining: 7.15s\n",
      "\n",
      "bestTest = 31.3072912\n",
      "bestIteration = 43\n",
      "\n",
      "2:\tloss: 31.3072912\tbest: 31.2389255 (1)\ttotal: 872ms\tremaining: 4.94s\n",
      "\n",
      "bestTest = 33.9194568\n",
      "bestIteration = 48\n",
      "\n",
      "3:\tloss: 33.9194568\tbest: 31.2389255 (1)\ttotal: 949ms\tremaining: 3.79s\n",
      "\n",
      "bestTest = 32.56205015\n",
      "bestIteration = 48\n",
      "\n",
      "4:\tloss: 32.5620501\tbest: 31.2389255 (1)\ttotal: 1.02s\tremaining: 3.07s\n",
      "\n",
      "bestTest = 32.74659465\n",
      "bestIteration = 98\n",
      "\n",
      "5:\tloss: 32.7465946\tbest: 31.2389255 (1)\ttotal: 1.17s\tremaining: 2.73s\n",
      "\n",
      "bestTest = 30.34847579\n",
      "bestIteration = 84\n",
      "\n",
      "6:\tloss: 30.3484758\tbest: 30.3484758 (6)\ttotal: 1.32s\tremaining: 2.45s\n",
      "\n",
      "bestTest = 31.24937618\n",
      "bestIteration = 56\n",
      "\n",
      "7:\tloss: 31.2493762\tbest: 30.3484758 (6)\ttotal: 1.47s\tremaining: 2.2s\n",
      "\n",
      "bestTest = 33.9194568\n",
      "bestIteration = 48\n",
      "\n",
      "8:\tloss: 33.9194568\tbest: 30.3484758 (6)\ttotal: 1.62s\tremaining: 1.98s\n",
      "\n",
      "bestTest = 32.25244808\n",
      "bestIteration = 56\n",
      "\n",
      "9:\tloss: 32.2524481\tbest: 30.3484758 (6)\ttotal: 1.77s\tremaining: 1.77s\n",
      "\n",
      "bestTest = 39.13483323\n",
      "bestIteration = 49\n",
      "\n",
      "10:\tloss: 39.1348332\tbest: 30.3484758 (6)\ttotal: 2.54s\tremaining: 2.08s\n",
      "\n",
      "bestTest = 35.51993018\n",
      "bestIteration = 41\n",
      "\n",
      "11:\tloss: 35.5199302\tbest: 30.3484758 (6)\ttotal: 3.4s\tremaining: 2.26s\n",
      "\n",
      "bestTest = 35.83685718\n",
      "bestIteration = 47\n",
      "\n",
      "12:\tloss: 35.8368572\tbest: 30.3484758 (6)\ttotal: 4.26s\tremaining: 2.3s\n",
      "\n",
      "bestTest = 33.35674219\n",
      "bestIteration = 19\n",
      "\n",
      "13:\tloss: 33.3567422\tbest: 30.3484758 (6)\ttotal: 5.13s\tremaining: 2.2s\n",
      "\n",
      "bestTest = 36.03961439\n",
      "bestIteration = 10\n",
      "\n",
      "14:\tloss: 36.0396144\tbest: 30.3484758 (6)\ttotal: 6s\tremaining: 2s\n",
      "\n",
      "bestTest = 36.50628586\n",
      "bestIteration = 99\n",
      "\n",
      "15:\tloss: 36.5062859\tbest: 30.3484758 (6)\ttotal: 7.69s\tremaining: 1.92s\n",
      "\n",
      "bestTest = 35.39115276\n",
      "bestIteration = 70\n",
      "\n",
      "16:\tloss: 35.3911528\tbest: 30.3484758 (6)\ttotal: 9.43s\tremaining: 1.66s\n",
      "\n",
      "bestTest = 35.83685718\n",
      "bestIteration = 47\n",
      "\n",
      "17:\tloss: 35.8368572\tbest: 30.3484758 (6)\ttotal: 11.2s\tremaining: 1.25s\n",
      "\n",
      "bestTest = 33.35674219\n",
      "bestIteration = 19\n",
      "\n",
      "18:\tloss: 33.3567422\tbest: 30.3484758 (6)\ttotal: 13s\tremaining: 683ms\n",
      "\n",
      "bestTest = 36.03961439\n",
      "bestIteration = 10\n",
      "\n",
      "19:\tloss: 36.0396144\tbest: 30.3484758 (6)\ttotal: 14.8s\tremaining: 0us\n",
      "Estimating final quality...\n",
      "Training on fold [0/5]\n",
      "\n",
      "bestTest = 22.06260002\n",
      "bestIteration = 39\n",
      "\n",
      "Training on fold [1/5]\n",
      "\n",
      "bestTest = 23.45794461\n",
      "bestIteration = 80\n",
      "\n",
      "Training on fold [2/5]\n",
      "\n",
      "bestTest = 22.48275846\n",
      "bestIteration = 93\n",
      "\n",
      "Training on fold [3/5]\n",
      "\n",
      "bestTest = 23.90856338\n",
      "bestIteration = 71\n",
      "\n",
      "Training on fold [4/5]\n",
      "\n",
      "bestTest = 29.76447154\n",
      "bestIteration = 87\n",
      "\n",
      "Лучшие параметры:  {'depth': 5, 'iterations': 100, 'learning_rate': 0.30000000000000004}\n",
      "Время обучения: 0.7326 сек\n",
      "Время предсказания: 0.000709 сек\n",
      "CatBoost RMSE (на валидации): 33.71696385466271\n"
     ]
    }
   ],
   "source": [
    "train_pool = Pool(train_features,train_target)\n",
    "valid_pool = Pool(valid_features,valid_target)\n",
    "\n",
    "# Определение модели и параметров для поиска\n",
    "catboost = CatBoostRegressor(loss_function='RMSE', verbose=0)\n",
    "parameters_cat = {\n",
    "    'depth': [5, 10],\n",
    "    'learning_rate': np.arange(0.1, 1, 0.2),\n",
    "    'iterations': [50, 100] \n",
    "}\n",
    "# Поиск по сетке (с использованием кросс-валидации на обучающей части)\n",
    "catboost_grid = catboost.grid_search(parameters_cat, train_pool, cv=tscv, verbose=True, plot=False)\n",
    "print(\"Лучшие параметры: \", catboost_grid['params'])\n",
    "# Обучение модели с лучшими параметрами на тренировочной части\n",
    "start_train = time.time()\n",
    "best_model_cat = CatBoostRegressor(**catboost_grid['params'], loss_function='RMSE', verbose=0)\n",
    "best_model_cat.fit(train_pool)\n",
    "end_train = time.time()\n",
    "print(f\"Время обучения: {end_train - start_train:.4f} сек\")\n",
    "# Предсказание на валидации\n",
    "start_pred = time.time()\n",
    "valid_preds = best_model_cat.predict(valid_pool)\n",
    "end_pred = time.time()\n",
    "print(f\"Время предсказания: {end_pred - start_pred:.6f} сек\")\n",
    "# RMSE на валидации\n",
    "rmse_cat = np.sqrt(mean_squared_error(valid_target, valid_preds))\n",
    "print(\"CatBoost RMSE (на валидации):\", rmse_cat)"
   ]
  },
  {
   "cell_type": "markdown",
   "metadata": {},
   "source": [
    "И наконец модель RandomForestRegressor"
   ]
  },
  {
   "cell_type": "code",
   "execution_count": 21,
   "metadata": {},
   "outputs": [
    {
     "name": "stdout",
     "output_type": "stream",
     "text": [
      "Fitting 5 folds for each of 4 candidates, totalling 20 fits\n",
      "Время обучения: 17.8123 сек\n",
      "Лучшие параметры: {'max_depth': 10, 'n_estimators': 200}\n",
      "Время предсказания: 0.021410 сек\n",
      "Random Forest RMSE (на валидации): 34.6181337276804\n"
     ]
    }
   ],
   "source": [
    "# Определяем модель\n",
    "RF = RandomForestRegressor(random_state=RANDOM_STATE)\n",
    "\n",
    "# Определяем сетку гиперпараметров для настройки\n",
    "parametrs = {\n",
    "    \"max_depth\": [1, 10],\n",
    "    \"n_estimators\": [100, 200]\n",
    "}\n",
    "# Настройка GridSearchCV\n",
    "RF_grid = GridSearchCV(RF, parametrs, cv=tscv, verbose=True, n_jobs=-1)\n",
    "\n",
    "# Обучение модели\n",
    "start_train = time.time()\n",
    "RF_grid.fit(train_features, train_target)\n",
    "end_train = time.time()\n",
    "print(f\"Время обучения: {end_train - start_train:.4f} сек\")\n",
    "\n",
    "# Получение лучших параметров\n",
    "best_params = RF_grid.best_params_\n",
    "print(f\"Лучшие параметры: {best_params}\")\n",
    "\n",
    "# Предсказание на валидационных данных\n",
    "start_pred = time.time()\n",
    "valid_preds = RF_grid.predict(valid_features)\n",
    "end_pred = time.time()\n",
    "print(f\"Время предсказания: {end_pred - start_pred:.6f} сек\")\n",
    "\n",
    "# Расчёт RMSE на валидации\n",
    "rmse_rf = np.sqrt(mean_squared_error(valid_target, valid_preds))\n",
    "print(\"Random Forest RMSE (на валидации):\", rmse_rf)"
   ]
  },
  {
   "cell_type": "markdown",
   "metadata": {},
   "source": [
    "### **Вывод по обучению моделей:**\n",
    "* Модель DesicionTreeRegressor\n",
    "    * Время обучения: 0.0348 сек\n",
    "    * Время предсказания: 0.002533 сек\n",
    "    * Decision Tree RMSE (на валидации): 47.42841495827734\n",
    "* Модель RandomForestRegressor\n",
    "    * Время обучения: 17.8123 сек\n",
    "    * Время предсказания: 0.021410 сек\n",
    "    * Random Forest RMSE (на валидации): 34.6181337276804\n",
    "* Модель LightGBM\n",
    "    * Время обучения: 672.3152 сек\n",
    "    * Время предсказания: 0.012046 сек\n",
    "    * LightGBM RMSE (на валидации): 35.93039240338093\n",
    "* Модель CatBoost\n",
    "    * Время обучения: 0.7326 сек\n",
    "    * Время предсказания: 0.000709 сек\n",
    "    * CatBoost RMSE (на валидации): 33.71696385466271\n",
    "* Лучшей моделью по метрике оказалась CatBoost - 33.7, при этом на 2 и 3 месте расположились RandomForestRegressor и LightGBM: 34.6, 35.9 соответственно.\n",
    "Также стоит учесть, что время обучения RandomForestRegressor в 600 раз больше обучения других моделей.\n",
    "Учитывая, наши приоритеты в модели, выберем CatBoost для будущего тестирования."
   ]
  },
  {
   "cell_type": "markdown",
   "metadata": {},
   "source": [
    "## Тестирование"
   ]
  },
  {
   "cell_type": "markdown",
   "metadata": {},
   "source": [
    "Протестируем лучшую модель:"
   ]
  },
  {
   "cell_type": "code",
   "execution_count": 22,
   "metadata": {},
   "outputs": [
    {
     "name": "stdout",
     "output_type": "stream",
     "text": [
      "LightGBM RMSE (на тесте): 53.08882396490116\n"
     ]
    }
   ],
   "source": [
    "test_preds = best_model_cat.predict(test_features)\n",
    "final_rmse = np.sqrt(mean_squared_error(test_target, test_preds))\n",
    "print(\"LightGBM RMSE (на тесте):\", final_rmse)"
   ]
  },
  {
   "cell_type": "markdown",
   "metadata": {},
   "source": [
    "Так как по условию значение RMSE должно быть меньше, выберем другую модель для тестовых данных. В сравнении между LightGBM и ForestRegressor, выберем первую, так как время на обучение второй слишком большое, а разница метрик между этими моделями мала"
   ]
  },
  {
   "cell_type": "code",
   "execution_count": 23,
   "metadata": {},
   "outputs": [
    {
     "name": "stdout",
     "output_type": "stream",
     "text": [
      "LightGBM RMSE (на тесте): 46.629339860859226\n"
     ]
    }
   ],
   "source": [
    "test_preds = light.predict(test_features)\n",
    "final_rmse = np.sqrt(mean_squared_error(test_target, test_preds))\n",
    "print(\"LightGBM RMSE (на тесте):\", final_rmse)"
   ]
  },
  {
   "cell_type": "markdown",
   "metadata": {},
   "source": [
    "Отлично, значение метрики удовлетворяет условиям, модель выбрана!"
   ]
  },
  {
   "cell_type": "markdown",
   "metadata": {},
   "source": [
    "## Вывод"
   ]
  },
  {
   "cell_type": "markdown",
   "metadata": {},
   "source": [
    "**В ходе проекта были выполнены следующие шаги:**\n",
    "* Подготовка данных\n",
    "    - Загрузили данные,\n",
    "    - Просмотрели общую информацию\n",
    "        - Таблица состоит из 26496 строк и 1 столбца\n",
    "        - Пропуски отсутствуют\n",
    "        - Индексы отсортированы и проверенны на монотонность\n",
    "        - На первый взгляд с данными в столбце num_orders все в порядке, отрицательные значения отсутствуют\n",
    "    - Ресемплировали данные по часу\n",
    "    - Подготовили разложение временного ряда на тренд, сезонность и остаток\n",
    "    - Данные готовы к анализу\n",
    "* Проанализировали данные\n",
    "    - Выявлена сезонность по дням: заказы достигают минимума в ночное время, затем увеличиваются с утра и в течение дня, достигая максимума к вечеру. Это может указывать на влияние времени суток и потребительского поведения на объем заказов. Наблюдается общий тренд устойчивого роста количества заказов, с периодическими небольшими снижениями. Это может свидетельствовать о постепенном увеличении спроса или о развитии бизнеса в данной сфере.\n",
    "* Обучили модели\n",
    "    * Модель DesicionTreeRegressor\n",
    "        * Время обучения: 0.0348 сек\n",
    "        * Время предсказания: 0.002533 сек\n",
    "        * Decision Tree RMSE (на валидации): 47.42841495827734\n",
    "    * Модель RandomForestRegressor\n",
    "        * Время обучения: 17.8123 сек\n",
    "        * Время предсказания: 0.021410 сек\n",
    "        * Random Forest RMSE (на валидации): 34.6181337276804\n",
    "    * Модель LightGBM\n",
    "        * Время обучения: 672.3152 сек\n",
    "        * Время предсказания: 0.012046 сек\n",
    "        * LightGBM RMSE (на валидации): 35.93039240338093\n",
    "    * Модель CatBoost\n",
    "        * Время обучения: 0.7326 сек\n",
    "        * Время предсказания: 0.000709 сек\n",
    "        * CatBoost RMSE (на валидации): 33.71696385466271\n",
    "    * Лучшей моделью по метрике оказалась CatBoost - 33.7, при этом на 2 и 3 месте расположились RandomForestRegressor и LightGBM: 34.6, 35.9 соответственно.\n",
    "* Протестировали лучшую модель, которая оказалась lightGBM со значением метрики RMSE 46.6, что удовлетворяет условиям"
   ]
  }
 ],
 "metadata": {
  "ExecuteTimeLog": [
   {
    "duration": 2305,
    "start_time": "2025-04-18T05:55:41.273Z"
   },
   {
    "duration": 74,
    "start_time": "2025-04-18T05:55:44.556Z"
   },
   {
    "duration": 40,
    "start_time": "2025-04-18T05:55:51.509Z"
   },
   {
    "duration": 5,
    "start_time": "2025-04-18T05:55:53.383Z"
   },
   {
    "duration": 8,
    "start_time": "2025-04-18T05:55:55.765Z"
   },
   {
    "duration": 12,
    "start_time": "2025-04-18T05:56:05.590Z"
   },
   {
    "duration": 7,
    "start_time": "2025-04-18T05:56:19.382Z"
   },
   {
    "duration": 297,
    "start_time": "2025-04-18T05:56:19.836Z"
   },
   {
    "duration": 391,
    "start_time": "2025-04-18T05:56:22.725Z"
   },
   {
    "duration": 4,
    "start_time": "2025-04-18T05:56:25.598Z"
   },
   {
    "duration": 1157,
    "start_time": "2025-04-18T05:56:26.945Z"
   },
   {
    "duration": 678,
    "start_time": "2025-04-18T05:56:30.098Z"
   },
   {
    "duration": 29,
    "start_time": "2025-04-18T05:59:06.212Z"
   },
   {
    "duration": 6,
    "start_time": "2025-04-18T05:59:27.557Z"
   },
   {
    "duration": 9,
    "start_time": "2025-04-18T05:59:33.575Z"
   },
   {
    "duration": 3,
    "start_time": "2025-04-18T05:59:35.334Z"
   },
   {
    "duration": 127,
    "start_time": "2025-04-18T05:59:51.772Z"
   },
   {
    "duration": 5639,
    "start_time": "2025-04-18T06:01:20.723Z"
   },
   {
    "duration": 18602,
    "start_time": "2025-04-18T06:02:13.389Z"
   },
   {
    "duration": 17137,
    "start_time": "2025-04-18T06:03:16.928Z"
   },
   {
    "duration": 6,
    "start_time": "2025-04-18T06:03:34.067Z"
   },
   {
    "duration": 43,
    "start_time": "2025-04-18T06:03:34.075Z"
   },
   {
    "duration": 1685,
    "start_time": "2025-04-18T16:35:41.687Z"
   },
   {
    "duration": 89,
    "start_time": "2025-04-18T16:35:43.375Z"
   },
   {
    "duration": 39,
    "start_time": "2025-04-18T16:35:43.466Z"
   },
   {
    "duration": 5,
    "start_time": "2025-04-18T16:35:43.506Z"
   },
   {
    "duration": 95,
    "start_time": "2025-04-18T16:35:43.513Z"
   },
   {
    "duration": 27,
    "start_time": "2025-04-18T16:35:43.610Z"
   },
   {
    "duration": 8,
    "start_time": "2025-04-18T16:35:43.638Z"
   },
   {
    "duration": 388,
    "start_time": "2025-04-18T16:35:43.648Z"
   },
   {
    "duration": 328,
    "start_time": "2025-04-18T16:35:44.038Z"
   },
   {
    "duration": 3,
    "start_time": "2025-04-18T16:35:44.368Z"
   },
   {
    "duration": 1321,
    "start_time": "2025-04-18T16:35:44.373Z"
   },
   {
    "duration": 685,
    "start_time": "2025-04-18T16:35:45.696Z"
   },
   {
    "duration": 31,
    "start_time": "2025-04-18T16:35:46.382Z"
   },
   {
    "duration": 6,
    "start_time": "2025-04-18T16:35:46.415Z"
   },
   {
    "duration": 12,
    "start_time": "2025-04-18T16:35:46.423Z"
   },
   {
    "duration": 24,
    "start_time": "2025-04-18T16:35:46.437Z"
   },
   {
    "duration": 43,
    "start_time": "2025-04-18T16:36:04.126Z"
   },
   {
    "duration": 672412,
    "start_time": "2025-04-18T16:36:17.850Z"
   },
   {
    "duration": 18031,
    "start_time": "2025-04-18T16:49:46.767Z"
   },
   {
    "duration": 17314,
    "start_time": "2025-04-18T16:50:51.486Z"
   },
   {
    "duration": 17840,
    "start_time": "2025-04-18T16:53:08.185Z"
   },
   {
    "duration": 7,
    "start_time": "2025-04-18T16:57:53.353Z"
   },
   {
    "duration": 17,
    "start_time": "2025-04-18T16:57:55.406Z"
   }
  ],
  "kernelspec": {
   "display_name": "Python 3 (ipykernel)",
   "language": "python",
   "name": "python3"
  },
  "language_info": {
   "codemirror_mode": {
    "name": "ipython",
    "version": 3
   },
   "file_extension": ".py",
   "mimetype": "text/x-python",
   "name": "python",
   "nbconvert_exporter": "python",
   "pygments_lexer": "ipython3",
   "version": "3.9.5"
  },
  "toc": {
   "base_numbering": 1,
   "nav_menu": {},
   "number_sections": true,
   "sideBar": true,
   "skip_h1_title": true,
   "title_cell": "Содержание",
   "title_sidebar": "Contents",
   "toc_cell": true,
   "toc_position": {
    "height": "calc(100% - 180px)",
    "left": "10px",
    "top": "150px",
    "width": "243px"
   },
   "toc_section_display": true,
   "toc_window_display": true
  }
 },
 "nbformat": 4,
 "nbformat_minor": 4
}
